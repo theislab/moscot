{
 "cells": [
  {
   "cell_type": "code",
   "execution_count": 1,
   "id": "b89c1e72-6f6f-4f5b-8dd0-484da3efac99",
   "metadata": {},
   "outputs": [],
   "source": [
    "%load_ext autoreload\n",
    "%autoreload 2"
   ]
  },
  {
   "cell_type": "code",
   "execution_count": 2,
   "id": "be413e08-48e4-4476-a8e7-329af6abc8dd",
   "metadata": {},
   "outputs": [],
   "source": [
    "import moscot\n",
    "from anndata import AnnData\n",
    "import numpy as np\n",
    "from moscot.backends.ott import FGWSolver, SinkhornSolver, GWSolver\n",
    "from moscot.solvers._tagged_arry import TaggedArray, Tag\n",
    "import matplotlib.pyplot as plt\n",
    "import jax.numpy as jnp\n",
    "from typing import *\n",
    "import pandas as pd\n",
    "import networkx as nx\n",
    "import jax.numpy as jnp\n",
    "from moscot.problems.time._lineage import TemporalProblem\n",
    "import os\n",
    "import wot\n",
    "from functools import partial"
   ]
  },
  {
   "cell_type": "code",
   "execution_count": 3,
   "id": "27f9d55f",
   "metadata": {},
   "outputs": [],
   "source": [
    "import scanpy as sc\n",
    "import matplotlib as mpl"
   ]
  },
  {
   "cell_type": "code",
   "execution_count": 4,
   "id": "9f96fb34-a7c2-4a99-a170-00bd0aeff24e",
   "metadata": {},
   "outputs": [],
   "source": [
    "import ott\n",
    "import ot\n",
    "from tqdm import tqdm"
   ]
  },
  {
   "cell_type": "code",
   "execution_count": 5,
   "id": "2dae61fc-f5f0-4e3a-8d81-2d8c11fc6896",
   "metadata": {},
   "outputs": [],
   "source": [
    "data_path = \"/home/icb/dominik.klein/data/wot\"\n",
    "\n",
    "\n",
    "VAR_GENE_DS_PATH = os.path.join(data_path, 'ExprMatrix.var.genes.h5ad')\n",
    "CELL_DAYS_PATH = os.path.join(data_path, 'cell_days.txt')\n",
    "SERUM_CELL_IDS_PATH = os.path.join(data_path, 'serum_cell_ids.txt')\n",
    "CELL_GROWTH_PATH = os.path.join(data_path, 'growth_gs_init.txt')\n",
    "FULL_DS_PATH = os.path.join(data_path, 'ExprMatrix.h5ad')\n",
    "CELL_DAYS_PATH = os.path.join(data_path, 'cell_days.txt')\n",
    "VAR_DS_PATH = os.path.join(data_path, 'ExprMatrix.var.genes.h5ad')\n",
    "TMAP_PATH = os.path.join(data_path, 'serum')\n",
    "CELL_SETS_PATH = os.path.join(data_path, 'major_cell_sets.gmt')\n",
    "COORDS_PATH = os.path.join(data_path, 'fle_coords.txt')"
   ]
  },
  {
   "cell_type": "code",
   "execution_count": null,
   "id": "a87999d3-eff8-4f83-af8b-fe0bc5d46a3e",
   "metadata": {},
   "outputs": [],
   "source": [
    "adata = wot.io.read_dataset(VAR_GENE_DS_PATH, obs=[CELL_DAYS_PATH, CELL_GROWTH_PATH], obs_filter=SERUM_CELL_IDS_PATH)\n",
    "adata.shape"
   ]
  },
  {
   "cell_type": "code",
   "execution_count": null,
   "id": "b6081c5b",
   "metadata": {},
   "outputs": [],
   "source": [
    "sc.tl.pca(adata)"
   ]
  },
  {
   "cell_type": "code",
   "execution_count": null,
   "id": "e20dde1f",
   "metadata": {},
   "outputs": [],
   "source": [
    "CELL_SETS_PATH = os.path.join(data_path, 'major_cell_sets.gmt')\n",
    "cell_sets = wot.io.read_sets(CELL_SETS_PATH, as_dict=True)\n",
    "cell_to_type = {v[i]: k for k, v in cell_sets.items() for i in range(len(v))}\n",
    "df_cell_type = pd.DataFrame(cell_to_type.items(), columns=[\"0\", \"cell_type\"]).set_index(\"0\")\n",
    "adata.obs = pd.merge(adata.obs, df_cell_type, how=\"left\", left_index=True, right_index=True)"
   ]
  },
  {
   "cell_type": "code",
   "execution_count": null,
   "id": "e6289e43",
   "metadata": {},
   "outputs": [],
   "source": [
    "days = list(adata.obs.day.unique())\n",
    "days.pop(-1) # remove nan"
   ]
  },
  {
   "cell_type": "markdown",
   "id": "4c4cdca5-58cd-4b43-9eb3-b108c53819c0",
   "metadata": {},
   "source": [
    "## Run WOT"
   ]
  },
  {
   "cell_type": "code",
   "execution_count": null,
   "id": "ee648bdb-b8e7-47d2-9db5-1c24df4e27e1",
   "metadata": {},
   "outputs": [],
   "source": [
    "#ot_model = wot.ot.OTModel(adata,epsilon = 0.05, lambda1 = 1,lambda2 = 50) "
   ]
  },
  {
   "cell_type": "code",
   "execution_count": null,
   "id": "638d31a6-11cd-4d04-a290-9f76b3f8906f",
   "metadata": {},
   "outputs": [],
   "source": [
    "#tmap_annotated = ot_model.compute_transport_map(11,11.5)"
   ]
  },
  {
   "cell_type": "markdown",
   "id": "6dc6d743-871f-4457-9e05-2ec13a7d5f9c",
   "metadata": {},
   "source": [
    "## Run Moscot"
   ]
  },
  {
   "cell_type": "code",
   "execution_count": null,
   "id": "8f671fbc-ab52-44fc-9ebf-0f9c490f6dbc",
   "metadata": {},
   "outputs": [],
   "source": [
    "tp = TemporalProblem(adata, solver=SinkhornSolver(jit=False, rank=500))"
   ]
  },
  {
   "cell_type": "code",
   "execution_count": null,
   "id": "a228245a-970b-42fd-8a20-0882a3e5ad4d",
   "metadata": {},
   "outputs": [],
   "source": [
    "adata.obs.day = adata.obs.day.astype('category')"
   ]
  },
  {
   "cell_type": "code",
   "execution_count": null,
   "id": "efa66a92-ae36-478a-a5b3-27508a91b6d8",
   "metadata": {},
   "outputs": [],
   "source": [
    "tp.prepare(\"day\", x={\"attr\": \"obsm\", \"key\": \"X_pca\"}, y={\"attr\": \"obsm\", \"key\": \"X_pca\"}, a_marg={\"attr\": \"obs\", \"key\":\"cell_growth_rate\"})"
   ]
  },
  {
   "cell_type": "code",
   "execution_count": null,
   "id": "5cf8ccf2-9dda-46d5-aa42-8b1baab57a46",
   "metadata": {},
   "outputs": [],
   "source": [
    "lambda_1 = 1.0\n",
    "eps = 5.0\n",
    "tp.solve(eps=eps, tau_a=lambda_1/(lambda_1+eps), tau_b=1)"
   ]
  },
  {
   "cell_type": "markdown",
   "id": "6f9abb6e",
   "metadata": {},
   "source": [
    "## Pull back mass"
   ]
  },
  {
   "cell_type": "code",
   "execution_count": 16,
   "id": "aef4986c",
   "metadata": {},
   "outputs": [
    {
     "data": {
      "text/plain": [
       "Stromal        1239\n",
       "Neural          819\n",
       "NaN             534\n",
       "Epithelial      503\n",
       "IPS             412\n",
       "Trophoblast     292\n",
       "Name: cell_type, dtype: int64"
      ]
     },
     "execution_count": 16,
     "metadata": {},
     "output_type": "execute_result"
    }
   ],
   "source": [
    "adata[adata.obs.day==18.0].obs.cell_type.value_counts(dropna=False)"
   ]
  },
  {
   "cell_type": "code",
   "execution_count": 17,
   "id": "ece53c5c",
   "metadata": {},
   "outputs": [
    {
     "data": {
      "text/plain": [
       "View of AnnData object with n_obs × n_vars = 3799 × 1479\n",
       "    obs: 'day', 'cell_growth_rate', 'cell_type'\n",
       "    uns: 'pca'\n",
       "    obsm: 'X_pca'\n",
       "    varm: 'PCs'"
      ]
     },
     "execution_count": 17,
     "metadata": {},
     "output_type": "execute_result"
    }
   ],
   "source": [
    "adata[adata.obs.day==18.0]"
   ]
  },
  {
   "cell_type": "code",
   "execution_count": 18,
   "id": "2770e143",
   "metadata": {},
   "outputs": [],
   "source": [
    "#for i in range(38):\n",
    "#    print(adata.uns[f\"cost_matrix_{i}\"].shape)"
   ]
  },
  {
   "cell_type": "code",
   "execution_count": 26,
   "id": "52c1ecb6",
   "metadata": {},
   "outputs": [
    {
     "name": "stdout",
     "output_type": "stream",
     "text": [
      "(17.5, 18.0)\n",
      "data.shape (3799, 1)\n",
      "x.shape before apply (3799, 1)\n",
      "res.shape after apply (4068,)\n",
      "(17.0, 17.5)\n",
      "data.shape (4068, 1)\n",
      "x.shape before apply (4068, 1)\n",
      "res.shape after apply (3678,)\n",
      "(16.5, 17.0)\n",
      "data.shape (3678, 1)\n",
      "x.shape before apply (3678, 1)\n",
      "res.shape after apply (4645,)\n",
      "(16.0, 16.5)\n",
      "data.shape (4645, 1)\n",
      "x.shape before apply (4645, 1)\n",
      "res.shape after apply (3422,)\n",
      "(15.5, 16.0)\n",
      "data.shape (3422, 1)\n",
      "x.shape before apply (3422, 1)\n",
      "res.shape after apply (4851,)\n",
      "(15.0, 15.5)\n",
      "data.shape (4851, 1)\n",
      "x.shape before apply (4851, 1)\n",
      "res.shape after apply (3717,)\n",
      "(14.5, 15.0)\n",
      "data.shape (3717, 1)\n",
      "x.shape before apply (3717, 1)\n",
      "res.shape after apply (2723,)\n",
      "(14.0, 14.5)\n",
      "data.shape (2723, 1)\n",
      "x.shape before apply (2723, 1)\n",
      "res.shape after apply (3758,)\n",
      "(13.5, 14.0)\n",
      "data.shape (3758, 1)\n",
      "x.shape before apply (3758, 1)\n",
      "res.shape after apply (2034,)\n",
      "(13.0, 13.5)\n",
      "data.shape (2034, 1)\n",
      "x.shape before apply (2034, 1)\n",
      "res.shape after apply (2145,)\n",
      "(12.5, 13.0)\n",
      "data.shape (2145, 1)\n",
      "x.shape before apply (2145, 1)\n",
      "res.shape after apply (2253,)\n",
      "(12.0, 12.5)\n",
      "data.shape (2253, 1)\n",
      "x.shape before apply (2253, 1)\n",
      "res.shape after apply (2429,)\n",
      "(11.5, 12.0)\n",
      "data.shape (2429, 1)\n",
      "x.shape before apply (2429, 1)\n",
      "res.shape after apply (2164,)\n",
      "(11.0, 11.5)\n",
      "data.shape (2164, 1)\n",
      "x.shape before apply (2164, 1)\n",
      "res.shape after apply (2238,)\n",
      "(10.5, 11.0)\n",
      "data.shape (2238, 1)\n",
      "x.shape before apply (2238, 1)\n",
      "res.shape after apply (1941,)\n",
      "(10.0, 10.5)\n",
      "data.shape (1941, 1)\n",
      "x.shape before apply (1941, 1)\n",
      "res.shape after apply (2051,)\n",
      "(9.5, 10.0)\n",
      "data.shape (2051, 1)\n",
      "x.shape before apply (2051, 1)\n",
      "res.shape after apply (2266,)\n",
      "(9.0, 9.5)\n",
      "data.shape (2266, 1)\n",
      "x.shape before apply (2266, 1)\n",
      "res.shape after apply (2982,)\n",
      "(8.75, 9.0)\n",
      "data.shape (2982, 1)\n",
      "x.shape before apply (2982, 1)\n",
      "res.shape after apply (3088,)\n",
      "(8.5, 8.75)\n",
      "data.shape (3088, 1)\n",
      "x.shape before apply (3088, 1)\n",
      "res.shape after apply (3573,)\n",
      "(8.25, 8.5)\n",
      "data.shape (3573, 1)\n",
      "x.shape before apply (3573, 1)\n",
      "res.shape after apply (3829,)\n",
      "(8.0, 8.25)\n",
      "data.shape (3829, 1)\n",
      "x.shape before apply (3829, 1)\n",
      "res.shape after apply (3815,)\n",
      "(7.5, 8.0)\n",
      "data.shape (3815, 1)\n",
      "x.shape before apply (3815, 1)\n",
      "res.shape after apply (5061,)\n",
      "(7.0, 7.5)\n",
      "data.shape (5061, 1)\n",
      "x.shape before apply (5061, 1)\n",
      "res.shape after apply (6507,)\n",
      "(6.5, 7.0)\n",
      "data.shape (6507, 1)\n",
      "x.shape before apply (6507, 1)\n",
      "res.shape after apply (3111,)\n",
      "(6.0, 6.5)\n",
      "data.shape (3111, 1)\n",
      "x.shape before apply (3111, 1)\n",
      "res.shape after apply (8422,)\n",
      "(5.5, 6.0)\n",
      "data.shape (8422, 1)\n",
      "x.shape before apply (8422, 1)\n",
      "res.shape after apply (6550,)\n",
      "(5.0, 5.5)\n",
      "data.shape (6550, 1)\n",
      "x.shape before apply (6550, 1)\n",
      "res.shape after apply (7227,)\n",
      "(4.5, 5.0)\n",
      "data.shape (7227, 1)\n",
      "x.shape before apply (7227, 1)\n",
      "res.shape after apply (7127,)\n",
      "(4.0, 4.5)\n",
      "data.shape (7127, 1)\n",
      "x.shape before apply (7127, 1)\n",
      "res.shape after apply (8962,)\n",
      "(3.5, 4.0)\n",
      "data.shape (8962, 1)\n",
      "x.shape before apply (8962, 1)\n",
      "res.shape after apply (7355,)\n",
      "(3.0, 3.5)\n",
      "data.shape (7355, 1)\n",
      "x.shape before apply (7355, 1)\n",
      "res.shape after apply (6777,)\n",
      "(2.5, 3.0)\n",
      "data.shape (6777, 1)\n",
      "x.shape before apply (6777, 1)\n",
      "res.shape after apply (6734,)\n",
      "(2.0, 2.5)\n",
      "data.shape (6734, 1)\n",
      "x.shape before apply (6734, 1)\n",
      "res.shape after apply (6981,)\n",
      "(1.5, 2.0)\n",
      "data.shape (6981, 1)\n",
      "x.shape before apply (6981, 1)\n",
      "res.shape after apply (1956,)\n",
      "(1.0, 1.5)\n",
      "data.shape (1956, 1)\n",
      "x.shape before apply (1956, 1)\n",
      "res.shape after apply (3648,)\n",
      "(0.5, 1.0)\n",
      "data.shape (3648, 1)\n",
      "x.shape before apply (3648, 1)\n",
      "res.shape after apply (3449,)\n",
      "(0, 0.5)\n",
      "data.shape (3449, 1)\n",
      "x.shape before apply (3449, 1)\n",
      "res.shape after apply (4556,)\n"
     ]
    }
   ],
   "source": [
    "result = tp.pull_back_composed(start=0, end=18, key_groups=\"cell_type\", groups=[\"IPS\"], return_all=True)"
   ]
  },
  {
   "cell_type": "code",
   "execution_count": 57,
   "id": "d500dca7",
   "metadata": {},
   "outputs": [
    {
     "data": {
      "text/plain": [
       "(4645,)"
      ]
     },
     "execution_count": 57,
     "metadata": {},
     "output_type": "execute_result"
    }
   ],
   "source": [
    "result[3].shape"
   ]
  },
  {
   "cell_type": "code",
   "execution_count": 80,
   "id": "9fe4cd18",
   "metadata": {},
   "outputs": [
    {
     "data": {
      "text/plain": [
       "DeviceArray([0.00017113, 0.00043556, 0.00024156, ..., 0.00017113,\n",
       "             0.00016322, 0.00024156], dtype=float32)"
      ]
     },
     "execution_count": 80,
     "metadata": {},
     "output_type": "execute_result"
    }
   ],
   "source": [
    "jnp.dot(tmp.q, jnp.dot(tmp.r.T, a) / tmp.g)\n",
    "#jnp.dot(tmp.r, jnp.dot(tmp.q.T, a) / tmp.g)"
   ]
  },
  {
   "cell_type": "code",
   "execution_count": 45,
   "id": "8a9e6d5d",
   "metadata": {},
   "outputs": [],
   "source": [
    "a = np.ones(3799)\n",
    "a_2 = np.ones(3800)"
   ]
  },
  {
   "cell_type": "code",
   "execution_count": 52,
   "id": "355b1b13",
   "metadata": {},
   "outputs": [
    {
     "name": "stdout",
     "output_type": "stream",
     "text": [
      "data.shape (3799, 1)\n",
      "now in _output: (3799, 1)\n",
      "axis is  1\n"
     ]
    }
   ],
   "source": [
    "tmp = tp._problems[(17.5,18.0)].pull(a)"
   ]
  },
  {
   "cell_type": "code",
   "execution_count": 56,
   "id": "37536bf6",
   "metadata": {},
   "outputs": [
    {
     "data": {
      "text/plain": [
       "LRSinkhornOutput(q=DeviceArray([[0.00017113, 0.        , 0.        , ..., 0.        ,\n",
       "              0.        , 0.        ],\n",
       "             [0.        , 0.        , 0.        , ..., 0.        ,\n",
       "              0.        , 0.        ],\n",
       "             [0.        , 0.        , 0.        , ..., 0.        ,\n",
       "              0.        , 0.        ],\n",
       "             ...,\n",
       "             [0.00017113, 0.        , 0.        , ..., 0.        ,\n",
       "              0.        , 0.        ],\n",
       "             [0.        , 0.        , 0.        , ..., 0.        ,\n",
       "              0.        , 0.        ],\n",
       "             [0.        , 0.        , 0.        , ..., 0.        ,\n",
       "              0.        , 0.        ]], dtype=float32), r=DeviceArray([[0.        , 0.        , 0.        , ..., 0.        ,\n",
       "              0.        , 0.        ],\n",
       "             [0.        , 0.        , 0.        , ..., 0.        ,\n",
       "              0.00020834, 0.        ],\n",
       "             [0.00037809, 0.        , 0.        , ..., 0.        ,\n",
       "              0.        , 0.        ],\n",
       "             ...,\n",
       "             [0.        , 0.        , 0.        , ..., 0.        ,\n",
       "              0.        , 0.        ],\n",
       "             [0.        , 0.        , 0.        , ..., 0.        ,\n",
       "              0.        , 0.        ],\n",
       "             [0.        , 0.        , 0.        , ..., 0.        ,\n",
       "              0.        , 0.        ]], dtype=float32), g=DeviceArray([0.23514304, 0.05604745, 0.0254516 , 0.04486169, 0.33241096,\n",
       "             0.14383969, 0.03884709, 0.01502364, 0.04937958, 0.01126312],            dtype=float32), costs=DeviceArray([ 1.1800306e+03,  1.3388586e+03,  1.1199600e+03, ...,\n",
       "             -1.0000000e+00, -1.0000000e+00, -1.0000000e+00],            dtype=float32), reg_ot_cost=DeviceArray(1105.4751, dtype=float32), ot_prob=<ott.core.problems.LinearProblem object at 0x7fb9dc4d5040>)"
      ]
     },
     "execution_count": 56,
     "metadata": {},
     "output_type": "execute_result"
    }
   ],
   "source": [
    "tmp"
   ]
  },
  {
   "cell_type": "code",
   "execution_count": 65,
   "id": "94bf945f",
   "metadata": {},
   "outputs": [
    {
     "data": {
      "text/plain": [
       "DeviceArray([0.23514304, 0.05604745, 0.0254516 , 0.04486169, 0.33241096,\n",
       "             0.14383969, 0.03884709, 0.01502364, 0.04937958, 0.01126312],            dtype=float32)"
      ]
     },
     "execution_count": 65,
     "metadata": {},
     "output_type": "execute_result"
    }
   ],
   "source": [
    "tmp.g"
   ]
  },
  {
   "cell_type": "code",
   "execution_count": 44,
   "id": "eb5bb92e",
   "metadata": {},
   "outputs": [
    {
     "ename": "NameError",
     "evalue": "name 'a_2' is not defined",
     "output_type": "error",
     "traceback": [
      "\u001b[0;31m---------------------------------------------------------------------------\u001b[0m",
      "\u001b[0;31mNameError\u001b[0m                                 Traceback (most recent call last)",
      "\u001b[0;32m/tmp/ipykernel_72062/3855625484.py\u001b[0m in \u001b[0;36m<module>\u001b[0;34m\u001b[0m\n\u001b[0;32m----> 1\u001b[0;31m \u001b[0mtp\u001b[0m\u001b[0;34m.\u001b[0m\u001b[0msolution\u001b[0m\u001b[0;34m[\u001b[0m\u001b[0;34m(\u001b[0m\u001b[0;36m17.5\u001b[0m\u001b[0;34m,\u001b[0m\u001b[0;36m18.0\u001b[0m\u001b[0;34m)\u001b[0m\u001b[0;34m]\u001b[0m\u001b[0;34m.\u001b[0m\u001b[0mpull\u001b[0m\u001b[0;34m(\u001b[0m\u001b[0ma_2\u001b[0m\u001b[0;34m)\u001b[0m\u001b[0;34m\u001b[0m\u001b[0;34m\u001b[0m\u001b[0m\n\u001b[0m",
      "\u001b[0;31mNameError\u001b[0m: name 'a_2' is not defined"
     ]
    }
   ],
   "source": [
    "tp.solution[(17.5,18.0)].pull(a_2)"
   ]
  },
  {
   "cell_type": "code",
   "execution_count": 29,
   "id": "f9b527dc",
   "metadata": {},
   "outputs": [
    {
     "data": {
      "text/plain": [
       "0.0024271844660194173"
      ]
     },
     "execution_count": 29,
     "metadata": {},
     "output_type": "execute_result"
    }
   ],
   "source": [
    "np.quantile(result[0], 0.9)"
   ]
  },
  {
   "cell_type": "code",
   "execution_count": 26,
   "id": "d70a2a6f",
   "metadata": {},
   "outputs": [],
   "source": [
    "#result[0].max() > 1e-3"
   ]
  },
  {
   "cell_type": "code",
   "execution_count": 27,
   "id": "9b001d9e",
   "metadata": {},
   "outputs": [],
   "source": [
    "#r_scaled = []\n",
    "#for r in result:\n",
    "#    r_min = r.min()\n",
    "#    r_max = r.max()\n",
    "#    r_scaled.append((r - r_min)/(r_max - r_min))"
   ]
  },
  {
   "cell_type": "code",
   "execution_count": 28,
   "id": "6bcb9c63",
   "metadata": {},
   "outputs": [],
   "source": [
    "#result = r_scaled"
   ]
  },
  {
   "cell_type": "markdown",
   "id": "ac0f1cfa-a53b-40c7-ad03-bac83d906521",
   "metadata": {},
   "source": [
    "## Compare"
   ]
  },
  {
   "cell_type": "code",
   "execution_count": 27,
   "id": "35addd6e",
   "metadata": {},
   "outputs": [],
   "source": [
    "COORD_DF = pd.read_csv(COORDS_PATH, sep='\\t', index_col=0)"
   ]
  },
  {
   "cell_type": "code",
   "execution_count": 28,
   "id": "224b153f-2886-4ed5-8e23-94d11149d7af",
   "metadata": {},
   "outputs": [],
   "source": [
    "nbins = 500\n",
    "xrange = COORD_DF['x'].min(), COORD_DF['x'].max()\n",
    "yrange = COORD_DF['y'].min(), COORD_DF['y'].max()\n",
    "COORD_DF['x'] = np.floor(\n",
    "    np.interp(COORD_DF['x'], [xrange[0], xrange[1]], [0, nbins - 1])).astype(int)\n",
    "COORD_DF['y'] = np.floor(\n",
    "    np.interp(COORD_DF['y'], [yrange[0], yrange[1]], [0, nbins - 1])).astype(int)"
   ]
  },
  {
   "cell_type": "code",
   "execution_count": 29,
   "id": "2c0bc257",
   "metadata": {},
   "outputs": [],
   "source": [
    "bdata = adata.copy()\n",
    "bdata.obs = bdata.obs.join(COORD_DF)"
   ]
  },
  {
   "cell_type": "code",
   "execution_count": 61,
   "id": "84ae9604",
   "metadata": {},
   "outputs": [
    {
     "name": "stdout",
     "output_type": "stream",
     "text": [
      "(4068,)\n"
     ]
    }
   ],
   "source": [
    "print(result[i].shape)"
   ]
  },
  {
   "cell_type": "code",
   "execution_count": 30,
   "id": "086931d5",
   "metadata": {},
   "outputs": [
    {
     "name": "stderr",
     "output_type": "stream",
     "text": [
      "100%|██████████| 39/39 [00:00<00:00, 240.69it/s]"
     ]
    },
    {
     "name": "stdout",
     "output_type": "stream",
     "text": [
      "(3799, 1)\n",
      "(4068,)\n",
      "(3678,)\n",
      "(4645,)\n",
      "(3422,)\n",
      "(4851,)\n",
      "(3717,)\n",
      "(2723,)\n",
      "(3758,)\n",
      "(2034,)\n",
      "(2145,)\n",
      "(2253,)\n",
      "(2429,)\n",
      "(2164,)\n",
      "(2238,)\n",
      "(1941,)\n",
      "(2051,)\n",
      "(2266,)\n",
      "(2982,)\n",
      "(3088,)\n",
      "(3573,)\n",
      "(3829,)\n",
      "(3815,)\n",
      "(5061,)\n",
      "(6507,)\n",
      "(3111,)\n",
      "(8422,)\n",
      "(6550,)\n",
      "(7227,)\n",
      "(7127,)\n",
      "(8962,)\n",
      "(7355,)\n",
      "(6777,)\n",
      "(6734,)\n",
      "(6981,)\n",
      "(1956,)\n",
      "(3648,)\n",
      "(3449,)\n",
      "(4556,)\n"
     ]
    },
    {
     "name": "stderr",
     "output_type": "stream",
     "text": [
      "\n"
     ]
    }
   ],
   "source": [
    "percentile_thresholds = [90, 80]\n",
    "alpha_bins = np.flip(np.linspace(0,1,len(percentile_thresholds)+1))\n",
    "\n",
    "def bin_alpha(x, thresholds, alpha_bins):\n",
    "    for i in range(len(thresholds)):\n",
    "        if x >= thresholds[i]:\n",
    "            return alpha_bins[-(i+1)]\n",
    "    \n",
    "days_reverse = days[::-1]\n",
    "bdata.obs[\"alpha_bin\"] = np.nan\n",
    "for i in tqdm(range(len(result))):\n",
    "    bdata_filtered = bdata[bdata.obs.day==days_reverse[i]]\n",
    "    assert len(bdata_filtered) == len(result[i]), print(len(bdata_filtered), len(result[i]))\n",
    "    thresholds = np.percentile(result[i], percentile_thresholds)+1e-8\n",
    "    #print(len(alpha_bins[np.digitize(result[i], thresholds)]))\n",
    "    #print(bdata.obs.loc[bdata.obs.day==days_reverse[i], \"alpha_bin\"].shape)\n",
    "    #print(len(bdata.obs.loc[bdata.obs.day==days_reverse[i], \"alpha_bin\"]), len(alpha_bins[np.digitize(result[i], thresholds)]))\n",
    "    print(alpha_bins[np.digitize(result[i], thresholds)].shape)\n",
    "    bdata.obs.loc[bdata.obs.day==days_reverse[i], \"alpha_bin\"] = alpha_bins[np.digitize(result[i], thresholds)]\n",
    "    \n",
    "    #bdata.obs.loc[bdata.obs.day==days_reverse[i], \"alpha_bin\"] = list(map(partial(bin_alpha, thresholds=thresholds, alpha_bins=alpha_bins), result[i]))"
   ]
  },
  {
   "cell_type": "code",
   "execution_count": 31,
   "id": "61f8ee1c",
   "metadata": {},
   "outputs": [
    {
     "data": {
      "text/plain": [
       "0.0    153935\n",
       "0.5      6056\n",
       "1.0      5901\n",
       "Name: alpha_bin, dtype: int64"
      ]
     },
     "execution_count": 31,
     "metadata": {},
     "output_type": "execute_result"
    }
   ],
   "source": [
    "bdata.obs.alpha_bin.value_counts()"
   ]
  },
  {
   "cell_type": "code",
   "execution_count": 32,
   "id": "7a69f4eb",
   "metadata": {},
   "outputs": [
    {
     "data": {
      "image/png": "[encoded data removed]",
      "text/plain": [
       "<Figure size 936x720 with 2 Axes>"
      ]
     },
     "metadata": {
      "needs_background": "light"
     },
     "output_type": "display_data"
    }
   ],
   "source": [
    "cm = plt.get_cmap('jet')\n",
    "cNorm  = mpl.colors.Normalize(vmin=0, vmax=len(result))\n",
    "scalarMap = mpl.cm.ScalarMappable(norm=cNorm, cmap=cm)\n",
    "\n",
    "fig = plt.figure(figsize=(13, 10))\n",
    "plt.title(f'Cell type: iPSC, medium: serum, $\\epsilon$={5}', fontsize=24)\n",
    "plt.plot(COORD_DF['x'], COORD_DF['y'], marker='.', color='grey', ls='',\n",
    "         markersize=0.3, alpha=0.07)\n",
    "for i in range(len(result)):\n",
    "    colorVal = scalarMap.to_rgba(i)\n",
    "    for b in alpha_bins:\n",
    "        colorVal = np.array(colorVal)\n",
    "        colorVal[3] = b\n",
    "        plt.plot(bdata.obs.loc[np.logical_and(bdata.obs[\"alpha_bin\"]==b, bdata.obs[\"day\"]==days[i]), \"x\"],\n",
    "                 bdata.obs.loc[np.logical_and(bdata.obs[\"alpha_bin\"]==b, bdata.obs[\"day\"]==days[i]), \"y\"],\n",
    "               marker='.', color=colorVal, ls='', markersize=1)\n",
    "plt.xlabel('FLE1', fontsize=24)\n",
    "plt.ylabel('FLE2', fontsize=24)\n",
    "ax, _ = mpl.colorbar.make_axes(plt.gca(), shrink=1)\n",
    "cbar = mpl.colorbar.ColorbarBase(ax, cmap=cm,\n",
    "                       norm=mpl.colors.Normalize(vmin=0, vmax=18))\n",
    "plt.show()"
   ]
  },
  {
   "cell_type": "code",
   "execution_count": null,
   "id": "5ffdcfea",
   "metadata": {},
   "outputs": [],
   "source": []
  },
  {
   "cell_type": "code",
   "execution_count": null,
   "id": "4fd19f25",
   "metadata": {},
   "outputs": [],
   "source": []
  },
  {
   "cell_type": "code",
   "execution_count": null,
   "id": "b65f9142",
   "metadata": {},
   "outputs": [],
   "source": []
  },
  {
   "cell_type": "markdown",
   "id": "e90ef0fa",
   "metadata": {},
   "source": [
    "# Test low rank Sinkhorn"
   ]
  },
  {
   "cell_type": "code",
   "execution_count": 23,
   "id": "17d79cbe",
   "metadata": {},
   "outputs": [],
   "source": [
    "import ott\n",
    "import jax.numpy as jnp\n",
    "import jax\n",
    "import matplotlib.pyplot as plt\n",
    "\n",
    "def create_points(rng, n, m, d):\n",
    "  rngs = jax.random.split(rng, 4)\n",
    "  x = jax.random.normal(rngs[0], (n,d)) + 1\n",
    "  y = jax.random.uniform(rngs[1], (m,d))\n",
    "  a = jax.random.uniform(rngs[2], (n,))\n",
    "  b = jax.random.uniform(rngs[3], (m,))\n",
    "  a = a / jnp.sum(a)\n",
    "  b = b / jnp.sum(b)\n",
    "  return x, y, a, b\n"
   ]
  },
  {
   "cell_type": "code",
   "execution_count": 24,
   "id": "972f4535",
   "metadata": {},
   "outputs": [],
   "source": [
    "rng = jax.random.PRNGKey(0)\n",
    "n, m, d = 19, 35, 2\n",
    "x, y, a, b = create_points(rng, n=n, m=m, d=d)\n",
    "\n",
    "geom = ott.geometry.pointcloud.PointCloud(x, y, epsilon=0.1)\n",
    "ot_prob = ott.core.problems.LinearProblem(geom, a, b)\n"
   ]
  },
  {
   "cell_type": "code",
   "execution_count": 25,
   "id": "f694b894",
   "metadata": {},
   "outputs": [],
   "source": [
    "rng = jax.random.PRNGKey(0)\n",
    "n, m, d = 19, 35, 2\n",
    "x, y, a, b = create_points(rng, n=n, m=m, d=d)\n",
    "\n",
    "geom = ott.geometry.pointcloud.PointCloud(x, y, epsilon=0.1)\n",
    "ot_prob = ott.core.problems.LinearProblem(geom, a, b)\n"
   ]
  },
  {
   "cell_type": "code",
   "execution_count": 27,
   "id": "8d26b7b0",
   "metadata": {},
   "outputs": [],
   "source": [
    "solver = ott.core.sinkhorn_lr.LRSinkhorn(rank=int(min(n,m)/2))\n",
    "ot_lr = solver(ot_prob)"
   ]
  },
  {
   "cell_type": "code",
   "execution_count": 31,
   "id": "987f6c66",
   "metadata": {},
   "outputs": [
    {
     "data": {
      "text/plain": [
       "array([1., 1., 1., 1., 1., 1., 1., 1., 1., 1., 1., 1., 1., 1., 1., 1., 1.,\n",
       "       1., 1.])"
      ]
     },
     "execution_count": 31,
     "metadata": {},
     "output_type": "execute_result"
    }
   ],
   "source": [
    "np.ones(19)"
   ]
  },
  {
   "cell_type": "code",
   "execution_count": 32,
   "id": "032a33ff",
   "metadata": {},
   "outputs": [
    {
     "data": {
      "text/plain": [
       "DeviceArray([0.05388878, 0.01349156, 0.04265046, 0.00745171, 0.0300949 ,\n",
       "             0.04246419, 0.01185917, 0.01130359, 0.04318917, 0.03027359,\n",
       "             0.05184619, 0.00401225, 0.01881211, 0.03039191, 0.0193588 ,\n",
       "             0.00472911, 0.04933582, 0.04831525, 0.00409654, 0.0267557 ,\n",
       "             0.04355843, 0.04236978, 0.06161218, 0.02236322, 0.00265439,\n",
       "             0.01530669, 0.06197171, 0.0248453 , 0.0289845 , 0.01524431,\n",
       "             0.05585859, 0.01096907, 0.03034744, 0.00312966, 0.03646384],            dtype=float32)"
      ]
     },
     "execution_count": 32,
     "metadata": {},
     "output_type": "execute_result"
    }
   ],
   "source": [
    "ot_lr.apply(np.ones(19))"
   ]
  },
  {
   "cell_type": "code",
   "execution_count": 41,
   "id": "1dc16a56",
   "metadata": {},
   "outputs": [
    {
     "data": {
      "text/plain": [
       "LRSinkhornOutput(q=DeviceArray([[1.92878614e-15, 5.29677546e-09, 3.34489943e-42,\n",
       "              7.24470317e-22, 1.32264515e-28, 1.33895226e-26,\n",
       "              1.16816444e-30, 2.20183530e-04, 4.27237712e-02],\n",
       "             [1.67828335e-10, 2.28699934e-10, 3.26976804e-15,\n",
       "              3.10280448e-05, 1.73442424e-13, 1.46286195e-21,\n",
       "              1.45213344e-05, 1.86706446e-02, 3.97161057e-05],\n",
       "             [1.28070009e-03, 3.55844008e-04, 1.73618980e-02,\n",
       "              5.54300882e-02, 2.33031716e-03, 3.05950003e-08,\n",
       "              4.28185194e-06, 5.41592317e-06, 6.48741832e-07],\n",
       "             [9.12866405e-09, 4.39004211e-09, 2.03596340e-09,\n",
       "              1.93606445e-03, 4.72107686e-10, 2.55186072e-19,\n",
       "              5.88389896e-02, 8.82213702e-04, 3.39954531e-05],\n",
       "             [1.32592453e-08, 3.12148600e-08, 3.56679155e-17,\n",
       "              2.39403533e-07, 2.55338624e-14, 1.11031394e-19,\n",
       "              2.10489937e-09, 4.15226705e-02, 3.24651995e-03],\n",
       "             [5.37938718e-07, 3.47561890e-09, 9.07431167e-05,\n",
       "              1.99535340e-02, 2.38880943e-06, 1.82100416e-15,\n",
       "              4.44635004e-02, 8.55211056e-06, 4.67107490e-08],\n",
       "             [2.57670507e-09, 1.37862770e-08, 9.26608305e-14,\n",
       "              4.54675010e-21, 3.02881908e-05, 2.09729075e-02,\n",
       "              3.36603137e-36, 7.25414672e-26, 4.03470041e-22],\n",
       "             [7.03241676e-03, 6.58621406e-03, 9.02690256e-10,\n",
       "              5.93427391e-11, 3.87288783e-05, 6.88153058e-02,\n",
       "              1.03901495e-22, 2.69596455e-12, 3.20440718e-09],\n",
       "             [3.57716465e-40, 8.26766094e-44, 3.71109624e-03,\n",
       "              2.38298162e-27, 5.45536406e-20, 2.28110081e-36,\n",
       "              2.03962097e-24, 0.00000000e+00, 0.00000000e+00],\n",
       "             [6.27482170e-13, 6.38486924e-16, 8.52685701e-03,\n",
       "              4.24218779e-05, 6.06731498e-10, 1.10429832e-20,\n",
       "              6.04279526e-02, 6.60286550e-13, 6.56636749e-17],\n",
       "             [3.51958477e-07, 1.45059831e-09, 5.37980795e-02,\n",
       "              4.17701813e-06, 7.93760270e-03, 2.86467721e-08,\n",
       "              1.61233527e-12, 9.52577826e-15, 9.69861936e-16],\n",
       "             [1.19116567e-02, 5.19099238e-04, 1.00206428e-07,\n",
       "              9.27084684e-03, 2.43352479e-05, 1.14327725e-09,\n",
       "              1.02481060e-07, 1.69218723e-02, 1.20105892e-02],\n",
       "             [1.94386132e-02, 6.06129915e-02, 3.76672629e-15,\n",
       "              2.04404799e-10, 1.61190053e-06, 4.25448015e-05,\n",
       "              3.73779715e-23, 1.90340810e-08, 6.50693346e-06],\n",
       "             [2.49540358e-06, 5.76736952e-08, 3.67108025e-02,\n",
       "              3.75898651e-07, 4.57943045e-02, 2.32687262e-06,\n",
       "              1.63824683e-13, 2.04701965e-15, 8.85396869e-16],\n",
       "             [2.87479833e-02, 2.46909214e-03, 1.08159065e-06,\n",
       "              1.62295721e-04, 5.94289217e-04, 1.44611272e-06,\n",
       "              1.20990856e-10, 3.66982022e-05, 1.06744540e-06],\n",
       "             [3.50728002e-03, 4.02611829e-02, 3.62251058e-06,\n",
       "              1.68588816e-03, 9.67471208e-03, 1.27308485e-05,\n",
       "              3.63029190e-10, 1.23533846e-05, 1.70980231e-04],\n",
       "             [8.06700791e-06, 4.31346416e-04, 4.64354596e-12,\n",
       "              5.49171440e-13, 7.08616339e-04, 6.85009286e-02,\n",
       "              2.09948828e-26, 6.39213414e-15, 4.44032701e-12],\n",
       "             [2.27911023e-05, 4.99785179e-04, 4.17963554e-25,\n",
       "              2.55953993e-14, 9.58479579e-14, 5.28487219e-11,\n",
       "              1.42239737e-24, 2.05524575e-05, 6.13254569e-02],\n",
       "             [3.26254606e-20, 1.74173596e-22, 5.52170375e-12,\n",
       "              1.22751294e-08, 6.49838207e-19, 3.21641887e-33,\n",
       "              2.04949137e-02, 1.96931501e-13, 7.09890372e-18]],            dtype=float32), r=DeviceArray([[5.27013769e-14, 9.62119446e-17, 1.00253768e-12,\n",
       "              1.05167630e-04, 1.50032628e-13, 5.79309571e-25,\n",
       "              5.37714921e-02, 1.21142175e-05, 3.00420712e-15],\n",
       "             [3.03217973e-07, 3.14459749e-06, 1.54361622e-15,\n",
       "              4.66939935e-16, 1.39881759e-10, 1.34881148e-02,\n",
       "              5.02054162e-28, 6.68040937e-19, 3.07306941e-15],\n",
       "             [4.92485697e-08, 2.33575452e-08, 8.60047977e-10,\n",
       "              4.79668456e-14, 2.86151106e-07, 4.26500924e-02,\n",
       "              3.48237223e-25, 1.50658155e-23, 1.37335960e-24],\n",
       "             [6.79278335e-12, 4.24870117e-15, 7.42820790e-03,\n",
       "              2.99908121e-09, 2.34994168e-05, 2.46661330e-10,\n",
       "              4.86557240e-14, 5.79654402e-25, 2.15659107e-36],\n",
       "             [8.68784357e-03, 3.41696106e-03, 8.44530746e-07,\n",
       "              1.65089723e-02, 1.38837239e-03, 8.47270421e-05,\n",
       "              5.43746426e-09, 7.17412422e-06, 2.64432320e-09],\n",
       "             [1.14058164e-15, 1.91725771e-19, 1.02342362e-11,\n",
       "              1.98418948e-05, 6.04652818e-15, 6.73351861e-28,\n",
       "              4.24443446e-02, 8.29806834e-10, 8.81233150e-21],\n",
       "             [2.54553201e-11, 1.51335802e-12, 4.03409902e-15,\n",
       "              1.20823912e-04, 8.63708790e-14, 1.60898241e-21,\n",
       "              4.27239080e-04, 1.13110999e-02, 8.93165009e-09],\n",
       "             [8.21660726e-11, 4.60743978e-14, 1.58238446e-03,\n",
       "              8.09942000e-03, 2.74096010e-06, 1.25519525e-15,\n",
       "              1.61904469e-03, 8.35679616e-12, 2.37142213e-25],\n",
       "             [6.91489865e-10, 1.77460876e-11, 2.61458242e-17,\n",
       "              7.38263395e-07, 3.73202759e-15, 1.16191346e-19,\n",
       "              1.92614522e-07, 4.31353003e-02, 5.29369609e-05],\n",
       "             [2.78119842e-05, 8.26541160e-04, 2.26152529e-16,\n",
       "              6.88712813e-13, 2.48610604e-10, 2.94192284e-02,\n",
       "              1.03826106e-24, 7.59513776e-14, 1.53394708e-09],\n",
       "             [1.11980153e-04, 2.36673313e-05, 4.15839581e-03,\n",
       "              1.26366751e-04, 3.91540267e-02, 8.27174820e-03,\n",
       "              1.04349532e-11, 2.17184005e-13, 3.01182189e-18],\n",
       "             [1.67719713e-06, 1.26501709e-09, 3.92898079e-03,\n",
       "              7.24029014e-05, 8.42898589e-06, 5.97654079e-11,\n",
       "              7.59315867e-07, 2.58745694e-12, 4.63227201e-21],\n",
       "             [6.82261110e-15, 1.16429716e-17, 1.23197911e-04,\n",
       "              7.48495164e-04, 1.00708426e-07, 5.42140313e-20,\n",
       "              1.79403182e-02, 1.38548054e-13, 4.99961630e-27],\n",
       "             [2.51346148e-16, 2.75252881e-22, 3.51303896e-07,\n",
       "              5.79702319e-05, 2.55670041e-10, 6.38006418e-26,\n",
       "              3.03335879e-02, 9.26629142e-15, 9.73298188e-30],\n",
       "             [4.96449060e-14, 3.08491591e-18, 1.93474088e-02,\n",
       "              3.01896478e-07, 1.07470441e-05, 6.77571459e-16,\n",
       "              3.36400177e-07, 1.31988402e-19, 1.89747460e-34],\n",
       "             [4.81707256e-15, 9.58687645e-15, 2.83239054e-25,\n",
       "              1.91063970e-11, 3.39375030e-22, 6.92774011e-26,\n",
       "              4.78052320e-12, 3.80946067e-03, 9.19652521e-04],\n",
       "             [2.55034748e-03, 4.44384664e-02, 3.32374232e-12,\n",
       "              8.46506339e-07, 2.99931706e-08, 8.89812873e-05,\n",
       "              4.08285127e-15, 4.00642102e-06, 2.25314032e-03],\n",
       "             [1.60491800e-10, 5.96033907e-08, 2.95907967e-20,\n",
       "              9.63707447e-11, 3.69015092e-16, 4.81521224e-17,\n",
       "              2.17593684e-13, 2.19077733e-03, 4.61244136e-02],\n",
       "             [1.45119050e-09, 1.52205614e-13, 4.05723276e-03,\n",
       "              5.10730251e-06, 3.41960804e-05, 1.46122212e-10,\n",
       "              1.10778120e-09, 3.06574487e-19, 8.41616400e-29],\n",
       "             [1.25815575e-07, 3.15091825e-07, 1.61638991e-09,\n",
       "              8.23368337e-13, 1.23608504e-06, 2.67540161e-02,\n",
       "              3.76865108e-23, 4.17644057e-21, 3.89127995e-22],\n",
       "             [7.97463395e-03, 8.66104849e-03, 1.48840753e-08,\n",
       "              5.28749706e-06, 2.19062349e-06, 2.69152261e-02,\n",
       "              5.06771723e-15, 2.69705258e-10, 2.72052194e-08],\n",
       "             [4.87757177e-07, 5.45757717e-10, 2.41875947e-02,\n",
       "              1.60403699e-02, 1.53808715e-03, 5.88436591e-11,\n",
       "              6.03235618e-04, 2.12364704e-09, 2.80843922e-19],\n",
       "             [1.26574992e-03, 3.64038104e-04, 4.88219654e-13,\n",
       "              2.19774006e-06, 1.06998366e-09, 2.67925486e-07,\n",
       "              5.18066449e-12, 4.10054857e-03, 5.58793657e-02],\n",
       "             [3.87082367e-20, 3.67691174e-25, 1.32876626e-10,\n",
       "              2.63995645e-07, 1.01099345e-14, 1.36965640e-30,\n",
       "              2.23629605e-02, 2.11112904e-15, 1.66599200e-32],\n",
       "             [4.29479265e-11, 6.53152400e-15, 4.71343461e-04,\n",
       "              1.19257916e-03, 5.66498466e-06, 2.96766430e-17,\n",
       "              9.84800165e-04, 6.95232771e-13, 8.27407299e-26],\n",
       "             [5.19412686e-04, 1.04896585e-02, 4.95931696e-09,\n",
       "              6.28960015e-06, 3.96398209e-05, 4.25167195e-03,\n",
       "              1.56707024e-14, 8.61452154e-09, 8.45948978e-10],\n",
       "             [1.75567735e-02, 2.30157916e-02, 3.53771611e-07,\n",
       "              1.96842626e-02, 2.34514067e-04, 3.43000080e-04,\n",
       "              1.07443071e-07, 8.85054353e-04, 2.51850608e-04],\n",
       "             [1.10697504e-02, 1.19689116e-02, 2.22874254e-11,\n",
       "              1.91677327e-06, 8.95135273e-08, 2.75965485e-05,\n",
       "              1.97292161e-12, 4.23086713e-05, 1.73472415e-03],\n",
       "             [1.51391281e-02, 4.42476571e-03, 3.89453580e-09,\n",
       "              1.48955223e-04, 2.16672129e-06, 7.81743665e-07,\n",
       "              6.21153262e-09, 8.44272412e-03, 8.25966301e-04],\n",
       "             [1.21161511e-10, 7.82610365e-11, 1.24214078e-20,\n",
       "              3.95634316e-08, 8.86427060e-17, 2.65206822e-19,\n",
       "              3.62093862e-12, 3.72705329e-03, 1.15172146e-02],\n",
       "             [2.16089155e-08, 1.18081248e-11, 5.48412763e-02,\n",
       "              3.36018478e-04, 6.81269506e-04, 8.24365853e-10,\n",
       "              1.95018846e-09, 5.90260574e-16, 1.11963361e-25],\n",
       "             [6.72966242e-03, 4.02328512e-03, 2.09010995e-08,\n",
       "              5.51305675e-07, 1.41273022e-05, 2.01428033e-04,\n",
       "              6.08544934e-15, 2.96365293e-10, 1.12778668e-10],\n",
       "             [3.17126571e-04, 7.89625337e-05, 7.57986127e-05,\n",
       "              2.84641410e-05, 2.39957310e-02, 5.85135072e-03,\n",
       "              1.08136563e-14, 1.83181215e-13, 4.10017151e-17],\n",
       "             [3.54582891e-11, 2.41408778e-14, 8.49524497e-07,\n",
       "              3.17484257e-04, 3.79153526e-08, 1.34484968e-18,\n",
       "              2.81128380e-03, 7.13216985e-10, 8.42715371e-21],\n",
       "             [6.03465677e-09, 2.69095718e-11, 1.21245902e-10,\n",
       "              2.48858184e-02, 1.55342073e-09, 1.18600759e-16,\n",
       "              1.09445089e-02, 6.33508433e-04, 1.21000258e-11]],            dtype=float32), g=DeviceArray([0.07195292, 0.11173566, 0.12020427, 0.08851697, 0.06713719,\n",
       "             0.15834823, 0.18424426, 0.07830117, 0.1195593 ],            dtype=float32), costs=DeviceArray([ 2.1039531,  2.0758667,  2.0359788, ..., -1.       ,\n",
       "             -1.       , -1.       ], dtype=float32), reg_ot_cost=DeviceArray(1.4865013, dtype=float32), ot_prob=<ott.core.problems.LinearProblem object at 0x7fb9dbe45e50>)"
      ]
     },
     "execution_count": 41,
     "metadata": {},
     "output_type": "execute_result"
    }
   ],
   "source": [
    "ot_lr"
   ]
  },
  {
   "cell_type": "code",
   "execution_count": null,
   "id": "56f626d6",
   "metadata": {},
   "outputs": [],
   "source": []
  }
 ],
 "metadata": {
  "kernelspec": {
   "display_name": "moscot_with_cupti_kernel",
   "language": "python",
   "name": "moscot_with_cupti_kernel"
  },
  "language_info": {
   "codemirror_mode": {
    "name": "ipython",
    "version": 3
   },
   "file_extension": ".py",
   "mimetype": "text/x-python",
   "name": "python",
   "nbconvert_exporter": "python",
   "pygments_lexer": "ipython3",
   "version": "3.8.12"
  }
 },
 "nbformat": 4,
 "nbformat_minor": 5
}
