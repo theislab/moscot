{
 "cells": [
  {
   "cell_type": "code",
   "execution_count": 1,
   "id": "b89c1e72-6f6f-4f5b-8dd0-484da3efac99",
   "metadata": {},
   "outputs": [],
   "source": [
    "%load_ext autoreload\n",
    "%autoreload 2"
   ]
  },
  {
   "cell_type": "code",
   "execution_count": 2,
   "id": "be413e08-48e4-4476-a8e7-329af6abc8dd",
   "metadata": {},
   "outputs": [],
   "source": [
    "import moscot\n",
    "from anndata import AnnData\n",
    "import numpy as np\n",
    "from moscot.backends.ott import FGWSolver, SinkhornSolver, GWSolver, LRSinkhornSolver\n",
    "from moscot.solvers._data import TaggedArray, Tag\n",
    "import matplotlib.pyplot as plt\n",
    "import jax.numpy as jnp\n",
    "from typing import *\n",
    "import pandas as pd\n",
    "import networkx as nx\n",
    "import jax.numpy as jnp\n",
    "from moscot.problems.time._lineage import TemporalProblem\n",
    "import os\n",
    "import wot\n",
    "from ott.geometry import pointcloud"
   ]
  },
  {
   "cell_type": "code",
   "execution_count": 3,
   "id": "f684d21b",
   "metadata": {},
   "outputs": [],
   "source": [
    "import scanpy as sc\n",
    "import matplotlib as mpl"
   ]
  },
  {
   "cell_type": "code",
   "execution_count": 4,
   "id": "9f96fb34-a7c2-4a99-a170-00bd0aeff24e",
   "metadata": {},
   "outputs": [],
   "source": [
    "import ott\n",
    "import ot\n",
    "from tqdm import tqdm"
   ]
  },
  {
   "cell_type": "code",
   "execution_count": 5,
   "id": "2dae61fc-f5f0-4e3a-8d81-2d8c11fc6896",
   "metadata": {},
   "outputs": [],
   "source": [
    "data_path = \"/home/icb/dominik.klein/data/wot\"\n",
    "\n",
    "\n",
    "VAR_GENE_DS_PATH = os.path.join(data_path, 'ExprMatrix.var.genes.h5ad')\n",
    "CELL_DAYS_PATH = os.path.join(data_path, 'cell_days.txt')\n",
    "SERUM_CELL_IDS_PATH = os.path.join(data_path, 'serum_cell_ids.txt')\n",
    "CELL_GROWTH_PATH = os.path.join(data_path, 'growth_gs_init.txt')\n",
    "FULL_DS_PATH = os.path.join(data_path, 'ExprMatrix.h5ad')\n",
    "CELL_DAYS_PATH = os.path.join(data_path, 'cell_days.txt')\n",
    "VAR_DS_PATH = os.path.join(data_path, 'ExprMatrix.var.genes.h5ad')\n",
    "TMAP_PATH = os.path.join(data_path, 'serum')\n",
    "CELL_SETS_PATH = os.path.join(data_path, 'major_cell_sets.gmt')\n",
    "COORDS_PATH = os.path.join(data_path, 'fle_coords.txt')"
   ]
  },
  {
   "cell_type": "code",
   "execution_count": 6,
   "id": "a87999d3-eff8-4f83-af8b-fe0bc5d46a3e",
   "metadata": {},
   "outputs": [
    {
     "data": {
      "text/plain": [
       "(175472, 1479)"
      ]
     },
     "execution_count": 6,
     "metadata": {},
     "output_type": "execute_result"
    }
   ],
   "source": [
    "adata = wot.io.read_dataset(VAR_GENE_DS_PATH, obs=[CELL_DAYS_PATH, CELL_GROWTH_PATH], obs_filter=SERUM_CELL_IDS_PATH)\n",
    "adata.shape"
   ]
  },
  {
   "cell_type": "code",
   "execution_count": 7,
   "id": "99251aef",
   "metadata": {},
   "outputs": [
    {
     "data": {
      "text/plain": [
       "AnnData object with n_obs × n_vars = 175472 × 1479\n",
       "    obs: 'day', 'cell_growth_rate'"
      ]
     },
     "execution_count": 7,
     "metadata": {},
     "output_type": "execute_result"
    }
   ],
   "source": [
    "adata"
   ]
  },
  {
   "cell_type": "code",
   "execution_count": 8,
   "id": "b52a3bb1",
   "metadata": {},
   "outputs": [],
   "source": [
    "sc.tl.pca(adata)"
   ]
  },
  {
   "cell_type": "code",
   "execution_count": 9,
   "id": "ec96c853",
   "metadata": {},
   "outputs": [],
   "source": [
    "CELL_SETS_PATH = os.path.join(data_path, 'major_cell_sets.gmt')\n",
    "cell_sets = wot.io.read_sets(CELL_SETS_PATH, as_dict=True)\n",
    "cell_to_type = {v[i]: k for k, v in cell_sets.items() for i in range(len(v))}\n",
    "df_cell_type = pd.DataFrame(cell_to_type.items(), columns=[\"0\", \"cell_type\"]).set_index(\"0\")\n",
    "adata.obs = pd.merge(adata.obs, df_cell_type, how=\"left\", left_index=True, right_index=True)"
   ]
  },
  {
   "cell_type": "code",
   "execution_count": 10,
   "id": "e6289e43",
   "metadata": {},
   "outputs": [
    {
     "data": {
      "text/plain": [
       "nan"
      ]
     },
     "execution_count": 10,
     "metadata": {},
     "output_type": "execute_result"
    }
   ],
   "source": [
    "days = list(adata.obs.day.unique())\n",
    "days.pop(-1) # remove nan"
   ]
  },
  {
   "cell_type": "code",
   "execution_count": 12,
   "id": "65fc0e41",
   "metadata": {},
   "outputs": [],
   "source": [
    "pc_cost_matrix = pointcloud.PointCloud(adata[adata.obs.day==days[0]].obsm[\"X_pca\"], adata[adata.obs.day==days[1]].obsm[\"X_pca\"]).cost_matrix"
   ]
  },
  {
   "cell_type": "code",
   "execution_count": 13,
   "id": "86539cfc",
   "metadata": {},
   "outputs": [],
   "source": [
    "ot_cost_matrix = ot.dist(adata[adata.obs.day==days[0]].obsm[\"X_pca\"], adata[adata.obs.day==days[1]].obsm[\"X_pca\"])"
   ]
  },
  {
   "cell_type": "code",
   "execution_count": 29,
   "id": "fd61a5a6",
   "metadata": {},
   "outputs": [
    {
     "name": "stderr",
     "output_type": "stream",
     "text": [
      "100%|██████████| 38/38 [00:03<00:00, 10.43it/s]\n"
     ]
    }
   ],
   "source": [
    "xs = {}\n",
    "for i in tqdm(range(len(days)-1)):\n",
    "    c = ot.dist(adata[adata.obs.day==days[i]].obsm[\"X_pca\"], adata[adata.obs.day==days[i+1]].obsm[\"X_pca\"])\n",
    "    #c /= np.median(np.array(c))\n",
    "    adata.uns[\"cost_matrix_{}\".format(i)] = c\n",
    "    xs[(days[i], days[i+1])] = {\"attr\": \"uns\", \"key\": \"cost_matrix_{}\".format(i), \"tag\": Tag.COST_MATRIX}"
   ]
  },
  {
   "cell_type": "markdown",
   "id": "4c4cdca5-58cd-4b43-9eb3-b108c53819c0",
   "metadata": {},
   "source": [
    "## Run WOT"
   ]
  },
  {
   "cell_type": "code",
   "execution_count": 17,
   "id": "ee648bdb-b8e7-47d2-9db5-1c24df4e27e1",
   "metadata": {},
   "outputs": [],
   "source": [
    "#ot_model = wot.ot.OTModel(adata,epsilon = 0.05, lambda1 = 1,lambda2 = 50) "
   ]
  },
  {
   "cell_type": "code",
   "execution_count": 18,
   "id": "638d31a6-11cd-4d04-a290-9f76b3f8906f",
   "metadata": {},
   "outputs": [],
   "source": [
    "#tmap_annotated = ot_model.compute_transport_map(11,11.5)"
   ]
  },
  {
   "cell_type": "markdown",
   "id": "6dc6d743-871f-4457-9e05-2ec13a7d5f9c",
   "metadata": {},
   "source": [
    "## Run Moscot"
   ]
  },
  {
   "cell_type": "code",
   "execution_count": 47,
   "id": "8f671fbc-ab52-44fc-9ebf-0f9c490f6dbc",
   "metadata": {},
   "outputs": [],
   "source": [
    "tp = TemporalProblem(adata, solver=SinkhornSolver(jit=False))"
   ]
  },
  {
   "cell_type": "code",
   "execution_count": 48,
   "id": "a228245a-970b-42fd-8a20-0882a3e5ad4d",
   "metadata": {},
   "outputs": [],
   "source": [
    "adata.obs.day = adata.obs.day.astype('category')"
   ]
  },
  {
   "cell_type": "code",
   "execution_count": 49,
   "id": "efa66a92-ae36-478a-a5b3-27508a91b6d8",
   "metadata": {},
   "outputs": [
    {
     "name": "stdout",
     "output_type": "stream",
     "text": [
      "hi {'attr': 'uns', 'key': 'cost_matrix_0', 'tag': <Tag.COST_MATRIX: 1>}\n",
      "hi {'attr': 'uns', 'key': 'cost_matrix_1', 'tag': <Tag.COST_MATRIX: 1>}\n",
      "hi {'attr': 'uns', 'key': 'cost_matrix_2', 'tag': <Tag.COST_MATRIX: 1>}\n",
      "hi {'attr': 'uns', 'key': 'cost_matrix_3', 'tag': <Tag.COST_MATRIX: 1>}\n",
      "hi {'attr': 'uns', 'key': 'cost_matrix_4', 'tag': <Tag.COST_MATRIX: 1>}\n",
      "hi {'attr': 'uns', 'key': 'cost_matrix_5', 'tag': <Tag.COST_MATRIX: 1>}\n",
      "hi {'attr': 'uns', 'key': 'cost_matrix_6', 'tag': <Tag.COST_MATRIX: 1>}\n",
      "hi {'attr': 'uns', 'key': 'cost_matrix_7', 'tag': <Tag.COST_MATRIX: 1>}\n",
      "hi {'attr': 'uns', 'key': 'cost_matrix_8', 'tag': <Tag.COST_MATRIX: 1>}\n",
      "hi {'attr': 'uns', 'key': 'cost_matrix_9', 'tag': <Tag.COST_MATRIX: 1>}\n",
      "hi {'attr': 'uns', 'key': 'cost_matrix_10', 'tag': <Tag.COST_MATRIX: 1>}\n",
      "hi {'attr': 'uns', 'key': 'cost_matrix_11', 'tag': <Tag.COST_MATRIX: 1>}\n",
      "hi {'attr': 'uns', 'key': 'cost_matrix_12', 'tag': <Tag.COST_MATRIX: 1>}\n",
      "hi {'attr': 'uns', 'key': 'cost_matrix_13', 'tag': <Tag.COST_MATRIX: 1>}\n",
      "hi {'attr': 'uns', 'key': 'cost_matrix_14', 'tag': <Tag.COST_MATRIX: 1>}\n",
      "hi {'attr': 'uns', 'key': 'cost_matrix_15', 'tag': <Tag.COST_MATRIX: 1>}\n",
      "hi {'attr': 'uns', 'key': 'cost_matrix_16', 'tag': <Tag.COST_MATRIX: 1>}\n",
      "hi {'attr': 'uns', 'key': 'cost_matrix_17', 'tag': <Tag.COST_MATRIX: 1>}\n",
      "hi {'attr': 'uns', 'key': 'cost_matrix_18', 'tag': <Tag.COST_MATRIX: 1>}\n",
      "hi {'attr': 'uns', 'key': 'cost_matrix_19', 'tag': <Tag.COST_MATRIX: 1>}\n",
      "hi {'attr': 'uns', 'key': 'cost_matrix_20', 'tag': <Tag.COST_MATRIX: 1>}\n",
      "hi {'attr': 'uns', 'key': 'cost_matrix_21', 'tag': <Tag.COST_MATRIX: 1>}\n",
      "hi {'attr': 'uns', 'key': 'cost_matrix_22', 'tag': <Tag.COST_MATRIX: 1>}\n",
      "hi {'attr': 'uns', 'key': 'cost_matrix_23', 'tag': <Tag.COST_MATRIX: 1>}\n",
      "hi {'attr': 'uns', 'key': 'cost_matrix_24', 'tag': <Tag.COST_MATRIX: 1>}\n",
      "hi {'attr': 'uns', 'key': 'cost_matrix_25', 'tag': <Tag.COST_MATRIX: 1>}\n",
      "hi {'attr': 'uns', 'key': 'cost_matrix_26', 'tag': <Tag.COST_MATRIX: 1>}\n",
      "hi {'attr': 'uns', 'key': 'cost_matrix_27', 'tag': <Tag.COST_MATRIX: 1>}\n",
      "hi {'attr': 'uns', 'key': 'cost_matrix_28', 'tag': <Tag.COST_MATRIX: 1>}\n",
      "hi {'attr': 'uns', 'key': 'cost_matrix_29', 'tag': <Tag.COST_MATRIX: 1>}\n",
      "hi {'attr': 'uns', 'key': 'cost_matrix_30', 'tag': <Tag.COST_MATRIX: 1>}\n",
      "hi {'attr': 'uns', 'key': 'cost_matrix_31', 'tag': <Tag.COST_MATRIX: 1>}\n",
      "hi {'attr': 'uns', 'key': 'cost_matrix_32', 'tag': <Tag.COST_MATRIX: 1>}\n",
      "hi {'attr': 'uns', 'key': 'cost_matrix_33', 'tag': <Tag.COST_MATRIX: 1>}\n",
      "hi {'attr': 'uns', 'key': 'cost_matrix_34', 'tag': <Tag.COST_MATRIX: 1>}\n",
      "hi {'attr': 'uns', 'key': 'cost_matrix_35', 'tag': <Tag.COST_MATRIX: 1>}\n",
      "hi {'attr': 'uns', 'key': 'cost_matrix_36', 'tag': <Tag.COST_MATRIX: 1>}\n",
      "hi {'attr': 'uns', 'key': 'cost_matrix_37', 'tag': <Tag.COST_MATRIX: 1>}\n"
     ]
    }
   ],
   "source": [
    "tp.prepare(\"day\", x=xs, a_marg={\"attr\": \"obs\", \"key\":\"cell_growth_rate\"})"
   ]
  },
  {
   "cell_type": "code",
   "execution_count": 22,
   "id": "5cf8ccf2-9dda-46d5-aa42-8b1baab57a46",
   "metadata": {},
   "outputs": [],
   "source": [
    "lambda_1 = 1.0\n",
    "#lambda_2 = 50.0\n",
    "eps = 5.0\n",
    "tp.solve(eps=eps, tau_a=lambda_1/(lambda_1+eps), tau_b=1)"
   ]
  },
  {
   "cell_type": "markdown",
   "id": "c5f56ab9",
   "metadata": {},
   "source": [
    "## Pull back mass"
   ]
  },
  {
   "cell_type": "code",
   "execution_count": 23,
   "id": "71394e42",
   "metadata": {},
   "outputs": [
    {
     "data": {
      "text/plain": [
       "Stromal        1239\n",
       "Neural          819\n",
       "NaN             534\n",
       "Epithelial      503\n",
       "IPS             412\n",
       "Trophoblast     292\n",
       "Name: cell_type, dtype: int64"
      ]
     },
     "execution_count": 23,
     "metadata": {},
     "output_type": "execute_result"
    }
   ],
   "source": [
    "adata[adata.obs.day==18.0].obs.cell_type.value_counts(dropna=False)"
   ]
  },
  {
   "cell_type": "code",
   "execution_count": 24,
   "id": "a5840d1e",
   "metadata": {},
   "outputs": [
    {
     "data": {
      "text/plain": [
       "View of AnnData object with n_obs × n_vars = 3799 × 1479\n",
       "    obs: 'day', 'cell_growth_rate', 'cell_type'\n",
       "    uns: 'pca', 'cost_matrix_0', 'cost_matrix_1', 'cost_matrix_2', 'cost_matrix_3', 'cost_matrix_4', 'cost_matrix_5', 'cost_matrix_6', 'cost_matrix_7', 'cost_matrix_8', 'cost_matrix_9', 'cost_matrix_10', 'cost_matrix_11', 'cost_matrix_12', 'cost_matrix_13', 'cost_matrix_14', 'cost_matrix_15', 'cost_matrix_16', 'cost_matrix_17', 'cost_matrix_18', 'cost_matrix_19', 'cost_matrix_20', 'cost_matrix_21', 'cost_matrix_22', 'cost_matrix_23', 'cost_matrix_24', 'cost_matrix_25', 'cost_matrix_26', 'cost_matrix_27', 'cost_matrix_28', 'cost_matrix_29', 'cost_matrix_30', 'cost_matrix_31', 'cost_matrix_32', 'cost_matrix_33', 'cost_matrix_34', 'cost_matrix_35', 'cost_matrix_36', 'cost_matrix_37'\n",
       "    obsm: 'X_pca'\n",
       "    varm: 'PCs'"
      ]
     },
     "execution_count": 24,
     "metadata": {},
     "output_type": "execute_result"
    }
   ],
   "source": [
    "adata[adata.obs.day==18.0]"
   ]
  },
  {
   "cell_type": "code",
   "execution_count": 25,
   "id": "e589a9e2",
   "metadata": {},
   "outputs": [],
   "source": [
    "#for i in range(38):\n",
    "#    print(adata.uns[f\"cost_matrix_{i}\"].shape)"
   ]
  },
  {
   "cell_type": "code",
   "execution_count": 26,
   "id": "df0a7a5e",
   "metadata": {},
   "outputs": [
    {
     "name": "stdout",
     "output_type": "stream",
     "text": [
      "3799 3799\n",
      "(3799, 1) 1.0 (array([0.        , 0.00242718]), array([3387,  412]))\n",
      "3799 3799\n",
      "(4068, 1) 0.00026322715\n",
      "4068 4068\n",
      "(3678, 1) 0.00024582105\n",
      "3678 3678\n",
      "(4645, 1) 0.00027188685\n",
      "4645 4645\n",
      "(3422, 1) 0.00021528521\n",
      "3422 3422\n",
      "(4851, 1) 0.00029222656\n",
      "4851 4851\n",
      "(3717, 1) 0.000206143\n",
      "3717 3717\n",
      "(2723, 1) 0.00026903395\n",
      "2723 2723\n",
      "(3758, 1) 0.0003672419\n",
      "3758 3758\n",
      "(2034, 1) 0.000266099\n",
      "2034 2034\n",
      "(2145, 1) 0.0004916419\n",
      "2145 2145\n",
      "(2253, 1) 0.00046620044\n",
      "2253 2253\n",
      "(2429, 1) 0.00044385245\n",
      "2429 2429\n",
      "(2164, 1) 0.0004116916\n",
      "2164 2164\n",
      "(2238, 1) 0.0004621072\n",
      "2238 2238\n",
      "(1941, 1) 0.00044682756\n",
      "1941 1941\n",
      "(2051, 1) 0.0005151982\n",
      "2051 2051\n",
      "(2266, 1) 0.00048756698\n",
      "2266 2266\n",
      "(2982, 1) 0.00044130615\n",
      "2982 2982\n",
      "(3088, 1) 0.0003353451\n",
      "3088 3088\n",
      "(3573, 1) 0.000323834\n",
      "3573 3573\n",
      "(3829, 1) 0.00027987672\n",
      "3829 3829\n",
      "(3815, 1) 0.0002611648\n",
      "3815 3815\n",
      "(5061, 1) 0.00026212324\n",
      "5061 5061\n",
      "(6507, 1) 0.00019758925\n",
      "6507 6507\n",
      "(3111, 1) 0.00015368062\n",
      "3111 3111\n",
      "(8422, 1) 0.00032143976\n",
      "8422 8422\n",
      "(6550, 1) 0.00011873655\n",
      "6550 6550\n",
      "(7227, 1) 0.0001526718\n",
      "7227 7227\n",
      "(7127, 1) 0.00013837003\n",
      "7127 7127\n",
      "(8962, 1) 0.00014031137\n",
      "8962 8962\n",
      "(7355, 1) 0.00011158213\n",
      "7355 7355\n",
      "(6777, 1) 0.00013596189\n",
      "6777 6777\n",
      "(6734, 1) 0.00014755785\n",
      "6734 6734\n",
      "(6981, 1) 0.0001485001\n",
      "6981 6981\n",
      "(1956, 1) 0.00014324585\n",
      "1956 1956\n",
      "(3648, 1) 0.0005112474\n",
      "3648 3648\n",
      "(3449, 1) 0.00027412258\n",
      "3449 3449\n",
      "(4556, 1) 0.000289939\n"
     ]
    }
   ],
   "source": [
    "result = tp.pull_back_composed(start=0, end=18, key_groups=\"cell_type\", groups=[\"IPS\"], return_all=True)"
   ]
  },
  {
   "cell_type": "code",
   "execution_count": 27,
   "id": "e5f225af",
   "metadata": {},
   "outputs": [],
   "source": [
    "r_scaled = []\n",
    "for r in result:\n",
    "    r_min = r.min()\n",
    "    r_max = r.max()\n",
    "    r_scaled.append((r - r_min)/(r_max - r_min))"
   ]
  },
  {
   "cell_type": "code",
   "execution_count": 28,
   "id": "a2e38031",
   "metadata": {},
   "outputs": [],
   "source": [
    "result = r_scaled"
   ]
  },
  {
   "cell_type": "markdown",
   "id": "ac0f1cfa-a53b-40c7-ad03-bac83d906521",
   "metadata": {},
   "source": [
    "## Compare"
   ]
  },
  {
   "cell_type": "code",
   "execution_count": 29,
   "id": "9c1ef163",
   "metadata": {},
   "outputs": [],
   "source": [
    "COORD_DF = pd.read_csv(COORDS_PATH, sep='\\t', index_col=0)"
   ]
  },
  {
   "cell_type": "code",
   "execution_count": 30,
   "id": "224b153f-2886-4ed5-8e23-94d11149d7af",
   "metadata": {},
   "outputs": [],
   "source": [
    "nbins = 500\n",
    "xrange = COORD_DF['x'].min(), COORD_DF['x'].max()\n",
    "yrange = COORD_DF['y'].min(), COORD_DF['y'].max()\n",
    "COORD_DF['x'] = np.floor(\n",
    "    np.interp(COORD_DF['x'], [xrange[0], xrange[1]], [0, nbins - 1])).astype(int)\n",
    "COORD_DF['y'] = np.floor(\n",
    "    np.interp(COORD_DF['y'], [yrange[0], yrange[1]], [0, nbins - 1])).astype(int)"
   ]
  },
  {
   "cell_type": "code",
   "execution_count": 31,
   "id": "3e71c73d",
   "metadata": {},
   "outputs": [],
   "source": [
    "bdata = adata.copy()\n",
    "bdata.obs = bdata.obs.join(COORD_DF)"
   ]
  },
  {
   "cell_type": "code",
   "execution_count": 32,
   "id": "92b004b5",
   "metadata": {},
   "outputs": [
    {
     "name": "stderr",
     "output_type": "stream",
     "text": [
      "100%|██████████| 39/39 [02:33<00:00,  3.93s/it]\n"
     ]
    }
   ],
   "source": [
    "alpha_bins = [0.95, 0.9, 0.5]\n",
    "def bin_alpha(x):\n",
    "    if x >= 0.95:\n",
    "        return 1\n",
    "    elif x >= 0.9:\n",
    "        return 0.5\n",
    "    return 0\n",
    "days_reverse = days[::-1]\n",
    "bdata.obs[\"alpha_bin\"] = np.nan\n",
    "for i in tqdm(range(len(result))):\n",
    "    assert len(bdata[bdata.obs.day==days_reverse[i]]) == len(result[i]), print(len(bdata[bdata.obs.day==days_reverse[i]]), len(result[i]))\n",
    "    bdata.obs.loc[bdata.obs.day==days_reverse[i], \"alpha_bin\"] = list(map(bin_alpha, list(result[i])))"
   ]
  },
  {
   "cell_type": "code",
   "execution_count": 33,
   "id": "507ed2e7",
   "metadata": {},
   "outputs": [
    {
     "data": {
      "text/plain": [
       "0.0    159063\n",
       "0.5      5359\n",
       "1.0      1470\n",
       "Name: alpha_bin, dtype: int64"
      ]
     },
     "execution_count": 33,
     "metadata": {},
     "output_type": "execute_result"
    }
   ],
   "source": [
    "bdata.obs.alpha_bin.value_counts()"
   ]
  },
  {
   "cell_type": "code",
   "execution_count": 38,
   "id": "849a8173",
   "metadata": {},
   "outputs": [
    {
     "data": {
      "image/png": "[encoded data removed]",
      "text/plain": [
       "<Figure size 936x720 with 2 Axes>"
      ]
     },
     "metadata": {
      "needs_background": "light"
     },
     "output_type": "display_data"
    }
   ],
   "source": [
    "cm = plt.get_cmap('jet')\n",
    "cNorm  = mpl.colors.Normalize(vmin=0, vmax=len(result))\n",
    "scalarMap = mpl.cm.ScalarMappable(norm=cNorm, cmap=cm)\n",
    "\n",
    "fig = plt.figure(figsize=(13, 10))\n",
    "plt.title(f'Cell type: iPSC, medium: serum, $\\epsilon$={5}', fontsize=24)\n",
    "plt.plot(COORD_DF['x'], COORD_DF['y'], marker='.', color='grey', ls='',\n",
    "         markersize=0.3, alpha=0.07)\n",
    "for i in range(len(result)):\n",
    "    colorVal = scalarMap.to_rgba(i)\n",
    "    for b in alpha_bins:\n",
    "        colorVal = np.array(colorVal)\n",
    "        colorVal[3] = b\n",
    "        plt.plot(bdata.obs.loc[np.logical_and(bdata.obs[\"alpha_bin\"]==b, bdata.obs[\"day\"]==days[i]), \"x\"],\n",
    "                 bdata.obs.loc[np.logical_and(bdata.obs[\"alpha_bin\"]==b, bdata.obs[\"day\"]==days[i]), \"y\"],\n",
    "               marker='.', color=colorVal, ls='', markersize=1)\n",
    "plt.xlabel('FLE1', fontsize=24)\n",
    "plt.ylabel('FLE2', fontsize=24)\n",
    "ax, _ = mpl.colorbar.make_axes(plt.gca(), shrink=1)\n",
    "cbar = mpl.colorbar.ColorbarBase(ax, cmap=cm,\n",
    "                       norm=mpl.colors.Normalize(vmin=0, vmax=18))\n",
    "plt.show()"
   ]
  },
  {
   "cell_type": "code",
   "execution_count": 294,
   "id": "e2e9e30b",
   "metadata": {},
   "outputs": [
    {
     "data": {
      "text/html": [
       "<div>\n",
       "<style scoped>\n",
       "    .dataframe tbody tr th:only-of-type {\n",
       "        vertical-align: middle;\n",
       "    }\n",
       "\n",
       "    .dataframe tbody tr th {\n",
       "        vertical-align: top;\n",
       "    }\n",
       "\n",
       "    .dataframe thead th {\n",
       "        text-align: right;\n",
       "    }\n",
       "</style>\n",
       "<table border=\"1\" class=\"dataframe\">\n",
       "  <thead>\n",
       "    <tr style=\"text-align: right;\">\n",
       "      <th></th>\n",
       "      <th>day</th>\n",
       "      <th>cell_growth_rate</th>\n",
       "      <th>cell_type</th>\n",
       "      <th>alpha_bin</th>\n",
       "    </tr>\n",
       "    <tr>\n",
       "      <th>index</th>\n",
       "      <th></th>\n",
       "      <th></th>\n",
       "      <th></th>\n",
       "      <th></th>\n",
       "    </tr>\n",
       "  </thead>\n",
       "  <tbody>\n",
       "    <tr>\n",
       "      <th>D0_Dox_C1_AAACCTGAGTATCTCG-1</th>\n",
       "      <td>0.0</td>\n",
       "      <td>0.844714</td>\n",
       "      <td>NaN</td>\n",
       "      <td>1.0</td>\n",
       "    </tr>\n",
       "    <tr>\n",
       "      <th>D0_Dox_C1_AAACCTGCAAGCGAGT-1</th>\n",
       "      <td>0.0</td>\n",
       "      <td>0.274122</td>\n",
       "      <td>NaN</td>\n",
       "      <td>1.0</td>\n",
       "    </tr>\n",
       "    <tr>\n",
       "      <th>D0_Dox_C1_AAACCTGGTCTCTTAT-1</th>\n",
       "      <td>0.0</td>\n",
       "      <td>0.978787</td>\n",
       "      <td>NaN</td>\n",
       "      <td>1.0</td>\n",
       "    </tr>\n",
       "    <tr>\n",
       "      <th>D0_Dox_C1_AAACCTGTCAACACTG-1</th>\n",
       "      <td>0.0</td>\n",
       "      <td>0.383064</td>\n",
       "      <td>NaN</td>\n",
       "      <td>1.0</td>\n",
       "    </tr>\n",
       "    <tr>\n",
       "      <th>D0_Dox_C1_AAACCTGTCGTTGCCT-1</th>\n",
       "      <td>0.0</td>\n",
       "      <td>0.875599</td>\n",
       "      <td>NaN</td>\n",
       "      <td>1.0</td>\n",
       "    </tr>\n",
       "    <tr>\n",
       "      <th>...</th>\n",
       "      <td>...</td>\n",
       "      <td>...</td>\n",
       "      <td>...</td>\n",
       "      <td>...</td>\n",
       "    </tr>\n",
       "    <tr>\n",
       "      <th>DiPSC_serum_C2_TTTGTCAGTTCCCGAG-1</th>\n",
       "      <td>NaN</td>\n",
       "      <td>0.434431</td>\n",
       "      <td>Trophoblast</td>\n",
       "      <td>NaN</td>\n",
       "    </tr>\n",
       "    <tr>\n",
       "      <th>DiPSC_serum_C2_TTTGTCATCACAGGCC-1</th>\n",
       "      <td>NaN</td>\n",
       "      <td>1.219125</td>\n",
       "      <td>IPS</td>\n",
       "      <td>NaN</td>\n",
       "    </tr>\n",
       "    <tr>\n",
       "      <th>DiPSC_serum_C2_TTTGTCATCCTTTACA-1</th>\n",
       "      <td>NaN</td>\n",
       "      <td>2.781941</td>\n",
       "      <td>IPS</td>\n",
       "      <td>NaN</td>\n",
       "    </tr>\n",
       "    <tr>\n",
       "      <th>DiPSC_serum_C2_TTTGTCATCTTACCGC-1</th>\n",
       "      <td>NaN</td>\n",
       "      <td>1.703772</td>\n",
       "      <td>IPS</td>\n",
       "      <td>NaN</td>\n",
       "    </tr>\n",
       "    <tr>\n",
       "      <th>DiPSC_serum_C2_TTTGTCATCTTCGGTC-1</th>\n",
       "      <td>NaN</td>\n",
       "      <td>2.510286</td>\n",
       "      <td>IPS</td>\n",
       "      <td>NaN</td>\n",
       "    </tr>\n",
       "  </tbody>\n",
       "</table>\n",
       "<p>175472 rows × 4 columns</p>\n",
       "</div>"
      ],
      "text/plain": [
       "                                   day  cell_growth_rate    cell_type  \\\n",
       "index                                                                   \n",
       "D0_Dox_C1_AAACCTGAGTATCTCG-1       0.0          0.844714          NaN   \n",
       "D0_Dox_C1_AAACCTGCAAGCGAGT-1       0.0          0.274122          NaN   \n",
       "D0_Dox_C1_AAACCTGGTCTCTTAT-1       0.0          0.978787          NaN   \n",
       "D0_Dox_C1_AAACCTGTCAACACTG-1       0.0          0.383064          NaN   \n",
       "D0_Dox_C1_AAACCTGTCGTTGCCT-1       0.0          0.875599          NaN   \n",
       "...                                ...               ...          ...   \n",
       "DiPSC_serum_C2_TTTGTCAGTTCCCGAG-1  NaN          0.434431  Trophoblast   \n",
       "DiPSC_serum_C2_TTTGTCATCACAGGCC-1  NaN          1.219125          IPS   \n",
       "DiPSC_serum_C2_TTTGTCATCCTTTACA-1  NaN          2.781941          IPS   \n",
       "DiPSC_serum_C2_TTTGTCATCTTACCGC-1  NaN          1.703772          IPS   \n",
       "DiPSC_serum_C2_TTTGTCATCTTCGGTC-1  NaN          2.510286          IPS   \n",
       "\n",
       "                                   alpha_bin  \n",
       "index                                         \n",
       "D0_Dox_C1_AAACCTGAGTATCTCG-1             1.0  \n",
       "D0_Dox_C1_AAACCTGCAAGCGAGT-1             1.0  \n",
       "D0_Dox_C1_AAACCTGGTCTCTTAT-1             1.0  \n",
       "D0_Dox_C1_AAACCTGTCAACACTG-1             1.0  \n",
       "D0_Dox_C1_AAACCTGTCGTTGCCT-1             1.0  \n",
       "...                                      ...  \n",
       "DiPSC_serum_C2_TTTGTCAGTTCCCGAG-1        NaN  \n",
       "DiPSC_serum_C2_TTTGTCATCACAGGCC-1        NaN  \n",
       "DiPSC_serum_C2_TTTGTCATCCTTTACA-1        NaN  \n",
       "DiPSC_serum_C2_TTTGTCATCTTACCGC-1        NaN  \n",
       "DiPSC_serum_C2_TTTGTCATCTTCGGTC-1        NaN  \n",
       "\n",
       "[175472 rows x 4 columns]"
      ]
     },
     "execution_count": 294,
     "metadata": {},
     "output_type": "execute_result"
    }
   ],
   "source": [
    "bdata.obs"
   ]
  },
  {
   "cell_type": "code",
   "execution_count": 295,
   "id": "3f85956e",
   "metadata": {},
   "outputs": [
    {
     "data": {
      "text/html": [
       "<div>\n",
       "<style scoped>\n",
       "    .dataframe tbody tr th:only-of-type {\n",
       "        vertical-align: middle;\n",
       "    }\n",
       "\n",
       "    .dataframe tbody tr th {\n",
       "        vertical-align: top;\n",
       "    }\n",
       "\n",
       "    .dataframe thead th {\n",
       "        text-align: right;\n",
       "    }\n",
       "</style>\n",
       "<table border=\"1\" class=\"dataframe\">\n",
       "  <thead>\n",
       "    <tr style=\"text-align: right;\">\n",
       "      <th></th>\n",
       "      <th>day</th>\n",
       "      <th>cell_growth_rate</th>\n",
       "      <th>cell_type</th>\n",
       "      <th>x</th>\n",
       "      <th>y</th>\n",
       "    </tr>\n",
       "    <tr>\n",
       "      <th>index</th>\n",
       "      <th></th>\n",
       "      <th></th>\n",
       "      <th></th>\n",
       "      <th></th>\n",
       "      <th></th>\n",
       "    </tr>\n",
       "  </thead>\n",
       "  <tbody>\n",
       "    <tr>\n",
       "      <th>D0_Dox_C1_AAACCTGAGTATCTCG-1</th>\n",
       "      <td>0.0</td>\n",
       "      <td>0.844714</td>\n",
       "      <td>NaN</td>\n",
       "      <td>494</td>\n",
       "      <td>101</td>\n",
       "    </tr>\n",
       "    <tr>\n",
       "      <th>D0_Dox_C1_AAACCTGCAAGCGAGT-1</th>\n",
       "      <td>0.0</td>\n",
       "      <td>0.274122</td>\n",
       "      <td>NaN</td>\n",
       "      <td>479</td>\n",
       "      <td>85</td>\n",
       "    </tr>\n",
       "    <tr>\n",
       "      <th>D0_Dox_C1_AAACCTGGTCTCTTAT-1</th>\n",
       "      <td>0.0</td>\n",
       "      <td>0.978787</td>\n",
       "      <td>NaN</td>\n",
       "      <td>486</td>\n",
       "      <td>91</td>\n",
       "    </tr>\n",
       "    <tr>\n",
       "      <th>D0_Dox_C1_AAACCTGTCAACACTG-1</th>\n",
       "      <td>0.0</td>\n",
       "      <td>0.383064</td>\n",
       "      <td>NaN</td>\n",
       "      <td>479</td>\n",
       "      <td>89</td>\n",
       "    </tr>\n",
       "    <tr>\n",
       "      <th>D0_Dox_C1_AAACCTGTCGTTGCCT-1</th>\n",
       "      <td>0.0</td>\n",
       "      <td>0.875599</td>\n",
       "      <td>NaN</td>\n",
       "      <td>495</td>\n",
       "      <td>94</td>\n",
       "    </tr>\n",
       "    <tr>\n",
       "      <th>...</th>\n",
       "      <td>...</td>\n",
       "      <td>...</td>\n",
       "      <td>...</td>\n",
       "      <td>...</td>\n",
       "      <td>...</td>\n",
       "    </tr>\n",
       "    <tr>\n",
       "      <th>DiPSC_serum_C2_TTTGTCAGTTCCCGAG-1</th>\n",
       "      <td>NaN</td>\n",
       "      <td>0.434431</td>\n",
       "      <td>Trophoblast</td>\n",
       "      <td>158</td>\n",
       "      <td>356</td>\n",
       "    </tr>\n",
       "    <tr>\n",
       "      <th>DiPSC_serum_C2_TTTGTCATCACAGGCC-1</th>\n",
       "      <td>NaN</td>\n",
       "      <td>1.219125</td>\n",
       "      <td>IPS</td>\n",
       "      <td>50</td>\n",
       "      <td>428</td>\n",
       "    </tr>\n",
       "    <tr>\n",
       "      <th>DiPSC_serum_C2_TTTGTCATCCTTTACA-1</th>\n",
       "      <td>NaN</td>\n",
       "      <td>2.781941</td>\n",
       "      <td>IPS</td>\n",
       "      <td>58</td>\n",
       "      <td>414</td>\n",
       "    </tr>\n",
       "    <tr>\n",
       "      <th>DiPSC_serum_C2_TTTGTCATCTTACCGC-1</th>\n",
       "      <td>NaN</td>\n",
       "      <td>1.703772</td>\n",
       "      <td>IPS</td>\n",
       "      <td>59</td>\n",
       "      <td>402</td>\n",
       "    </tr>\n",
       "    <tr>\n",
       "      <th>DiPSC_serum_C2_TTTGTCATCTTCGGTC-1</th>\n",
       "      <td>NaN</td>\n",
       "      <td>2.510286</td>\n",
       "      <td>IPS</td>\n",
       "      <td>77</td>\n",
       "      <td>419</td>\n",
       "    </tr>\n",
       "  </tbody>\n",
       "</table>\n",
       "<p>175472 rows × 5 columns</p>\n",
       "</div>"
      ],
      "text/plain": [
       "                                   day  cell_growth_rate    cell_type    x  \\\n",
       "index                                                                        \n",
       "D0_Dox_C1_AAACCTGAGTATCTCG-1       0.0          0.844714          NaN  494   \n",
       "D0_Dox_C1_AAACCTGCAAGCGAGT-1       0.0          0.274122          NaN  479   \n",
       "D0_Dox_C1_AAACCTGGTCTCTTAT-1       0.0          0.978787          NaN  486   \n",
       "D0_Dox_C1_AAACCTGTCAACACTG-1       0.0          0.383064          NaN  479   \n",
       "D0_Dox_C1_AAACCTGTCGTTGCCT-1       0.0          0.875599          NaN  495   \n",
       "...                                ...               ...          ...  ...   \n",
       "DiPSC_serum_C2_TTTGTCAGTTCCCGAG-1  NaN          0.434431  Trophoblast  158   \n",
       "DiPSC_serum_C2_TTTGTCATCACAGGCC-1  NaN          1.219125          IPS   50   \n",
       "DiPSC_serum_C2_TTTGTCATCCTTTACA-1  NaN          2.781941          IPS   58   \n",
       "DiPSC_serum_C2_TTTGTCATCTTACCGC-1  NaN          1.703772          IPS   59   \n",
       "DiPSC_serum_C2_TTTGTCATCTTCGGTC-1  NaN          2.510286          IPS   77   \n",
       "\n",
       "                                     y  \n",
       "index                                   \n",
       "D0_Dox_C1_AAACCTGAGTATCTCG-1       101  \n",
       "D0_Dox_C1_AAACCTGCAAGCGAGT-1        85  \n",
       "D0_Dox_C1_AAACCTGGTCTCTTAT-1        91  \n",
       "D0_Dox_C1_AAACCTGTCAACACTG-1        89  \n",
       "D0_Dox_C1_AAACCTGTCGTTGCCT-1        94  \n",
       "...                                ...  \n",
       "DiPSC_serum_C2_TTTGTCAGTTCCCGAG-1  356  \n",
       "DiPSC_serum_C2_TTTGTCATCACAGGCC-1  428  \n",
       "DiPSC_serum_C2_TTTGTCATCCTTTACA-1  414  \n",
       "DiPSC_serum_C2_TTTGTCATCTTACCGC-1  402  \n",
       "DiPSC_serum_C2_TTTGTCATCTTCGGTC-1  419  \n",
       "\n",
       "[175472 rows x 5 columns]"
      ]
     },
     "execution_count": 295,
     "metadata": {},
     "output_type": "execute_result"
    }
   ],
   "source": [
    "bdata.obb"
   ]
  },
  {
   "cell_type": "code",
   "execution_count": null,
   "id": "af1cfeb5",
   "metadata": {},
   "outputs": [],
   "source": []
  }
 ],
 "metadata": {
  "kernelspec": {
   "display_name": "moscot_with_cupti_kernel",
   "language": "python",
   "name": "moscot_with_cupti_kernel"
  },
  "language_info": {
   "codemirror_mode": {
    "name": "ipython",
    "version": 3
   },
   "file_extension": ".py",
   "mimetype": "text/x-python",
   "name": "python",
   "nbconvert_exporter": "python",
   "pygments_lexer": "ipython3",
   "version": "3.8.12"
  }
 },
 "nbformat": 4,
 "nbformat_minor": 5
}
