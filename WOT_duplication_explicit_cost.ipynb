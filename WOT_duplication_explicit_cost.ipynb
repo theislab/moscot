{
 "cells": [
  {
   "cell_type": "code",
   "execution_count": 1,
   "id": "b89c1e72-6f6f-4f5b-8dd0-484da3efac99",
   "metadata": {},
   "outputs": [],
   "source": [
    "%load_ext autoreload\n",
    "%autoreload 2"
   ]
  },
  {
   "cell_type": "code",
   "execution_count": 2,
   "id": "be413e08-48e4-4476-a8e7-329af6abc8dd",
   "metadata": {},
   "outputs": [],
   "source": [
    "import moscot\n",
    "from anndata import AnnData\n",
    "import numpy as np\n",
    "from moscot.backends.ott import FGWSolver, SinkhornSolver, GWSolver\n",
    "from moscot.solvers._tagged_arry import TaggedArray, Tag\n",
    "import matplotlib.pyplot as plt\n",
    "import jax.numpy as jnp\n",
    "from typing import *\n",
    "import pandas as pd\n",
    "import networkx as nx\n",
    "import jax.numpy as jnp\n",
    "from moscot.problems.time._lineage import TemporalProblem\n",
    "import os\n",
    "import wot\n",
    "from ott.geometry import pointcloud"
   ]
  },
  {
   "cell_type": "code",
   "execution_count": 3,
   "id": "f684d21b",
   "metadata": {},
   "outputs": [],
   "source": [
    "import scanpy as sc\n",
    "import matplotlib as mpl"
   ]
  },
  {
   "cell_type": "code",
   "execution_count": 4,
   "id": "9f96fb34-a7c2-4a99-a170-00bd0aeff24e",
   "metadata": {},
   "outputs": [],
   "source": [
    "import ott\n",
    "import ot\n",
    "from tqdm import tqdm"
   ]
  },
  {
   "cell_type": "code",
   "execution_count": 5,
   "id": "2dae61fc-f5f0-4e3a-8d81-2d8c11fc6896",
   "metadata": {},
   "outputs": [],
   "source": [
    "data_path = \"/home/icb/dominik.klein/data/wot\"\n",
    "\n",
    "\n",
    "VAR_GENE_DS_PATH = os.path.join(data_path, 'ExprMatrix.var.genes.h5ad')\n",
    "CELL_DAYS_PATH = os.path.join(data_path, 'cell_days.txt')\n",
    "SERUM_CELL_IDS_PATH = os.path.join(data_path, 'serum_cell_ids.txt')\n",
    "CELL_GROWTH_PATH = os.path.join(data_path, 'growth_gs_init.txt')\n",
    "FULL_DS_PATH = os.path.join(data_path, 'ExprMatrix.h5ad')\n",
    "CELL_DAYS_PATH = os.path.join(data_path, 'cell_days.txt')\n",
    "VAR_DS_PATH = os.path.join(data_path, 'ExprMatrix.var.genes.h5ad')\n",
    "TMAP_PATH = os.path.join(data_path, 'serum')\n",
    "CELL_SETS_PATH = os.path.join(data_path, 'major_cell_sets.gmt')\n",
    "COORDS_PATH = os.path.join(data_path, 'fle_coords.txt')"
   ]
  },
  {
   "cell_type": "code",
   "execution_count": 6,
   "id": "a87999d3-eff8-4f83-af8b-fe0bc5d46a3e",
   "metadata": {},
   "outputs": [
    {
     "data": {
      "text/plain": [
       "(175472, 1479)"
      ]
     },
     "execution_count": 6,
     "metadata": {},
     "output_type": "execute_result"
    }
   ],
   "source": [
    "adata = wot.io.read_dataset(VAR_GENE_DS_PATH, obs=[CELL_DAYS_PATH, CELL_GROWTH_PATH], obs_filter=SERUM_CELL_IDS_PATH)\n",
    "adata.shape"
   ]
  },
  {
   "cell_type": "code",
   "execution_count": 7,
   "id": "99251aef",
   "metadata": {},
   "outputs": [
    {
     "data": {
      "text/plain": [
       "AnnData object with n_obs × n_vars = 175472 × 1479\n",
       "    obs: 'day', 'cell_growth_rate'"
      ]
     },
     "execution_count": 7,
     "metadata": {},
     "output_type": "execute_result"
    }
   ],
   "source": [
    "adata"
   ]
  },
  {
   "cell_type": "code",
   "execution_count": 8,
   "id": "b52a3bb1",
   "metadata": {},
   "outputs": [],
   "source": [
    "sc.tl.pca(adata)"
   ]
  },
  {
   "cell_type": "code",
   "execution_count": 9,
   "id": "ec96c853",
   "metadata": {},
   "outputs": [],
   "source": [
    "CELL_SETS_PATH = os.path.join(data_path, 'major_cell_sets.gmt')\n",
    "cell_sets = wot.io.read_sets(CELL_SETS_PATH, as_dict=True)\n",
    "cell_to_type = {v[i]: k for k, v in cell_sets.items() for i in range(len(v))}\n",
    "df_cell_type = pd.DataFrame(cell_to_type.items(), columns=[\"0\", \"cell_type\"]).set_index(\"0\")\n",
    "adata.obs = pd.merge(adata.obs, df_cell_type, how=\"left\", left_index=True, right_index=True)"
   ]
  },
  {
   "cell_type": "code",
   "execution_count": 10,
   "id": "e6289e43",
   "metadata": {},
   "outputs": [
    {
     "data": {
      "text/plain": [
       "nan"
      ]
     },
     "execution_count": 10,
     "metadata": {},
     "output_type": "execute_result"
    }
   ],
   "source": [
    "days = list(adata.obs.day.unique())\n",
    "days.pop(-1) # remove nan"
   ]
  },
  {
   "cell_type": "code",
   "execution_count": 11,
   "id": "65fc0e41",
   "metadata": {},
   "outputs": [],
   "source": [
    "pc_cost_matrix = pointcloud.PointCloud(adata[adata.obs.day==days[0]].obsm[\"X_pca\"], adata[adata.obs.day==days[1]].obsm[\"X_pca\"]).cost_matrix"
   ]
  },
  {
   "cell_type": "code",
   "execution_count": 12,
   "id": "86539cfc",
   "metadata": {},
   "outputs": [],
   "source": [
    "ot_cost_matrix = ot.dist(adata[adata.obs.day==days[0]].obsm[\"X_pca\"], adata[adata.obs.day==days[1]].obsm[\"X_pca\"])"
   ]
  },
  {
   "cell_type": "code",
   "execution_count": 13,
   "id": "fd61a5a6",
   "metadata": {},
   "outputs": [
    {
     "name": "stderr",
     "output_type": "stream",
     "text": [
      "100%|██████████| 38/38 [00:05<00:00,  6.57it/s]\n"
     ]
    }
   ],
   "source": [
    "xs = {}\n",
    "for i in tqdm(range(len(days)-1)):\n",
    "    c = ot.dist(adata[adata.obs.day==days[i]].obsm[\"X_pca\"], adata[adata.obs.day==days[i+1]].obsm[\"X_pca\"])\n",
    "    #c /= np.median(np.array(c))\n",
    "    adata.uns[\"cost_matrix_{}\".format(i)] = c\n",
    "    xs[(days[i], days[i+1])] = {\"attr\": \"uns\", \"key\": \"cost_matrix_{}\".format(i), \"tag\": Tag.COST_MATRIX}"
   ]
  },
  {
   "cell_type": "markdown",
   "id": "4c4cdca5-58cd-4b43-9eb3-b108c53819c0",
   "metadata": {},
   "source": [
    "## Run WOT"
   ]
  },
  {
   "cell_type": "code",
   "execution_count": 14,
   "id": "ee648bdb-b8e7-47d2-9db5-1c24df4e27e1",
   "metadata": {},
   "outputs": [],
   "source": [
    "#ot_model = wot.ot.OTModel(adata,epsilon = 0.05, lambda1 = 1,lambda2 = 50) "
   ]
  },
  {
   "cell_type": "code",
   "execution_count": 15,
   "id": "638d31a6-11cd-4d04-a290-9f76b3f8906f",
   "metadata": {},
   "outputs": [],
   "source": [
    "#tmap_annotated = ot_model.compute_transport_map(11,11.5)"
   ]
  },
  {
   "cell_type": "markdown",
   "id": "6dc6d743-871f-4457-9e05-2ec13a7d5f9c",
   "metadata": {},
   "source": [
    "## Run Moscot"
   ]
  },
  {
   "cell_type": "code",
   "execution_count": 16,
   "id": "8f671fbc-ab52-44fc-9ebf-0f9c490f6dbc",
   "metadata": {},
   "outputs": [],
   "source": [
    "tp = TemporalProblem(adata, solver=SinkhornSolver(jit=False))"
   ]
  },
  {
   "cell_type": "code",
   "execution_count": 17,
   "id": "a228245a-970b-42fd-8a20-0882a3e5ad4d",
   "metadata": {},
   "outputs": [],
   "source": [
    "adata.obs.day = adata.obs.day.astype('category')"
   ]
  },
  {
   "cell_type": "code",
   "execution_count": 18,
   "id": "efa66a92-ae36-478a-a5b3-27508a91b6d8",
   "metadata": {},
   "outputs": [],
   "source": [
    "tp.prepare(\"day\", x=xs, a_marg={\"attr\": \"obs\", \"key\":\"cell_growth_rate\"})"
   ]
  },
  {
   "cell_type": "code",
   "execution_count": 19,
   "id": "5cf8ccf2-9dda-46d5-aa42-8b1baab57a46",
   "metadata": {},
   "outputs": [],
   "source": [
    "lambda_1 = 1.0\n",
    "#lambda_2 = 50.0\n",
    "eps = 5.0\n",
    "tp.solve(eps=eps, tau_a=lambda_1/(lambda_1+eps), tau_b=1)"
   ]
  },
  {
   "cell_type": "markdown",
   "id": "c5f56ab9",
   "metadata": {},
   "source": [
    "## Pull back mass"
   ]
  },
  {
   "cell_type": "code",
   "execution_count": 20,
   "id": "71394e42",
   "metadata": {},
   "outputs": [
    {
     "data": {
      "text/plain": [
       "Stromal        1239\n",
       "Neural          819\n",
       "NaN             534\n",
       "Epithelial      503\n",
       "IPS             412\n",
       "Trophoblast     292\n",
       "Name: cell_type, dtype: int64"
      ]
     },
     "execution_count": 20,
     "metadata": {},
     "output_type": "execute_result"
    }
   ],
   "source": [
    "adata[adata.obs.day==18.0].obs.cell_type.value_counts(dropna=False)"
   ]
  },
  {
   "cell_type": "code",
   "execution_count": 21,
   "id": "a5840d1e",
   "metadata": {},
   "outputs": [
    {
     "data": {
      "text/plain": [
       "View of AnnData object with n_obs × n_vars = 3799 × 1479\n",
       "    obs: 'day', 'cell_growth_rate', 'cell_type'\n",
       "    uns: 'pca', 'cost_matrix_0', 'cost_matrix_1', 'cost_matrix_2', 'cost_matrix_3', 'cost_matrix_4', 'cost_matrix_5', 'cost_matrix_6', 'cost_matrix_7', 'cost_matrix_8', 'cost_matrix_9', 'cost_matrix_10', 'cost_matrix_11', 'cost_matrix_12', 'cost_matrix_13', 'cost_matrix_14', 'cost_matrix_15', 'cost_matrix_16', 'cost_matrix_17', 'cost_matrix_18', 'cost_matrix_19', 'cost_matrix_20', 'cost_matrix_21', 'cost_matrix_22', 'cost_matrix_23', 'cost_matrix_24', 'cost_matrix_25', 'cost_matrix_26', 'cost_matrix_27', 'cost_matrix_28', 'cost_matrix_29', 'cost_matrix_30', 'cost_matrix_31', 'cost_matrix_32', 'cost_matrix_33', 'cost_matrix_34', 'cost_matrix_35', 'cost_matrix_36', 'cost_matrix_37'\n",
       "    obsm: 'X_pca'\n",
       "    varm: 'PCs'"
      ]
     },
     "execution_count": 21,
     "metadata": {},
     "output_type": "execute_result"
    }
   ],
   "source": [
    "adata[adata.obs.day==18.0]"
   ]
  },
  {
   "cell_type": "code",
   "execution_count": 22,
   "id": "e589a9e2",
   "metadata": {},
   "outputs": [],
   "source": [
    "#for i in range(38):\n",
    "#    print(adata.uns[f\"cost_matrix_{i}\"].shape)"
   ]
  },
  {
   "cell_type": "code",
   "execution_count": null,
   "id": "df0a7a5e",
   "metadata": {},
   "outputs": [],
   "source": [
    "result = tp.pull_back_composed(start=0, end=18, key_groups=\"cell_type\", groups=[\"IPS\"], return_all=True)"
   ]
  },
  {
   "cell_type": "markdown",
   "id": "ac0f1cfa-a53b-40c7-ad03-bac83d906521",
   "metadata": {},
   "source": [
    "## Compare"
   ]
  },
  {
   "cell_type": "code",
   "execution_count": null,
   "id": "9c1ef163",
   "metadata": {},
   "outputs": [],
   "source": [
    "COORD_DF = pd.read_csv(COORDS_PATH, sep='\\t', index_col=0)"
   ]
  },
  {
   "cell_type": "code",
   "execution_count": null,
   "id": "224b153f-2886-4ed5-8e23-94d11149d7af",
   "metadata": {},
   "outputs": [],
   "source": [
    "nbins = 500\n",
    "xrange = COORD_DF['x'].min(), COORD_DF['x'].max()\n",
    "yrange = COORD_DF['y'].min(), COORD_DF['y'].max()\n",
    "COORD_DF['x'] = np.floor(\n",
    "    np.interp(COORD_DF['x'], [xrange[0], xrange[1]], [0, nbins - 1])).astype(int)\n",
    "COORD_DF['y'] = np.floor(\n",
    "    np.interp(COORD_DF['y'], [yrange[0], yrange[1]], [0, nbins - 1])).astype(int)"
   ]
  },
  {
   "cell_type": "code",
   "execution_count": null,
   "id": "3e71c73d",
   "metadata": {},
   "outputs": [],
   "source": [
    "bdata = adata.copy()\n",
    "bdata.obs = bdata.obs.join(COORD_DF)"
   ]
  },
  {
   "cell_type": "code",
   "execution_count": null,
   "id": "92b004b5",
   "metadata": {},
   "outputs": [],
   "source": [
    "percentile_thresholds = [90, 80]\n",
    "alpha_bins = np.flip(np.linspace(0,1,len(percentile_thresholds)+1))\n",
    "\n",
    "def bin_alpha(x, thresholds, alpha_bins):\n",
    "    for i in range(len(thresholds)):\n",
    "        if x >= thresholds[i]:\n",
    "            return alpha_bins[-(i+1)]\n",
    "    \n",
    "days_reverse = days[::-1]\n",
    "bdata.obs[\"alpha_bin\"] = np.nan\n",
    "for i in tqdm(range(len(result))):\n",
    "    bdata_filtered = bdata[bdata.obs.day==days_reverse[i]]\n",
    "    assert len(bdata_filtered) == len(result[i])\n",
    "    thresholds = np.percentile(result[i], percentile_thresholds)+1e-8\n",
    "    bdata.obs.loc[bdata.obs.day==days_reverse[i], \"alpha_bin\"] = alpha_bins[np.digitize(result[i], thresholds)]\n",
    "    #bdata.obs.loc[bdata.obs.day==days_reverse[i], \"alpha_bin\"] = list(map(partial(bin_alpha, thresholds=thresholds, alpha_bins=alpha_bins), result[i]))"
   ]
  },
  {
   "cell_type": "code",
   "execution_count": null,
   "id": "507ed2e7",
   "metadata": {},
   "outputs": [],
   "source": [
    "bdata.obs.alpha_bin.value_counts()"
   ]
  },
  {
   "cell_type": "code",
   "execution_count": null,
   "id": "849a8173",
   "metadata": {},
   "outputs": [],
   "source": [
    "cm = plt.get_cmap('jet')\n",
    "cNorm  = mpl.colors.Normalize(vmin=0, vmax=len(result))\n",
    "scalarMap = mpl.cm.ScalarMappable(norm=cNorm, cmap=cm)\n",
    "\n",
    "fig = plt.figure(figsize=(13, 10))\n",
    "plt.title(f'Cell type: iPSC, medium: serum, $\\epsilon$={5}', fontsize=24)\n",
    "plt.plot(COORD_DF['x'], COORD_DF['y'], marker='.', color='grey', ls='',\n",
    "         markersize=0.3, alpha=0.07)\n",
    "for i in range(len(result)):\n",
    "    colorVal = scalarMap.to_rgba(i)\n",
    "    for b in alpha_bins:\n",
    "        colorVal = np.array(colorVal)\n",
    "        colorVal[3] = b\n",
    "        plt.plot(bdata.obs.loc[np.logical_and(bdata.obs[\"alpha_bin\"]==b, bdata.obs[\"day\"]==days[i]), \"x\"],\n",
    "                 bdata.obs.loc[np.logical_and(bdata.obs[\"alpha_bin\"]==b, bdata.obs[\"day\"]==days[i]), \"y\"],\n",
    "               marker='.', color=colorVal, ls='', markersize=1)\n",
    "plt.xlabel('FLE1', fontsize=24)\n",
    "plt.ylabel('FLE2', fontsize=24)\n",
    "ax, _ = mpl.colorbar.make_axes(plt.gca(), shrink=1)\n",
    "cbar = mpl.colorbar.ColorbarBase(ax, cmap=cm,\n",
    "                       norm=mpl.colors.Normalize(vmin=0, vmax=18))\n",
    "plt.show()"
   ]
  },
  {
   "cell_type": "code",
   "execution_count": null,
   "id": "af1cfeb5",
   "metadata": {},
   "outputs": [],
   "source": []
  }
 ],
 "metadata": {
  "kernelspec": {
   "display_name": "moscot_with_cupti_kernel",
   "language": "python",
   "name": "moscot_with_cupti_kernel"
  },
  "language_info": {
   "codemirror_mode": {
    "name": "ipython",
    "version": 3
   },
   "file_extension": ".py",
   "mimetype": "text/x-python",
   "name": "python",
   "nbconvert_exporter": "python",
   "pygments_lexer": "ipython3",
   "version": "3.8.12"
  }
 },
 "nbformat": 4,
 "nbformat_minor": 5
}
