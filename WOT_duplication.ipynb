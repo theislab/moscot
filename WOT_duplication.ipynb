{
 "cells": [
  {
   "cell_type": "code",
   "execution_count": 1,
   "id": "b89c1e72-6f6f-4f5b-8dd0-484da3efac99",
   "metadata": {},
   "outputs": [],
   "source": [
    "%load_ext autoreload\n",
    "%autoreload 2"
   ]
  },
  {
   "cell_type": "code",
   "execution_count": 8,
   "id": "be413e08-48e4-4476-a8e7-329af6abc8dd",
   "metadata": {},
   "outputs": [],
   "source": [
    "import moscot\n",
    "from anndata import AnnData\n",
    "import numpy as np\n",
    "from moscot.backends.ott import FGWSolver, SinkhornSolver, GWSolver, LRSinkhornSolver\n",
    "from moscot.solvers._data import TaggedArray, Tag\n",
    "import matplotlib.pyplot as plt\n",
    "import jax.numpy as jnp\n",
    "from typing import *\n",
    "import pandas as pd\n",
    "import networkx as nx\n",
    "import jax.numpy as jnp\n",
    "from moscot.problems.time._lineage import TemporalProblem\n",
    "import os\n",
    "import wot"
   ]
  },
  {
   "cell_type": "code",
   "execution_count": 9,
   "id": "2dae61fc-f5f0-4e3a-8d81-2d8c11fc6896",
   "metadata": {},
   "outputs": [],
   "source": [
    "data_path = \"/Users/DominikKlein/Documents/PhD/data/wot\"\n",
    "\n",
    "\n",
    "VAR_GENE_DS_PATH = os.path.join(data_path, 'ExprMatrix.var.genes.h5ad')\n",
    "CELL_DAYS_PATH = os.path.join(data_path, 'cell_days.txt')\n",
    "SERUM_CELL_IDS_PATH = os.path.join(data_path, 'serum_cell_ids.txt')\n",
    "CELL_GROWTH_PATH = os.path.join(data_path, 'growth_gs_init.txt')"
   ]
  },
  {
   "cell_type": "code",
   "execution_count": 10,
   "id": "a87999d3-eff8-4f83-af8b-fe0bc5d46a3e",
   "metadata": {},
   "outputs": [
    {
     "data": {
      "text/plain": [
       "(175472, 1479)"
      ]
     },
     "execution_count": 10,
     "metadata": {},
     "output_type": "execute_result"
    }
   ],
   "source": [
    "adata = wot.io.read_dataset(VAR_GENE_DS_PATH, obs=[CELL_DAYS_PATH, CELL_GROWTH_PATH], obs_filter=SERUM_CELL_IDS_PATH)\n",
    "adata.shape"
   ]
  },
  {
   "cell_type": "code",
   "execution_count": null,
   "id": "6a59aff4-843b-4441-8b86-6aebd97c9549",
   "metadata": {},
   "outputs": [],
   "source": [
    "adata.X = adata.X.todense()"
   ]
  },
  {
   "cell_type": "code",
   "execution_count": 11,
   "id": "ee648bdb-b8e7-47d2-9db5-1c24df4e27e1",
   "metadata": {},
   "outputs": [],
   "source": [
    "ot_model = wot.ot.OTModel(adata,epsilon = 0.05, lambda1 = 1,lambda2 = 50) "
   ]
  },
  {
   "cell_type": "code",
   "execution_count": 12,
   "id": "638d31a6-11cd-4d04-a290-9f76b3f8906f",
   "metadata": {},
   "outputs": [],
   "source": [
    "tmap_annotated = ot_model.compute_transport_map(7,7.5)"
   ]
  },
  {
   "cell_type": "code",
   "execution_count": 13,
   "id": "3d92bc89-a1fd-4013-ada3-0e28eef444a3",
   "metadata": {},
   "outputs": [
    {
     "data": {
      "text/html": [
       "<div>\n",
       "<style scoped>\n",
       "    .dataframe tbody tr th:only-of-type {\n",
       "        vertical-align: middle;\n",
       "    }\n",
       "\n",
       "    .dataframe tbody tr th {\n",
       "        vertical-align: top;\n",
       "    }\n",
       "\n",
       "    .dataframe thead th {\n",
       "        text-align: right;\n",
       "    }\n",
       "</style>\n",
       "<table border=\"1\" class=\"dataframe\">\n",
       "  <thead>\n",
       "    <tr style=\"text-align: right;\">\n",
       "      <th></th>\n",
       "      <th>g0</th>\n",
       "      <th>g1</th>\n",
       "    </tr>\n",
       "    <tr>\n",
       "      <th>index</th>\n",
       "      <th></th>\n",
       "      <th></th>\n",
       "    </tr>\n",
       "  </thead>\n",
       "  <tbody>\n",
       "    <tr>\n",
       "      <th>D7_Dox_C1_AAACCTGAGGAATCGC-1</th>\n",
       "      <td>1.268895</td>\n",
       "      <td>0.977585</td>\n",
       "    </tr>\n",
       "    <tr>\n",
       "      <th>D7_Dox_C1_AAACCTGAGTAGATGT-1</th>\n",
       "      <td>2.978660</td>\n",
       "      <td>2.510212</td>\n",
       "    </tr>\n",
       "    <tr>\n",
       "      <th>D7_Dox_C1_AAACCTGCAACCGCCA-1</th>\n",
       "      <td>1.871918</td>\n",
       "      <td>1.789105</td>\n",
       "    </tr>\n",
       "    <tr>\n",
       "      <th>D7_Dox_C1_AAACCTGCACTATCTT-1</th>\n",
       "      <td>3.072989</td>\n",
       "      <td>2.790364</td>\n",
       "    </tr>\n",
       "    <tr>\n",
       "      <th>D7_Dox_C1_AAACCTGCAGCCTGTG-1</th>\n",
       "      <td>1.026225</td>\n",
       "      <td>0.918578</td>\n",
       "    </tr>\n",
       "    <tr>\n",
       "      <th>...</th>\n",
       "      <td>...</td>\n",
       "      <td>...</td>\n",
       "    </tr>\n",
       "    <tr>\n",
       "      <th>D7_Dox_C2_TTTGTCAAGTTAGCGG-1</th>\n",
       "      <td>0.338531</td>\n",
       "      <td>0.370486</td>\n",
       "    </tr>\n",
       "    <tr>\n",
       "      <th>D7_Dox_C2_TTTGTCACAGTGGAGT-1</th>\n",
       "      <td>0.582584</td>\n",
       "      <td>0.609163</td>\n",
       "    </tr>\n",
       "    <tr>\n",
       "      <th>D7_Dox_C2_TTTGTCAGTAATTGGA-1</th>\n",
       "      <td>0.254926</td>\n",
       "      <td>0.296703</td>\n",
       "    </tr>\n",
       "    <tr>\n",
       "      <th>D7_Dox_C2_TTTGTCATCGTGACAT-1</th>\n",
       "      <td>0.594715</td>\n",
       "      <td>0.876373</td>\n",
       "    </tr>\n",
       "    <tr>\n",
       "      <th>D7_Dox_C2_TTTGTCATCTCCCTGA-1</th>\n",
       "      <td>1.198471</td>\n",
       "      <td>1.539569</td>\n",
       "    </tr>\n",
       "  </tbody>\n",
       "</table>\n",
       "<p>6507 rows × 2 columns</p>\n",
       "</div>"
      ],
      "text/plain": [
       "                                    g0        g1\n",
       "index                                           \n",
       "D7_Dox_C1_AAACCTGAGGAATCGC-1  1.268895  0.977585\n",
       "D7_Dox_C1_AAACCTGAGTAGATGT-1  2.978660  2.510212\n",
       "D7_Dox_C1_AAACCTGCAACCGCCA-1  1.871918  1.789105\n",
       "D7_Dox_C1_AAACCTGCACTATCTT-1  3.072989  2.790364\n",
       "D7_Dox_C1_AAACCTGCAGCCTGTG-1  1.026225  0.918578\n",
       "...                                ...       ...\n",
       "D7_Dox_C2_TTTGTCAAGTTAGCGG-1  0.338531  0.370486\n",
       "D7_Dox_C2_TTTGTCACAGTGGAGT-1  0.582584  0.609163\n",
       "D7_Dox_C2_TTTGTCAGTAATTGGA-1  0.254926  0.296703\n",
       "D7_Dox_C2_TTTGTCATCGTGACAT-1  0.594715  0.876373\n",
       "D7_Dox_C2_TTTGTCATCTCCCTGA-1  1.198471  1.539569\n",
       "\n",
       "[6507 rows x 2 columns]"
      ]
     },
     "execution_count": 13,
     "metadata": {},
     "output_type": "execute_result"
    }
   ],
   "source": [
    "tmap_annotated.obs"
   ]
  },
  {
   "cell_type": "code",
   "execution_count": 27,
   "id": "8f671fbc-ab52-44fc-9ebf-0f9c490f6dbc",
   "metadata": {},
   "outputs": [],
   "source": [
    "tp = TemporalProblem(adata, solver=SinkhornSolver(jit=False))"
   ]
  },
  {
   "cell_type": "code",
   "execution_count": 28,
   "id": "a228245a-970b-42fd-8a20-0882a3e5ad4d",
   "metadata": {},
   "outputs": [],
   "source": [
    "adata.obs.day = adata.obs.day.astype('category')"
   ]
  },
  {
   "cell_type": "code",
   "execution_count": 29,
   "id": "efa66a92-ae36-478a-a5b3-27508a91b6d8",
   "metadata": {},
   "outputs": [],
   "source": [
    "tp.prepare(key=\"day\", subset=[7, 7.5])"
   ]
  },
  {
   "cell_type": "code",
   "execution_count": null,
   "id": "5cf8ccf2-9dda-46d5-aa42-8b1baab57a46",
   "metadata": {},
   "outputs": [
    {
     "name": "stderr",
     "output_type": "stream",
     "text": [
      "WARNING:absl:No GPU/TPU found, falling back to CPU. (Set TF_CPP_MIN_LOG_LEVEL=0 and rerun for more info.)\n"
     ]
    }
   ],
   "source": [
    "tp.solve(tau_a=0.5, tau_b=0.5)"
   ]
  },
  {
   "cell_type": "code",
   "execution_count": 26,
   "id": "00e92604-e989-4f20-91b8-b752d8eee510",
   "metadata": {},
   "outputs": [],
   "source": []
  },
  {
   "cell_type": "code",
   "execution_count": null,
   "id": "cf050de4-5d03-4692-bb50-d864ba4d6a35",
   "metadata": {},
   "outputs": [],
   "source": [
    "ot_model.tmap.shape, tp."
   ]
  }
 ],
 "metadata": {
  "kernelspec": {
   "display_name": "moscot_kernel",
   "language": "python",
   "name": "moscot_kernel"
  },
  "language_info": {
   "codemirror_mode": {
    "name": "ipython",
    "version": 3
   },
   "file_extension": ".py",
   "mimetype": "text/x-python",
   "name": "python",
   "nbconvert_exporter": "python",
   "pygments_lexer": "ipython3",
   "version": "3.8.12"
  }
 },
 "nbformat": 4,
 "nbformat_minor": 5
}
