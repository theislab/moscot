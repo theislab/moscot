{
 "cells": [
  {
   "cell_type": "code",
   "execution_count": 1,
   "id": "b89c1e72-6f6f-4f5b-8dd0-484da3efac99",
   "metadata": {},
   "outputs": [],
   "source": [
    "%load_ext autoreload\n",
    "%autoreload 2"
   ]
  },
  {
   "cell_type": "code",
   "execution_count": 2,
   "id": "be413e08-48e4-4476-a8e7-329af6abc8dd",
   "metadata": {},
   "outputs": [],
   "source": [
    "import moscot\n",
    "from anndata import AnnData\n",
    "import numpy as np\n",
    "from moscot.backends.ott import FGWSolver, SinkhornSolver, GWSolver, LRSinkhornSolver\n",
    "from moscot.solvers._data import TaggedArray, Tag\n",
    "import matplotlib.pyplot as plt\n",
    "import jax.numpy as jnp\n",
    "from typing import *\n",
    "import pandas as pd\n",
    "import networkx as nx\n",
    "import jax.numpy as jnp\n",
    "from moscot.problems.time._lineage import TemporalProblem\n",
    "import os\n",
    "import wot"
   ]
  },
  {
   "cell_type": "code",
   "execution_count": 3,
   "id": "9f96fb34-a7c2-4a99-a170-00bd0aeff24e",
   "metadata": {},
   "outputs": [],
   "source": [
    "import ott\n",
    "import ot"
   ]
  },
  {
   "cell_type": "code",
   "execution_count": 4,
   "id": "2dae61fc-f5f0-4e3a-8d81-2d8c11fc6896",
   "metadata": {},
   "outputs": [],
   "source": [
    "data_path = \"/home/icb/dominik.klein/data/wot\"\n",
    "\n",
    "\n",
    "VAR_GENE_DS_PATH = os.path.join(data_path, 'ExprMatrix.var.genes.h5ad')\n",
    "CELL_DAYS_PATH = os.path.join(data_path, 'cell_days.txt')\n",
    "SERUM_CELL_IDS_PATH = os.path.join(data_path, 'serum_cell_ids.txt')\n",
    "CELL_GROWTH_PATH = os.path.join(data_path, 'growth_gs_init.txt')"
   ]
  },
  {
   "cell_type": "code",
   "execution_count": 5,
   "id": "a87999d3-eff8-4f83-af8b-fe0bc5d46a3e",
   "metadata": {},
   "outputs": [
    {
     "data": {
      "text/plain": [
       "(175472, 1479)"
      ]
     },
     "execution_count": 5,
     "metadata": {},
     "output_type": "execute_result"
    }
   ],
   "source": [
    "adata = wot.io.read_dataset(VAR_GENE_DS_PATH, obs=[CELL_DAYS_PATH, CELL_GROWTH_PATH], obs_filter=SERUM_CELL_IDS_PATH)\n",
    "adata.shape"
   ]
  },
  {
   "cell_type": "code",
   "execution_count": 6,
   "id": "e6289e43",
   "metadata": {},
   "outputs": [
    {
     "data": {
      "text/plain": [
       "nan"
      ]
     },
     "execution_count": 6,
     "metadata": {},
     "output_type": "execute_result"
    }
   ],
   "source": [
    "days = list(adata.obs.day.unique())\n",
    "days.pop(-1) # remove nan"
   ]
  },
  {
   "cell_type": "code",
   "execution_count": 7,
   "id": "fd61a5a6",
   "metadata": {},
   "outputs": [
    {
     "name": "stdout",
     "output_type": "stream",
     "text": [
      "0\n",
      "1\n",
      "2\n",
      "3\n",
      "4\n",
      "5\n",
      "6\n",
      "7\n",
      "8\n",
      "9\n",
      "10\n",
      "11\n",
      "12\n",
      "13\n",
      "14\n",
      "15\n",
      "16\n",
      "17\n",
      "18\n",
      "19\n",
      "20\n",
      "21\n",
      "22\n",
      "23\n",
      "24\n",
      "25\n",
      "26\n",
      "27\n",
      "28\n",
      "29\n",
      "30\n",
      "31\n",
      "32\n",
      "33\n",
      "34\n",
      "35\n",
      "36\n",
      "37\n"
     ]
    }
   ],
   "source": [
    "xs = []\n",
    "for i in range(len(days)-1):\n",
    "    print(i)\n",
    "    c = ot.dist(adata[adata.obs.day==days[i]].X.todense(), adata[adata.obs.day==days[i+1]].X.todense())\n",
    "    c /= np.median(np.array(c))\n",
    "    adata.uns[\"cost_matrix_{}\".format(i)] = c\n",
    "    xs.append({\"attr\": \"uns\", \"key\": \"cost_matrix_{}\".format(i), \"tag\": Tag.COST_MATRIX})"
   ]
  },
  {
   "cell_type": "code",
   "execution_count": 8,
   "id": "73fd87d9",
   "metadata": {},
   "outputs": [
    {
     "data": {
      "text/plain": [
       "3"
      ]
     },
     "execution_count": 8,
     "metadata": {},
     "output_type": "execute_result"
    }
   ],
   "source": [
    "xs_reduced = xs[:3]\n",
    "len(xs_reduced)"
   ]
  },
  {
   "cell_type": "markdown",
   "id": "4c4cdca5-58cd-4b43-9eb3-b108c53819c0",
   "metadata": {},
   "source": [
    "## Run WOT"
   ]
  },
  {
   "cell_type": "code",
   "execution_count": 11,
   "id": "ee648bdb-b8e7-47d2-9db5-1c24df4e27e1",
   "metadata": {},
   "outputs": [],
   "source": [
    "ot_model = wot.ot.OTModel(adata,epsilon = 0.05, lambda1 = 1,lambda2 = 50) "
   ]
  },
  {
   "cell_type": "code",
   "execution_count": 12,
   "id": "638d31a6-11cd-4d04-a290-9f76b3f8906f",
   "metadata": {},
   "outputs": [],
   "source": [
    "tmap_annotated = ot_model.compute_transport_map(11,11.5)"
   ]
  },
  {
   "cell_type": "markdown",
   "id": "6dc6d743-871f-4457-9e05-2ec13a7d5f9c",
   "metadata": {},
   "source": [
    "## Run Moscot"
   ]
  },
  {
   "cell_type": "code",
   "execution_count": 74,
   "id": "8f671fbc-ab52-44fc-9ebf-0f9c490f6dbc",
   "metadata": {},
   "outputs": [],
   "source": [
    "tp = TemporalProblem(adata, solver=SinkhornSolver(jit=False))"
   ]
  },
  {
   "cell_type": "code",
   "execution_count": 75,
   "id": "a228245a-970b-42fd-8a20-0882a3e5ad4d",
   "metadata": {},
   "outputs": [],
   "source": [
    "adata.obs.day = adata.obs.day.astype('category')"
   ]
  },
  {
   "cell_type": "code",
   "execution_count": 77,
   "id": "efa66a92-ae36-478a-a5b3-27508a91b6d8",
   "metadata": {},
   "outputs": [],
   "source": [
    "tp.prepare(\"day\", subset=[0.0, 0.5, 1.0], x=xs, a_marg={\"attr\": \"obs\", \"key\":\"cell_growth_rate\"}, n_growth_rates_estimates=3)"
   ]
  },
  {
   "cell_type": "code",
   "execution_count": 78,
   "id": "5cf8ccf2-9dda-46d5-aa42-8b1baab57a46",
   "metadata": {},
   "outputs": [
    {
     "name": "stderr",
     "output_type": "stream",
     "text": [
      "2022-02-01 17:07:19.661069: W external/org_tensorflow/tensorflow/stream_executor/gpu/asm_compiler.cc:111] *** WARNING *** You are using ptxas 11.0.221, which is older than 11.1. ptxas before 11.1 is known to miscompile XLA code, leading to incorrect results or invalid-address errors.\n",
      "\n",
      "You may not need to update to CUDA 11.1; cherry-picking the ptxas binary is often sufficient.\n",
      "2022-02-01 17:07:20.338034: W external/org_tensorflow/tensorflow/stream_executor/gpu/asm_compiler.cc:111] *** WARNING *** You are using ptxas 11.0.221, which is older than 11.1. ptxas before 11.1 is known to miscompile XLA code, leading to incorrect results or invalid-address errors.\n",
      "\n",
      "You may not need to update to CUDA 11.1; cherry-picking the ptxas binary is often sufficient.\n",
      "2022-02-01 17:07:20.338598: W external/org_tensorflow/tensorflow/stream_executor/gpu/asm_compiler.cc:111] *** WARNING *** You are using ptxas 11.0.221, which is older than 11.1. ptxas before 11.1 is known to miscompile XLA code, leading to incorrect results or invalid-address errors.\n",
      "\n",
      "You may not need to update to CUDA 11.1; cherry-picking the ptxas binary is often sufficient.\n",
      "2022-02-01 17:07:20.568969: W external/org_tensorflow/tensorflow/stream_executor/gpu/asm_compiler.cc:111] *** WARNING *** You are using ptxas 11.0.221, which is older than 11.1. ptxas before 11.1 is known to miscompile XLA code, leading to incorrect results or invalid-address errors.\n",
      "\n",
      "You may not need to update to CUDA 11.1; cherry-picking the ptxas binary is often sufficient.\n",
      "2022-02-01 17:07:20.693076: W external/org_tensorflow/tensorflow/stream_executor/gpu/asm_compiler.cc:111] *** WARNING *** You are using ptxas 11.0.221, which is older than 11.1. ptxas before 11.1 is known to miscompile XLA code, leading to incorrect results or invalid-address errors.\n",
      "\n",
      "You may not need to update to CUDA 11.1; cherry-picking the ptxas binary is often sufficient.\n",
      "2022-02-01 17:07:20.732604: W external/org_tensorflow/tensorflow/stream_executor/gpu/asm_compiler.cc:111] *** WARNING *** You are using ptxas 11.0.221, which is older than 11.1. ptxas before 11.1 is known to miscompile XLA code, leading to incorrect results or invalid-address errors.\n",
      "\n",
      "You may not need to update to CUDA 11.1; cherry-picking the ptxas binary is often sufficient.\n",
      "2022-02-01 17:07:21.013801: W external/org_tensorflow/tensorflow/stream_executor/gpu/asm_compiler.cc:111] *** WARNING *** You are using ptxas 11.0.221, which is older than 11.1. ptxas before 11.1 is known to miscompile XLA code, leading to incorrect results or invalid-address errors.\n",
      "\n",
      "You may not need to update to CUDA 11.1; cherry-picking the ptxas binary is often sufficient.\n",
      "2022-02-01 17:07:21.824677: W external/org_tensorflow/tensorflow/stream_executor/gpu/asm_compiler.cc:111] *** WARNING *** You are using ptxas 11.0.221, which is older than 11.1. ptxas before 11.1 is known to miscompile XLA code, leading to incorrect results or invalid-address errors.\n",
      "\n",
      "You may not need to update to CUDA 11.1; cherry-picking the ptxas binary is often sufficient.\n",
      "2022-02-01 17:07:21.899709: W external/org_tensorflow/tensorflow/stream_executor/gpu/asm_compiler.cc:111] *** WARNING *** You are using ptxas 11.0.221, which is older than 11.1. ptxas before 11.1 is known to miscompile XLA code, leading to incorrect results or invalid-address errors.\n",
      "\n",
      "You may not need to update to CUDA 11.1; cherry-picking the ptxas binary is often sufficient.\n",
      "2022-02-01 17:07:21.951667: W external/org_tensorflow/tensorflow/stream_executor/gpu/asm_compiler.cc:111] *** WARNING *** You are using ptxas 11.0.221, which is older than 11.1. ptxas before 11.1 is known to miscompile XLA code, leading to incorrect results or invalid-address errors.\n",
      "\n",
      "You may not need to update to CUDA 11.1; cherry-picking the ptxas binary is often sufficient.\n",
      "2022-02-01 17:07:22.110909: W external/org_tensorflow/tensorflow/stream_executor/gpu/asm_compiler.cc:111] *** WARNING *** You are using ptxas 11.0.221, which is older than 11.1. ptxas before 11.1 is known to miscompile XLA code, leading to incorrect results or invalid-address errors.\n",
      "\n",
      "You may not need to update to CUDA 11.1; cherry-picking the ptxas binary is often sufficient.\n"
     ]
    }
   ],
   "source": [
    "lambda_1 = 1.0\n",
    "lambda_2 = 50.0\n",
    "eps = 5.0\n",
    "tp.solve(eps=eps, tau_a=lambda_1/(lambda_1+eps), tau_b=lambda_2/(lambda_2+eps))"
   ]
  },
  {
   "cell_type": "code",
   "execution_count": 61,
   "id": "93b39b42",
   "metadata": {},
   "outputs": [
    {
     "data": {
      "text/plain": [
       "index\n",
       "D0_Dox_C1_AAACCTGAGTATCTCG-1         False\n",
       "D0_Dox_C1_AAACCTGCAAGCGAGT-1         False\n",
       "D0_Dox_C1_AAACCTGGTCTCTTAT-1         False\n",
       "D0_Dox_C1_AAACCTGTCAACACTG-1         False\n",
       "D0_Dox_C1_AAACCTGTCGTTGCCT-1         False\n",
       "                                     ...  \n",
       "DiPSC_serum_C2_TTTGTCAGTTCCCGAG-1     True\n",
       "DiPSC_serum_C2_TTTGTCATCACAGGCC-1     True\n",
       "DiPSC_serum_C2_TTTGTCATCCTTTACA-1     True\n",
       "DiPSC_serum_C2_TTTGTCATCTTACCGC-1     True\n",
       "DiPSC_serum_C2_TTTGTCATCTTCGGTC-1     True\n",
       "Name: g_g1, Length: 175472, dtype: bool"
      ]
     },
     "execution_count": 61,
     "metadata": {},
     "output_type": "execute_result"
    }
   ],
   "source": [
    "tp._a_marg_container[\"g_g1\"].isnull()"
   ]
  },
  {
   "cell_type": "code",
   "execution_count": 79,
   "id": "e89b8a8a",
   "metadata": {},
   "outputs": [
    {
     "data": {
      "text/plain": [
       "[0.0, 0.5]\n",
       "Categories (39, float64): [0.0, 0.5, 1.0, 1.5, ..., 16.5, 17.0, 17.5, 18.0]"
      ]
     },
     "execution_count": 79,
     "metadata": {},
     "output_type": "execute_result"
    }
   ],
   "source": [
    "tp._a_marg_container.loc[~tp._a_marg_container[\"g_g1\"].isnull(), :].day.unique()"
   ]
  },
  {
   "cell_type": "code",
   "execution_count": 81,
   "id": "61d21681",
   "metadata": {},
   "outputs": [
    {
     "data": {
      "text/plain": [
       "index\n",
       "D0_Dox_C1_AAACCTGAGTATCTCG-1         8.663000e-07\n",
       "D0_Dox_C1_AAACCTGCAAGCGAGT-1         9.204264e-07\n",
       "D0_Dox_C1_AAACCTGGTCTCTTAT-1         9.030643e-07\n",
       "D0_Dox_C1_AAACCTGTCAACACTG-1         9.134822e-07\n",
       "D0_Dox_C1_AAACCTGTCGTTGCCT-1         8.971998e-07\n",
       "                                         ...     \n",
       "DiPSC_serum_C2_TTTGTCAGTTCCCGAG-1             NaN\n",
       "DiPSC_serum_C2_TTTGTCATCACAGGCC-1             NaN\n",
       "DiPSC_serum_C2_TTTGTCATCCTTTACA-1             NaN\n",
       "DiPSC_serum_C2_TTTGTCATCTTACCGC-1             NaN\n",
       "DiPSC_serum_C2_TTTGTCATCTTCGGTC-1             NaN\n",
       "Name: g_g1, Length: 175472, dtype: float64"
      ]
     },
     "execution_count": 81,
     "metadata": {},
     "output_type": "execute_result"
    }
   ],
   "source": [
    "tp.adata.obs[\"g_g1\"]"
   ]
  },
  {
   "cell_type": "code",
   "execution_count": 80,
   "id": "5e351ecd",
   "metadata": {},
   "outputs": [
    {
     "data": {
      "text/plain": [
       "[0.0, 0.5]\n",
       "Categories (2, float64): [0.0, 0.5]"
      ]
     },
     "execution_count": 80,
     "metadata": {},
     "output_type": "execute_result"
    }
   ],
   "source": [
    "tp.adata[~tp.adata.obs[\"g_g3\"].isnull()].obs.day.unique()"
   ]
  },
  {
   "cell_type": "markdown",
   "id": "ac0f1cfa-a53b-40c7-ad03-bac83d906521",
   "metadata": {},
   "source": [
    "## Compare"
   ]
  },
  {
   "cell_type": "code",
   "execution_count": 84,
   "id": "224b153f-2886-4ed5-8e23-94d11149d7af",
   "metadata": {},
   "outputs": [],
   "source": [
    "tmap_moscot = tp.transport_matrix[(11.0, 11.5)]"
   ]
  }
 ],
 "metadata": {
  "kernelspec": {
   "display_name": "moscot_with_cupti_kernel",
   "language": "python",
   "name": "moscot_with_cupti_kernel"
  },
  "language_info": {
   "codemirror_mode": {
    "name": "ipython",
    "version": 3
   },
   "file_extension": ".py",
   "mimetype": "text/x-python",
   "name": "python",
   "nbconvert_exporter": "python",
   "pygments_lexer": "ipython3",
   "version": "3.8.12"
  }
 },
 "nbformat": 4,
 "nbformat_minor": 5
}
