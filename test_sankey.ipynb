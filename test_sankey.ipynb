{
 "cells": [
  {
   "cell_type": "code",
   "execution_count": 9,
   "id": "15e6e0e1",
   "metadata": {},
   "outputs": [],
   "source": [
    "from copy import copy\n",
    "from types import MappingProxyType\n",
    "from typing import (\n",
    "    Any,\n",
    "    List,\n",
    "    Tuple,\n",
    "    Union,\n",
    "    Mapping,\n",
    "    Callable,\n",
    "    Optional,\n",
    "    Sequence,\n",
    "    TYPE_CHECKING,\n",
    ")\n",
    "from inspect import signature\n",
    "from pathlib import Path\n",
    "from functools import wraps\n",
    "from mpl_toolkits.axes_grid1 import make_axes_locatable\n",
    "import os\n",
    "import matplotlib.pyplot as plt\n",
    "from collections import defaultdict\n",
    "import numpy as np\n",
    "import pandas as pd\n",
    "from scanpy import logging as logg, settings\n",
    "from anndata import AnnData\n",
    "from matplotlib.figure import Figure\n",
    "import seaborn as sns"
   ]
  },
  {
   "cell_type": "code",
   "execution_count": 43,
   "id": "46958279",
   "metadata": {},
   "outputs": [],
   "source": [
    "\n",
    "\n",
    "\n",
    "\n",
    "\n",
    "class PySankeyException(Exception):\n",
    "    pass\n",
    "\n",
    "\n",
    "class NullsInFrame(PySankeyException):\n",
    "    pass\n",
    "\n",
    "\n",
    "class LabelMismatch(PySankeyException):\n",
    "    pass\n",
    "\n",
    "\n",
    "def check_data_matches_labels(labels, data, side):\n",
    "    if len(labels > 0):\n",
    "        if isinstance(data, list):\n",
    "            data = set(data)\n",
    "        if isinstance(data, pd.Series):\n",
    "            data = set(data.unique().tolist())\n",
    "        if isinstance(labels, list):\n",
    "            labels = set(labels)\n",
    "        if labels != data:\n",
    "            msg = \"\\n\"\n",
    "            if len(labels) <= 20:\n",
    "                msg = \"Labels: \" + \",\".join(labels) + \"\\n\"\n",
    "            if len(data) < 20:\n",
    "                msg += \"Data: \" + \",\".join(data)\n",
    "            raise LabelMismatch('{0} labels and data do not match.{1}'.format(side, msg))\n",
    "\n",
    "\n",
    "def sankey(left, right, leftWeight=None, rightWeight=None, colorDict=None,\n",
    "           leftLabels=None, rightLabels=None, aspect=4, rightColor=False,\n",
    "           fontsize=14, figureName=None, closePlot=False):\n",
    "    '''\n",
    "    Make Sankey Diagram showing flow from left-->right\n",
    "    Inputs:\n",
    "        left = NumPy array of object labels on the left of the diagram\n",
    "        right = NumPy array of corresponding labels on the right of the diagram\n",
    "            len(right) == len(left)\n",
    "        leftWeight = NumPy array of weights for each strip starting from the\n",
    "            left of the diagram, if not specified 1 is assigned\n",
    "        rightWeight = NumPy array of weights for each strip starting from the\n",
    "            right of the diagram, if not specified the corresponding leftWeight\n",
    "            is assigned\n",
    "        colorDict = Dictionary of colors to use for each label\n",
    "            {'label':'color'}\n",
    "        leftLabels = order of the left labels in the diagram\n",
    "        rightLabels = order of the right labels in the diagram\n",
    "        aspect = vertical extent of the diagram in units of horizontal extent\n",
    "        rightColor = If true, each strip in the diagram will be be colored\n",
    "                    according to its left label\n",
    "    Ouput:\n",
    "        None\n",
    "    '''\n",
    "    if leftWeight is None:\n",
    "        leftWeight = []\n",
    "    if rightWeight is None:\n",
    "        rightWeight = []\n",
    "    if leftLabels is None:\n",
    "        leftLabels = []\n",
    "    if rightLabels is None:\n",
    "        rightLabels = []\n",
    "    # Check weights\n",
    "    if len(leftWeight) == 0:\n",
    "        leftWeight = np.ones(len(left))\n",
    "\n",
    "    if len(rightWeight) == 0:\n",
    "        rightWeight = leftWeight\n",
    "\n",
    "    plt.figure()\n",
    "    plt.rc('text', usetex=False)\n",
    "    plt.rc('font', family='serif')\n",
    "\n",
    "    # Create Dataframe\n",
    "    if isinstance(left, pd.Series):\n",
    "        left = left.reset_index(drop=True)\n",
    "    if isinstance(right, pd.Series):\n",
    "        right = right.reset_index(drop=True)\n",
    "    dataFrame = pd.DataFrame({'left': left, 'right': right, 'leftWeight': leftWeight,\n",
    "                              'rightWeight': rightWeight}, index=range(len(left)))\n",
    "\n",
    "    if len(dataFrame[(dataFrame.left.isnull()) | (dataFrame.right.isnull())]):\n",
    "        raise NullsInFrame('Sankey graph does not support null values.')\n",
    "\n",
    "    # Identify all labels that appear 'left' or 'right'\n",
    "    allLabels = pd.Series(np.r_[dataFrame.left.unique(), dataFrame.right.unique()]).unique()\n",
    "\n",
    "    # Identify left labels\n",
    "    if len(leftLabels) == 0:\n",
    "        leftLabels = pd.Series(dataFrame.left.unique()).unique()\n",
    "    else:\n",
    "        check_data_matches_labels(leftLabels, dataFrame['left'], 'left')\n",
    "\n",
    "    # Identify right labels\n",
    "    if len(rightLabels) == 0:\n",
    "        rightLabels = pd.Series(dataFrame.right.unique()).unique()\n",
    "    else:\n",
    "        check_data_matches_labels(leftLabels, dataFrame['right'], 'right')\n",
    "    # If no colorDict given, make one\n",
    "    if colorDict is None:\n",
    "        colorDict = {}\n",
    "        palette = \"hls\"\n",
    "        colorPalette = sns.color_palette(palette, len(allLabels))\n",
    "        for i, label in enumerate(allLabels):\n",
    "            colorDict[label] = colorPalette[i]\n",
    "    else:\n",
    "        missing = [label for label in allLabels if label not in colorDict.keys()]\n",
    "        if missing:\n",
    "            msg = \"The colorDict parameter is missing values for the following labels : \"\n",
    "            msg += '{}'.format(', '.join(missing))\n",
    "            raise ValueError(msg)\n",
    "            \n",
    "    print(dataFrame)\n",
    "\n",
    "    # Determine widths of individual strips\n",
    "    ns_l = defaultdict()\n",
    "    ns_r = defaultdict()\n",
    "    for leftLabel in leftLabels:\n",
    "        leftDict = {}\n",
    "        rightDict = {}\n",
    "        for rightLabel in rightLabels:\n",
    "            leftDict[rightLabel] = dataFrame[(dataFrame.left == leftLabel) & (dataFrame.right == rightLabel)].leftWeight.sum()\n",
    "            rightDict[rightLabel] = dataFrame[(dataFrame.left == leftLabel) & (dataFrame.right == rightLabel)].rightWeight.sum()\n",
    "        ns_l[leftLabel] = leftDict\n",
    "        ns_r[leftLabel] = rightDict\n",
    "        \n",
    "    print(\"ns_l is \", ns_l)\n",
    "    print(\"ns_r is \", ns_r)\n",
    "\n",
    "    # Determine positions of left label patches and total widths\n",
    "    leftWidths = defaultdict()\n",
    "    for i, leftLabel in enumerate(leftLabels):\n",
    "        myD = {}\n",
    "        myD['left'] = dataFrame[dataFrame.left == leftLabel].leftWeight.sum()\n",
    "        if i == 0:\n",
    "            myD['bottom'] = 0\n",
    "            myD['top'] = myD['left']\n",
    "        else:\n",
    "            myD['bottom'] = leftWidths[leftLabels[i - 1]]['top'] + 0.02 * dataFrame.leftWeight.sum()\n",
    "            myD['top'] = myD['bottom'] + myD['left']\n",
    "            topEdge = myD['top']\n",
    "        leftWidths[leftLabel] = myD\n",
    "\n",
    "    # Determine positions of right label patches and total widths\n",
    "    rightWidths = defaultdict()\n",
    "    for i, rightLabel in enumerate(rightLabels):\n",
    "        myD = {}\n",
    "        myD['right'] = dataFrame[dataFrame.right == rightLabel].rightWeight.sum()\n",
    "        if i == 0:\n",
    "            myD['bottom'] = 0\n",
    "            myD['top'] = myD['right']\n",
    "        else:\n",
    "            myD['bottom'] = rightWidths[rightLabels[i - 1]]['top'] + 0.02 * dataFrame.rightWeight.sum()\n",
    "            myD['top'] = myD['bottom'] + myD['right']\n",
    "            topEdge = myD['top']\n",
    "        rightWidths[rightLabel] = myD\n",
    "\n",
    "    # Total vertical extent of diagram\n",
    "    xMax = topEdge / aspect\n",
    "\n",
    "    # Draw vertical bars on left and right of each  label's section & print label\n",
    "    for leftLabel in leftLabels:\n",
    "        plt.fill_between(\n",
    "            [-0.02 * xMax, 0],\n",
    "            2 * [leftWidths[leftLabel]['bottom']],\n",
    "            2 * [leftWidths[leftLabel]['bottom'] + leftWidths[leftLabel]['left']],\n",
    "            color=colorDict[leftLabel],\n",
    "            alpha=0.99\n",
    "        )\n",
    "        plt.text(\n",
    "            -0.05 * xMax,\n",
    "            leftWidths[leftLabel]['bottom'] + 0.5 * leftWidths[leftLabel]['left'],\n",
    "            leftLabel,\n",
    "            {'ha': 'right', 'va': 'center'},\n",
    "            fontsize=fontsize\n",
    "        )\n",
    "    for rightLabel in rightLabels:\n",
    "        plt.fill_between(\n",
    "            [xMax, 1.02 * xMax], 2 * [rightWidths[rightLabel]['bottom']],\n",
    "            2 * [rightWidths[rightLabel]['bottom'] + rightWidths[rightLabel]['right']],\n",
    "            color=colorDict[rightLabel],\n",
    "            alpha=0.99\n",
    "        )\n",
    "        plt.text(\n",
    "            1.05 * xMax,\n",
    "            rightWidths[rightLabel]['bottom'] + 0.5 * rightWidths[rightLabel]['right'],\n",
    "            rightLabel,\n",
    "            {'ha': 'left', 'va': 'center'},\n",
    "            fontsize=fontsize\n",
    "        )\n",
    "\n",
    "    # Plot strips\n",
    "    for leftLabel in leftLabels:\n",
    "        for rightLabel in rightLabels:\n",
    "            labelColor = leftLabel\n",
    "            if ind==0:\n",
    "                labelColor = rightLabel\n",
    "            if len(dataFrame[(dataFrame.left == leftLabel) & (dataFrame.right == rightLabel)]) > 0:\n",
    "                # Create array of y values for each strip, half at left value,\n",
    "                # half at right, convolve\n",
    "                ys_d = np.array(50 * [leftWidths[leftLabel]['bottom']] + 50 * [rightWidths[rightLabel]['bottom']])\n",
    "                ys_d = np.convolve(ys_d, 0.05 * np.ones(20), mode='valid')\n",
    "                ys_d = np.convolve(ys_d, 0.05 * np.ones(20), mode='valid')\n",
    "                ys_u = np.array(50 * [leftWidths[leftLabel]['bottom'] + ns_l[leftLabel][rightLabel]] + 50 * [rightWidths[rightLabel]['bottom'] + ns_r[leftLabel][rightLabel]])\n",
    "                ys_u = np.convolve(ys_u, 0.05 * np.ones(20), mode='valid')\n",
    "                ys_u = np.convolve(ys_u, 0.05 * np.ones(20), mode='valid')\n",
    "\n",
    "                # Update bottom edges at each label so next strip starts at the right place\n",
    "                leftWidths[leftLabel]['bottom'] += ns_l[leftLabel][rightLabel]\n",
    "                rightWidths[rightLabel]['bottom'] += ns_r[leftLabel][rightLabel]\n",
    "                plt.fill_between(\n",
    "                    np.linspace(0, xMax, len(ys_d)), ys_d, ys_u, alpha=0.65,\n",
    "                    color=colorDict[labelColor]\n",
    "                )\n",
    "    plt.gca().axis('off')\n",
    "    plt.gcf().set_size_inches(6, 6)\n",
    "    if figureName != None:\n",
    "        plt.savefig(\"{}.png\".format(figureName), bbox_inches='tight', dpi=150)\n",
    "    if closePlot:\n",
    "        plt.close()"
   ]
  },
  {
   "cell_type": "code",
   "execution_count": 61,
   "id": "b625e776",
   "metadata": {},
   "outputs": [],
   "source": [
    "colorDict=None\n",
    "leftLabels=None\n",
    "rightLabels=None \n",
    "aspect=4\n",
    "rightColor=False\n",
    "fontsize=14\n",
    "figureName=None \n",
    "closePlot=False"
   ]
  },
  {
   "cell_type": "code",
   "execution_count": 14,
   "id": "175a6695",
   "metadata": {},
   "outputs": [],
   "source": [
    "left = [\"cat1\", 'cat2', 'cat_3']\n",
    "right = [\"1cat\", '2cat', '3cat']\n"
   ]
  },
  {
   "cell_type": "code",
   "execution_count": 16,
   "id": "76f12f89",
   "metadata": {},
   "outputs": [],
   "source": [
    "df = pd.DataFrame(np.array([[1, 2, 3], [4, 5, 6], [7, 8, 9]]),\n",
    "                   columns=['a', 'b', 'c'])"
   ]
  },
  {
   "cell_type": "code",
   "execution_count": 18,
   "id": "db9a182a",
   "metadata": {},
   "outputs": [],
   "source": [
    "import itertools"
   ]
  },
  {
   "cell_type": "code",
   "execution_count": 26,
   "id": "ff44ee13",
   "metadata": {},
   "outputs": [
    {
     "data": {
      "text/plain": [
       "[['cat1', '1cat'],\n",
       " ['cat1', '2cat'],\n",
       " ['cat1', '3cat'],\n",
       " ['cat2', '1cat'],\n",
       " ['cat2', '2cat'],\n",
       " ['cat2', '3cat'],\n",
       " ['cat_3', '1cat'],\n",
       " ['cat_3', '2cat'],\n",
       " ['cat_3', '3cat']]"
      ]
     },
     "execution_count": 26,
     "metadata": {},
     "output_type": "execute_result"
    }
   ],
   "source": [
    "[[i,j] for i, j in itertools.product(left, right)]"
   ]
  },
  {
   "cell_type": "code",
   "execution_count": 19,
   "id": "cac7009e",
   "metadata": {},
   "outputs": [
    {
     "data": {
      "text/plain": [
       "[(0, 1),\n",
       " (0, 2),\n",
       " (0, 3),\n",
       " (0, 4),\n",
       " (0, 5),\n",
       " (1, 2),\n",
       " (1, 3),\n",
       " (1, 4),\n",
       " (1, 5),\n",
       " (2, 3),\n",
       " (2, 4),\n",
       " (2, 5),\n",
       " (3, 4),\n",
       " (3, 5),\n",
       " (4, 5)]"
      ]
     },
     "execution_count": 19,
     "metadata": {},
     "output_type": "execute_result"
    }
   ],
   "source": [
    "list(itertools.combinations(range(6), 2))"
   ]
  },
  {
   "cell_type": "code",
   "execution_count": 29,
   "id": "4788fdad",
   "metadata": {},
   "outputs": [],
   "source": [
    "df = pd.DataFrame([[i,j] for i, j in itertools.product(left, right)], columns=[\"source\", \"target\"])"
   ]
  },
  {
   "cell_type": "code",
   "execution_count": 35,
   "id": "8b1a4969",
   "metadata": {},
   "outputs": [],
   "source": [
    "df[\"value\"] = np.abs(np.random.randn(len(df)))"
   ]
  },
  {
   "cell_type": "code",
   "execution_count": 36,
   "id": "6322f891",
   "metadata": {},
   "outputs": [
    {
     "data": {
      "text/html": [
       "<div>\n",
       "<style scoped>\n",
       "    .dataframe tbody tr th:only-of-type {\n",
       "        vertical-align: middle;\n",
       "    }\n",
       "\n",
       "    .dataframe tbody tr th {\n",
       "        vertical-align: top;\n",
       "    }\n",
       "\n",
       "    .dataframe thead th {\n",
       "        text-align: right;\n",
       "    }\n",
       "</style>\n",
       "<table border=\"1\" class=\"dataframe\">\n",
       "  <thead>\n",
       "    <tr style=\"text-align: right;\">\n",
       "      <th></th>\n",
       "      <th>source</th>\n",
       "      <th>target</th>\n",
       "      <th>value</th>\n",
       "    </tr>\n",
       "  </thead>\n",
       "  <tbody>\n",
       "    <tr>\n",
       "      <th>0</th>\n",
       "      <td>cat1</td>\n",
       "      <td>1cat</td>\n",
       "      <td>0.705131</td>\n",
       "    </tr>\n",
       "    <tr>\n",
       "      <th>1</th>\n",
       "      <td>cat1</td>\n",
       "      <td>2cat</td>\n",
       "      <td>0.019469</td>\n",
       "    </tr>\n",
       "    <tr>\n",
       "      <th>2</th>\n",
       "      <td>cat1</td>\n",
       "      <td>3cat</td>\n",
       "      <td>0.601573</td>\n",
       "    </tr>\n",
       "    <tr>\n",
       "      <th>3</th>\n",
       "      <td>cat2</td>\n",
       "      <td>1cat</td>\n",
       "      <td>1.297453</td>\n",
       "    </tr>\n",
       "    <tr>\n",
       "      <th>4</th>\n",
       "      <td>cat2</td>\n",
       "      <td>2cat</td>\n",
       "      <td>0.441339</td>\n",
       "    </tr>\n",
       "    <tr>\n",
       "      <th>5</th>\n",
       "      <td>cat2</td>\n",
       "      <td>3cat</td>\n",
       "      <td>2.507311</td>\n",
       "    </tr>\n",
       "    <tr>\n",
       "      <th>6</th>\n",
       "      <td>cat_3</td>\n",
       "      <td>1cat</td>\n",
       "      <td>0.449477</td>\n",
       "    </tr>\n",
       "    <tr>\n",
       "      <th>7</th>\n",
       "      <td>cat_3</td>\n",
       "      <td>2cat</td>\n",
       "      <td>1.446802</td>\n",
       "    </tr>\n",
       "    <tr>\n",
       "      <th>8</th>\n",
       "      <td>cat_3</td>\n",
       "      <td>3cat</td>\n",
       "      <td>1.403496</td>\n",
       "    </tr>\n",
       "  </tbody>\n",
       "</table>\n",
       "</div>"
      ],
      "text/plain": [
       "  source target     value\n",
       "0   cat1   1cat  0.705131\n",
       "1   cat1   2cat  0.019469\n",
       "2   cat1   3cat  0.601573\n",
       "3   cat2   1cat  1.297453\n",
       "4   cat2   2cat  0.441339\n",
       "5   cat2   3cat  2.507311\n",
       "6  cat_3   1cat  0.449477\n",
       "7  cat_3   2cat  1.446802\n",
       "8  cat_3   3cat  1.403496"
      ]
     },
     "execution_count": 36,
     "metadata": {},
     "output_type": "execute_result"
    }
   ],
   "source": [
    "df"
   ]
  },
  {
   "cell_type": "code",
   "execution_count": 44,
   "id": "1cd519f5",
   "metadata": {},
   "outputs": [
    {
     "name": "stdout",
     "output_type": "stream",
     "text": [
      "    left right  leftWeight  rightWeight\n",
      "0   cat1  1cat         1.0          1.0\n",
      "1   cat2  2cat         1.0          1.0\n",
      "2  cat_3  3cat         1.0          1.0\n",
      "ns_l is  defaultdict(None, {'cat1': {'1cat': 1.0, '2cat': 0.0, '3cat': 0.0}, 'cat2': {'1cat': 0.0, '2cat': 1.0, '3cat': 0.0}, 'cat_3': {'1cat': 0.0, '2cat': 0.0, '3cat': 1.0}})\n",
      "ns_r is  defaultdict(None, {'cat1': {'1cat': 1.0, '2cat': 0.0, '3cat': 0.0}, 'cat2': {'1cat': 0.0, '2cat': 1.0, '3cat': 0.0}, 'cat_3': {'1cat': 0.0, '2cat': 0.0, '3cat': 1.0}})\n"
     ]
    },
    {
     "data": {
      "image/png": "[encoded data removed]",
      "text/plain": [
       "<Figure size 432x432 with 1 Axes>"
      ]
     },
     "metadata": {
      "needs_background": "light"
     },
     "output_type": "display_data"
    }
   ],
   "source": [
    "sankey(left, right)"
   ]
  },
  {
   "cell_type": "code",
   "execution_count": 64,
   "id": "43d56148",
   "metadata": {},
   "outputs": [],
   "source": [
    "leftLabels = df[\"source\"].unique()\n",
    "rightLabels = df[\"target\"].unique()"
   ]
  },
  {
   "cell_type": "code",
   "execution_count": 63,
   "id": "8dcbcc5e",
   "metadata": {},
   "outputs": [],
   "source": [
    "leftLabels"
   ]
  },
  {
   "cell_type": "code",
   "execution_count": 47,
   "id": "b75645c7",
   "metadata": {},
   "outputs": [
    {
     "data": {
      "text/html": [
       "<div>\n",
       "<style scoped>\n",
       "    .dataframe tbody tr th:only-of-type {\n",
       "        vertical-align: middle;\n",
       "    }\n",
       "\n",
       "    .dataframe tbody tr th {\n",
       "        vertical-align: top;\n",
       "    }\n",
       "\n",
       "    .dataframe thead th {\n",
       "        text-align: right;\n",
       "    }\n",
       "</style>\n",
       "<table border=\"1\" class=\"dataframe\">\n",
       "  <thead>\n",
       "    <tr style=\"text-align: right;\">\n",
       "      <th></th>\n",
       "      <th>source</th>\n",
       "      <th>target</th>\n",
       "      <th>value</th>\n",
       "    </tr>\n",
       "  </thead>\n",
       "  <tbody>\n",
       "    <tr>\n",
       "      <th>0</th>\n",
       "      <td>cat1</td>\n",
       "      <td>1cat</td>\n",
       "      <td>0.705131</td>\n",
       "    </tr>\n",
       "    <tr>\n",
       "      <th>1</th>\n",
       "      <td>cat1</td>\n",
       "      <td>2cat</td>\n",
       "      <td>0.019469</td>\n",
       "    </tr>\n",
       "    <tr>\n",
       "      <th>2</th>\n",
       "      <td>cat1</td>\n",
       "      <td>3cat</td>\n",
       "      <td>0.601573</td>\n",
       "    </tr>\n",
       "    <tr>\n",
       "      <th>3</th>\n",
       "      <td>cat2</td>\n",
       "      <td>1cat</td>\n",
       "      <td>1.297453</td>\n",
       "    </tr>\n",
       "    <tr>\n",
       "      <th>4</th>\n",
       "      <td>cat2</td>\n",
       "      <td>2cat</td>\n",
       "      <td>0.441339</td>\n",
       "    </tr>\n",
       "    <tr>\n",
       "      <th>5</th>\n",
       "      <td>cat2</td>\n",
       "      <td>3cat</td>\n",
       "      <td>2.507311</td>\n",
       "    </tr>\n",
       "    <tr>\n",
       "      <th>6</th>\n",
       "      <td>cat_3</td>\n",
       "      <td>1cat</td>\n",
       "      <td>0.449477</td>\n",
       "    </tr>\n",
       "    <tr>\n",
       "      <th>7</th>\n",
       "      <td>cat_3</td>\n",
       "      <td>2cat</td>\n",
       "      <td>1.446802</td>\n",
       "    </tr>\n",
       "    <tr>\n",
       "      <th>8</th>\n",
       "      <td>cat_3</td>\n",
       "      <td>3cat</td>\n",
       "      <td>1.403496</td>\n",
       "    </tr>\n",
       "  </tbody>\n",
       "</table>\n",
       "</div>"
      ],
      "text/plain": [
       "  source target     value\n",
       "0   cat1   1cat  0.705131\n",
       "1   cat1   2cat  0.019469\n",
       "2   cat1   3cat  0.601573\n",
       "3   cat2   1cat  1.297453\n",
       "4   cat2   2cat  0.441339\n",
       "5   cat2   3cat  2.507311\n",
       "6  cat_3   1cat  0.449477\n",
       "7  cat_3   2cat  1.446802\n",
       "8  cat_3   3cat  1.403496"
      ]
     },
     "execution_count": 47,
     "metadata": {},
     "output_type": "execute_result"
    }
   ],
   "source": [
    "df"
   ]
  },
  {
   "cell_type": "code",
   "execution_count": 49,
   "id": "c757a3d8",
   "metadata": {},
   "outputs": [],
   "source": [
    "dff = df.pivot(index='source', columns='target', values='value')\n"
   ]
  },
  {
   "cell_type": "code",
   "execution_count": 52,
   "id": "777ac45d",
   "metadata": {},
   "outputs": [
    {
     "data": {
      "text/html": [
       "<div>\n",
       "<style scoped>\n",
       "    .dataframe tbody tr th:only-of-type {\n",
       "        vertical-align: middle;\n",
       "    }\n",
       "\n",
       "    .dataframe tbody tr th {\n",
       "        vertical-align: top;\n",
       "    }\n",
       "\n",
       "    .dataframe thead th {\n",
       "        text-align: right;\n",
       "    }\n",
       "</style>\n",
       "<table border=\"1\" class=\"dataframe\">\n",
       "  <thead>\n",
       "    <tr style=\"text-align: right;\">\n",
       "      <th>target</th>\n",
       "      <th>1cat</th>\n",
       "      <th>2cat</th>\n",
       "      <th>3cat</th>\n",
       "    </tr>\n",
       "    <tr>\n",
       "      <th>source</th>\n",
       "      <th></th>\n",
       "      <th></th>\n",
       "      <th></th>\n",
       "    </tr>\n",
       "  </thead>\n",
       "  <tbody>\n",
       "    <tr>\n",
       "      <th>cat1</th>\n",
       "      <td>0.705131</td>\n",
       "      <td>0.019469</td>\n",
       "      <td>0.601573</td>\n",
       "    </tr>\n",
       "    <tr>\n",
       "      <th>cat2</th>\n",
       "      <td>1.297453</td>\n",
       "      <td>0.441339</td>\n",
       "      <td>2.507311</td>\n",
       "    </tr>\n",
       "    <tr>\n",
       "      <th>cat_3</th>\n",
       "      <td>0.449477</td>\n",
       "      <td>1.446802</td>\n",
       "      <td>1.403496</td>\n",
       "    </tr>\n",
       "  </tbody>\n",
       "</table>\n",
       "</div>"
      ],
      "text/plain": [
       "target      1cat      2cat      3cat\n",
       "source                              \n",
       "cat1    0.705131  0.019469  0.601573\n",
       "cat2    1.297453  0.441339  2.507311\n",
       "cat_3   0.449477  1.446802  1.403496"
      ]
     },
     "execution_count": 52,
     "metadata": {},
     "output_type": "execute_result"
    }
   ],
   "source": [
    "dff"
   ]
  },
  {
   "cell_type": "code",
   "execution_count": 74,
   "id": "f2355d8c",
   "metadata": {},
   "outputs": [],
   "source": [
    "dff2 = dff.T"
   ]
  },
  {
   "cell_type": "code",
   "execution_count": 76,
   "id": "80d1e265",
   "metadata": {},
   "outputs": [
    {
     "data": {
      "text/html": [
       "<div>\n",
       "<style scoped>\n",
       "    .dataframe tbody tr th:only-of-type {\n",
       "        vertical-align: middle;\n",
       "    }\n",
       "\n",
       "    .dataframe tbody tr th {\n",
       "        vertical-align: top;\n",
       "    }\n",
       "\n",
       "    .dataframe thead th {\n",
       "        text-align: right;\n",
       "    }\n",
       "</style>\n",
       "<table border=\"1\" class=\"dataframe\">\n",
       "  <thead>\n",
       "    <tr style=\"text-align: right;\">\n",
       "      <th>source</th>\n",
       "      <th>cat1</th>\n",
       "      <th>cat2</th>\n",
       "      <th>cat_3</th>\n",
       "    </tr>\n",
       "    <tr>\n",
       "      <th>target</th>\n",
       "      <th></th>\n",
       "      <th></th>\n",
       "      <th></th>\n",
       "    </tr>\n",
       "  </thead>\n",
       "  <tbody>\n",
       "    <tr>\n",
       "      <th>1cat</th>\n",
       "      <td>0.705131</td>\n",
       "      <td>1.297453</td>\n",
       "      <td>0.449477</td>\n",
       "    </tr>\n",
       "    <tr>\n",
       "      <th>2cat</th>\n",
       "      <td>0.019469</td>\n",
       "      <td>0.441339</td>\n",
       "      <td>1.446802</td>\n",
       "    </tr>\n",
       "    <tr>\n",
       "      <th>3cat</th>\n",
       "      <td>0.601573</td>\n",
       "      <td>2.507311</td>\n",
       "      <td>1.403496</td>\n",
       "    </tr>\n",
       "  </tbody>\n",
       "</table>\n",
       "</div>"
      ],
      "text/plain": [
       "source      cat1      cat2     cat_3\n",
       "target                              \n",
       "1cat    0.705131  1.297453  0.449477\n",
       "2cat    0.019469  0.441339  1.446802\n",
       "3cat    0.601573  2.507311  1.403496"
      ]
     },
     "execution_count": 76,
     "metadata": {},
     "output_type": "execute_result"
    }
   ],
   "source": [
    "dff2"
   ]
  },
  {
   "cell_type": "code",
   "execution_count": 55,
   "id": "2553fb9c",
   "metadata": {},
   "outputs": [],
   "source": [
    "dataFrame = dff"
   ]
  },
  {
   "cell_type": "code",
   "execution_count": 67,
   "id": "f109bde4",
   "metadata": {},
   "outputs": [],
   "source": [
    "allLabels = set(leftLabels).union(set(rightLabels))"
   ]
  },
  {
   "cell_type": "code",
   "execution_count": 68,
   "id": "47661855",
   "metadata": {},
   "outputs": [
    {
     "data": {
      "text/plain": [
       "{'1cat', '2cat', '3cat', 'cat1', 'cat2', 'cat_3'}"
      ]
     },
     "execution_count": 68,
     "metadata": {},
     "output_type": "execute_result"
    }
   ],
   "source": [
    "allLabels"
   ]
  },
  {
   "cell_type": "code",
   "execution_count": 71,
   "id": "6e4bbf3b",
   "metadata": {},
   "outputs": [],
   "source": [
    "colorDict = None"
   ]
  },
  {
   "cell_type": "code",
   "execution_count": 170,
   "id": "5bdbda6e",
   "metadata": {},
   "outputs": [
    {
     "name": "stdout",
     "output_type": "stream",
     "text": [
      "defaultdict(None, {'cat1': {'left': 1.3261731582060783, 'bottom': 0, 'top': 1.3261731582060783}, 'cat2': {'left': 4.246103443798698, 'bottom': 1.5036141922556436, 'top': 5.749717636054342}, 'cat_3': {'left': 3.299775100473485, 'bottom': 5.927158670103907, 'top': 9.226933770577393}})\n",
      "defaultdict(None, {'1cat': {'left': 2.4520612653649367, 'bottom': 0, 'top': 2.4520612653649367}, '2cat': {'left': 1.9076102133573634, 'bottom': 2.629502299414502, 'top': 4.5371125127718654}, '3cat': {'left': 4.512380223755962, 'bottom': 4.71455354682143, 'top': 9.226933770577393}})\n"
     ]
    },
    {
     "data": {
      "image/png": "[encoded data removed]",
      "text/plain": [
       "<Figure size 432x432 with 1 Axes>"
      ]
     },
     "metadata": {
      "needs_background": "light"
     },
     "output_type": "display_data"
    }
   ],
   "source": [
    "\"\"\"ns_l = defaultdict()\n",
    "ns_r = defaultdict()\n",
    "for leftLabel in leftLabels:\n",
    "    leftDict = {}\n",
    "    rightDict = {}\n",
    "    for rightLabel in rightLabels:\n",
    "        leftDict[rightLabel] = dataFrame[(dataFrame.left == leftLabel) & (dataFrame.right == rightLabel)].leftWeight.sum()\n",
    "        rightDict[rightLabel] = dataFrame[(dataFrame.left == leftLabel) & (dataFrame.right == rightLabel)].rightWeight.sum()\n",
    "    ns_l[leftLabel] = leftDict\n",
    "    ns_r[leftLabel] = rightDict\"\"\"\n",
    "\n",
    "titles = [\"t0,t1\", \"t1, t2\"]\n",
    "\n",
    "if colorDict is None:\n",
    "    colorDict = {}\n",
    "    palette = \"hls\"\n",
    "    colorPalette = sns.color_palette(palette, len(allLabels))\n",
    "    for i, label in enumerate(allLabels):\n",
    "        colorDict[label] = colorPalette[i]\n",
    "else:\n",
    "    missing = [label for label in allLabels if label not in colorDict.keys()]\n",
    "    if missing:\n",
    "        msg = \"The colorDict parameter is missing values for the following labels : \"\n",
    "        msg += '{}'.format(', '.join(missing))\n",
    "        raise ValueError(msg)\n",
    "\n",
    "left_pos = [0]\n",
    "for ind, dataFrame in enumerate([dff, dff2]):\n",
    "\n",
    "    leftLabels = list(dataFrame.index)\n",
    "    rightLabels = list(dataFrame.columns)\n",
    "    allLabels = set(leftLabels).union(set(rightLabels))\n",
    "    \n",
    "    # Determine positions of left label patches and total widths\n",
    "    leftWidths = defaultdict()\n",
    "    for i, leftLabel in enumerate(leftLabels):\n",
    "        myD = {}\n",
    "        myD['left'] = dataFrame.loc[leftLabel,:].sum()\n",
    "        if i == 0:\n",
    "            myD['bottom'] = 0\n",
    "            myD['top'] = myD['left']\n",
    "        else:\n",
    "            myD['bottom'] = leftWidths[leftLabels[i - 1]]['top'] + 0.02 * dataFrame.sum().sum()\n",
    "            myD['top'] = myD['bottom'] + myD['left']\n",
    "            topEdge = myD['top']\n",
    "        leftWidths[leftLabel] = myD\n",
    "\n",
    "    # Determine positions of right label patches and total widths\n",
    "    rightWidths = defaultdict()\n",
    "    for i, rightLabel in enumerate(rightLabels):\n",
    "        myD = {}\n",
    "        myD['right'] = dataFrame.loc[:, rightLabel].sum()\n",
    "        if i == 0:\n",
    "            myD['bottom'] = 0\n",
    "            myD['top'] = myD['right']\n",
    "        else:\n",
    "            myD['bottom'] = rightWidths[rightLabels[i - 1]]['top'] + 0.02 * dataFrame.sum().sum()\n",
    "            myD['top'] = myD['bottom'] + myD['right']\n",
    "            topEdge = myD['top']\n",
    "        rightWidths[rightLabel] = myD\n",
    "\n",
    "    # Total vertical extent of diagram\n",
    "    xMax = topEdge / aspect\n",
    "\n",
    "    # Draw vertical bars on left and right of each  label's section & print label\n",
    "    for leftLabel in leftLabels:\n",
    "        if ind==0:\n",
    "            plt.fill_between(\n",
    "                [-0.02 * xMax, 0],\n",
    "                2 * [leftWidths[leftLabel]['bottom']],\n",
    "                2 * [leftWidths[leftLabel]['bottom'] + leftWidths[leftLabel]['left']],\n",
    "                color=colorDict[leftLabel],\n",
    "                alpha=0.99\n",
    "            )\n",
    "            plt.text(\n",
    "                -0.05 * xMax,\n",
    "                leftWidths[leftLabel]['bottom'] + 0.5 * leftWidths[leftLabel]['left'],\n",
    "                leftLabel,\n",
    "                {'ha': 'right', 'va': 'center'},\n",
    "                fontsize=fontsize\n",
    "            )\n",
    "    for rightLabel in rightLabels:\n",
    "        plt.fill_between(\n",
    "            [xMax+ left_pos[ind] , 1.02 * xMax+ left_pos[ind] ], 2 * [rightWidths[rightLabel]['bottom']],\n",
    "            2 * [rightWidths[rightLabel]['bottom'] + rightWidths[rightLabel]['right']],\n",
    "            color=colorDict[rightLabel],\n",
    "            alpha=0.99\n",
    "        )\n",
    "        plt.text(\n",
    "            1.05 * xMax + left_pos[ind],\n",
    "            rightWidths[rightLabel]['bottom'] + 0.5 * rightWidths[rightLabel]['right'],\n",
    "            rightLabel,\n",
    "            {'ha': 'left', 'va': 'center'},\n",
    "            fontsize=fontsize\n",
    "        )\n",
    "    print(leftWidths)\n",
    "    y_max = np.min([leftWidths[cat][\"bottom\"] for cat in leftWidths.keys()])\n",
    "\n",
    "    plt.text(left_pos[ind]+ 0.3*xMax, -1, titles[ind])\n",
    "        \n",
    "    left_pos += [1.5*xMax]\n",
    "\n",
    "    # Plot strips\n",
    "    for leftLabel in leftLabels:\n",
    "        for rightLabel in rightLabels:\n",
    "            labelColor = leftLabel\n",
    "            if rightColor:\n",
    "                if ind==0:\n",
    "                    labelColor = leftLabel\n",
    "                else:\n",
    "                    labelColor = leftLabel\n",
    "            if dataFrame.loc[leftLabel, rightLabel] > 0:\n",
    "                # Create array of y values for each strip, half at left value,\n",
    "                # half at right, convolve\n",
    "                ys_d = np.array(50 * [leftWidths[leftLabel]['bottom']] + 50 * [rightWidths[rightLabel]['bottom']])\n",
    "                ys_d = np.convolve(ys_d, 0.05 * np.ones(20), mode='valid')\n",
    "                ys_d = np.convolve(ys_d, 0.05 * np.ones(20), mode='valid')\n",
    "                ys_u = np.array(50 * [leftWidths[leftLabel]['bottom'] + dataFrame.loc[leftLabel, rightLabel]] + 50 * [rightWidths[rightLabel]['bottom'] + dataFrame.loc[leftLabel, rightLabel]])\n",
    "                ys_u = np.convolve(ys_u, 0.05 * np.ones(20), mode='valid')\n",
    "                ys_u = np.convolve(ys_u, 0.05 * np.ones(20), mode='valid')\n",
    "\n",
    "                # Update bottom edges at each label so next strip starts at the right place\n",
    "                leftWidths[leftLabel]['bottom'] += dataFrame.loc[leftLabel, rightLabel]\n",
    "                rightWidths[rightLabel]['bottom'] += dataFrame.loc[leftLabel, rightLabel]\n",
    "\n",
    "                if ind==0:\n",
    "                    plt.fill_between(\n",
    "                        np.linspace(0+left_pos[ind], xMax+left_pos[ind], len(ys_d)), ys_d, ys_u, alpha=0.65,\n",
    "                        color=colorDict[labelColor]\n",
    "                    )\n",
    "                else:\n",
    "                    plt.fill_between(\n",
    "                    np.linspace(0+left_pos[ind], xMax+left_pos[ind], len(ys_d)), ys_d, ys_u, alpha=0.65,\n",
    "                    color=colorDict[labelColor]\n",
    "                )\n",
    "    \n",
    "    plt.gca().axis('off')\n",
    "    plt.gcf().set_size_inches(6, 6)\n",
    "    plt.title(\"Transition\")\n",
    "    #if figureName != None:\n",
    "    #    plt.savefig(\"{}.png\".format(figureName), bbox_inches='tight', dpi=150)\n",
    "    #if closePlot:\n",
    "    #    plt.close()"
   ]
  },
  {
   "cell_type": "code",
   "execution_count": 154,
   "id": "64604acb",
   "metadata": {},
   "outputs": [
    {
     "data": {
      "text/plain": [
       "9.226933770577391"
      ]
     },
     "execution_count": 154,
     "metadata": {},
     "output_type": "execute_result"
    }
   ],
   "source": []
  },
  {
   "cell_type": "code",
   "execution_count": 151,
   "id": "e873bdbe",
   "metadata": {},
   "outputs": [
    {
     "data": {
      "text/plain": [
       "defaultdict(None,\n",
       "            {'cat1': {'right': 1.3261731582060783,\n",
       "              'bottom': 1.3261731582060783,\n",
       "              'top': 1.3261731582060783},\n",
       "             'cat2': {'right': 4.246103443798698,\n",
       "              'bottom': 5.749717636054342,\n",
       "              'top': 5.749717636054342},\n",
       "             'cat_3': {'right': 3.299775100473485,\n",
       "              'bottom': 9.226933770577393,\n",
       "              'top': 9.226933770577393}})"
      ]
     },
     "execution_count": 151,
     "metadata": {},
     "output_type": "execute_result"
    }
   ],
   "source": [
    "rightWidths"
   ]
  },
  {
   "cell_type": "code",
   "execution_count": 82,
   "id": "b7b94d15",
   "metadata": {},
   "outputs": [
    {
     "data": {
      "text/plain": [
       "defaultdict(None, {})"
      ]
     },
     "execution_count": 82,
     "metadata": {},
     "output_type": "execute_result"
    }
   ],
   "source": [
    "leftWidths"
   ]
  },
  {
   "cell_type": "code",
   "execution_count": null,
   "id": "018bb04c",
   "metadata": {},
   "outputs": [],
   "source": []
  }
 ],
 "metadata": {
  "kernelspec": {
   "display_name": "moscot_env",
   "language": "python",
   "name": "moscot_env"
  },
  "language_info": {
   "codemirror_mode": {
    "name": "ipython",
    "version": 3
   },
   "file_extension": ".py",
   "mimetype": "text/x-python",
   "name": "python",
   "nbconvert_exporter": "python",
   "pygments_lexer": "ipython3",
   "version": "3.8.13"
  }
 },
 "nbformat": 4,
 "nbformat_minor": 5
}
