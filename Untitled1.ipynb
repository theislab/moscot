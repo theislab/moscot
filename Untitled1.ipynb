{
 "cells": [
  {
   "cell_type": "code",
   "execution_count": 1,
   "id": "48336de8-cf38-4c7c-a9dd-afdcc4daf680",
   "metadata": {},
   "outputs": [],
   "source": [
    "%load_ext autoreload\n",
    "%autoreload 2"
   ]
  },
  {
   "cell_type": "code",
   "execution_count": 2,
   "id": "7ffa690c-719e-43d9-9b6b-11d65ac2725f",
   "metadata": {},
   "outputs": [],
   "source": [
    "import moscot\n",
    "from anndata import AnnData\n",
    "import numpy as np\n",
    "from moscot.backends.ott import FGWSolver, SinkhornSolver, GWSolver, LRSinkhornSolver\n",
    "from moscot.solvers._data import TaggedArray, Tag\n",
    "import matplotlib.pyplot as plt\n",
    "import jax.numpy as jnp\n",
    "from typing import *\n",
    "import pandas as pd\n",
    "import networkx as nx\n",
    "import jax.numpy as jnp\n",
    "from moscot.problems.time._lineage import TemporalProblem"
   ]
  },
  {
   "cell_type": "code",
   "execution_count": 9,
   "id": "619a4021-5235-47b3-a9c6-25cc603d4f6d",
   "metadata": {},
   "outputs": [],
   "source": [
    "x = np.random.normal(size=(64, 3))# source distribution: 128 cells, 3 genes\n",
    "y = np.random.normal(size=(128, 3))# target distribution: 128 cells, 3 genes\n",
    "\n",
    "adata_x = AnnData(x)\n",
    "adata_y = AnnData(y)\n",
    "\n",
    "\n",
    "adata_c = adata_x.concatenate(adata_y)\n"
   ]
  },
  {
   "cell_type": "code",
   "execution_count": 10,
   "id": "209d0ec5-9607-4250-b178-fb1a8ebc56f0",
   "metadata": {},
   "outputs": [
    {
     "data": {
      "text/plain": [
       "0-0      0\n",
       "1-0      0\n",
       "2-0      0\n",
       "3-0      0\n",
       "4-0      0\n",
       "        ..\n",
       "123-1    1\n",
       "124-1    1\n",
       "125-1    1\n",
       "126-1    1\n",
       "127-1    1\n",
       "Name: batch, Length: 192, dtype: category\n",
       "Categories (2, object): ['0', '1']"
      ]
     },
     "execution_count": 10,
     "metadata": {},
     "output_type": "execute_result"
    }
   ],
   "source": [
    "adata_c.obs.batch"
   ]
  },
  {
   "cell_type": "code",
   "execution_count": 11,
   "id": "7eb356da-35b4-4e1d-85c2-bcf59c3b8638",
   "metadata": {},
   "outputs": [],
   "source": [
    "tp = TemporalProblem(adata_c, solver=SinkhornSolver(jit=False))"
   ]
  },
  {
   "cell_type": "code",
   "execution_count": 12,
   "id": "5dd0249e-ad5d-4bcd-a6d0-dec847903bda",
   "metadata": {},
   "outputs": [],
   "source": [
    "tp.prepare(key=\"batch\", n_growth_rates_estimates=3)"
   ]
  },
  {
   "cell_type": "code",
   "execution_count": 13,
   "id": "718f169e-a7a7-4b07-bfd5-4bd2d32c9cde",
   "metadata": {},
   "outputs": [
    {
     "name": "stderr",
     "output_type": "stream",
     "text": [
      "Trying to set attribute `.obs` of view, copying.\n"
     ]
    }
   ],
   "source": [
    "tp.solve(tau_a=0.5, tau_b=0.5)"
   ]
  },
  {
   "cell_type": "code",
   "execution_count": 14,
   "id": "e66727e7-30bc-4da0-8da1-92a3f0e67c95",
   "metadata": {},
   "outputs": [
    {
     "data": {
      "text/html": [
       "<div>\n",
       "<style scoped>\n",
       "    .dataframe tbody tr th:only-of-type {\n",
       "        vertical-align: middle;\n",
       "    }\n",
       "\n",
       "    .dataframe tbody tr th {\n",
       "        vertical-align: top;\n",
       "    }\n",
       "\n",
       "    .dataframe thead th {\n",
       "        text-align: right;\n",
       "    }\n",
       "</style>\n",
       "<table border=\"1\" class=\"dataframe\">\n",
       "  <thead>\n",
       "    <tr style=\"text-align: right;\">\n",
       "      <th></th>\n",
       "      <th>batch</th>\n",
       "      <th>marginal_a_g1</th>\n",
       "      <th>marginal_a_g2</th>\n",
       "      <th>marginal_a_g3</th>\n",
       "    </tr>\n",
       "  </thead>\n",
       "  <tbody>\n",
       "    <tr>\n",
       "      <th>0-0</th>\n",
       "      <td>0</td>\n",
       "      <td>0.074281</td>\n",
       "      <td>0.074971</td>\n",
       "      <td>0.073733</td>\n",
       "    </tr>\n",
       "    <tr>\n",
       "      <th>1-0</th>\n",
       "      <td>0</td>\n",
       "      <td>0.005692</td>\n",
       "      <td>0.001685</td>\n",
       "      <td>0.000917</td>\n",
       "    </tr>\n",
       "    <tr>\n",
       "      <th>2-0</th>\n",
       "      <td>0</td>\n",
       "      <td>0.123200</td>\n",
       "      <td>0.154022</td>\n",
       "      <td>0.166045</td>\n",
       "    </tr>\n",
       "    <tr>\n",
       "      <th>3-0</th>\n",
       "      <td>0</td>\n",
       "      <td>0.009944</td>\n",
       "      <td>0.004059</td>\n",
       "      <td>0.002633</td>\n",
       "    </tr>\n",
       "    <tr>\n",
       "      <th>4-0</th>\n",
       "      <td>0</td>\n",
       "      <td>0.112080</td>\n",
       "      <td>0.133379</td>\n",
       "      <td>0.140175</td>\n",
       "    </tr>\n",
       "    <tr>\n",
       "      <th>...</th>\n",
       "      <td>...</td>\n",
       "      <td>...</td>\n",
       "      <td>...</td>\n",
       "      <td>...</td>\n",
       "    </tr>\n",
       "    <tr>\n",
       "      <th>123-1</th>\n",
       "      <td>1</td>\n",
       "      <td>NaN</td>\n",
       "      <td>NaN</td>\n",
       "      <td>NaN</td>\n",
       "    </tr>\n",
       "    <tr>\n",
       "      <th>124-1</th>\n",
       "      <td>1</td>\n",
       "      <td>NaN</td>\n",
       "      <td>NaN</td>\n",
       "      <td>NaN</td>\n",
       "    </tr>\n",
       "    <tr>\n",
       "      <th>125-1</th>\n",
       "      <td>1</td>\n",
       "      <td>NaN</td>\n",
       "      <td>NaN</td>\n",
       "      <td>NaN</td>\n",
       "    </tr>\n",
       "    <tr>\n",
       "      <th>126-1</th>\n",
       "      <td>1</td>\n",
       "      <td>NaN</td>\n",
       "      <td>NaN</td>\n",
       "      <td>NaN</td>\n",
       "    </tr>\n",
       "    <tr>\n",
       "      <th>127-1</th>\n",
       "      <td>1</td>\n",
       "      <td>NaN</td>\n",
       "      <td>NaN</td>\n",
       "      <td>NaN</td>\n",
       "    </tr>\n",
       "  </tbody>\n",
       "</table>\n",
       "<p>192 rows × 4 columns</p>\n",
       "</div>"
      ],
      "text/plain": [
       "      batch  marginal_a_g1  marginal_a_g2  marginal_a_g3\n",
       "0-0       0       0.074281       0.074971       0.073733\n",
       "1-0       0       0.005692       0.001685       0.000917\n",
       "2-0       0       0.123200       0.154022       0.166045\n",
       "3-0       0       0.009944       0.004059       0.002633\n",
       "4-0       0       0.112080       0.133379       0.140175\n",
       "...     ...            ...            ...            ...\n",
       "123-1     1            NaN            NaN            NaN\n",
       "124-1     1            NaN            NaN            NaN\n",
       "125-1     1            NaN            NaN            NaN\n",
       "126-1     1            NaN            NaN            NaN\n",
       "127-1     1            NaN            NaN            NaN\n",
       "\n",
       "[192 rows x 4 columns]"
      ]
     },
     "execution_count": 14,
     "metadata": {},
     "output_type": "execute_result"
    }
   ],
   "source": [
    "tp.adata.obs"
   ]
  },
  {
   "cell_type": "code",
   "execution_count": null,
   "id": "58de0858-a24a-4952-b260-b7ec1bc6b918",
   "metadata": {},
   "outputs": [],
   "source": []
  }
 ],
 "metadata": {
  "kernelspec": {
   "display_name": "moscot_kernel",
   "language": "python",
   "name": "moscot_kernel"
  },
  "language_info": {
   "codemirror_mode": {
    "name": "ipython",
    "version": 3
   },
   "file_extension": ".py",
   "mimetype": "text/x-python",
   "name": "python",
   "nbconvert_exporter": "python",
   "pygments_lexer": "ipython3",
   "version": "3.8.12"
  }
 },
 "nbformat": 4,
 "nbformat_minor": 5
}
