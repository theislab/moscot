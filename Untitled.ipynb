{
 "cells": [
  {
   "cell_type": "code",
   "execution_count": 1,
   "id": "c9717a50-a7f6-4143-b89d-4653d8c2da83",
   "metadata": {},
   "outputs": [],
   "source": [
    "%load_ext autoreload\n",
    "\n",
    "%autoreload 2"
   ]
  },
  {
   "cell_type": "code",
   "execution_count": 2,
   "id": "64179aab-1a2f-4fe0-99c1-e6c4a35c777c",
   "metadata": {},
   "outputs": [],
   "source": [
    "import moscot\n",
    "import scanpy as sc\n"
   ]
  },
  {
   "cell_type": "code",
   "execution_count": 76,
   "id": "0eeff45b-aaf4-4c18-9903-40d2afcccadd",
   "metadata": {},
   "outputs": [],
   "source": [
    "adata = sc.read(\"/Users/dominik.klein/data/tmp_adata.h5ad\")"
   ]
  },
  {
   "cell_type": "code",
   "execution_count": 77,
   "id": "00415ee8-f5e6-4c7f-95e2-f8697e50282e",
   "metadata": {},
   "outputs": [],
   "source": [
    "sc.pp.subsample(adata, fraction=0.2)"
   ]
  },
  {
   "cell_type": "code",
   "execution_count": 78,
   "id": "787e5f7d-17c3-4677-a683-c722057a4e0c",
   "metadata": {},
   "outputs": [],
   "source": [
    "from moscot.problems.time import TemporalProblem"
   ]
  },
  {
   "cell_type": "code",
   "execution_count": 79,
   "id": "281bd5c6-66df-4513-8855-8fd092a891e7",
   "metadata": {},
   "outputs": [],
   "source": [
    "tp = TemporalProblem(adata)"
   ]
  },
  {
   "cell_type": "code",
   "execution_count": 80,
   "id": "7bedd4e7-2ad0-4cba-973b-ec4fb0eb8d8c",
   "metadata": {},
   "outputs": [],
   "source": [
    "adata.obs[\"time\"] = adata.obs.apply(lambda x: 0 if x[\"sample\"] == \"E14.5\" else 1, axis=1)"
   ]
  },
  {
   "cell_type": "code",
   "execution_count": 81,
   "id": "d99d94c6-6ad6-419b-8417-079a9cfe43ec",
   "metadata": {},
   "outputs": [
    {
     "data": {
      "text/plain": [
       "array([0, 1])"
      ]
     },
     "execution_count": 81,
     "metadata": {},
     "output_type": "execute_result"
    }
   ],
   "source": [
    "adata.obs[\"time\"].unique()"
   ]
  },
  {
   "cell_type": "code",
   "execution_count": 82,
   "id": "46dfc404-f181-47db-a4e2-0fea63afb211",
   "metadata": {},
   "outputs": [],
   "source": [
    "tp = tp.prepare(\"time\", joint_attr=\"X_pca\")"
   ]
  },
  {
   "cell_type": "code",
   "execution_count": 83,
   "id": "530cc368-ec8d-4ca9-8e14-45ce10bf08b5",
   "metadata": {},
   "outputs": [],
   "source": [
    "tp = tp.solve(epsilon=0.1)"
   ]
  },
  {
   "cell_type": "code",
   "execution_count": 84,
   "id": "dee0a562-50d7-45f6-888f-7648082f71f8",
   "metadata": {},
   "outputs": [
    {
     "data": {
      "text/plain": [
       "True"
      ]
     },
     "execution_count": 84,
     "metadata": {},
     "output_type": "execute_result"
    }
   ],
   "source": [
    "tp[0,1].solution.converged"
   ]
  },
  {
   "cell_type": "code",
   "execution_count": 148,
   "id": "93ef2795-8cc9-4c10-b71a-43cd4496f03e",
   "metadata": {},
   "outputs": [],
   "source": [
    "res = tp.cell_transition(0,1,{\"celltype\": ['Epsilon',\n",
    "       'Fev+', 'Fev+ Alpha', 'Fev+ Beta', 'Imm. Acinar', 'Mat. Acinar']},\n",
    "        {\"celltype\": ['Alpha', 'Beta', 'Delta', 'Ductal', 'Eps/Delta progenitors', 'Epsilon',\n",
    "       'Fev+', 'Fev+ Alpha', 'Fev+ Beta', 'Imm. Acinar', 'Mat. Acinar',\n",
    "       'Ngn3 high', 'Ngn3 high cycling', 'Ngn3 low', 'Prlf. Ductal']}, online=True, forward=False)"
   ]
  },
  {
   "cell_type": "code",
   "execution_count": 94,
   "id": "9e9e34c3-7bc1-4073-bd78-6fdbfe69ba33",
   "metadata": {},
   "outputs": [],
   "source": [
    "import moscot.plotting as mpl"
   ]
  },
  {
   "cell_type": "code",
   "execution_count": 112,
   "id": "71a4ca3b-53c8-4fb4-8744-67a3c5fda37f",
   "metadata": {},
   "outputs": [],
   "source": [
    "import os"
   ]
  },
  {
   "cell_type": "code",
   "execution_count": 115,
   "id": "6878b5f0-f14c-48ab-9953-874e39c7b2d5",
   "metadata": {},
   "outputs": [
    {
     "data": {
      "text/plain": [
       "'/Users/dominik.klein/git_repos/moscot'"
      ]
     },
     "execution_count": 115,
     "metadata": {},
     "output_type": "execute_result"
    }
   ],
   "source": [
    "os.getcwd()"
   ]
  },
  {
   "cell_type": "code",
   "execution_count": 137,
   "id": "c72af873-9df9-4ba5-9543-4b0ee14d8f45",
   "metadata": {},
   "outputs": [
    {
     "data": {
      "text/html": [
       "<div>\n",
       "<style scoped>\n",
       "    .dataframe tbody tr th:only-of-type {\n",
       "        vertical-align: middle;\n",
       "    }\n",
       "\n",
       "    .dataframe tbody tr th {\n",
       "        vertical-align: top;\n",
       "    }\n",
       "\n",
       "    .dataframe thead th {\n",
       "        text-align: right;\n",
       "    }\n",
       "</style>\n",
       "<table border=\"1\" class=\"dataframe\">\n",
       "  <thead>\n",
       "    <tr style=\"text-align: right;\">\n",
       "      <th></th>\n",
       "      <th>Alpha</th>\n",
       "      <th>Beta</th>\n",
       "      <th>Delta</th>\n",
       "      <th>Ductal</th>\n",
       "      <th>Eps/Delta progenitors</th>\n",
       "      <th>Epsilon</th>\n",
       "      <th>Fev+</th>\n",
       "      <th>Fev+ Alpha</th>\n",
       "      <th>Fev+ Beta</th>\n",
       "      <th>Imm. Acinar</th>\n",
       "      <th>Mat. Acinar</th>\n",
       "      <th>Ngn3 high</th>\n",
       "      <th>Ngn3 high cycling</th>\n",
       "      <th>Ngn3 low</th>\n",
       "      <th>Prlf. Ductal</th>\n",
       "    </tr>\n",
       "  </thead>\n",
       "  <tbody>\n",
       "    <tr>\n",
       "      <th>Epsilon</th>\n",
       "      <td>0.117926</td>\n",
       "      <td>0.127452</td>\n",
       "      <td>0.022768</td>\n",
       "      <td>1.340906e-05</td>\n",
       "      <td>6.776192e-03</td>\n",
       "      <td>0.510515</td>\n",
       "      <td>0.027885</td>\n",
       "      <td>0.073310</td>\n",
       "      <td>0.103935</td>\n",
       "      <td>1.708417e-05</td>\n",
       "      <td>5.924935e-05</td>\n",
       "      <td>0.008101</td>\n",
       "      <td>1.207093e-03</td>\n",
       "      <td>2.859026e-05</td>\n",
       "      <td>5.211406e-06</td>\n",
       "    </tr>\n",
       "    <tr>\n",
       "      <th>Fev+</th>\n",
       "      <td>0.018680</td>\n",
       "      <td>0.105285</td>\n",
       "      <td>0.010415</td>\n",
       "      <td>1.147575e-06</td>\n",
       "      <td>1.605750e-03</td>\n",
       "      <td>0.013052</td>\n",
       "      <td>0.374378</td>\n",
       "      <td>0.101963</td>\n",
       "      <td>0.335062</td>\n",
       "      <td>3.175851e-06</td>\n",
       "      <td>9.053218e-06</td>\n",
       "      <td>0.035687</td>\n",
       "      <td>3.856363e-03</td>\n",
       "      <td>1.450474e-06</td>\n",
       "      <td>2.829853e-07</td>\n",
       "    </tr>\n",
       "    <tr>\n",
       "      <th>Fev+ Alpha</th>\n",
       "      <td>0.183577</td>\n",
       "      <td>0.132688</td>\n",
       "      <td>0.006454</td>\n",
       "      <td>2.838714e-07</td>\n",
       "      <td>1.900650e-05</td>\n",
       "      <td>0.034202</td>\n",
       "      <td>0.044691</td>\n",
       "      <td>0.348964</td>\n",
       "      <td>0.248703</td>\n",
       "      <td>6.072953e-07</td>\n",
       "      <td>2.118810e-06</td>\n",
       "      <td>0.000553</td>\n",
       "      <td>1.456127e-04</td>\n",
       "      <td>9.488833e-08</td>\n",
       "      <td>2.849218e-08</td>\n",
       "    </tr>\n",
       "    <tr>\n",
       "      <th>Fev+ Beta</th>\n",
       "      <td>0.046128</td>\n",
       "      <td>0.446802</td>\n",
       "      <td>0.006332</td>\n",
       "      <td>2.011878e-07</td>\n",
       "      <td>1.513800e-05</td>\n",
       "      <td>0.005826</td>\n",
       "      <td>0.033434</td>\n",
       "      <td>0.059189</td>\n",
       "      <td>0.401639</td>\n",
       "      <td>2.865800e-07</td>\n",
       "      <td>9.367094e-07</td>\n",
       "      <td>0.000457</td>\n",
       "      <td>1.765872e-04</td>\n",
       "      <td>7.068642e-08</td>\n",
       "      <td>2.181862e-08</td>\n",
       "    </tr>\n",
       "    <tr>\n",
       "      <th>Imm. Acinar</th>\n",
       "      <td>0.000271</td>\n",
       "      <td>0.000155</td>\n",
       "      <td>0.000097</td>\n",
       "      <td>5.507672e-03</td>\n",
       "      <td>4.695931e-07</td>\n",
       "      <td>0.000026</td>\n",
       "      <td>0.000017</td>\n",
       "      <td>0.000024</td>\n",
       "      <td>0.000082</td>\n",
       "      <td>2.156592e-01</td>\n",
       "      <td>7.748607e-01</td>\n",
       "      <td>0.000054</td>\n",
       "      <td>1.162322e-06</td>\n",
       "      <td>3.730155e-04</td>\n",
       "      <td>2.871414e-03</td>\n",
       "    </tr>\n",
       "    <tr>\n",
       "      <th>Mat. Acinar</th>\n",
       "      <td>0.000095</td>\n",
       "      <td>0.000042</td>\n",
       "      <td>0.000023</td>\n",
       "      <td>4.541252e-04</td>\n",
       "      <td>9.772902e-08</td>\n",
       "      <td>0.000008</td>\n",
       "      <td>0.000003</td>\n",
       "      <td>0.000005</td>\n",
       "      <td>0.000017</td>\n",
       "      <td>1.129708e-01</td>\n",
       "      <td>8.862042e-01</td>\n",
       "      <td>0.000009</td>\n",
       "      <td>1.676563e-07</td>\n",
       "      <td>2.877803e-05</td>\n",
       "      <td>1.410861e-04</td>\n",
       "    </tr>\n",
       "  </tbody>\n",
       "</table>\n",
       "</div>"
      ],
      "text/plain": [
       "                Alpha      Beta     Delta        Ductal  \\\n",
       "Epsilon      0.117926  0.127452  0.022768  1.340906e-05   \n",
       "Fev+         0.018680  0.105285  0.010415  1.147575e-06   \n",
       "Fev+ Alpha   0.183577  0.132688  0.006454  2.838714e-07   \n",
       "Fev+ Beta    0.046128  0.446802  0.006332  2.011878e-07   \n",
       "Imm. Acinar  0.000271  0.000155  0.000097  5.507672e-03   \n",
       "Mat. Acinar  0.000095  0.000042  0.000023  4.541252e-04   \n",
       "\n",
       "             Eps/Delta progenitors   Epsilon      Fev+  Fev+ Alpha  Fev+ Beta  \\\n",
       "Epsilon               6.776192e-03  0.510515  0.027885    0.073310   0.103935   \n",
       "Fev+                  1.605750e-03  0.013052  0.374378    0.101963   0.335062   \n",
       "Fev+ Alpha            1.900650e-05  0.034202  0.044691    0.348964   0.248703   \n",
       "Fev+ Beta             1.513800e-05  0.005826  0.033434    0.059189   0.401639   \n",
       "Imm. Acinar           4.695931e-07  0.000026  0.000017    0.000024   0.000082   \n",
       "Mat. Acinar           9.772902e-08  0.000008  0.000003    0.000005   0.000017   \n",
       "\n",
       "              Imm. Acinar   Mat. Acinar  Ngn3 high  Ngn3 high cycling  \\\n",
       "Epsilon      1.708417e-05  5.924935e-05   0.008101       1.207093e-03   \n",
       "Fev+         3.175851e-06  9.053218e-06   0.035687       3.856363e-03   \n",
       "Fev+ Alpha   6.072953e-07  2.118810e-06   0.000553       1.456127e-04   \n",
       "Fev+ Beta    2.865800e-07  9.367094e-07   0.000457       1.765872e-04   \n",
       "Imm. Acinar  2.156592e-01  7.748607e-01   0.000054       1.162322e-06   \n",
       "Mat. Acinar  1.129708e-01  8.862042e-01   0.000009       1.676563e-07   \n",
       "\n",
       "                 Ngn3 low  Prlf. Ductal  \n",
       "Epsilon      2.859026e-05  5.211406e-06  \n",
       "Fev+         1.450474e-06  2.829853e-07  \n",
       "Fev+ Alpha   9.488833e-08  2.849218e-08  \n",
       "Fev+ Beta    7.068642e-08  2.181862e-08  \n",
       "Imm. Acinar  3.730155e-04  2.871414e-03  \n",
       "Mat. Acinar  2.877803e-05  1.410861e-04  "
      ]
     },
     "execution_count": 137,
     "metadata": {},
     "output_type": "execute_result"
    }
   ],
   "source": [
    "res"
   ]
  },
  {
   "cell_type": "code",
   "execution_count": 151,
   "id": "f4fbb4fb-389f-4c92-b1eb-1fe09ed5f722",
   "metadata": {},
   "outputs": [
    {
     "data": {
      "image/png": "[encoded data removed]",
      "text/plain": [
       "<Figure size 432x288 with 4 Axes>"
      ]
     },
     "metadata": {
      "needs_background": "light"
     },
     "output_type": "display_data"
    }
   ],
   "source": [
    "mpl.cell_transition(tp, save=\"/Users/dominik.klein/git_repos/test.png\")"
   ]
  },
  {
   "cell_type": "code",
   "execution_count": 39,
   "id": "ce5ea1a8-b8ab-4fe4-ba12-26662d48ad4f",
   "metadata": {},
   "outputs": [],
   "source": [
    "res = tp.cell_transition(0,1,{\"celltype\": ['Alpha', 'Beta', 'Delta', 'Ductal', 'Eps/Delta progenitors', 'Epsilon',\n",
    "       'Fev+', 'Fev+ Alpha', 'Fev+ Beta', 'Fev+ Delta', 'Imm. Acinar',\n",
    "       'Mat. Acinar', 'Ngn3 high', 'Ngn3 high cycling', 'Ngn3 low',\n",
    "       'Prlf. Ductal']},{\"celltype\": ['Alpha', 'Beta', 'Delta', 'Ductal', 'Eps/Delta progenitors', 'Epsilon','Prlf. Ductal']})"
   ]
  },
  {
   "cell_type": "code",
   "execution_count": 40,
   "id": "2dde5b7b-5b5b-48d1-9da4-7ca627e4bd38",
   "metadata": {},
   "outputs": [
    {
     "data": {
      "text/html": [
       "<div>\n",
       "<style scoped>\n",
       "    .dataframe tbody tr th:only-of-type {\n",
       "        vertical-align: middle;\n",
       "    }\n",
       "\n",
       "    .dataframe tbody tr th {\n",
       "        vertical-align: top;\n",
       "    }\n",
       "\n",
       "    .dataframe thead th {\n",
       "        text-align: right;\n",
       "    }\n",
       "</style>\n",
       "<table border=\"1\" class=\"dataframe\">\n",
       "  <thead>\n",
       "    <tr style=\"text-align: right;\">\n",
       "      <th>cell_annotations</th>\n",
       "      <th>Alpha</th>\n",
       "      <th>Beta</th>\n",
       "      <th>Delta</th>\n",
       "      <th>Ductal</th>\n",
       "      <th>Eps/Delta progenitors</th>\n",
       "      <th>Epsilon</th>\n",
       "      <th>Prlf. Ductal</th>\n",
       "    </tr>\n",
       "  </thead>\n",
       "  <tbody>\n",
       "    <tr>\n",
       "      <th>Ngn3 low</th>\n",
       "      <td>0.024206</td>\n",
       "      <td>0.042513</td>\n",
       "      <td>0.094907</td>\n",
       "      <td>1.080811e-01</td>\n",
       "      <td>1.602965e-02</td>\n",
       "      <td>1.438309e-02</td>\n",
       "      <td>5.040241e-02</td>\n",
       "    </tr>\n",
       "    <tr>\n",
       "      <th>Imm. Acinar</th>\n",
       "      <td>0.003800</td>\n",
       "      <td>0.006966</td>\n",
       "      <td>0.011662</td>\n",
       "      <td>1.001051e-02</td>\n",
       "      <td>9.339404e-05</td>\n",
       "      <td>2.558594e-04</td>\n",
       "      <td>1.177145e-02</td>\n",
       "    </tr>\n",
       "    <tr>\n",
       "      <th>Ngn3 high cycling</th>\n",
       "      <td>0.000908</td>\n",
       "      <td>0.001996</td>\n",
       "      <td>0.004878</td>\n",
       "      <td>9.090829e-08</td>\n",
       "      <td>2.813657e-03</td>\n",
       "      <td>2.911168e-03</td>\n",
       "      <td>1.926324e-07</td>\n",
       "    </tr>\n",
       "    <tr>\n",
       "      <th>Mat. Acinar</th>\n",
       "      <td>0.000011</td>\n",
       "      <td>0.000021</td>\n",
       "      <td>0.000021</td>\n",
       "      <td>3.428320e-05</td>\n",
       "      <td>1.211927e-07</td>\n",
       "      <td>3.945548e-07</td>\n",
       "      <td>2.398966e-05</td>\n",
       "    </tr>\n",
       "    <tr>\n",
       "      <th>Epsilon</th>\n",
       "      <td>0.104703</td>\n",
       "      <td>0.045027</td>\n",
       "      <td>0.111087</td>\n",
       "      <td>1.239134e-08</td>\n",
       "      <td>5.388984e-05</td>\n",
       "      <td>1.668677e-01</td>\n",
       "      <td>3.239834e-09</td>\n",
       "    </tr>\n",
       "    <tr>\n",
       "      <th>Fev+ Beta</th>\n",
       "      <td>0.059172</td>\n",
       "      <td>0.234524</td>\n",
       "      <td>0.036860</td>\n",
       "      <td>5.843194e-09</td>\n",
       "      <td>6.999031e-07</td>\n",
       "      <td>6.516157e-03</td>\n",
       "      <td>1.170423e-09</td>\n",
       "    </tr>\n",
       "    <tr>\n",
       "      <th>Fev+ Delta</th>\n",
       "      <td>0.030536</td>\n",
       "      <td>0.025921</td>\n",
       "      <td>0.054056</td>\n",
       "      <td>6.542151e-10</td>\n",
       "      <td>5.142958e-05</td>\n",
       "      <td>6.109503e-02</td>\n",
       "      <td>1.964458e-10</td>\n",
       "    </tr>\n",
       "    <tr>\n",
       "      <th>Alpha</th>\n",
       "      <td>0.464308</td>\n",
       "      <td>0.214275</td>\n",
       "      <td>0.097212</td>\n",
       "      <td>1.950927e-09</td>\n",
       "      <td>2.481669e-07</td>\n",
       "      <td>2.228018e-01</td>\n",
       "      <td>4.839887e-10</td>\n",
       "    </tr>\n",
       "    <tr>\n",
       "      <th>Eps/Delta progenitors</th>\n",
       "      <td>0.003067</td>\n",
       "      <td>0.003315</td>\n",
       "      <td>0.008759</td>\n",
       "      <td>1.939342e-08</td>\n",
       "      <td>1.398288e-02</td>\n",
       "      <td>1.591191e-01</td>\n",
       "      <td>8.061011e-09</td>\n",
       "    </tr>\n",
       "    <tr>\n",
       "      <th>Ngn3 high</th>\n",
       "      <td>0.051860</td>\n",
       "      <td>0.098703</td>\n",
       "      <td>0.213378</td>\n",
       "      <td>4.672182e-04</td>\n",
       "      <td>9.649424e-01</td>\n",
       "      <td>2.775036e-01</td>\n",
       "      <td>4.802920e-04</td>\n",
       "    </tr>\n",
       "    <tr>\n",
       "      <th>Fev+</th>\n",
       "      <td>0.026327</td>\n",
       "      <td>0.056048</td>\n",
       "      <td>0.177974</td>\n",
       "      <td>3.307649e-08</td>\n",
       "      <td>1.425567e-03</td>\n",
       "      <td>2.686575e-02</td>\n",
       "      <td>8.878047e-09</td>\n",
       "    </tr>\n",
       "    <tr>\n",
       "      <th>Prlf. Ductal</th>\n",
       "      <td>0.004655</td>\n",
       "      <td>0.008924</td>\n",
       "      <td>0.015933</td>\n",
       "      <td>2.814959e-01</td>\n",
       "      <td>2.998623e-04</td>\n",
       "      <td>4.786465e-04</td>\n",
       "      <td>6.485938e-01</td>\n",
       "    </tr>\n",
       "    <tr>\n",
       "      <th>Beta</th>\n",
       "      <td>0.021085</td>\n",
       "      <td>0.140091</td>\n",
       "      <td>0.007062</td>\n",
       "      <td>6.058174e-10</td>\n",
       "      <td>4.973645e-08</td>\n",
       "      <td>1.425304e-03</td>\n",
       "      <td>1.446154e-10</td>\n",
       "    </tr>\n",
       "    <tr>\n",
       "      <th>Fev+ Alpha</th>\n",
       "      <td>0.190804</td>\n",
       "      <td>0.099103</td>\n",
       "      <td>0.119539</td>\n",
       "      <td>6.307033e-09</td>\n",
       "      <td>1.922172e-06</td>\n",
       "      <td>5.864165e-02</td>\n",
       "      <td>1.698495e-09</td>\n",
       "    </tr>\n",
       "    <tr>\n",
       "      <th>Ductal</th>\n",
       "      <td>0.014558</td>\n",
       "      <td>0.022573</td>\n",
       "      <td>0.046672</td>\n",
       "      <td>5.999109e-01</td>\n",
       "      <td>3.043008e-04</td>\n",
       "      <td>1.134891e-03</td>\n",
       "      <td>2.887278e-01</td>\n",
       "    </tr>\n",
       "  </tbody>\n",
       "</table>\n",
       "</div>"
      ],
      "text/plain": [
       "cell_annotations          Alpha      Beta     Delta        Ductal  \\\n",
       "Ngn3 low               0.024206  0.042513  0.094907  1.080811e-01   \n",
       "Imm. Acinar            0.003800  0.006966  0.011662  1.001051e-02   \n",
       "Ngn3 high cycling      0.000908  0.001996  0.004878  9.090829e-08   \n",
       "Mat. Acinar            0.000011  0.000021  0.000021  3.428320e-05   \n",
       "Epsilon                0.104703  0.045027  0.111087  1.239134e-08   \n",
       "Fev+ Beta              0.059172  0.234524  0.036860  5.843194e-09   \n",
       "Fev+ Delta             0.030536  0.025921  0.054056  6.542151e-10   \n",
       "Alpha                  0.464308  0.214275  0.097212  1.950927e-09   \n",
       "Eps/Delta progenitors  0.003067  0.003315  0.008759  1.939342e-08   \n",
       "Ngn3 high              0.051860  0.098703  0.213378  4.672182e-04   \n",
       "Fev+                   0.026327  0.056048  0.177974  3.307649e-08   \n",
       "Prlf. Ductal           0.004655  0.008924  0.015933  2.814959e-01   \n",
       "Beta                   0.021085  0.140091  0.007062  6.058174e-10   \n",
       "Fev+ Alpha             0.190804  0.099103  0.119539  6.307033e-09   \n",
       "Ductal                 0.014558  0.022573  0.046672  5.999109e-01   \n",
       "\n",
       "cell_annotations       Eps/Delta progenitors       Epsilon  Prlf. Ductal  \n",
       "Ngn3 low                        1.602965e-02  1.438309e-02  5.040241e-02  \n",
       "Imm. Acinar                     9.339404e-05  2.558594e-04  1.177145e-02  \n",
       "Ngn3 high cycling               2.813657e-03  2.911168e-03  1.926324e-07  \n",
       "Mat. Acinar                     1.211927e-07  3.945548e-07  2.398966e-05  \n",
       "Epsilon                         5.388984e-05  1.668677e-01  3.239834e-09  \n",
       "Fev+ Beta                       6.999031e-07  6.516157e-03  1.170423e-09  \n",
       "Fev+ Delta                      5.142958e-05  6.109503e-02  1.964458e-10  \n",
       "Alpha                           2.481669e-07  2.228018e-01  4.839887e-10  \n",
       "Eps/Delta progenitors           1.398288e-02  1.591191e-01  8.061011e-09  \n",
       "Ngn3 high                       9.649424e-01  2.775036e-01  4.802920e-04  \n",
       "Fev+                            1.425567e-03  2.686575e-02  8.878047e-09  \n",
       "Prlf. Ductal                    2.998623e-04  4.786465e-04  6.485938e-01  \n",
       "Beta                            4.973645e-08  1.425304e-03  1.446154e-10  \n",
       "Fev+ Alpha                      1.922172e-06  5.864165e-02  1.698495e-09  \n",
       "Ductal                          3.043008e-04  1.134891e-03  2.887278e-01  "
      ]
     },
     "execution_count": 40,
     "metadata": {},
     "output_type": "execute_result"
    }
   ],
   "source": []
  },
  {
   "cell_type": "code",
   "execution_count": null,
   "id": "0fb6e465-88a6-45c1-8e64-22221414b9c2",
   "metadata": {},
   "outputs": [],
   "source": []
  }
 ],
 "metadata": {
  "kernelspec": {
   "display_name": "moscot_env",
   "language": "python",
   "name": "moscot_env"
  },
  "language_info": {
   "codemirror_mode": {
    "name": "ipython",
    "version": 3
   },
   "file_extension": ".py",
   "mimetype": "text/x-python",
   "name": "python",
   "nbconvert_exporter": "python",
   "pygments_lexer": "ipython3",
   "version": "3.8.13"
  }
 },
 "nbformat": 4,
 "nbformat_minor": 5
}
