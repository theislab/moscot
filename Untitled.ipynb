{
 "cells": [
  {
   "cell_type": "code",
   "execution_count": 1,
   "id": "1b68c3d2-830a-4267-ac38-4470ca025ab2",
   "metadata": {},
   "outputs": [],
   "source": [
    "%load_ext autoreload\n",
    "%autoreload 2"
   ]
  },
  {
   "cell_type": "code",
   "execution_count": 2,
   "id": "30d67998-9378-4ff6-9825-aefeb48582dc",
   "metadata": {},
   "outputs": [],
   "source": [
    "import moscot\n",
    "from anndata import AnnData\n",
    "import numpy as np\n",
    "from moscot.backends.ott import FGWSolver, SinkhornSolver, GWSolver, LRSinkhornSolver\n",
    "from moscot.solvers._data import TaggedArray, Tag\n",
    "import matplotlib.pyplot as plt\n",
    "import jax.numpy as jnp\n",
    "from typing import *\n",
    "import pandas as pd\n",
    "import networkx as nx\n",
    "import jax.numpy as jnp"
   ]
  },
  {
   "cell_type": "code",
   "execution_count": 3,
   "id": "aca81e56-4d12-45fe-b235-1f40620f5fc4",
   "metadata": {},
   "outputs": [],
   "source": [
    "x = np.random.normal(size=(64, 3))# source distribution: 128 cells, 3 genes\n",
    "y = np.random.normal(size=(128, 3))# target distribution: 128 cells, 3 genes\n",
    "\n",
    "adata_x = AnnData(x)\n",
    "adata_y = AnnData(y)\n",
    "\n",
    "adata_x.obs[\"group\"] = \"source\"\n",
    "adata_y.obs[\"group\"] = \"target\"\n",
    "\n",
    "adata_c = adata_x.concatenate(adata_y)\n",
    "adata_c.obs[\"group\"] = adata_c.obs[\"group\"].astype(\"category\")"
   ]
  },
  {
   "cell_type": "code",
   "execution_count": 4,
   "id": "efd34154-37b3-400e-8960-6f13ebdd1ce0",
   "metadata": {},
   "outputs": [],
   "source": [
    "from moscot.problems._compound_problem import CompoundProblem\n",
    "cp = CompoundProblem(adata_c, solver=SinkhornSolver(jit=False))"
   ]
  },
  {
   "cell_type": "code",
   "execution_count": 16,
   "id": "c9a38f1c-70f5-4982-b9d3-3883a869de73",
   "metadata": {},
   "outputs": [],
   "source": [
    "cp = cp.prepare(\n",
    "        key = \"group\", # this defines what is in source and target distribution\n",
    "        subset = None, # we consider all values in adata.obs[key], no subsetting\n",
    "        policy = \"sequential\", # we want to have source matched to target\n",
    "        x = {\"attr\": \"X\"}, # this is where source distribution is saved\n",
    "        y = {\"attr\": \"X\"}) # this is where target distribution is saved"
   ]
  },
  {
   "cell_type": "code",
   "execution_count": 18,
   "id": "b134897e-24a6-4515-b319-71b4fabd4343",
   "metadata": {},
   "outputs": [],
   "source": [
    "cp.solve(eps=0.1) # try it with rather small epsilon, we'll expect relatively sparse solution"
   ]
  },
  {
   "cell_type": "code",
   "execution_count": 41,
   "id": "fa8be043-a65d-4ac9-a8d1-3eedfba32d93",
   "metadata": {},
   "outputs": [],
   "source": [
    "output = cp.solution[(\"source\", \"target\")].solution\n",
    "transport_matrix_1 = output.transport_matrix"
   ]
  },
  {
   "cell_type": "code",
   "execution_count": 43,
   "id": "0f340c7a-e498-4c06-9249-ebed2ab89f88",
   "metadata": {},
   "outputs": [
    {
     "data": {
      "text/plain": [
       "<matplotlib.image.AxesImage at 0x7fc19241dc70>"
      ]
     },
     "execution_count": 43,
     "metadata": {},
     "output_type": "execute_result"
    },
    {
     "data": {
      "image/png": "[encoded data removed]",
      "text/plain": [
       "<Figure size 432x288 with 1 Axes>"
      ]
     },
     "metadata": {
      "needs_background": "light"
     },
     "output_type": "display_data"
    }
   ],
   "source": [
    "import matplotlib.pyplot as plt\n",
    "\n",
    "plt.imshow(transport_matrix_1, cmap='hot', interpolation='nearest')"
   ]
  },
  {
   "cell_type": "code",
   "execution_count": 44,
   "id": "b0a2e1f4-fbb1-4c01-a95b-97c9d1767042",
   "metadata": {},
   "outputs": [
    {
     "data": {
      "text/plain": [
       "<moscot.problems._compound_problem.CompoundProblem at 0x7fc197be79a0>"
      ]
     },
     "execution_count": 44,
     "metadata": {},
     "output_type": "execute_result"
    }
   ],
   "source": [
    "cp.solve(eps=1) #we'll expect a less sparse solution"
   ]
  },
  {
   "cell_type": "code",
   "execution_count": 45,
   "id": "4726e674-f277-4dde-a0aa-1a4f7eae865c",
   "metadata": {},
   "outputs": [],
   "source": [
    "output_2 = cp.solution[(\"source\", \"target\")].solution\n",
    "transport_matrix_2 = output_2.transport_matrix"
   ]
  },
  {
   "cell_type": "code",
   "execution_count": 46,
   "id": "0877123e-8606-4226-86f9-2ea1a07b6cd0",
   "metadata": {},
   "outputs": [
    {
     "data": {
      "text/plain": [
       "<matplotlib.image.AxesImage at 0x7fc1994f5e20>"
      ]
     },
     "execution_count": 46,
     "metadata": {},
     "output_type": "execute_result"
    },
    {
     "data": {
      "image/png": "[encoded data removed]",
      "text/plain": [
       "<Figure size 432x288 with 1 Axes>"
      ]
     },
     "metadata": {
      "needs_background": "light"
     },
     "output_type": "display_data"
    }
   ],
   "source": [
    "# this is less sparse\n",
    "plt.imshow(transport_matrix_2, cmap='hot', interpolation='nearest')"
   ]
  },
  {
   "cell_type": "code",
   "execution_count": null,
   "id": "a1f5bdfa-3167-4cdb-9fbd-eb7a432b1ed7",
   "metadata": {},
   "outputs": [],
   "source": []
  }
 ],
 "metadata": {
  "kernelspec": {
   "display_name": "moscot_kernel",
   "language": "python",
   "name": "moscot_kernel"
  },
  "language_info": {
   "codemirror_mode": {
    "name": "ipython",
    "version": 3
   },
   "file_extension": ".py",
   "mimetype": "text/x-python",
   "name": "python",
   "nbconvert_exporter": "python",
   "pygments_lexer": "ipython3",
   "version": "3.8.12"
  }
 },
 "nbformat": 4,
 "nbformat_minor": 5
}
