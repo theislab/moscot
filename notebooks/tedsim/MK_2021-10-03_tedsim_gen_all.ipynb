{
 "cells": [
  {
   "cell_type": "code",
   "execution_count": 1,
   "id": "6bfea55b",
   "metadata": {},
   "outputs": [
    {
     "name": "stderr",
     "output_type": "stream",
     "text": [
      "\n",
      "Attaching package: ‘dplyr’\n",
      "\n",
      "\n",
      "The following objects are masked from ‘package:stats’:\n",
      "\n",
      "    filter, lag\n",
      "\n",
      "\n",
      "The following objects are masked from ‘package:base’:\n",
      "\n",
      "    intersect, setdiff, setequal, union\n",
      "\n",
      "\n",
      "Attaching SeuratObject\n",
      "\n",
      "Loading required package: amap\n",
      "\n"
     ]
    }
   ],
   "source": [
    "#devtools::load_all(\"~/TedSim/TedSim_1.00/TedSim\")\n",
    "library(TedSim)\n",
    "library(dplyr)\n",
    "library(Seurat)\n",
    "library(ggplot2)\n",
    "library(reshape2)\n",
    "library(ctc)\n",
    "library(ape)\n",
    "#\n",
    "library(dichromat)\n",
    "library(scales)"
   ]
  },
  {
   "cell_type": "code",
   "execution_count": 10,
   "id": "hired-length",
   "metadata": {},
   "outputs": [
    {
     "data": {
      "text/html": [
       "<style>\n",
       ".list-inline {list-style: none; margin:0; padding: 0}\n",
       ".list-inline>li {display: inline-block}\n",
       ".list-inline>li:not(:last-child)::after {content: \"\\00b7\"; padding: 0 .5ex}\n",
       "</style>\n",
       "<ol class=list-inline><li>0.2</li><li>0.4</li><li>0.6</li><li>0.8</li><li>1</li></ol>\n"
      ],
      "text/latex": [
       "\\begin{enumerate*}\n",
       "\\item 0.2\n",
       "\\item 0.4\n",
       "\\item 0.6\n",
       "\\item 0.8\n",
       "\\item 1\n",
       "\\end{enumerate*}\n"
      ],
      "text/markdown": [
       "1. 0.2\n",
       "2. 0.4\n",
       "3. 0.6\n",
       "4. 0.8\n",
       "5. 1\n",
       "\n",
       "\n"
      ],
      "text/plain": [
       "[1] 0.2 0.4 0.6 0.8 1.0"
      ]
     },
     "metadata": {},
     "output_type": "display_data"
    },
    {
     "data": {
      "text/html": [
       "<style>\n",
       ".list-inline {list-style: none; margin:0; padding: 0}\n",
       ".list-inline>li {display: inline-block}\n",
       ".list-inline>li:not(:last-child)::after {content: \"\\00b7\"; padding: 0 .5ex}\n",
       "</style>\n",
       "<ol class=list-inline><li>0.1</li><li>0.3</li><li>0.5</li><li>0.7</li><li>0.9</li></ol>\n"
      ],
      "text/latex": [
       "\\begin{enumerate*}\n",
       "\\item 0.1\n",
       "\\item 0.3\n",
       "\\item 0.5\n",
       "\\item 0.7\n",
       "\\item 0.9\n",
       "\\end{enumerate*}\n"
      ],
      "text/markdown": [
       "1. 0.1\n",
       "2. 0.3\n",
       "3. 0.5\n",
       "4. 0.7\n",
       "5. 0.9\n",
       "\n",
       "\n"
      ],
      "text/plain": [
       "[1] 0.1 0.3 0.5 0.7 0.9"
      ]
     },
     "metadata": {},
     "output_type": "display_data"
    }
   ],
   "source": [
    "p_as <- seq(0.2, 1.0, length.out=5)\n",
    "cif_steps <- seq(0.1, 0.9, length.out=5)\n",
    "p_as; cif_steps"
   ]
  },
  {
   "cell_type": "code",
   "execution_count": 3,
   "id": "sought-stanford",
   "metadata": {},
   "outputs": [],
   "source": [
    "ncells <- 1024\n",
    "phyla <- read.tree(text='((t1:2, t2:2):1, (t3:2, t4:2):1):2;')\n",
    "#phyla <- read.tree(text='((t1:2, t2:2):1);')\n",
    "N_nodes <- 2*ncells-2\n",
    "ngenes <- 500\n",
    "max_walk <- 6\n",
    "# p_a <- 0.6\n",
    "n_cif <- 30\n",
    "n_diff <- 20\n",
    "# cif_step <- 0.25\n",
    "p_d <- 0\n",
    "mu <- 0.1\n",
    "N_char <- 32\n",
    "unif_on <- FALSE"
   ]
  },
  {
   "cell_type": "code",
   "execution_count": 9,
   "id": "national-radiation",
   "metadata": {},
   "outputs": [],
   "source": [
    "for (p_a in p_as) {\n",
    "    for (cif_step in cif_steps) {\n",
    "        modifier <- paste(\"\", p_a, cif_step, sep='_')\n",
    "        print(modifier)\n",
    "        \n",
    "        set.seed(42)\n",
    "        returnlist <- SIFGenerate(phyla, n_diff, step = cif_step)\n",
    "        sif_mean_raw <- returnlist$sif_mean_raw\n",
    "        sif_label <- sif_mean_raw[[1]][,2]\n",
    "        sif_mean_raw <- lapply(sif_mean_raw,function(X){\n",
    "          X[,4]\n",
    "        })\n",
    "        sif_mean_raw <- do.call(cbind,sif_mean_raw)\n",
    "        sif_pca <- prcomp(sif_mean_raw)\n",
    "        plot_pca <- data.frame(label=sif_label,x=sif_pca$x[,1],y=sif_pca$x[,2])\n",
    "        p <- ggplot(plot_pca, aes(x, y))\n",
    "        p <- p + geom_point(aes(colour = factor(label)),shape=20) + labs(color='cell states')\n",
    "        p <- p+theme(panel.grid.major = element_blank(), panel.grid.minor = element_blank(),\n",
    "                     panel.background = element_blank(), axis.line = element_line(colour = \"black\"))\n",
    "        \n",
    "        cifs <- SimulateCIFs(ncells,phyla,p_a = p_a,n_CIF = n_cif,n_diff = n_diff,\n",
    "                     step = cif_step, p_d = p_d, mu = mu,\n",
    "                     Sigma = 0.5, N_char = N_char,\n",
    "                     max_walk = max_walk, SIF_res = returnlist, unif_on = unif_on)\n",
    "        #We only need the leaf cells for experiments\n",
    "        cif_leaves <- lapply(c(1:3),function(parami){\n",
    "          cif_leaves_all <- cifs[[1]][[parami]][c(1:ncells),]\n",
    "          return(cif_leaves_all)\n",
    "        })\n",
    "        cif_res <- list(cif_leaves,cifs[[2]])\n",
    "        states <- cifs[[2]]\n",
    "        states <- states[1:N_nodes,]\n",
    "        states_leaves <- states[1:ncells,]\n",
    "        muts <- cifs[[7]]\n",
    "        rownames(muts) <- paste(\"cell\",states[,4],sep = \"_\")\n",
    "        muts_leaves <- muts[1:ncells,]\n",
    "        \n",
    "                #simulate true counts\n",
    "        true_counts_res <- CIF2Truecounts(ngenes = ngenes, ncif = n_cif,\n",
    "                                          ge_prob = 0.3,ncells = N_nodes, cif_res = cifs)\n",
    "        \n",
    "        tsne_true_counts <- PlotTsne(meta=states, data=log2(true_counts_res[[1]]+1), cif_type=\"continuous\", n_pc=30, label='cluster', saving = F, plotname=\"Discrete population (true counts)\")\n",
    "        umap_true_counts <- PlotUmap(meta=states, data=log2(true_counts_res[[1]]+1), n_pc=30, label='cluster', saving = F, plotname=\"Differentiating population (true counts)\")\n",
    "        tsne_true_counts[[2]] + ggtitle(\"Discrete population (true counts)\") + xlab(\"tSNE 1\") + ylab(\"tSNE 2\") +  theme(axis.text = element_text(size = 20), axis.title = element_text(size = 30),legend.text = element_text(size = 20))\n",
    "        umap_true_counts[[2]] + ggtitle(\"Continuous population (true counts)\") + xlab(\"UMAP 1\") + ylab(\"UMAP 2\") +  theme(axis.text = element_text(size = 20), axis.title = element_text(size = 30),legend.text = element_text(size = 20))\n",
    "    \n",
    "        data(gene_len_pool)\n",
    "        gene_len <- sample(gene_len_pool, ngenes, replace = FALSE)\n",
    "        observed_counts <- True2ObservedCounts(true_counts=true_counts_res[[1]], meta_cell=true_counts_res[[3]],\n",
    "                                               protocol=\"UMI\", alpha_mean=0.2,\n",
    "                                               alpha_sd=0.05, gene_len=gene_len, depth_mean=1e5, depth_sd=3e3)\n",
    "    \n",
    "        umap_UMI_counts <- PlotUmap(meta=states, data=log2(observed_counts[[1]]+1), n_pc=30, label='cluster', saving = F, plotname=\"Differentiating population (observed counts)\")\n",
    "        umap_UMI_counts[[2]] + ggtitle(\"Continuous population (observed counts)\") + xlab(\"UMAP1\") + ylab(\"UMAP 2\") +  theme(axis.text = element_text(size = 20), axis.title = element_text(size = 30),legend.text = element_text(size = 20))\n",
    "    \n",
    "    \n",
    "        muts_table <- table(unlist(muts))\n",
    "        muts_table <- muts_table[dimnames(muts_table)[[1]]!='0']\n",
    "        muts_table <- muts_table[dimnames(muts_table)[[1]]!='-']\n",
    "        muts_prop <- prop.table(sort(muts_table,decreasing = TRUE))\n",
    "        muts_prop <- muts_prop[1:15]\n",
    "        df_prop <- as.data.frame(muts_prop)\n",
    "        p <- ggplot(df_prop) + geom_col(aes(x = Var1,y = Freq))\n",
    "        p <- p + ggtitle(\"Distribution of mutations: Fitted data\") +\n",
    "          xlab(\"Mutated States\") + ylab(\"Freq\")\n",
    "        p + theme(title =element_text(size=20),axis.text = element_text(size = 18), axis.title = element_text(size = 25))\n",
    "                  \n",
    "        gene_expression_dir <- paste0(\"./output_f/counts_tedsim\", modifier, \".csv\")\n",
    "        cell_meta_dir <- paste0(\"./output_f/cell_meta_tedsim\", modifier, \".csv\")\n",
    "        character_matrix_dir <- paste0(\"./output_f/character_matrix\", modifier, \".txt\")\n",
    "        tree_gt_dir <- paste0(\"./output_f/tree_gt_bin_tedsim\", modifier, \".newick\")\n",
    "        \n",
    "        write.tree(cifs[[4]], tree_gt_dir)\n",
    "        write.csv(observed_counts[[1]], gene_expression_dir, row.names=FALSE)\n",
    "        write.csv(states, cell_meta_dir)\n",
    "        write.table(muts, character_matrix_dir)\n",
    "        \n",
    "        write.csv(cifs[[4]]$edge, paste0(\"./output_f/edges\", modifier, \".csv\"))\n",
    "        write.csv(states, paste0(\"./output_f/states_full\", modifier, \".csv\"))\n",
    "    }\n",
    "}"
   ]
  }
 ],
 "metadata": {
  "kernelspec": {
   "display_name": "R",
   "language": "R",
   "name": "ir"
  },
  "language_info": {
   "codemirror_mode": "r",
   "file_extension": ".r",
   "mimetype": "text/x-r-source",
   "name": "R",
   "pygments_lexer": "r",
   "version": "4.0.4"
  }
 },
 "nbformat": 4,
 "nbformat_minor": 5
}
