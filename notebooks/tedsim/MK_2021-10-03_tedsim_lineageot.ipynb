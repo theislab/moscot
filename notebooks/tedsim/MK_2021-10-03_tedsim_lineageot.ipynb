{
 "cells": [
  {
   "cell_type": "code",
   "execution_count": 1,
   "id": "b25d9ede",
   "metadata": {},
   "outputs": [],
   "source": [
    "from jax.config import config\n",
    "config.update(\"jax_enable_x64\", True)"
   ]
  },
  {
   "cell_type": "code",
   "execution_count": 2,
   "id": "05e49fec",
   "metadata": {},
   "outputs": [],
   "source": [
    "import scanpy as sc\n",
    "import pandas as pd\n",
    "import newick\n",
    "from Bio import Phylo\n",
    "from anndata import AnnData\n",
    "import ete3\n",
    "from scipy.sparse import issparse"
   ]
  },
  {
   "cell_type": "code",
   "execution_count": 3,
   "id": "f8605b2c",
   "metadata": {},
   "outputs": [],
   "source": [
    "import ot\n",
    "import lineageot\n",
    "import lineageot.evaluation as sim_eval\n",
    "import lineageot.inference as sim_inf\n",
    "import lineageot.simulation as sim\n",
    "from lineageot.inference import barcode_distances\n",
    "\n",
    "from jax import numpy as jnp\n",
    "from moscot import FusedGW\n",
    "import ott\n",
    "import matplotlib.pyplot as plt\n",
    "from copy import deepcopy\n",
    "import networkx as nx\n",
    "import seaborn as sns\n",
    "import numpy as np"
   ]
  },
  {
   "cell_type": "code",
   "execution_count": 4,
   "id": "7ffd6ec5",
   "metadata": {},
   "outputs": [],
   "source": [
    "root = \"output\""
   ]
  },
  {
   "cell_type": "code",
   "execution_count": 5,
   "id": "82f84228",
   "metadata": {},
   "outputs": [],
   "source": [
    "edges = pd.read_csv(f\"./{root}/edges.csv\", index_col=0)\n",
    "states_full = pd.read_csv(f\"./{root}/states_full.csv\", index_col=0)"
   ]
  },
  {
   "cell_type": "code",
   "execution_count": 6,
   "id": "622441e4",
   "metadata": {
    "scrolled": true
   },
   "outputs": [],
   "source": [
    "tree = newick.read(f\"./{root}/tree_gt_bin_tedsim_pd0.newick\")[0]"
   ]
  },
  {
   "cell_type": "code",
   "execution_count": 7,
   "id": "e14e82f2",
   "metadata": {},
   "outputs": [],
   "source": [
    "# taken from cassiopeia\n",
    "def to_newick(tree: nx.DiGraph, record_branch_lengths: bool = False) -> str:\n",
    "    \"\"\"Converts a networkx graph to a newick string.\n",
    "\n",
    "    Args:\n",
    "        tree: A networkx tree\n",
    "        record_branch_lengths: Whether to record branch lengths on the tree in\n",
    "            the newick string\n",
    "\n",
    "    Returns:\n",
    "        A newick string representing the topology of the tree\n",
    "    \"\"\"\n",
    "\n",
    "    def _to_newick_str(g, node):\n",
    "        is_leaf = g.out_degree(node) == 0\n",
    "        weight_string = \"\"\n",
    "\n",
    "        if record_branch_lengths and g.in_degree(node) > 0:\n",
    "            parent = list(g.predecessors(node))[0]\n",
    "            weight_string = \":\" + str(g[parent][node][\"length\"])\n",
    "\n",
    "        _name = str(node)\n",
    "        return (\n",
    "            \"%s\" % (_name,) + weight_string\n",
    "            if is_leaf\n",
    "            else (\n",
    "                \"(\"\n",
    "                + \",\".join(\n",
    "                    _to_newick_str(g, child) for child in g.successors(node)\n",
    "                )\n",
    "                + \")\"\n",
    "                + weight_string\n",
    "            )\n",
    "        )\n",
    "\n",
    "    root = [node for node in tree if tree.in_degree(node) == 0][0]\n",
    "    return _to_newick_str(tree, root) + \";\"\n",
    "\n",
    "\n",
    "def ete3_to_networkx(adata: AnnData, tree: ete3.Tree) -> nx.DiGraph:\n",
    "    \"\"\"Converts an ete3 Tree to a networkx DiGraph.\n",
    "\n",
    "    Args:\n",
    "        tree: an ete3 Tree object\n",
    "\n",
    "    Returns:\n",
    "        a networkx DiGraph\n",
    "    \"\"\"\n",
    "\n",
    "    g = nx.DiGraph()\n",
    "    internal_node_iter = -1\n",
    "    \n",
    "    for n in tree.traverse():\n",
    "        if n.is_root():\n",
    "            n.name = \"root\"\n",
    "            break    \n",
    "    \n",
    "    for n in tree.traverse():\n",
    "        if n.is_root():\n",
    "            continue\n",
    "        if n.name == \"\":\n",
    "            n.name = internal_node_iter\n",
    "            internal_node_iter -= 1\n",
    "        elif n.name.startswith(\"t\"):\n",
    "            names = [i for i, name in enumerate(adata.obs_names) if f\"t{name}\" == n.name]\n",
    "            assert len(names) == 1, names\n",
    "            n.name = names[0]\n",
    "\n",
    "        g.add_edge(n.up.name, n.name)\n",
    "        \n",
    "    for n in g.nodes:\n",
    "        if n == 'root':\n",
    "            assert g.in_degree(n) == 0, (n, g.in_degree(n))\n",
    "        else:\n",
    "            assert g.in_degree(n) == 1, (n, g.in_degree(n))\n",
    "\n",
    "    return g\n",
    "\n",
    "\n",
    "def prune_tree(adata, tree: newick.Node, depth: int, remove: bool = True) -> newick.Node:\n",
    "    tree = deepcopy(tree)\n",
    "    if depth is None:\n",
    "        return adata.copy(), tree\n",
    "    adata = adata[adata.obs[depth_key] == depth].copy()\n",
    "    names = [f\"t{i}\" for i in adata.obs_names]\n",
    "    print(f\"Keeping {len(names)} nodes\")\n",
    "    tree.prune_by_names(names, inverse=True)\n",
    "    if remove:\n",
    "        return adata, remove_redundant(tree, keep_leaf_name=True)\n",
    "    \n",
    "    return adata, tree\n",
    "\n",
    "def remove_redundant(tree: newick.Node, **kwargs) -> newick.Node:\n",
    "    tree.remove_redundant_nodes(**kwargs)\n",
    "    return tree\n",
    "\n",
    "def print_tree(tree: newick.Node):\n",
    "    print(tree.ascii_art())"
   ]
  },
  {
   "cell_type": "code",
   "execution_count": 8,
   "id": "17965f74",
   "metadata": {},
   "outputs": [],
   "source": [
    "def _internal_nodes_fixed(tree):\n",
    "    \"\"\"\n",
    "    Returns a list of the non-leaf nodes of a tree\n",
    "    \"\"\"\n",
    "    nodes = [node for node in tree if tree.degree(node) >= 2]\n",
    "    nodes.sort(key=lambda n: np.inf if n == 'root' else int(n))\n",
    "    if nodes[-1] == 'root':\n",
    "        nodes = nodes[:-1]\n",
    "    return nodes\n",
    "\n",
    "\n",
    "# monkeypatched because our tree has 'root' somehow inside and it's problematic with the sort\n",
    "sim_inf.get_internal_nodes = _internal_nodes_fixed\n",
    "\n",
    "\n",
    "def create_cell(adata: AnnData, *, ix=None, cell_id=None, key=None):\n",
    "    \"\"\"\n",
    "    Create LineageOT cell based on index or cell ID.\n",
    "    \n",
    "    adata: Annotated data object.\n",
    "    ix: Index\n",
    "    cell_id: Cell ID. Only one of `ix` or `cell_id` can be supplied.\n",
    "    key: Key in `adata.obsm` from where to get the features. If `None`, use X.\n",
    "    \"\"\"\n",
    "    assert sum([ix is not None, cell_id is not None]) == 1, \"Only 1 of `ix` or `cell_id` must be speciied\"\n",
    "    if ix is not None:\n",
    "        ix = int(ix)\n",
    "        data = adata.X[ix] if key is None else adata.obsm[key][ix]\n",
    "        bc = adata.obsm['barcodes'][ix].copy()\n",
    "        metadata = adata.obs.iloc[ix].to_dict()\n",
    "    else:\n",
    "        cell_id = str(cell_id)\n",
    "        bdata = adata[cell_id].copy()\n",
    "        data = bdata.X if key is None else bdata.obsm[key]\n",
    "        data = data[0]\n",
    "        bc = bdata.obsm['barcodes'][0]\n",
    "        metadata = bdata.obs.iloc[0].to_dict()\n",
    "        \n",
    "    if issparse(data):\n",
    "        data = data.A\n",
    "    \n",
    "    return sim.Cell(data, bc), metadata\n",
    "\n",
    "\n",
    "def annotate_inner_nodes(G: nx.DiGraph) -> nx.DiGraph:\n",
    "    \"\"\"\n",
    "    Correctly annotate inner tree nodes\n",
    "    \n",
    "    G: Lineage tree.\n",
    "    \"\"\"\n",
    "    G = G.copy()\n",
    "    leaves = sim_inf.get_leaves(G, include_root=False)\n",
    "    queue = leaves[:]\n",
    "    \n",
    "    while queue:\n",
    "        ix = queue[0]\n",
    "        queue = queue[1:]\n",
    "        assert G.in_degree(ix) == 1, (ix, G.in_edges(ix))\n",
    "        (parent_node_ix, _ix), = G.in_edges(ix)\n",
    "        assert _ix == ix, (_ix, ix)\n",
    "        if isinstance(parent_node_ix, str) or parent_node_ix >= 0:\n",
    "            continue\n",
    "\n",
    "        cell_id = G.nodes[ix]['cellID']\n",
    "        parent = str(edges.loc[int(cell_id)]['V1'])\n",
    "        if parent in G.nodes:\n",
    "            continue\n",
    "        G = nx.relabel_nodes(G, {parent_node_ix: parent})\n",
    "        \n",
    "        assert 'cell' not in G.nodes[parent], G.nodes[parent]\n",
    "        try:\n",
    "            cell, metadata = create_cell(adata_observed, cell_id=parent, key='X_pca_30')\n",
    "            G.nodes[parent]['cell'] = cell\n",
    "            for k, v in metadata.items():\n",
    "                G.nodes[parent][k] = v\n",
    "        except KeyError as e:\n",
    "            assert parent in str(e)\n",
    "            G.nodes[parent]['cellID'] = int(parent)\n",
    "            # unobserved internal state\n",
    "            \n",
    "        queue.append(parent)\n",
    "        \n",
    "    for n in G.nodes:\n",
    "        if isinstance(n, str):\n",
    "            try:\n",
    "                n = int(n)\n",
    "                assert n > 0, n\n",
    "            except ValueError:\n",
    "                assert n == 'root', n\n",
    "        else:\n",
    "            assert n >= 0, n\n",
    "    \n",
    "    leaves_new = sim_inf.get_leaves(G, include_root=False)\n",
    "    assert sorted(leaves) == sorted(leaves_new)\n",
    "    \n",
    "    return G\n",
    "\n",
    "def add_times(adata: AnnData, G: nx.DiGraph, tp, *, rate_estimate=None, method='least_squares') -> nx.DiGraph:\n",
    "    \"\"\"\n",
    "    Add time information to nodes/edges, as done in LineageOT.\n",
    "    \"\"\"\n",
    "    G = deepcopy(G)\n",
    "    sim_inf.add_leaf_times(G, tp)\n",
    "    \n",
    "    if rate_estimate is None:\n",
    "        rate_estimate = sim_inf.rate_estimator(adata.obsm['barcodes'], tp)\n",
    "    sim_inf.annotate_tree(\n",
    "        G, rate_estimate * np.ones(adata.obsm['barcodes'].shape[1]),\n",
    "        time_inference_method = method, overwrite_times=True\n",
    "    );\n",
    "    return G\n",
    "\n",
    "\n",
    "def validate(adata, G, key=None, adata_full=None):\n",
    "    \"\"\"\n",
    "    Validate that the truee tree is correctly constructed.\n",
    "    \n",
    "    adata: Subsetted annotated data object.\n",
    "    G: Tree for the later time point.\n",
    "    key: Key in `adata.obsm` from where to get the features. If `None`, use X.\n",
    "    adata_full: AnnData containing not-observed RNA.\n",
    "    \"\"\"\n",
    "    for i in G.nodes:\n",
    "        n = G.nodes[i]\n",
    "        if isinstance(i, int):\n",
    "            data = adata.X[i] if key is None else adata.obsm[key][i]\n",
    "            bc = adata.obsm['barcodes'][i]\n",
    "            np.testing.assert_array_equal(n['cell'].x, data)\n",
    "            np.testing.assert_array_equal(n['cell'].barcode, bc)\n",
    "            for k in ['parent', 'cluster', 'depth', 'cellID']:\n",
    "                assert n[k] == adata.obs[k].iloc[i], adata.obs\n",
    "            \n",
    "            assert n['cellID'] == adata.obs.iloc[i]['cellID'], (n['cellID'], adata.obs.iloc[i]['cellID'])\n",
    "        elif isinstance(i, str) and i != \"root\" and adata_full is not None:\n",
    "            bdata = adata_full[i]\n",
    "            data = bdata.X[0] if key is None else bdata.obsm[key][0]\n",
    "            bc = bdata.obsm['barcodes'][0]\n",
    "            np.testing.assert_array_equal(n['cell'].x, data)\n",
    "            np.testing.assert_array_equal(n['cell'].barcode, bc)\n",
    "            for k in ['parent', 'cluster', 'depth', 'cellID']:\n",
    "                assert n[k] == bdata.obs[k].iloc[0], adata.obs\n",
    "            \n",
    "            assert n['cellID'] == int(bdata.obs_names[0]), n['cellID']\n",
    "        assert 'time_to_parent' in n, n\n",
    "    for e in G.edges:\n",
    "        assert 'time' in G.edges[e].keys(), e\n",
    "        \n",
    "\n",
    "\n",
    "def construct_gt_tree(adata: AnnData, tree: newick.Node, *, depth: int, key=None, **kwargs):\n",
    "    \"\"\"\n",
    "    Construct GT tree for LineageOT\n",
    "    \n",
    "    adata: Annotated data object.\n",
    "    tree: Lineage tree from simulation.\n",
    "    depth: Depth\n",
    "    remove: Remove useless nodes.\n",
    "    key: Key in `adata.obsm` from where to get the features. If `None`, use X.\n",
    "    \"\"\"\n",
    "    bdata, tree = prune_tree(adata, tree, depth=depth, remove=True)\n",
    "    G = ete3_to_networkx(bdata, ete3.Tree(newick.dumps(tree), 1))\n",
    "    for n in G.nodes:\n",
    "        assert isinstance(n, int) or n == 'root', n\n",
    "        try:\n",
    "            if n == 'root':\n",
    "                G.nodes[n]['time_to_parent'] = 0\n",
    "                G.nodes[n]['cell'] = sim.Cell(np.nan, np.zeros(adata.obsm['barcodes'].shape[1]))\n",
    "                continue\n",
    "            # TODO: from sim\n",
    "            # G.nodes[n]['time_to_parent'] = depth\n",
    "            if n < 0:\n",
    "                raise IndexError(n)\n",
    "            cell, metadata = create_cell(bdata, ix=n, key=key)\n",
    "            G.nodes[n]['cell'] = cell\n",
    "            for k, v in metadata.items():\n",
    "                G.nodes[n][k] = v\n",
    "        except IndexError as e:\n",
    "            pass\n",
    "            # print(e)\n",
    "    for e in G.edges:\n",
    "        # TODO: from sim\n",
    "        pass\n",
    "        # G.edges[e]['time'] = np.nan\n",
    "      \n",
    "    # add the times\n",
    "    G = annotate_inner_nodes(G)\n",
    "    if depth is not None:\n",
    "        G = add_times(bdata, G, depth, **kwargs)\n",
    "        \n",
    "    return bdata, G\n",
    "\n",
    "\n",
    "def add_node_depths(adata: AnnData, G: nx.DiGraph):\n",
    "    if 'node_depth' in adata.obs:\n",
    "        print(\"Node depth already present. Skipping\")\n",
    "        return\n",
    "    G.nodes['root']['node_depth'] = 0\n",
    "    depths = {}\n",
    "    for n in nx.dfs_preorder_nodes(G, 'root'):\n",
    "        try:\n",
    "            (parent, _), = G.in_edges(n)\n",
    "            G.nodes[n]['node_depth'] = G.nodes[parent]['node_depth'] + 1\n",
    "        except ValueError as e:\n",
    "            assert \"not enough values to unpack\" in str(e)\n",
    "        try:\n",
    "            depths[str(G.nodes[n]['cellID'])] = G.nodes[n]['node_depth']\n",
    "        except KeyError:\n",
    "            assert n == \"root\"\n",
    "    depths = pd.Series(depths, name='node_depth')\n",
    "    adata.obs = adata.obs.merge(depths, left_index=True, right_index=True, how='inner')\n",
    "    \n",
    "\n",
    "def cut_tree_at_depth(G: nx.DiGraph, depth):\n",
    "    depth += 1\n",
    "    G_new = deepcopy(G)\n",
    "    fst_n, snd_n = [], [\"synroot\"]\n",
    "    synthetic_root = G_new.add_node(\"synroot\", **deepcopy(G.nodes['root']))\n",
    "    for n in nx.breadth_first_search.bfs_tree(G, 'root'):\n",
    "        nd = G.nodes[n]['node_depth']\n",
    "        if nd < depth:\n",
    "            fst_n.append(n)\n",
    "        else:\n",
    "            snd_n.append(n)\n",
    "        if nd == depth:\n",
    "            (parent, _), = G.in_edges(n)\n",
    "            G_new.remove_edge(parent, n)\n",
    "            G_new.add_edge(\"synroot\", n)\n",
    "    \n",
    "    top = nx.subgraph(G_new, fst_n)\n",
    "    bottom = nx.subgraph(G_new, snd_n)\n",
    "    bottom = nx.relabel_nodes(bottom, {\"synroot\": \"root\"})\n",
    "    return top, bottom\n",
    "\n",
    "\n",
    "def get_true_coupling(G_t, G):\n",
    "    num_cells_early = len(sim_inf.get_leaves(G_t)) - 1\n",
    "    num_cells_late = len(sim_inf.get_leaves(G)) - 1\n",
    "    \n",
    "    coupling = np.zeros([num_cells_early, num_cells_late])\n",
    "    \n",
    "    cells_early = sim_inf.get_leaves(G_t, include_root = False)\n",
    "    \n",
    "    for i, cell in enumerate(cells_early):\n",
    "        descendants = sim_inf.get_leaf_descendants(G, cell)\n",
    "        coupling[i, descendants] = 1/(num_cells_early*len(descendants))\n",
    "        \n",
    "    return pd.DataFrame(coupling, index=cells_early, columns=list(map(str, range(1, num_cells_late + 1))))"
   ]
  },
  {
   "cell_type": "code",
   "execution_count": 9,
   "id": "88217686",
   "metadata": {},
   "outputs": [
    {
     "name": "stderr",
     "output_type": "stream",
     "text": [
      "/home/michal/.miniconda3/envs/cellrank/lib/python3.8/site-packages/anndata/_core/anndata.py:120: ImplicitModificationWarning: Transforming to str index.\n",
      "  warnings.warn(\"Transforming to str index.\", ImplicitModificationWarning)\n"
     ]
    }
   ],
   "source": [
    "adata = AnnData(X=pd.read_csv(f\"./{root}/counts_tedsim_pa0.75_step0.25.csv\").T.values,\n",
    "                obs=pd.read_csv(f\"./{root}/cell_meta_tedsim_pa0.75_step0.25.csv\", index_col=0),\n",
    "                obsm={\"barcodes\": pd.read_csv(f\"./{root}/character_matrix_pd0.txt\", sep=\" \").values})\n",
    "bcs = adata.obsm['barcodes']\n",
    "if not np.issubdtype(bcs.dtype, int):\n",
    "    bcs[bcs == '-'] = -1\n",
    "    bcs = bcs.astype(int)\n",
    "    adata.obsm['barcodes'] = bcs\n",
    "adata.obs['cluster'] = adata.obs['cluster'].astype(\"category\")\n",
    "adata.obs['depth'] = adata.obs['depth'].astype(int)\n",
    "adata.obs['parent'] = adata.obs['parent'].astype(\"category\")"
   ]
  },
  {
   "cell_type": "code",
   "execution_count": 10,
   "id": "73c899c4",
   "metadata": {},
   "outputs": [],
   "source": [
    "adata_observed = adata.copy()"
   ]
  },
  {
   "cell_type": "code",
   "execution_count": 11,
   "id": "0cf859fe",
   "metadata": {},
   "outputs": [],
   "source": [
    "sc.pp.normalize_total(adata_observed, target_sum=1e4)\n",
    "sc.pp.log1p(adata_observed)\n",
    "sc.pp.highly_variable_genes(adata_observed)\n",
    "sc.tl.pca(adata_observed, use_highly_variable=False)\n",
    "sc.pp.neighbors(adata_observed, n_pcs=30)\n",
    "sc.tl.umap(adata_observed)\n",
    "adata_observed.obsm['X_pca_30'] = adata_observed.obsm['X_pca'][:, :30].copy()"
   ]
  },
  {
   "cell_type": "code",
   "execution_count": 12,
   "id": "0029207d",
   "metadata": {},
   "outputs": [
    {
     "name": "stderr",
     "output_type": "stream",
     "text": [
      "/home/michal/.miniconda3/envs/cellrank/lib/python3.8/site-packages/anndata/_core/anndata.py:1220: FutureWarning: The `inplace` parameter in pandas.Categorical.reorder_categories is deprecated and will be removed in a future version. Removing unused categories will always return a new Categorical object.\n",
      "  c.reorder_categories(natsorted(c.categories), inplace=True)\n",
      "... storing 'color' as categorical\n"
     ]
    },
    {
     "data": {
      "image/png": "[encoded data removed]",
      "text/plain": [
       "<Figure size 432x288 with 2 Axes>"
      ]
     },
     "metadata": {
      "needs_background": "light"
     },
     "output_type": "display_data"
    }
   ],
   "source": [
    "sc.pl.umap(adata_observed, color='depth')"
   ]
  },
  {
   "cell_type": "code",
   "execution_count": 13,
   "id": "28f07fa0",
   "metadata": {},
   "outputs": [],
   "source": [
    "epsilon = 1e-2\n",
    "state_key = 'X_pca_30'\n",
    "depth_key = 'depth'\n",
    "rate_estimate = 0.11\n",
    "\n",
    "early_tp = 15\n",
    "late_tp = 16"
   ]
  },
  {
   "cell_type": "code",
   "execution_count": 14,
   "id": "816aecca",
   "metadata": {},
   "outputs": [
    {
     "name": "stdout",
     "output_type": "stream",
     "text": [
      "Keeping 190 nodes\n",
      "     pcost       dcost       gap    pres   dres\n",
      " 0: -2.2850e+04 -2.4194e+04  5e+03  1e-01  3e-01\n",
      " 1: -2.2807e+04 -2.3376e+04  6e+02  4e-03  1e-02\n",
      " 2: -2.2894e+04 -2.2988e+04  9e+01  3e-04  8e-04\n",
      " 3: -2.2913e+04 -2.2923e+04  1e+01  1e-05  3e-05\n",
      " 4: -2.2915e+04 -2.2916e+04  9e-01  2e-07  7e-07\n",
      " 5: -2.2916e+04 -2.2916e+04  6e-02  3e-09  9e-09\n",
      " 6: -2.2916e+04 -2.2916e+04  3e-03  3e-11  1e-10\n",
      "Optimal solution found.\n"
     ]
    }
   ],
   "source": [
    "bdata, G = construct_gt_tree(adata_observed, tree, depth=late_tp, key=state_key,\n",
    "                             rate_estimate=rate_estimate,\n",
    "                             method='least_squares')\n",
    "validate(bdata, G, key=state_key)"
   ]
  },
  {
   "cell_type": "code",
   "execution_count": 15,
   "id": "32634d76",
   "metadata": {},
   "outputs": [],
   "source": [
    "eadata = adata_observed[adata_observed.obs[depth_key] == early_tp]\n",
    "ladata = adata_observed[adata_observed.obs[depth_key] == late_tp]"
   ]
  },
  {
   "cell_type": "code",
   "execution_count": 16,
   "id": "b7fae14b",
   "metadata": {},
   "outputs": [
    {
     "name": "stdout",
     "output_type": "stream",
     "text": [
      "     pcost       dcost       gap    pres   dres\n",
      " 0: -2.1993e+04 -2.3192e+04  4e+03  1e-01  3e-01\n",
      " 1: -2.2168e+04 -2.2913e+04  9e+02  2e-02  4e-02\n",
      " 2: -2.2216e+04 -2.2344e+04  1e+02  2e-03  4e-03\n",
      " 3: -2.2230e+04 -2.2292e+04  6e+01  9e-17  1e-16\n",
      " 4: -2.2240e+04 -2.2248e+04  8e+00  9e-17  2e-16\n",
      " 5: -2.2241e+04 -2.2242e+04  5e-01  9e-17  2e-16\n",
      " 6: -2.2241e+04 -2.2241e+04  2e-02  9e-17  2e-16\n",
      " 7: -2.2241e+04 -2.2241e+04  2e-03  9e-17  2e-16\n",
      "Optimal solution found.\n"
     ]
    }
   ],
   "source": [
    "T = lineageot.fit_tree(ladata, late_tp)"
   ]
  },
  {
   "cell_type": "code",
   "execution_count": 17,
   "id": "96cefaff",
   "metadata": {},
   "outputs": [
    {
     "name": "stdout",
     "output_type": "stream",
     "text": [
      "191\n",
      "191\n"
     ]
    }
   ],
   "source": [
    "for t in [T, G]:\n",
    "    print(len(sim_inf.get_leaves(t)))"
   ]
  },
  {
   "cell_type": "code",
   "execution_count": 18,
   "id": "1aaff470",
   "metadata": {},
   "outputs": [
    {
     "data": {
      "text/plain": [
       "<AxesSubplot:>"
      ]
     },
     "execution_count": 18,
     "metadata": {},
     "output_type": "execute_result"
    },
    {
     "data": {
      "image/png": "[encoded data removed]",
      "text/plain": [
       "<Figure size 432x288 with 2 Axes>"
      ]
     },
     "metadata": {
      "needs_background": "light"
     },
     "output_type": "display_data"
    }
   ],
   "source": [
    "# TODO: debug\n",
    "coupling = lineageot.fit_lineage_coupling(adata_observed, early_tp, late_tp, T, time_key=depth_key,\n",
    "                                          epsilon=epsilon,\n",
    "                                          state_key=state_key)\n",
    "sns.heatmap(coupling.X)"
   ]
  },
  {
   "cell_type": "code",
   "execution_count": 19,
   "id": "d8ae4f9d",
   "metadata": {},
   "outputs": [
    {
     "data": {
      "text/plain": [
       "<AxesSubplot:>"
      ]
     },
     "execution_count": 19,
     "metadata": {},
     "output_type": "execute_result"
    },
    {
     "data": {
      "image/png": "[encoded data removed]",
      "text/plain": [
       "<Figure size 432x288 with 2 Axes>"
      ]
     },
     "metadata": {
      "needs_background": "light"
     },
     "output_type": "display_data"
    }
   ],
   "source": [
    "# TODO: debug\n",
    "coupling = lineageot.fit_lineage_coupling(adata_observed, early_tp, late_tp, G, time_key=depth_key,\n",
    "                                          epsilon=epsilon,\n",
    "                                          state_key=state_key)\n",
    "sns.heatmap(coupling.X)"
   ]
  },
  {
   "cell_type": "code",
   "execution_count": 20,
   "id": "56ba362a",
   "metadata": {},
   "outputs": [
    {
     "name": "stderr",
     "output_type": "stream",
     "text": [
      "WARNING:absl:No GPU/TPU found, falling back to CPU. (Set TF_CPP_MIN_LOG_LEVEL=0 and rerun for more info.)\n"
     ]
    }
   ],
   "source": [
    "bcde = barcode_distances(eadata.obsm['barcodes'])\n",
    "bcdl = barcode_distances(ladata.obsm['barcodes'])\n",
    "rnad = ot.utils.dist(eadata.obsm[state_key], ladata.obsm[state_key])\n",
    "bcde /= bcde.max()\n",
    "bcdl /= bcdl.max()\n",
    "rnad /= rnad.max()\n",
    "\n",
    "bcde_g = ott.geometry.geometry.Geometry(cost_matrix=jnp.asarray(bcde))\n",
    "bcdl_g = ott.geometry.geometry.Geometry(cost_matrix=jnp.asarray(bcdl))\n",
    "rnad_g = ott.geometry.geometry.Geometry(cost_matrix=jnp.asarray(rnad))"
   ]
  },
  {
   "cell_type": "code",
   "execution_count": 23,
   "id": "009bfb1e",
   "metadata": {},
   "outputs": [],
   "source": [
    "fgw = FusedGW(epsilon=epsilon, alpha=0.75)"
   ]
  },
  {
   "cell_type": "code",
   "execution_count": 24,
   "id": "f753170e",
   "metadata": {},
   "outputs": [
    {
     "data": {
      "text/plain": [
       "<AxesSubplot:>"
      ]
     },
     "execution_count": 24,
     "metadata": {},
     "output_type": "execute_result"
    },
    {
     "data": {
      "image/png": "[encoded data removed]",
      "text/plain": [
       "<Figure size 432x288 with 2 Axes>"
      ]
     },
     "metadata": {
      "needs_background": "light"
     },
     "output_type": "display_data"
    }
   ],
   "source": [
    "fgw.fit(bcde_g, bcdl_g, rnad_g, max_iterations=100, verbose=False)\n",
    "sns.heatmap(fgw.matrix)"
   ]
  },
  {
   "cell_type": "code",
   "execution_count": null,
   "id": "d67e8b82",
   "metadata": {},
   "outputs": [],
   "source": [
    "# TODO: ancestor/descendant errors"
   ]
  }
 ],
 "metadata": {
  "kernelspec": {
   "display_name": "cellrank",
   "language": "python",
   "name": "cellrank"
  },
  "language_info": {
   "codemirror_mode": {
    "name": "ipython",
    "version": 3
   },
   "file_extension": ".py",
   "mimetype": "text/x-python",
   "name": "python",
   "nbconvert_exporter": "python",
   "pygments_lexer": "ipython3",
   "version": "3.8.10"
  }
 },
 "nbformat": 4,
 "nbformat_minor": 5
}
