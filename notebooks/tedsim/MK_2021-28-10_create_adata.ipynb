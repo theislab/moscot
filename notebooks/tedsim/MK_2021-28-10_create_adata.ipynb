{
 "cells": [
  {
   "cell_type": "code",
   "execution_count": 1,
   "id": "0cc21e51",
   "metadata": {},
   "outputs": [],
   "source": [
    "import scanpy as sc\n",
    "import pandas as pd\n",
    "import numpy as np\n",
    "from pathlib import Path\n",
    "from anndata import AnnData\n",
    "import newick"
   ]
  },
  {
   "cell_type": "code",
   "execution_count": 2,
   "id": "a53be076",
   "metadata": {},
   "outputs": [],
   "source": [
    "root = Path(\"output_f\")\n",
    "output_dir = Path(\"adatas\")\n",
    "!mkdir -p $output_dir"
   ]
  },
  {
   "cell_type": "code",
   "execution_count": 3,
   "id": "0de7d7d8",
   "metadata": {},
   "outputs": [],
   "source": [
    "def create_anndata(p_a: float, step_size : float):\n",
    "    adata = AnnData(X=pd.read_csv(f\"./{root}/counts_tedsim_{p_a}_{step_size}.csv\").T.values,\n",
    "                    obs=pd.read_csv(f\"./{root}/cell_meta_tedsim_{p_a}_{step_size}.csv\", index_col=0),\n",
    "                    obsm={\"barcodes\": pd.read_csv(f\"./{root}/character_matrix_{p_a}_{step_size}.txt\", sep=\" \").values})\n",
    "    bcs = adata.obsm['barcodes']\n",
    "    if not np.issubdtype(bcs.dtype, int):\n",
    "        bcs[bcs == '-'] = -1\n",
    "        bcs = bcs.astype(int)\n",
    "        adata.obsm['barcodes'] = bcs\n",
    "\n",
    "    adata.obs['cluster'] = adata.obs['cluster'].astype(\"category\")\n",
    "    adata.obs['depth'] = adata.obs['depth'].astype(int)\n",
    "    adata.obs['parent'] = adata.obs['parent'].astype(\"category\")\n",
    "    with open(root / f'tree_gt_bin_tedsim_{p_a}_{step_size}.newick', 'r') as fin:\n",
    "        tree = newick.load(fin)[0].newick\n",
    "    \n",
    "    p_a, step_size = float(p_a), float(step_size)\n",
    "    adata.uns['tree'] = tree\n",
    "    adata.uns['metadata'] = {'p_a': p_a, 'step_size': step_size}\n",
    "    print(p_a, step_size, \"dropout%:\", (adata.obsm['barcodes'] == -1).sum() / np.prod(adata.shape))\n",
    "        \n",
    "    return adata"
   ]
  },
  {
   "cell_type": "code",
   "execution_count": 4,
   "id": "c3921187",
   "metadata": {},
   "outputs": [],
   "source": [
    "p_as = [0.2, 0.4, 0.6, 0.8, 1]\n",
    "step_sizes = [0.2, 0.4, 0.6, 0.8, 1]"
   ]
  },
  {
   "cell_type": "code",
   "execution_count": 5,
   "id": "1411790c",
   "metadata": {},
   "outputs": [
    {
     "name": "stderr",
     "output_type": "stream",
     "text": [
      "/opt/projects/helmholtz/anndata/anndata/_core/anndata.py:120: ImplicitModificationWarning: Transforming to str index.\n",
      "  warnings.warn(\"Transforming to str index.\", ImplicitModificationWarning)\n"
     ]
    },
    {
     "name": "stdout",
     "output_type": "stream",
     "text": [
      "0.2 0.2 dropout%: 0.0\n",
      "0.2 0.4 dropout%: 0.0\n",
      "0.2 0.6 dropout%: 0.0\n",
      "0.2 0.8 dropout%: 0.0\n",
      "0.2 1.0 dropout%: 0.0\n",
      "0.4 0.2 dropout%: 0.0\n",
      "0.4 0.4 dropout%: 0.0\n",
      "0.4 0.6 dropout%: 0.0\n",
      "0.4 0.8 dropout%: 0.0\n",
      "0.4 1.0 dropout%: 0.0\n",
      "0.6 0.2 dropout%: 0.0\n",
      "0.6 0.4 dropout%: 0.0\n",
      "0.6 0.6 dropout%: 0.0\n",
      "0.6 0.8 dropout%: 0.0\n",
      "0.6 1.0 dropout%: 0.0\n",
      "0.8 0.2 dropout%: 0.0\n",
      "0.8 0.4 dropout%: 0.0\n",
      "0.8 0.6 dropout%: 0.0\n",
      "0.8 0.8 dropout%: 0.0\n",
      "0.8 1.0 dropout%: 0.0\n",
      "1.0 0.2 dropout%: 0.0\n",
      "1.0 0.4 dropout%: 0.0\n",
      "1.0 0.6 dropout%: 0.0\n",
      "1.0 0.8 dropout%: 0.0\n",
      "1.0 1.0 dropout%: 0.0\n"
     ]
    }
   ],
   "source": [
    "for p_a in p_as:\n",
    "    for step_size in step_sizes:\n",
    "        adata = create_anndata(p_a, step_size)\n",
    "        adata.write_h5ad(output_dir / f\"adata_pa{p_a}_ss{step_size}.h5ad\")"
   ]
  }
 ],
 "metadata": {
  "kernelspec": {
   "display_name": "cellrank",
   "language": "python",
   "name": "cellrank"
  },
  "language_info": {
   "codemirror_mode": {
    "name": "ipython",
    "version": 3
   },
   "file_extension": ".py",
   "mimetype": "text/x-python",
   "name": "python",
   "nbconvert_exporter": "python",
   "pygments_lexer": "ipython3",
   "version": "3.8.10"
  }
 },
 "nbformat": 4,
 "nbformat_minor": 5
}
