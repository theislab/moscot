{
 "cells": [
  {
   "cell_type": "code",
   "execution_count": 4,
   "id": "817654ff",
   "metadata": {},
   "outputs": [],
   "source": [
    "import anndata\n",
    "import copy\n",
    "import datetime\n",
    "import matplotlib.pyplot as plt\n",
    "import networkx as nx\n",
    "import numpy as np\n",
    "import os\n",
    "import sys\n",
    "import pandas as pd\n",
    "import pickle as pkl\n",
    "import scipy.stats\n",
    "import warnings\n"
   ]
  },
  {
   "cell_type": "code",
   "execution_count": 5,
   "id": "9befdf70",
   "metadata": {},
   "outputs": [],
   "source": [
    "adata_dir = \"/Users/DominikKlein/Documents/PhD/data/Hu_zebrafish_linnaeus/adata.h5ad\"\n",
    "trees_dir = \"/Users/DominikKlein/Documents/PhD/data/Hu_zebrafish_linnaeus/trees.pkl\""
   ]
  },
  {
   "cell_type": "code",
   "execution_count": 6,
   "id": "995c9b1f",
   "metadata": {},
   "outputs": [],
   "source": [
    "adata = anndata.read(adata_dir)"
   ]
  },
  {
   "cell_type": "code",
   "execution_count": 8,
   "id": "c0ccb467",
   "metadata": {},
   "outputs": [],
   "source": [
    "with open(trees_dir, 'rb') as file:\n",
    "    trees = pkl.load(file)"
   ]
  },
  {
   "cell_type": "code",
   "execution_count": 9,
   "id": "2490d891",
   "metadata": {},
   "outputs": [],
   "source": [
    "dpis_orig_ident = ['H5', 'Hr26', 'Hr2a','Hr2b']\n",
    "dpis = [0, 3, 7, 7]\n",
    "dpis_unq = np.unique(dpis)\n",
    "dpis_str =['ctrl', 'dpi3', 'dpi7']\n",
    "dpis_trees = ['H5', 'Hr26', 'Hr2']\n",
    "core_nodes = [100, 100, 100]\n",
    "\n"
   ]
  },
  {
   "cell_type": "code",
   "execution_count": 11,
   "id": "5ff4431c",
   "metadata": {},
   "outputs": [],
   "source": [
    "adata_dpis = adata[adata.obs['orig.ident'].isin(dpis_orig_ident)].copy()\n",
    "adata_dpis.obs['dpi'] = 0\n",
    "for i, dpi_orig in enumerate(dpis_orig_ident):\n",
    "    adata_dpis.obs.loc[(adata_dpis.obs['orig.ident'] == dpi_orig), 'dpi'] = dpis[i]\n",
    "\n",
    "adata_dpis.obs['dpi'] = adata_dpis.obs['dpi'].astype(\"category\")\n",
    "\n",
    "\n",
    "trees_dpis = {}\n",
    "trees_dpis_core = {}\n",
    "for i, dpi in enumerate(dpis_unq):\n",
    "    trees_dpis[dpi] = trees[dpis_trees[i]]\n",
    "    trees_dpis_core[dpi] = trees_dpis[dpi].subgraph([str(n) for n in range(core_nodes[i])])"
   ]
  },
  {
   "cell_type": "code",
   "execution_count": 12,
   "id": "726e96da",
   "metadata": {},
   "outputs": [],
   "source": [
    "def intersection(lst1, lst2):\n",
    "    return list(set(lst1) & set(lst2))\n",
    "     \n",
    "def scar_distance(lst1, lst2):\n",
    "    inter_len = len(list(set(lst1) & set(lst2)))\n",
    "    max_len = np.max([len(lst1), len(lst2)])\n",
    "    return (max_len - inter_len)/max_len"
   ]
  },
  {
   "cell_type": "code",
   "execution_count": 13,
   "id": "d272ed90",
   "metadata": {},
   "outputs": [],
   "source": [
    "adata_dpis.obs['core'] = 0\n",
    "adata_dpis.obs['annot'] = False\n",
    "\n",
    "Ci_core = {}\n",
    "Ci = {}\n",
    "for dpi in trees_dpis_core:\n",
    "    C_core = np.zeros((len(trees_dpis_core[dpi].nodes), len(trees_dpis_core[dpi].nodes)))\n",
    "    for nodes, an in nx.algorithms.lowest_common_ancestors.all_pairs_lowest_common_ancestor(trees_dpis_core[dpi]):\n",
    "        C_core[int(nodes[0]), int(nodes[1])] = nx.dijkstra_path_length(trees_dpis_core[dpi], an, nodes[0]) + nx.dijkstra_path_length(trees_dpis_core[dpi], an, nodes[1])\n",
    "        C_core[int(nodes[1]), int(nodes[0])] = C_core[int(nodes[0]), int(nodes[1])] \n",
    "    Ci_core[dpi] = C_core\n",
    "    \n",
    "    cells = (adata_dpis.obs['dpi'] == dpi)\n",
    "    cells_idx = np.where(adata_dpis.obs['dpi'] == dpi)[0]\n",
    "    cells_annot = []\n",
    "    cells_annot_idx = []\n",
    "    for i, obsi in enumerate(adata_dpis[cells].obs_names):\n",
    "        if obsi in trees_dpis[dpi].nodes:\n",
    "            cells_annot.append(obsi)\n",
    "            cells_annot_idx.append(cells_idx[i])\n",
    "\n",
    "    adata_dpis.obs.loc[cells_annot, 'annot'] = True\n",
    "    for i, obsi in enumerate(cells_annot):\n",
    "        adata_dpis.obs.loc[[obsi], 'core'] = [int(n) for n in trees_dpis[dpi].pred[obsi]][0]\n"
   ]
  },
  {
   "cell_type": "code",
   "execution_count": 47,
   "id": "1a5fd8fb",
   "metadata": {},
   "outputs": [
    {
     "data": {
      "text/plain": [
       "AtlasView({'1': {}})"
      ]
     },
     "execution_count": 47,
     "metadata": {},
     "output_type": "execute_result"
    }
   ],
   "source": [
    "obsi = cells_annot[0]\n",
    "trees_dpis[dpi].pred[obsi]"
   ]
  },
  {
   "cell_type": "code",
   "execution_count": 23,
   "id": "cb37219b",
   "metadata": {},
   "outputs": [
    {
     "data": {
      "text/plain": [
       "array([16,  0,  3,  7, 10,  8,  1,  4, 11,  2, 14,  9, 15, 13,  5, 12,  6,\n",
       "       21, 19, 18, 23, 20, 29, 17, 28, 25, 24, 22, 27, 26])"
      ]
     },
     "execution_count": 23,
     "metadata": {},
     "output_type": "execute_result"
    }
   ],
   "source": [
    "adata_dpis.obs[\"core\"].unique()"
   ]
  },
  {
   "cell_type": "code",
   "execution_count": 24,
   "id": "65f97f45",
   "metadata": {},
   "outputs": [],
   "source": [
    "adata_dpis_annot = adata_dpis[adata_dpis.obs['annot']].copy()\n",
    "adata_ctrl_dpi3_dpi7 = adata_dpis_annot[adata_dpis_annot.obs['dpi'].isin([0,3, 7])].copy()"
   ]
  },
  {
   "cell_type": "code",
   "execution_count": 25,
   "id": "576c812d",
   "metadata": {},
   "outputs": [
    {
     "name": "stdout",
     "output_type": "stream",
     "text": [
      "0\n",
      "3\n",
      "7\n"
     ]
    }
   ],
   "source": [
    "Ci = {}\n",
    "for j, dpi in enumerate(dpis_unq):\n",
    "    print(dpi)\n",
    "    cells = (adata_dpis_annot.obs['dpi'] == dpi)\n",
    "    cells_idx = np.where(adata_dpis_annot.obs['dpi'] == dpi)[0]\n",
    "    C = np.zeros((len(cells_idx), len(cells_idx)))\n",
    "    for i, ci in enumerate(adata_dpis_annot[cells].obs_names):\n",
    "        C[i, :] = Ci_core[dpi][adata_dpis_annot.obs.loc[[ci], 'core'].values, \n",
    "                               adata_dpis_annot.obs.loc[adata_dpis_annot[cells].obs_names,'core'].values]\n",
    "    Ci[dpi] = pd.DataFrame(C, \n",
    "                           index=adata_dpis_annot.obs_names[cells], \n",
    "                           columns=adata_dpis_annot.obs_names[cells])\n"
   ]
  },
  {
   "cell_type": "code",
   "execution_count": 27,
   "id": "e76ffae1",
   "metadata": {},
   "outputs": [
    {
     "data": {
      "text/plain": [
       "((1036, 1036), (4216, 4216), (9665, 9665))"
      ]
     },
     "execution_count": 27,
     "metadata": {},
     "output_type": "execute_result"
    }
   ],
   "source": [
    "Ci[0].shape, Ci[3].shape, Ci[7].shape"
   ]
  },
  {
   "cell_type": "code",
   "execution_count": 46,
   "id": "88fb67fb",
   "metadata": {},
   "outputs": [
    {
     "data": {
      "text/html": [
       "<div>\n",
       "<style scoped>\n",
       "    .dataframe tbody tr th:only-of-type {\n",
       "        vertical-align: middle;\n",
       "    }\n",
       "\n",
       "    .dataframe tbody tr th {\n",
       "        vertical-align: top;\n",
       "    }\n",
       "\n",
       "    .dataframe thead th {\n",
       "        text-align: right;\n",
       "    }\n",
       "</style>\n",
       "<table border=\"1\" class=\"dataframe\">\n",
       "  <thead>\n",
       "    <tr style=\"text-align: right;\">\n",
       "      <th></th>\n",
       "      <th>H5_AACCGCGAGTCCCACG</th>\n",
       "      <th>H5_AAATGCCGTACCGCTG</th>\n",
       "      <th>H5_AACTCAGCAATGACCT</th>\n",
       "      <th>H5_AACGTTGTCGTAGGAG</th>\n",
       "      <th>H5_AACCATGTCAGCAACT</th>\n",
       "      <th>H5_AAAGATGTCGCGTAGC</th>\n",
       "      <th>H5_AAAGTAGAGTTCGATC</th>\n",
       "      <th>H5_AAACCTGGTCTCATCC</th>\n",
       "      <th>H5_AAACCTGAGTCCATAC</th>\n",
       "      <th>H5_AAAGTAGGTCATATCG</th>\n",
       "      <th>...</th>\n",
       "      <th>H5_TTCCCAGGTCATGCAT</th>\n",
       "      <th>H5_TTTCCTCTCCTGCTTG</th>\n",
       "      <th>H5_TTTGTCATCAACACCA</th>\n",
       "      <th>H5_TTTACTGGTCCAGTAT</th>\n",
       "      <th>H5_TTTGGTTAGTGTTTGC</th>\n",
       "      <th>H5_TTGTAGGCACTTGGAT</th>\n",
       "      <th>H5_TTTACTGGTCCGACGT</th>\n",
       "      <th>H5_TTGTAGGCAGACTCGC</th>\n",
       "      <th>H5_TTGGCAAGTGCACCAC</th>\n",
       "      <th>H5_TTGTAGGGTTAAGGGC</th>\n",
       "    </tr>\n",
       "  </thead>\n",
       "  <tbody>\n",
       "    <tr>\n",
       "      <th>H5_AACCGCGAGTCCCACG</th>\n",
       "      <td>0.0</td>\n",
       "      <td>5.0</td>\n",
       "      <td>4.0</td>\n",
       "      <td>7.0</td>\n",
       "      <td>6.0</td>\n",
       "      <td>5.0</td>\n",
       "      <td>5.0</td>\n",
       "      <td>6.0</td>\n",
       "      <td>5.0</td>\n",
       "      <td>7.0</td>\n",
       "      <td>...</td>\n",
       "      <td>4.0</td>\n",
       "      <td>3.0</td>\n",
       "      <td>3.0</td>\n",
       "      <td>1.0</td>\n",
       "      <td>1.0</td>\n",
       "      <td>4.0</td>\n",
       "      <td>6.0</td>\n",
       "      <td>6.0</td>\n",
       "      <td>7.0</td>\n",
       "      <td>4.0</td>\n",
       "    </tr>\n",
       "    <tr>\n",
       "      <th>H5_AAATGCCGTACCGCTG</th>\n",
       "      <td>5.0</td>\n",
       "      <td>0.0</td>\n",
       "      <td>3.0</td>\n",
       "      <td>4.0</td>\n",
       "      <td>1.0</td>\n",
       "      <td>0.0</td>\n",
       "      <td>0.0</td>\n",
       "      <td>1.0</td>\n",
       "      <td>2.0</td>\n",
       "      <td>4.0</td>\n",
       "      <td>...</td>\n",
       "      <td>3.0</td>\n",
       "      <td>2.0</td>\n",
       "      <td>2.0</td>\n",
       "      <td>4.0</td>\n",
       "      <td>4.0</td>\n",
       "      <td>5.0</td>\n",
       "      <td>1.0</td>\n",
       "      <td>3.0</td>\n",
       "      <td>4.0</td>\n",
       "      <td>5.0</td>\n",
       "    </tr>\n",
       "    <tr>\n",
       "      <th>H5_AACTCAGCAATGACCT</th>\n",
       "      <td>4.0</td>\n",
       "      <td>3.0</td>\n",
       "      <td>0.0</td>\n",
       "      <td>5.0</td>\n",
       "      <td>4.0</td>\n",
       "      <td>3.0</td>\n",
       "      <td>3.0</td>\n",
       "      <td>4.0</td>\n",
       "      <td>3.0</td>\n",
       "      <td>5.0</td>\n",
       "      <td>...</td>\n",
       "      <td>0.0</td>\n",
       "      <td>1.0</td>\n",
       "      <td>1.0</td>\n",
       "      <td>3.0</td>\n",
       "      <td>3.0</td>\n",
       "      <td>4.0</td>\n",
       "      <td>4.0</td>\n",
       "      <td>4.0</td>\n",
       "      <td>5.0</td>\n",
       "      <td>4.0</td>\n",
       "    </tr>\n",
       "    <tr>\n",
       "      <th>H5_AACGTTGTCGTAGGAG</th>\n",
       "      <td>7.0</td>\n",
       "      <td>4.0</td>\n",
       "      <td>5.0</td>\n",
       "      <td>0.0</td>\n",
       "      <td>5.0</td>\n",
       "      <td>4.0</td>\n",
       "      <td>4.0</td>\n",
       "      <td>5.0</td>\n",
       "      <td>2.0</td>\n",
       "      <td>0.0</td>\n",
       "      <td>...</td>\n",
       "      <td>5.0</td>\n",
       "      <td>4.0</td>\n",
       "      <td>4.0</td>\n",
       "      <td>6.0</td>\n",
       "      <td>6.0</td>\n",
       "      <td>7.0</td>\n",
       "      <td>5.0</td>\n",
       "      <td>3.0</td>\n",
       "      <td>0.0</td>\n",
       "      <td>7.0</td>\n",
       "    </tr>\n",
       "    <tr>\n",
       "      <th>H5_AACCATGTCAGCAACT</th>\n",
       "      <td>6.0</td>\n",
       "      <td>1.0</td>\n",
       "      <td>4.0</td>\n",
       "      <td>5.0</td>\n",
       "      <td>0.0</td>\n",
       "      <td>1.0</td>\n",
       "      <td>1.0</td>\n",
       "      <td>0.0</td>\n",
       "      <td>3.0</td>\n",
       "      <td>5.0</td>\n",
       "      <td>...</td>\n",
       "      <td>4.0</td>\n",
       "      <td>3.0</td>\n",
       "      <td>3.0</td>\n",
       "      <td>5.0</td>\n",
       "      <td>5.0</td>\n",
       "      <td>6.0</td>\n",
       "      <td>0.0</td>\n",
       "      <td>4.0</td>\n",
       "      <td>5.0</td>\n",
       "      <td>6.0</td>\n",
       "    </tr>\n",
       "    <tr>\n",
       "      <th>...</th>\n",
       "      <td>...</td>\n",
       "      <td>...</td>\n",
       "      <td>...</td>\n",
       "      <td>...</td>\n",
       "      <td>...</td>\n",
       "      <td>...</td>\n",
       "      <td>...</td>\n",
       "      <td>...</td>\n",
       "      <td>...</td>\n",
       "      <td>...</td>\n",
       "      <td>...</td>\n",
       "      <td>...</td>\n",
       "      <td>...</td>\n",
       "      <td>...</td>\n",
       "      <td>...</td>\n",
       "      <td>...</td>\n",
       "      <td>...</td>\n",
       "      <td>...</td>\n",
       "      <td>...</td>\n",
       "      <td>...</td>\n",
       "      <td>...</td>\n",
       "    </tr>\n",
       "    <tr>\n",
       "      <th>H5_TTGTAGGCACTTGGAT</th>\n",
       "      <td>4.0</td>\n",
       "      <td>5.0</td>\n",
       "      <td>4.0</td>\n",
       "      <td>7.0</td>\n",
       "      <td>6.0</td>\n",
       "      <td>5.0</td>\n",
       "      <td>5.0</td>\n",
       "      <td>6.0</td>\n",
       "      <td>5.0</td>\n",
       "      <td>7.0</td>\n",
       "      <td>...</td>\n",
       "      <td>4.0</td>\n",
       "      <td>3.0</td>\n",
       "      <td>3.0</td>\n",
       "      <td>3.0</td>\n",
       "      <td>3.0</td>\n",
       "      <td>0.0</td>\n",
       "      <td>6.0</td>\n",
       "      <td>6.0</td>\n",
       "      <td>7.0</td>\n",
       "      <td>0.0</td>\n",
       "    </tr>\n",
       "    <tr>\n",
       "      <th>H5_TTTACTGGTCCGACGT</th>\n",
       "      <td>6.0</td>\n",
       "      <td>1.0</td>\n",
       "      <td>4.0</td>\n",
       "      <td>5.0</td>\n",
       "      <td>0.0</td>\n",
       "      <td>1.0</td>\n",
       "      <td>1.0</td>\n",
       "      <td>0.0</td>\n",
       "      <td>3.0</td>\n",
       "      <td>5.0</td>\n",
       "      <td>...</td>\n",
       "      <td>4.0</td>\n",
       "      <td>3.0</td>\n",
       "      <td>3.0</td>\n",
       "      <td>5.0</td>\n",
       "      <td>5.0</td>\n",
       "      <td>6.0</td>\n",
       "      <td>0.0</td>\n",
       "      <td>4.0</td>\n",
       "      <td>5.0</td>\n",
       "      <td>6.0</td>\n",
       "    </tr>\n",
       "    <tr>\n",
       "      <th>H5_TTGTAGGCAGACTCGC</th>\n",
       "      <td>6.0</td>\n",
       "      <td>3.0</td>\n",
       "      <td>4.0</td>\n",
       "      <td>3.0</td>\n",
       "      <td>4.0</td>\n",
       "      <td>3.0</td>\n",
       "      <td>3.0</td>\n",
       "      <td>4.0</td>\n",
       "      <td>1.0</td>\n",
       "      <td>3.0</td>\n",
       "      <td>...</td>\n",
       "      <td>4.0</td>\n",
       "      <td>3.0</td>\n",
       "      <td>3.0</td>\n",
       "      <td>5.0</td>\n",
       "      <td>5.0</td>\n",
       "      <td>6.0</td>\n",
       "      <td>4.0</td>\n",
       "      <td>0.0</td>\n",
       "      <td>3.0</td>\n",
       "      <td>6.0</td>\n",
       "    </tr>\n",
       "    <tr>\n",
       "      <th>H5_TTGGCAAGTGCACCAC</th>\n",
       "      <td>7.0</td>\n",
       "      <td>4.0</td>\n",
       "      <td>5.0</td>\n",
       "      <td>0.0</td>\n",
       "      <td>5.0</td>\n",
       "      <td>4.0</td>\n",
       "      <td>4.0</td>\n",
       "      <td>5.0</td>\n",
       "      <td>2.0</td>\n",
       "      <td>0.0</td>\n",
       "      <td>...</td>\n",
       "      <td>5.0</td>\n",
       "      <td>4.0</td>\n",
       "      <td>4.0</td>\n",
       "      <td>6.0</td>\n",
       "      <td>6.0</td>\n",
       "      <td>7.0</td>\n",
       "      <td>5.0</td>\n",
       "      <td>3.0</td>\n",
       "      <td>0.0</td>\n",
       "      <td>7.0</td>\n",
       "    </tr>\n",
       "    <tr>\n",
       "      <th>H5_TTGTAGGGTTAAGGGC</th>\n",
       "      <td>4.0</td>\n",
       "      <td>5.0</td>\n",
       "      <td>4.0</td>\n",
       "      <td>7.0</td>\n",
       "      <td>6.0</td>\n",
       "      <td>5.0</td>\n",
       "      <td>5.0</td>\n",
       "      <td>6.0</td>\n",
       "      <td>5.0</td>\n",
       "      <td>7.0</td>\n",
       "      <td>...</td>\n",
       "      <td>4.0</td>\n",
       "      <td>3.0</td>\n",
       "      <td>3.0</td>\n",
       "      <td>3.0</td>\n",
       "      <td>3.0</td>\n",
       "      <td>0.0</td>\n",
       "      <td>6.0</td>\n",
       "      <td>6.0</td>\n",
       "      <td>7.0</td>\n",
       "      <td>0.0</td>\n",
       "    </tr>\n",
       "  </tbody>\n",
       "</table>\n",
       "<p>1036 rows × 1036 columns</p>\n",
       "</div>"
      ],
      "text/plain": [
       "                     H5_AACCGCGAGTCCCACG  H5_AAATGCCGTACCGCTG  \\\n",
       "H5_AACCGCGAGTCCCACG                  0.0                  5.0   \n",
       "H5_AAATGCCGTACCGCTG                  5.0                  0.0   \n",
       "H5_AACTCAGCAATGACCT                  4.0                  3.0   \n",
       "H5_AACGTTGTCGTAGGAG                  7.0                  4.0   \n",
       "H5_AACCATGTCAGCAACT                  6.0                  1.0   \n",
       "...                                  ...                  ...   \n",
       "H5_TTGTAGGCACTTGGAT                  4.0                  5.0   \n",
       "H5_TTTACTGGTCCGACGT                  6.0                  1.0   \n",
       "H5_TTGTAGGCAGACTCGC                  6.0                  3.0   \n",
       "H5_TTGGCAAGTGCACCAC                  7.0                  4.0   \n",
       "H5_TTGTAGGGTTAAGGGC                  4.0                  5.0   \n",
       "\n",
       "                     H5_AACTCAGCAATGACCT  H5_AACGTTGTCGTAGGAG  \\\n",
       "H5_AACCGCGAGTCCCACG                  4.0                  7.0   \n",
       "H5_AAATGCCGTACCGCTG                  3.0                  4.0   \n",
       "H5_AACTCAGCAATGACCT                  0.0                  5.0   \n",
       "H5_AACGTTGTCGTAGGAG                  5.0                  0.0   \n",
       "H5_AACCATGTCAGCAACT                  4.0                  5.0   \n",
       "...                                  ...                  ...   \n",
       "H5_TTGTAGGCACTTGGAT                  4.0                  7.0   \n",
       "H5_TTTACTGGTCCGACGT                  4.0                  5.0   \n",
       "H5_TTGTAGGCAGACTCGC                  4.0                  3.0   \n",
       "H5_TTGGCAAGTGCACCAC                  5.0                  0.0   \n",
       "H5_TTGTAGGGTTAAGGGC                  4.0                  7.0   \n",
       "\n",
       "                     H5_AACCATGTCAGCAACT  H5_AAAGATGTCGCGTAGC  \\\n",
       "H5_AACCGCGAGTCCCACG                  6.0                  5.0   \n",
       "H5_AAATGCCGTACCGCTG                  1.0                  0.0   \n",
       "H5_AACTCAGCAATGACCT                  4.0                  3.0   \n",
       "H5_AACGTTGTCGTAGGAG                  5.0                  4.0   \n",
       "H5_AACCATGTCAGCAACT                  0.0                  1.0   \n",
       "...                                  ...                  ...   \n",
       "H5_TTGTAGGCACTTGGAT                  6.0                  5.0   \n",
       "H5_TTTACTGGTCCGACGT                  0.0                  1.0   \n",
       "H5_TTGTAGGCAGACTCGC                  4.0                  3.0   \n",
       "H5_TTGGCAAGTGCACCAC                  5.0                  4.0   \n",
       "H5_TTGTAGGGTTAAGGGC                  6.0                  5.0   \n",
       "\n",
       "                     H5_AAAGTAGAGTTCGATC  H5_AAACCTGGTCTCATCC  \\\n",
       "H5_AACCGCGAGTCCCACG                  5.0                  6.0   \n",
       "H5_AAATGCCGTACCGCTG                  0.0                  1.0   \n",
       "H5_AACTCAGCAATGACCT                  3.0                  4.0   \n",
       "H5_AACGTTGTCGTAGGAG                  4.0                  5.0   \n",
       "H5_AACCATGTCAGCAACT                  1.0                  0.0   \n",
       "...                                  ...                  ...   \n",
       "H5_TTGTAGGCACTTGGAT                  5.0                  6.0   \n",
       "H5_TTTACTGGTCCGACGT                  1.0                  0.0   \n",
       "H5_TTGTAGGCAGACTCGC                  3.0                  4.0   \n",
       "H5_TTGGCAAGTGCACCAC                  4.0                  5.0   \n",
       "H5_TTGTAGGGTTAAGGGC                  5.0                  6.0   \n",
       "\n",
       "                     H5_AAACCTGAGTCCATAC  H5_AAAGTAGGTCATATCG  ...  \\\n",
       "H5_AACCGCGAGTCCCACG                  5.0                  7.0  ...   \n",
       "H5_AAATGCCGTACCGCTG                  2.0                  4.0  ...   \n",
       "H5_AACTCAGCAATGACCT                  3.0                  5.0  ...   \n",
       "H5_AACGTTGTCGTAGGAG                  2.0                  0.0  ...   \n",
       "H5_AACCATGTCAGCAACT                  3.0                  5.0  ...   \n",
       "...                                  ...                  ...  ...   \n",
       "H5_TTGTAGGCACTTGGAT                  5.0                  7.0  ...   \n",
       "H5_TTTACTGGTCCGACGT                  3.0                  5.0  ...   \n",
       "H5_TTGTAGGCAGACTCGC                  1.0                  3.0  ...   \n",
       "H5_TTGGCAAGTGCACCAC                  2.0                  0.0  ...   \n",
       "H5_TTGTAGGGTTAAGGGC                  5.0                  7.0  ...   \n",
       "\n",
       "                     H5_TTCCCAGGTCATGCAT  H5_TTTCCTCTCCTGCTTG  \\\n",
       "H5_AACCGCGAGTCCCACG                  4.0                  3.0   \n",
       "H5_AAATGCCGTACCGCTG                  3.0                  2.0   \n",
       "H5_AACTCAGCAATGACCT                  0.0                  1.0   \n",
       "H5_AACGTTGTCGTAGGAG                  5.0                  4.0   \n",
       "H5_AACCATGTCAGCAACT                  4.0                  3.0   \n",
       "...                                  ...                  ...   \n",
       "H5_TTGTAGGCACTTGGAT                  4.0                  3.0   \n",
       "H5_TTTACTGGTCCGACGT                  4.0                  3.0   \n",
       "H5_TTGTAGGCAGACTCGC                  4.0                  3.0   \n",
       "H5_TTGGCAAGTGCACCAC                  5.0                  4.0   \n",
       "H5_TTGTAGGGTTAAGGGC                  4.0                  3.0   \n",
       "\n",
       "                     H5_TTTGTCATCAACACCA  H5_TTTACTGGTCCAGTAT  \\\n",
       "H5_AACCGCGAGTCCCACG                  3.0                  1.0   \n",
       "H5_AAATGCCGTACCGCTG                  2.0                  4.0   \n",
       "H5_AACTCAGCAATGACCT                  1.0                  3.0   \n",
       "H5_AACGTTGTCGTAGGAG                  4.0                  6.0   \n",
       "H5_AACCATGTCAGCAACT                  3.0                  5.0   \n",
       "...                                  ...                  ...   \n",
       "H5_TTGTAGGCACTTGGAT                  3.0                  3.0   \n",
       "H5_TTTACTGGTCCGACGT                  3.0                  5.0   \n",
       "H5_TTGTAGGCAGACTCGC                  3.0                  5.0   \n",
       "H5_TTGGCAAGTGCACCAC                  4.0                  6.0   \n",
       "H5_TTGTAGGGTTAAGGGC                  3.0                  3.0   \n",
       "\n",
       "                     H5_TTTGGTTAGTGTTTGC  H5_TTGTAGGCACTTGGAT  \\\n",
       "H5_AACCGCGAGTCCCACG                  1.0                  4.0   \n",
       "H5_AAATGCCGTACCGCTG                  4.0                  5.0   \n",
       "H5_AACTCAGCAATGACCT                  3.0                  4.0   \n",
       "H5_AACGTTGTCGTAGGAG                  6.0                  7.0   \n",
       "H5_AACCATGTCAGCAACT                  5.0                  6.0   \n",
       "...                                  ...                  ...   \n",
       "H5_TTGTAGGCACTTGGAT                  3.0                  0.0   \n",
       "H5_TTTACTGGTCCGACGT                  5.0                  6.0   \n",
       "H5_TTGTAGGCAGACTCGC                  5.0                  6.0   \n",
       "H5_TTGGCAAGTGCACCAC                  6.0                  7.0   \n",
       "H5_TTGTAGGGTTAAGGGC                  3.0                  0.0   \n",
       "\n",
       "                     H5_TTTACTGGTCCGACGT  H5_TTGTAGGCAGACTCGC  \\\n",
       "H5_AACCGCGAGTCCCACG                  6.0                  6.0   \n",
       "H5_AAATGCCGTACCGCTG                  1.0                  3.0   \n",
       "H5_AACTCAGCAATGACCT                  4.0                  4.0   \n",
       "H5_AACGTTGTCGTAGGAG                  5.0                  3.0   \n",
       "H5_AACCATGTCAGCAACT                  0.0                  4.0   \n",
       "...                                  ...                  ...   \n",
       "H5_TTGTAGGCACTTGGAT                  6.0                  6.0   \n",
       "H5_TTTACTGGTCCGACGT                  0.0                  4.0   \n",
       "H5_TTGTAGGCAGACTCGC                  4.0                  0.0   \n",
       "H5_TTGGCAAGTGCACCAC                  5.0                  3.0   \n",
       "H5_TTGTAGGGTTAAGGGC                  6.0                  6.0   \n",
       "\n",
       "                     H5_TTGGCAAGTGCACCAC  H5_TTGTAGGGTTAAGGGC  \n",
       "H5_AACCGCGAGTCCCACG                  7.0                  4.0  \n",
       "H5_AAATGCCGTACCGCTG                  4.0                  5.0  \n",
       "H5_AACTCAGCAATGACCT                  5.0                  4.0  \n",
       "H5_AACGTTGTCGTAGGAG                  0.0                  7.0  \n",
       "H5_AACCATGTCAGCAACT                  5.0                  6.0  \n",
       "...                                  ...                  ...  \n",
       "H5_TTGTAGGCACTTGGAT                  7.0                  0.0  \n",
       "H5_TTTACTGGTCCGACGT                  5.0                  6.0  \n",
       "H5_TTGTAGGCAGACTCGC                  3.0                  6.0  \n",
       "H5_TTGGCAAGTGCACCAC                  0.0                  7.0  \n",
       "H5_TTGTAGGGTTAAGGGC                  7.0                  0.0  \n",
       "\n",
       "[1036 rows x 1036 columns]"
      ]
     },
     "execution_count": 46,
     "metadata": {},
     "output_type": "execute_result"
    }
   ],
   "source": [
    "Ci[0]"
   ]
  },
  {
   "cell_type": "code",
   "execution_count": 45,
   "id": "8ee65faa",
   "metadata": {},
   "outputs": [
    {
     "data": {
      "text/plain": [
       "array([ 1, 10, 21, 19,  5,  3, 14, 18, 23,  0, 13, 20, 11, 29, 17,  4, 28,\n",
       "       16, 25,  6,  9, 24,  7,  2, 22, 12, 27,  8, 15, 26])"
      ]
     },
     "execution_count": 45,
     "metadata": {},
     "output_type": "execute_result"
    }
   ],
   "source": [
    "adata_dpis_annot[adata_dpis_annot.obs[\"dpi\"] == 7].obs.core.unique()"
   ]
  },
  {
   "cell_type": "code",
   "execution_count": 38,
   "id": "13be7012",
   "metadata": {},
   "outputs": [
    {
     "data": {
      "text/plain": [
       "[0, 3, 7]\n",
       "Categories (3, int64): [0, 3, 7]"
      ]
     },
     "execution_count": 38,
     "metadata": {},
     "output_type": "execute_result"
    }
   ],
   "source": [
    "adata_dpis_annot.obs[\"dpi\"].unique()"
   ]
  },
  {
   "cell_type": "code",
   "execution_count": null,
   "id": "8759b834",
   "metadata": {},
   "outputs": [],
   "source": [
    "Ci_core[dpi][adata_dpis_annot.obs.loc[[ci], 'core'].values, \n",
    "                               adata_dpis_annot.obs.loc[adata_dpis_annot[cells].obs_names,'core'].values]"
   ]
  },
  {
   "cell_type": "code",
   "execution_count": 1,
   "id": "51d85e89-b073-4cb0-9769-12fd6ce38b8d",
   "metadata": {},
   "outputs": [],
   "source": [
    "import pandas as pd\n",
    "import numpy as np"
   ]
  },
  {
   "cell_type": "code",
   "execution_count": 29,
   "id": "02029d74-8709-4fe3-83bb-6284d67968bc",
   "metadata": {},
   "outputs": [],
   "source": [
    "a = np.array([\"2\", \"3\", \"1\"])"
   ]
  },
  {
   "cell_type": "code",
   "execution_count": 30,
   "id": "b7af973a-70b7-482b-912f-f25202517149",
   "metadata": {},
   "outputs": [
    {
     "data": {
      "text/plain": [
       "array(['1', '2', '3'], dtype='<U1')"
      ]
     },
     "execution_count": 30,
     "metadata": {},
     "output_type": "execute_result"
    }
   ],
   "source": [
    "np.sort(a)"
   ]
  },
  {
   "cell_type": "code",
   "execution_count": 31,
   "id": "1de0e5c4-6db8-492e-b79f-85272009235b",
   "metadata": {},
   "outputs": [
    {
     "data": {
      "text/plain": [
       "array(['2', '3', '1'], dtype='<U1')"
      ]
     },
     "execution_count": 31,
     "metadata": {},
     "output_type": "execute_result"
    }
   ],
   "source": [
    "a"
   ]
  },
  {
   "cell_type": "code",
   "execution_count": 32,
   "id": "96063379-7c18-43d3-b5c2-75e213c2becf",
   "metadata": {},
   "outputs": [],
   "source": [
    "df = pd.DataFrame(data = a, index = range(len(a)), columns=[\"c_1\"])"
   ]
  },
  {
   "cell_type": "code",
   "execution_count": 38,
   "id": "606f3232-7fb0-453c-ac59-0e8665dc2a82",
   "metadata": {},
   "outputs": [],
   "source": [
    "s = set((3,1,4))"
   ]
  },
  {
   "cell_type": "code",
   "execution_count": 39,
   "id": "aa3f90d2-f6fb-4ea3-868a-06273f1f35f0",
   "metadata": {},
   "outputs": [
    {
     "data": {
      "text/plain": [
       "{1, 3, 4}"
      ]
     },
     "execution_count": 39,
     "metadata": {},
     "output_type": "execute_result"
    }
   ],
   "source": [
    "s"
   ]
  },
  {
   "cell_type": "code",
   "execution_count": 40,
   "id": "3fdd87bb-4ad7-48da-a4e1-1dee7677cdb3",
   "metadata": {},
   "outputs": [
    {
     "data": {
      "text/plain": [
       "[1, 3, 4]"
      ]
     },
     "execution_count": 40,
     "metadata": {},
     "output_type": "execute_result"
    }
   ],
   "source": [
    "sorted(s)"
   ]
  },
  {
   "cell_type": "code",
   "execution_count": null,
   "id": "1b170d81-d3a2-4ca5-a7c0-a5483d705f0d",
   "metadata": {},
   "outputs": [],
   "source": []
  }
 ],
 "metadata": {
  "kernelspec": {
   "display_name": "moscot_kernel",
   "language": "python",
   "name": "moscot_kernel"
  },
  "language_info": {
   "codemirror_mode": {
    "name": "ipython",
    "version": 3
   },
   "file_extension": ".py",
   "mimetype": "text/x-python",
   "name": "python",
   "nbconvert_exporter": "python",
   "pygments_lexer": "ipython3",
   "version": "3.8.12"
  }
 },
 "nbformat": 4,
 "nbformat_minor": 5
}
