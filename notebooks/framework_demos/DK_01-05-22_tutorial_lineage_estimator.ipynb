{
 "cells": [
  {
   "cell_type": "code",
   "execution_count": 1,
   "id": "d4d8a545-33f6-4265-a867-d547cf6a7a8e",
   "metadata": {},
   "outputs": [],
   "source": [
    "%load_ext autoreload\n",
    "%autoreload 2"
   ]
  },
  {
   "cell_type": "code",
   "execution_count": 3,
   "id": "061d1774-7b8f-4e77-a471-49e271343660",
   "metadata": {},
   "outputs": [],
   "source": [
    "import scanpy as sc\n",
    "import pandas as pd\n",
    "import newick\n",
    "from Bio import Phylo\n",
    "from anndata import AnnData\n",
    "import ete3\n",
    "from scipy.sparse import issparse\n",
    "import os\n",
    "import sys\n",
    "import pickle as pkl\n",
    "import numpy as np\n",
    "import seaborn as sns\n",
    "import matplotlib.pyplot as plt\n",
    "import lineageot.inference as sim_inf\n",
    "\n",
    "#import utils\n",
    "from jax import numpy as jnp\n",
    "import ot\n",
    "import lineageot\n",
    "from collections import defaultdict\n",
    "import networkx as nx"
   ]
  },
  {
   "cell_type": "code",
   "execution_count": 4,
   "id": "9ec5da24-9da9-42c1-a844-1abdaf5d6f24",
   "metadata": {},
   "outputs": [],
   "source": [
    "from moscot.framework.estimators import LineageEstimator\n",
    "import sys\n",
    "sys.path.append(\"../..\")\n",
    "from moscot.framework import utils_tmp"
   ]
  },
  {
   "cell_type": "code",
   "execution_count": 5,
   "id": "10aad516-d703-4a9e-9705-49009e4a2634",
   "metadata": {},
   "outputs": [],
   "source": [
    "data_dir = \"/Users/DominikKlein/Documents/PhD/data/tedsim_zoe/adatas/adata_pa0.8_ss0.6.h5ad\""
   ]
  },
  {
   "cell_type": "code",
   "execution_count": 6,
   "id": "948a5f85-44a2-422c-9366-71a479377805",
   "metadata": {},
   "outputs": [
    {
     "name": "stdout",
     "output_type": "stream",
     "text": [
      "WARNING: Your filename has more than two extensions: ['.8_ss0', '.6', '.h5ad'].\n",
      "Only considering the two last: ['.6', '.h5ad'].\n",
      "WARNING: Your filename has more than two extensions: ['.8_ss0', '.6', '.h5ad'].\n",
      "Only considering the two last: ['.6', '.h5ad'].\n"
     ]
    }
   ],
   "source": [
    "adata = sc.read(data_dir)"
   ]
  },
  {
   "cell_type": "code",
   "execution_count": 6,
   "id": "508bf17d-df80-4527-bc09-d60ed789ac0f",
   "metadata": {},
   "outputs": [],
   "source": [
    "tree = newick.loads(adata.uns['tree'])[0]"
   ]
  },
  {
   "cell_type": "code",
   "execution_count": 7,
   "id": "d865d884-6af5-476b-a564-e8f61d0910fa",
   "metadata": {},
   "outputs": [],
   "source": [
    "adatas = utils_tmp.create_adatas(adata, 6)"
   ]
  },
  {
   "cell_type": "code",
   "execution_count": 9,
   "id": "57cd9da1-062b-4644-91e3-34fe388a1c4c",
   "metadata": {},
   "outputs": [],
   "source": [
    "dep = 6\n",
    "tree = newick.loads(adatas['orig'].uns['tree'])[0]\n",
    "G = utils_tmp.gt_tree(adatas['processed'], tree, create_cell_bool=False)\n",
    "d = utils_tmp.add_node_depths(adatas['processed'], G)\n",
    "\n",
    "top, bottom = utils_tmp.cut_tree_at_depth(G, dep)"
   ]
  },
  {
   "cell_type": "code",
   "execution_count": 11,
   "id": "6657d097-b669-4d8d-9f40-84c8a0fc8fdc",
   "metadata": {},
   "outputs": [
    {
     "name": "stdout",
     "output_type": "stream",
     "text": [
      "WARNING: adata.X seems to be already log-transformed.\n"
     ]
    }
   ],
   "source": [
    "bottom_leaves = sim_inf.get_leaves(bottom, include_root=False)\n",
    "top_leaves = sim_inf.get_leaves(top, include_root=False)\n",
    "top_cell_ids = [top.nodes[n]['cellID'] for n in top_leaves]\n",
    "#assert all(top.nodes[n]['node_depth'] == d for n in top_leaves)\n",
    "adata_tmp = adata.copy()\n",
    "utils_tmp.process(adata)\n",
    "adata_bottom = adata_tmp[:1024].copy()\n",
    "adata_top = adata_tmp[adata_tmp.obs['cellID'].isin(top_cell_ids)][[str(c) for c in top_cell_ids]].copy()\n",
    "jdata = adata_top.concatenate(adata_bottom, batch_key='time_point')"
   ]
  },
  {
   "cell_type": "code",
   "execution_count": 12,
   "id": "0d21fb0b-0877-47e6-b57a-222e27456591",
   "metadata": {},
   "outputs": [
    {
     "name": "stdout",
     "output_type": "stream",
     "text": [
      "WARNING: adata.X seems to be already log-transformed.\n",
      "WARNING: adata.X seems to be already log-transformed.\n"
     ]
    }
   ],
   "source": [
    "utils_tmp.process(adata_bottom)\n",
    "utils_tmp.process(adata_top)\n",
    "utils_tmp.process(jdata)"
   ]
  },
  {
   "cell_type": "code",
   "execution_count": 13,
   "id": "3de29f04-2652-4af9-8d4e-b58cf7361088",
   "metadata": {},
   "outputs": [],
   "source": [
    "jdata.obs.time_point = jdata.obs.time_point.astype(int, copy=False)"
   ]
  },
  {
   "cell_type": "markdown",
   "id": "0241202b-e2cb-4a1d-95fa-1ed6a5303da0",
   "metadata": {},
   "source": [
    "# Use Moscot Framework"
   ]
  },
  {
   "cell_type": "code",
   "execution_count": 14,
   "id": "b7d85cf0-bc3c-4c01-abd0-dd2d7adfef51",
   "metadata": {},
   "outputs": [],
   "source": [
    "key = \"time_point\"\n",
    "policy = [(0,1)]"
   ]
  },
  {
   "cell_type": "code",
   "execution_count": 15,
   "id": "fb0d4ea8-9b2c-49b2-b6a0-d52f80c6701c",
   "metadata": {},
   "outputs": [],
   "source": [
    "estimator = LineageEstimator(jdata, {0:top, 1:bottom})"
   ]
  },
  {
   "cell_type": "code",
   "execution_count": 16,
   "id": "681abbaf-59bb-44ac-865a-69479380729d",
   "metadata": {},
   "outputs": [
    {
     "name": "stderr",
     "output_type": "stream",
     "text": [
      "WARNING:absl:No GPU/TPU found, falling back to CPU. (Set TF_CPP_MIN_LOG_LEVEL=0 and rerun for more info.)\n"
     ]
    },
    {
     "data": {
      "text/plain": [
       "LineageEstimator(adata=AnnData object with n_obs × n_vars = 1088 × 500\n",
       "    obs: 'parent', 'cluster', 'depth', 'cellID', 'node_depth', 'time_point'\n",
       "    var: 'highly_variable', 'means', 'dispersions', 'dispersions_norm'\n",
       "    uns: 'log1p', 'hvg', 'pca', 'neighbors', 'umap'\n",
       "    obsm: 'barcodes', 'X_pca', 'X_umap', 'X_pca_50'\n",
       "    varm: 'PCs'\n",
       "    obsp: 'distances', 'connectivities',\n",
       "                 tree_dict={0: <networkx.classes.digraph.DiGraph object at 0x7faa3acf3580>,\n",
       "                            1: <networkx.classes.digraph.DiGraph object at 0x7faa3bab65b0>})"
      ]
     },
     "execution_count": 16,
     "metadata": {},
     "output_type": "execute_result"
    }
   ],
   "source": [
    "estimator.prepare(key, policy)"
   ]
  },
  {
   "cell_type": "code",
   "execution_count": 17,
   "id": "5bec21ad-d093-4aa5-bb7e-71289f21b911",
   "metadata": {},
   "outputs": [
    {
     "name": "stdout",
     "output_type": "stream",
     "text": [
      "It.  |Loss        |Rel. loss   |Abs. loss   |tau         |converged   |eps         \n",
      "-----------------------------------------------------------------------------------\n",
      "    1|4.213724e+02|1.000000e+00|4.213724e+02|0.000000e+00|           1|5.000000e-01\n",
      "    2|4.213724e+02|0.000000e+00|0.000000e+00|0.000000e+00|           1|5.000000e-01\n"
     ]
    },
    {
     "data": {
      "text/plain": [
       "<moscot.framework.results.OTResult at 0x7faa3da49fa0>"
      ]
     },
     "execution_count": 17,
     "metadata": {},
     "output_type": "execute_result"
    }
   ],
   "source": [
    "epsilon = 0.5\n",
    "alpha = 0.5\n",
    "estimator.fit(epsilon, alpha)"
   ]
  },
  {
   "cell_type": "code",
   "execution_count": null,
   "id": "0e470685-7151-479d-8562-c0337b8047c6",
   "metadata": {},
   "outputs": [],
   "source": []
  }
 ],
 "metadata": {
  "kernelspec": {
   "display_name": "moscot_kernel",
   "language": "python",
   "name": "moscot_kernel"
  },
  "language_info": {
   "codemirror_mode": {
    "name": "ipython",
    "version": 3
   },
   "file_extension": ".py",
   "mimetype": "text/x-python",
   "name": "python",
   "nbconvert_exporter": "python",
   "pygments_lexer": "ipython3",
   "version": "3.8.12"
  }
 },
 "nbformat": 4,
 "nbformat_minor": 5
}
