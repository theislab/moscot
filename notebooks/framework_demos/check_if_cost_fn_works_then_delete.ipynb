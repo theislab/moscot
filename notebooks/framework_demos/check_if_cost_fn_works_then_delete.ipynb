{
 "cells": [
  {
   "cell_type": "code",
   "execution_count": 6,
   "id": "159e1739",
   "metadata": {},
   "outputs": [],
   "source": [
    "import jax\n",
    "import jax.numpy as jnp\n",
    "import jax.test_util\n",
    "from ott.core import gromov_wasserstein\n",
    "from ott.geometry import geometry\n",
    "from ott.geometry import pointcloud\n",
    "from ott.core import sinkhorn"
   ]
  },
  {
   "cell_type": "code",
   "execution_count": 23,
   "id": "6b36d308",
   "metadata": {},
   "outputs": [],
   "source": [
    "\n",
    "rng = jax.random.PRNGKey(0)\n",
    "d_x = 2\n",
    "d_y = 3\n",
    "d_xy = 4\n",
    "n, m = 5, 6\n",
    "keys = jax.random.split(rng, 7)\n",
    "x = jax.random.uniform(keys[0], (n, d_x))\n",
    "y = jax.random.uniform(keys[1], (m, d_x))"
   ]
  },
  {
   "cell_type": "code",
   "execution_count": 19,
   "id": "e2c6c290",
   "metadata": {},
   "outputs": [],
   "source": [
    "from ott.geometry.costs import Euclidean\n",
    "\n",
    "cost_fn = Euclidean()"
   ]
  },
  {
   "cell_type": "code",
   "execution_count": 20,
   "id": "1403756b",
   "metadata": {},
   "outputs": [],
   "source": [
    "inter_pc = pointcloud.PointCloud(\n",
    "            x, y, cost_fn=cost_fn()\n",
    "        )"
   ]
  },
  {
   "cell_type": "code",
   "execution_count": 28,
   "id": "a61a7ca3",
   "metadata": {},
   "outputs": [],
   "source": [
    "out = sinkhorn.sinkhorn(pointcloud.PointCloud(x, y, cost_fn=Euclidean(), epsilon=0.1), lse_mode=True, jit=False,\n",
    "                          max_iterations=1000)"
   ]
  },
  {
   "cell_type": "code",
   "execution_count": null,
   "id": "2aa8d110",
   "metadata": {},
   "outputs": [],
   "source": []
  }
 ],
 "metadata": {
  "kernelspec": {
   "display_name": "moscot_kernel",
   "language": "python",
   "name": "moscot_kernel"
  },
  "language_info": {
   "codemirror_mode": {
    "name": "ipython",
    "version": 3
   },
   "file_extension": ".py",
   "mimetype": "text/x-python",
   "name": "python",
   "nbconvert_exporter": "python",
   "pygments_lexer": "ipython3",
   "version": "3.8.12"
  }
 },
 "nbformat": 4,
 "nbformat_minor": 5
}
