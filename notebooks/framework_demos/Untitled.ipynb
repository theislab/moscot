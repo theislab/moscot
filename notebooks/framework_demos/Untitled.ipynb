{
 "cells": [
  {
   "cell_type": "code",
   "execution_count": 1,
   "id": "d4d8a545-33f6-4265-a867-d547cf6a7a8e",
   "metadata": {},
   "outputs": [],
   "source": [
    "%load_ext autoreload\n",
    "%autoreload 2"
   ]
  },
  {
   "cell_type": "code",
   "execution_count": 59,
   "id": "061d1774-7b8f-4e77-a471-49e271343660",
   "metadata": {},
   "outputs": [],
   "source": [
    "import scanpy as sc\n",
    "import pandas as pd\n",
    "import newick\n",
    "from Bio import Phylo\n",
    "from anndata import AnnData\n",
    "import ete3\n",
    "from scipy.sparse import issparse\n",
    "import os\n",
    "import sys\n",
    "import pickle as pkl\n",
    "import numpy as np\n",
    "import seaborn as sns\n",
    "import matplotlib.pyplot as plt\n",
    "\n",
    "#import utils\n",
    "from jax import numpy as jnp\n",
    "import ot\n",
    "import lineageot\n",
    "from collections import defaultdict\n",
    "import networkx as nx"
   ]
  },
  {
   "cell_type": "code",
   "execution_count": 60,
   "id": "9ec5da24-9da9-42c1-a844-1abdaf5d6f24",
   "metadata": {},
   "outputs": [],
   "source": [
    "from moscot.framework.estimators import LineageEstimator"
   ]
  },
  {
   "cell_type": "code",
   "execution_count": 3,
   "id": "ff8e1aed-5791-4f91-8d0c-6e866dc137bf",
   "metadata": {},
   "outputs": [],
   "source": [
    "import sys\n",
    "sys.path.append(\"../..\")\n",
    "from moscot.framework import zoe_utils"
   ]
  },
  {
   "cell_type": "code",
   "execution_count": 4,
   "id": "10aad516-d703-4a9e-9705-49009e4a2634",
   "metadata": {},
   "outputs": [],
   "source": [
    "data_dir = \"/Users/DominikKlein/Documents/PhD/data/tedsim_zoe/adatas/adata_pa0.8_ss0.6.h5ad\""
   ]
  },
  {
   "cell_type": "code",
   "execution_count": 5,
   "id": "948a5f85-44a2-422c-9366-71a479377805",
   "metadata": {},
   "outputs": [
    {
     "name": "stdout",
     "output_type": "stream",
     "text": [
      "WARNING: Your filename has more than two extensions: ['.8_ss0', '.6', '.h5ad'].\n",
      "Only considering the two last: ['.6', '.h5ad'].\n",
      "WARNING: Your filename has more than two extensions: ['.8_ss0', '.6', '.h5ad'].\n",
      "Only considering the two last: ['.6', '.h5ad'].\n"
     ]
    }
   ],
   "source": [
    "adata = sc.read(data_dir)"
   ]
  },
  {
   "cell_type": "code",
   "execution_count": 6,
   "id": "508bf17d-df80-4527-bc09-d60ed789ac0f",
   "metadata": {},
   "outputs": [],
   "source": [
    "tree = newick.loads(adata.uns['tree'])[0]"
   ]
  },
  {
   "cell_type": "code",
   "execution_count": 7,
   "id": "d865d884-6af5-476b-a564-e8f61d0910fa",
   "metadata": {},
   "outputs": [],
   "source": [
    "adatas = zoe_utils.create_adatas(adata, 6)"
   ]
  },
  {
   "cell_type": "code",
   "execution_count": 67,
   "id": "3bf6055e-b709-468d-9e03-40f0087580c1",
   "metadata": {},
   "outputs": [],
   "source": [
    "top_leaves = list(adatas['top'].obs_names.to_numpy().astype(int) - 1)\n",
    "bottom_leaves = list(adatas['bottom'].obs_names.to_numpy().astype(int) - 1)\n",
    "G = zoe_utils.gt_tree(adatas['processed'], tree, create_cell_bool=False)\n",
    "\n"
   ]
  },
  {
   "cell_type": "code",
   "execution_count": 63,
   "id": "e55ada7a-6e25-4a9f-88f4-cecc1111de2a",
   "metadata": {},
   "outputs": [],
   "source": [
    "G = zoe_utils.gt_tree(adatas['processed'], tree, create_cell_bool=False)\n"
   ]
  },
  {
   "cell_type": "code",
   "execution_count": 71,
   "id": "a3d82bf5-1572-4224-a12d-ea16767f6e2e",
   "metadata": {},
   "outputs": [],
   "source": [
    "dep = 6"
   ]
  },
  {
   "cell_type": "code",
   "execution_count": 68,
   "id": "ffca52e0-d1da-4788-b84d-534da4b25aa6",
   "metadata": {},
   "outputs": [
    {
     "ename": "KeyError",
     "evalue": "'node_depth'",
     "output_type": "error",
     "traceback": [
      "\u001b[0;31m---------------------------------------------------------------------------\u001b[0m",
      "\u001b[0;31mKeyError\u001b[0m                                  Traceback (most recent call last)",
      "\u001b[0;32m/var/folders/s2/1sh393wd4v1cmnc30s07zhf40000gn/T/ipykernel_15768/1643857841.py\u001b[0m in \u001b[0;36m<module>\u001b[0;34m\u001b[0m\n\u001b[0;32m----> 1\u001b[0;31m \u001b[0mtop\u001b[0m\u001b[0;34m,\u001b[0m \u001b[0mbottom\u001b[0m \u001b[0;34m=\u001b[0m \u001b[0mzoe_utils\u001b[0m\u001b[0;34m.\u001b[0m\u001b[0mcut_tree_at_depth\u001b[0m\u001b[0;34m(\u001b[0m\u001b[0mG\u001b[0m\u001b[0;34m,\u001b[0m \u001b[0md\u001b[0m\u001b[0;34m)\u001b[0m\u001b[0;34m\u001b[0m\u001b[0;34m\u001b[0m\u001b[0m\n\u001b[0m",
      "\u001b[0;32m~/Documents/PhD/code/moscot/moscot/framework/zoe_utils.py\u001b[0m in \u001b[0;36mcut_tree_at_depth\u001b[0;34m(G, depth)\u001b[0m\n\u001b[1;32m    398\u001b[0m     \u001b[0msynthetic_root\u001b[0m \u001b[0;34m=\u001b[0m \u001b[0mG_new\u001b[0m\u001b[0;34m.\u001b[0m\u001b[0madd_node\u001b[0m\u001b[0;34m(\u001b[0m\u001b[0;34m\"synroot\"\u001b[0m\u001b[0;34m,\u001b[0m \u001b[0;34m**\u001b[0m\u001b[0mdeepcopy\u001b[0m\u001b[0;34m(\u001b[0m\u001b[0mG\u001b[0m\u001b[0;34m.\u001b[0m\u001b[0mnodes\u001b[0m\u001b[0;34m[\u001b[0m\u001b[0;34m'root'\u001b[0m\u001b[0;34m]\u001b[0m\u001b[0;34m)\u001b[0m\u001b[0;34m)\u001b[0m\u001b[0;34m\u001b[0m\u001b[0;34m\u001b[0m\u001b[0m\n\u001b[1;32m    399\u001b[0m     \u001b[0;32mfor\u001b[0m \u001b[0mn\u001b[0m \u001b[0;32min\u001b[0m \u001b[0mnx\u001b[0m\u001b[0;34m.\u001b[0m\u001b[0mbreadth_first_search\u001b[0m\u001b[0;34m.\u001b[0m\u001b[0mbfs_tree\u001b[0m\u001b[0;34m(\u001b[0m\u001b[0mG\u001b[0m\u001b[0;34m,\u001b[0m \u001b[0;34m'root'\u001b[0m\u001b[0;34m)\u001b[0m\u001b[0;34m:\u001b[0m\u001b[0;34m\u001b[0m\u001b[0;34m\u001b[0m\u001b[0m\n\u001b[0;32m--> 400\u001b[0;31m         \u001b[0mnd\u001b[0m \u001b[0;34m=\u001b[0m \u001b[0mG\u001b[0m\u001b[0;34m.\u001b[0m\u001b[0mnodes\u001b[0m\u001b[0;34m[\u001b[0m\u001b[0mn\u001b[0m\u001b[0;34m]\u001b[0m\u001b[0;34m[\u001b[0m\u001b[0;34m'node_depth'\u001b[0m\u001b[0;34m]\u001b[0m\u001b[0;34m\u001b[0m\u001b[0;34m\u001b[0m\u001b[0m\n\u001b[0m\u001b[1;32m    401\u001b[0m         \u001b[0;32mif\u001b[0m \u001b[0mnd\u001b[0m \u001b[0;34m<\u001b[0m \u001b[0mdepth\u001b[0m\u001b[0;34m:\u001b[0m\u001b[0;34m\u001b[0m\u001b[0;34m\u001b[0m\u001b[0m\n\u001b[1;32m    402\u001b[0m             \u001b[0mfst_n\u001b[0m\u001b[0;34m.\u001b[0m\u001b[0mappend\u001b[0m\u001b[0;34m(\u001b[0m\u001b[0mn\u001b[0m\u001b[0;34m)\u001b[0m\u001b[0;34m\u001b[0m\u001b[0;34m\u001b[0m\u001b[0m\n",
      "\u001b[0;31mKeyError\u001b[0m: 'node_depth'"
     ]
    }
   ],
   "source": [
    "top, bottom = zoe_utils.cut_tree_at_depth(G, d)"
   ]
  },
  {
   "cell_type": "code",
   "execution_count": 73,
   "id": "57cd9da1-062b-4644-91e3-34fe388a1c4c",
   "metadata": {},
   "outputs": [],
   "source": [
    "tree = newick.loads(adatas['orig'].uns['tree'])[0]\n",
    "G = zoe_utils.gt_tree(adatas['processed'], tree, create_cell_bool=False)\n",
    "d = zoe_utils.add_node_depths(adatas['processed'], G)\n",
    "\n",
    "top, bottom = zoe_utils.cut_tree_at_depth(G, dep)"
   ]
  },
  {
   "cell_type": "code",
   "execution_count": 75,
   "id": "9fe8ec30-b2c2-4801-a9c9-333028348645",
   "metadata": {},
   "outputs": [
    {
     "data": {
      "text/plain": [
       "(<networkx.classes.digraph.DiGraph at 0x7facd378e6d0>,\n",
       " <networkx.classes.digraph.DiGraph at 0x7faccf393370>)"
      ]
     },
     "execution_count": 75,
     "metadata": {},
     "output_type": "execute_result"
    }
   ],
   "source": [
    "top, bottom"
   ]
  },
  {
   "cell_type": "code",
   "execution_count": 80,
   "id": "6657d097-b669-4d8d-9f40-84c8a0fc8fdc",
   "metadata": {},
   "outputs": [
    {
     "name": "stdout",
     "output_type": "stream",
     "text": [
      "WARNING: adata.X seems to be already log-transformed.\n"
     ]
    }
   ],
   "source": [
    "import lineageot.inference as sim_inf\n",
    "bottom_leaves = sim_inf.get_leaves(bottom, include_root=False)\n",
    "top_leaves = sim_inf.get_leaves(top, include_root=False)\n",
    "top_cell_ids = [top.nodes[n]['cellID'] for n in top_leaves]\n",
    "#assert all(top.nodes[n]['node_depth'] == d for n in top_leaves)\n",
    "adata_tmp = adata.copy()\n",
    "zoe_utils.process(adata)\n",
    "adata_bottom = adata_tmp[:1024].copy()\n",
    "adata_top = adata_tmp[adata_tmp.obs['cellID'].isin(top_cell_ids)][[str(c) for c in top_cell_ids]].copy()\n",
    "jdata = adata_top.concatenate(adata_bottom, batch_key='time_point')"
   ]
  },
  {
   "cell_type": "code",
   "execution_count": 82,
   "id": "0d21fb0b-0877-47e6-b57a-222e27456591",
   "metadata": {},
   "outputs": [
    {
     "name": "stdout",
     "output_type": "stream",
     "text": [
      "WARNING: adata.X seems to be already log-transformed.\n",
      "WARNING: adata.X seems to be already log-transformed.\n"
     ]
    }
   ],
   "source": [
    "zoe_utils.process(adata_bottom)\n",
    "zoe_utils.process(adata_top)\n",
    "zoe_utils.process(jdata)"
   ]
  },
  {
   "cell_type": "code",
   "execution_count": 84,
   "id": "1cd25545-dd6b-4c92-904b-cc530e97e904",
   "metadata": {},
   "outputs": [
    {
     "data": {
      "text/plain": [
       "['0', '1']\n",
       "Categories (2, object): ['0', '1']"
      ]
     },
     "execution_count": 84,
     "metadata": {},
     "output_type": "execute_result"
    }
   ],
   "source": [
    "jdata.obs.time_point.unique()"
   ]
  },
  {
   "cell_type": "code",
   "execution_count": 91,
   "id": "3de29f04-2652-4af9-8d4e-b58cf7361088",
   "metadata": {},
   "outputs": [],
   "source": [
    "jdata.obs.time_point = jdata.obs.time_point.astype(int, copy=False)"
   ]
  },
  {
   "cell_type": "code",
   "execution_count": 92,
   "id": "c8ed7665-5c80-4fce-af4d-febbb3cd4cc5",
   "metadata": {},
   "outputs": [
    {
     "data": {
      "text/plain": [
       "dtype('int64')"
      ]
     },
     "execution_count": 92,
     "metadata": {},
     "output_type": "execute_result"
    }
   ],
   "source": [
    "jdata.obs.time_point.dtype"
   ]
  },
  {
   "cell_type": "code",
   "execution_count": 93,
   "id": "b7d85cf0-bc3c-4c01-abd0-dd2d7adfef51",
   "metadata": {},
   "outputs": [],
   "source": [
    "key = \"time_point\"\n"
   ]
  },
  {
   "cell_type": "code",
   "execution_count": 94,
   "id": "fb0d4ea8-9b2c-49b2-b6a0-d52f80c6701c",
   "metadata": {},
   "outputs": [],
   "source": [
    "estimator = LineageEstimator(jdata, {0:top, 1:bottom})"
   ]
  },
  {
   "cell_type": "code",
   "execution_count": null,
   "id": "681abbaf-59bb-44ac-865a-69479380729d",
   "metadata": {},
   "outputs": [],
   "source": [
    "estimator.prepare()"
   ]
  }
 ],
 "metadata": {
  "kernelspec": {
   "display_name": "moscot_kernel",
   "language": "python",
   "name": "moscot_kernel"
  },
  "language_info": {
   "codemirror_mode": {
    "name": "ipython",
    "version": 3
   },
   "file_extension": ".py",
   "mimetype": "text/x-python",
   "name": "python",
   "nbconvert_exporter": "python",
   "pygments_lexer": "ipython3",
   "version": "3.8.12"
  }
 },
 "nbformat": 4,
 "nbformat_minor": 5
}
