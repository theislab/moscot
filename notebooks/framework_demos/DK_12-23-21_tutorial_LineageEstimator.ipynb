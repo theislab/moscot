{
 "cells": [
  {
   "cell_type": "code",
   "execution_count": 2,
   "id": "5ab3f240-6c87-44b5-9d0a-5bf29a034da9",
   "metadata": {},
   "outputs": [],
   "source": [
    "%load_ext autoreload\n",
    "%autoreload 2"
   ]
  },
  {
   "cell_type": "code",
   "execution_count": 3,
   "id": "66b896c3-258c-4f09-9eb4-493e0cd0bd7c",
   "metadata": {},
   "outputs": [],
   "source": [
    "import anndata\n",
    "import numpy as np\n",
    "import pickle\n",
    "from moscot.framework.estimators import LineageEstimator"
   ]
  },
  {
   "cell_type": "code",
   "execution_count": 4,
   "id": "ed31cb7a-3c63-42d9-b75b-2499c9b8fc19",
   "metadata": {},
   "outputs": [],
   "source": [
    "adata_dir = \"/Users/DominikKlein/Documents/PhD/data/Hu_zebrafish_linnaeus/adata.h5ad\"\n",
    "trees_dir = \"/Users/DominikKlein/Documents/PhD/data/Hu_zebrafish_linnaeus/trees.pkl\""
   ]
  },
  {
   "cell_type": "code",
   "execution_count": 5,
   "id": "e5fe6cd8-e950-4519-873d-3ab07d09cf63",
   "metadata": {},
   "outputs": [],
   "source": [
    "adata = anndata.read(adata_dir)"
   ]
  },
  {
   "cell_type": "code",
   "execution_count": 6,
   "id": "2df5da59-9ff2-469a-8591-6e08fb3d537b",
   "metadata": {},
   "outputs": [],
   "source": [
    "# focus on time-points ctrl 3, 7 (H5-> ctrl, Hr26 -> 3, Hr2->7)\n",
    "dpis_orig_ident = ['H5', 'Hr26', 'Hr2a','Hr2b']\n",
    "dpis = [0, 3, 7, 7]\n",
    "dpis_unq = np.unique(dpis)\n",
    "dpis_str =['ctrl', 'dpi3', 'dpi7']\n",
    "dpis_trees = ['H5', 'Hr26', 'Hr2']\n",
    "core_nodes = [100, 100, 100]"
   ]
  },
  {
   "cell_type": "code",
   "execution_count": 7,
   "id": "4b666153-2a15-4580-81d9-62503a1413aa",
   "metadata": {},
   "outputs": [
    {
     "data": {
      "text/plain": [
       "AnnData object with n_obs × n_vars = 49249 × 31466\n",
       "    obs: 'orig.ident', 'nCount_RNA', 'nFeature_RNA', 'percent.mito', 'time', 'morphine', 'AV', 'inhib', 'so.far.ident.subtypes', 'so.far.ident', 'RNA_snn_res.4', 'seurat_clusters', 'work.ident', 'fibro.subtypes', 'is.inhib', 'split.inhib', 'zoom.ident', 'zoom.subtypes', 'plot.ident', 'CM.ident', 'paper.ident', 'RNA_snn_res.2', 'RNA_snn_res.3', 'RNA_snn_res.3.5', 'work.ident2', 'work.ident3', 'final.zoom', 'lineage.ident', 'Cell_type'\n",
       "    var: 'Accession', 'Chromosome', 'End', 'Start', 'Strand'\n",
       "    uns: 'trees'\n",
       "    layers: 'ambiguous', 'matrix', 'spliced', 'unspliced'"
      ]
     },
     "execution_count": 7,
     "metadata": {},
     "output_type": "execute_result"
    }
   ],
   "source": [
    "adata_filtered = adata[adata.obs['orig.ident'].isin(dpis_orig_ident)].copy()\n",
    "adata_filtered"
   ]
  },
  {
   "cell_type": "code",
   "execution_count": 8,
   "id": "713c54b6-eb12-47b1-9928-1a56e6c57c32",
   "metadata": {},
   "outputs": [],
   "source": [
    "adata_filtered.obs[\"dpi\"] = adata_filtered.obs[\"orig.ident\"].replace(dpis_orig_ident, dpis).astype(\"category\")"
   ]
  },
  {
   "cell_type": "code",
   "execution_count": 9,
   "id": "97438f46-392a-40f5-b272-bb3b37b515a9",
   "metadata": {},
   "outputs": [],
   "source": [
    "with open(trees_dir, 'rb') as file:\n",
    "    trees = pickle.load(file)"
   ]
  },
  {
   "cell_type": "code",
   "execution_count": 10,
   "id": "1a3053e3-05ad-4d5f-8dc9-aa3ed1d418a5",
   "metadata": {},
   "outputs": [],
   "source": [
    "trees_dpis = {}\n",
    "trees_dpis_core = {}\n",
    "for i, dpi in enumerate(dpis_unq):\n",
    "    trees_dpis[dpi] = trees[dpis_trees[i]]\n",
    "    trees_dpis_core[dpi] = trees_dpis[dpi].subgraph([str(n) for n in range(core_nodes[i])])\n"
   ]
  },
  {
   "cell_type": "code",
   "execution_count": 11,
   "id": "81fc8e8b-ad72-43c2-9f37-6c39daae8e74",
   "metadata": {},
   "outputs": [],
   "source": [
    "key = \"depth\"\n",
    "epsilon = 0.2"
   ]
  },
  {
   "cell_type": "code",
   "execution_count": 27,
   "id": "3fb67b71-3534-486a-9f1e-f9b18cdfc8d5",
   "metadata": {},
   "outputs": [],
   "source": [
    "estimator = LineageEstimator(adata_filtered, \"dpi\", trees_dpis_core, epsilon)"
   ]
  },
  {
   "cell_type": "code",
   "execution_count": 28,
   "id": "54e733cb-1f53-4863-b62e-fdd449741855",
   "metadata": {},
   "outputs": [],
   "source": [
    "estimator.prepare((0,3))"
   ]
  },
  {
   "cell_type": "code",
   "execution_count": null,
   "id": "0cdb401d-a65f-47ba-89e5-e70d8dc4b4a5",
   "metadata": {},
   "outputs": [],
   "source": [
    "ot_results = estimator.fit()"
   ]
  },
  {
   "cell_type": "code",
   "execution_count": null,
   "id": "9b204f58-6637-4519-ab20-b5064b976259",
   "metadata": {},
   "outputs": [],
   "source": [
    "self._solver_dict[tup].fit(self.geometries_inter_dict[tup], self.geometries_intra_dict[tup[0]], \n",
    "                           self.geometries_intra_dict[tup[1]], self.a_dict[tup], self.b_dict[tup])"
   ]
  },
  {
   "cell_type": "code",
   "execution_count": null,
   "id": "9634d65e-2378-4ced-b672-85b4bba998af",
   "metadata": {},
   "outputs": [],
   "source": []
  }
 ],
 "metadata": {
  "kernelspec": {
   "display_name": "moscot_kernel",
   "language": "python",
   "name": "moscot_kernel"
  },
  "language_info": {
   "codemirror_mode": {
    "name": "ipython",
    "version": 3
   },
   "file_extension": ".py",
   "mimetype": "text/x-python",
   "name": "python",
   "nbconvert_exporter": "python",
   "pygments_lexer": "ipython3",
   "version": "3.8.12"
  }
 },
 "nbformat": 4,
 "nbformat_minor": 5
}
