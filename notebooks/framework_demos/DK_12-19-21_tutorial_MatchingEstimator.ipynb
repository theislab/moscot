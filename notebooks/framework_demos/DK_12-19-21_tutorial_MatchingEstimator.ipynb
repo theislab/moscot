{
 "cells": [
  {
   "cell_type": "markdown",
   "id": "4a78cd25",
   "metadata": {},
   "source": [
    "The MatchingEstimator is a generic estimator for regularized OT."
   ]
  },
  {
   "cell_type": "code",
   "execution_count": 1,
   "id": "17366d30",
   "metadata": {},
   "outputs": [],
   "source": [
    "%load_ext autoreload\n",
    "%autoreload 2"
   ]
  },
  {
   "cell_type": "code",
   "execution_count": 2,
   "id": "b70d92fa",
   "metadata": {},
   "outputs": [],
   "source": [
    "import anndata\n",
    "from moscot.framework.estimators import MatchingEstimator\n"
   ]
  },
  {
   "cell_type": "code",
   "execution_count": 3,
   "id": "7c7343c3",
   "metadata": {},
   "outputs": [],
   "source": [
    "adata_dir = \"/Users/DominikKlein/Documents/adatas/adata_tedsim_8192.h5ad\" "
   ]
  },
  {
   "cell_type": "code",
   "execution_count": 4,
   "id": "f29fde62",
   "metadata": {},
   "outputs": [],
   "source": [
    "adata = anndata.read(adata_dir)"
   ]
  },
  {
   "cell_type": "code",
   "execution_count": 5,
   "id": "dd3489d1",
   "metadata": {},
   "outputs": [],
   "source": [
    "key = \"depth\"\n",
    "epsilon = 0.2"
   ]
  },
  {
   "cell_type": "code",
   "execution_count": 6,
   "id": "3c47e52b",
   "metadata": {},
   "outputs": [],
   "source": [
    "estimator = MatchingEstimator(adata, key, epsilon)"
   ]
  },
  {
   "cell_type": "code",
   "execution_count": 7,
   "id": "a54fb61b",
   "metadata": {},
   "outputs": [
    {
     "data": {
      "text/plain": [
       "{'adata': AnnData object with n_obs × n_vars = 16382 × 500\n",
       "     obs: 'parent', 'cluster', 'depth', 'cellID'\n",
       "     uns: 'metadata', 'tree'\n",
       "     obsm: 'barcodes',\n",
       " 'cost_fn': None,\n",
       " 'epsilon': None,\n",
       " 'key': 'depth',\n",
       " 'params': 0.2}"
      ]
     },
     "execution_count": 7,
     "metadata": {},
     "output_type": "execute_result"
    }
   ],
   "source": [
    "estimator.get_params()"
   ]
  },
  {
   "cell_type": "code",
   "execution_count": 11,
   "id": "34d3a70a",
   "metadata": {},
   "outputs": [],
   "source": [
    "estimator.prepare((1,2))"
   ]
  },
  {
   "cell_type": "code",
   "execution_count": 14,
   "id": "e2969a1b",
   "metadata": {},
   "outputs": [],
   "source": [
    "ot_result = estimator.fit()"
   ]
  },
  {
   "cell_type": "code",
   "execution_count": 22,
   "id": "8de1fcb8",
   "metadata": {},
   "outputs": [
    {
     "ename": "ValueError",
     "evalue": "No transport matrix was calculated for (2, 3)",
     "output_type": "error",
     "traceback": [
      "\u001b[0;31m---------------------------------------------------------------------------\u001b[0m",
      "\u001b[0;31mValueError\u001b[0m                                Traceback (most recent call last)",
      "\u001b[0;32m/var/folders/s2/1sh393wd4v1cmnc30s07zhf40000gn/T/ipykernel_1877/2680148325.py\u001b[0m in \u001b[0;36m<module>\u001b[0;34m\u001b[0m\n\u001b[0;32m----> 1\u001b[0;31m \u001b[0mot_result\u001b[0m\u001b[0;34m.\u001b[0m\u001b[0mpush_forward_composed\u001b[0m\u001b[0;34m(\u001b[0m\u001b[0;36m1\u001b[0m\u001b[0;34m,\u001b[0m\u001b[0;36m3\u001b[0m\u001b[0;34m)\u001b[0m\u001b[0;34m\u001b[0m\u001b[0;34m\u001b[0m\u001b[0m\n\u001b[0m",
      "\u001b[0;32m~/Documents/PhD/code/moscot/moscot/framework/results.py\u001b[0m in \u001b[0;36mpush_forward_composed\u001b[0;34m(self, start, end, key_groups, groups)\u001b[0m\n\u001b[1;32m     73\u001b[0m         \u001b[0;32mif\u001b[0m \u001b[0mstart\u001b[0m \u001b[0;34m>\u001b[0m \u001b[0mend\u001b[0m\u001b[0;34m:\u001b[0m\u001b[0;34m\u001b[0m\u001b[0;34m\u001b[0m\u001b[0m\n\u001b[1;32m     74\u001b[0m             \u001b[0;32mraise\u001b[0m \u001b[0mValueError\u001b[0m\u001b[0;34m(\u001b[0m\u001b[0;34m\"push_forward_composed() requires start > end.\"\u001b[0m\u001b[0;34m)\u001b[0m\u001b[0;34m\u001b[0m\u001b[0;34m\u001b[0m\u001b[0m\n\u001b[0;32m---> 75\u001b[0;31m         \u001b[0mself\u001b[0m\u001b[0;34m.\u001b[0m\u001b[0m_verify_sequence_exists\u001b[0m\u001b[0;34m(\u001b[0m\u001b[0mstart\u001b[0m\u001b[0;34m,\u001b[0m \u001b[0mend\u001b[0m\u001b[0;34m)\u001b[0m\u001b[0;34m\u001b[0m\u001b[0;34m\u001b[0m\u001b[0m\n\u001b[0m\u001b[1;32m     76\u001b[0m         \u001b[0mmatrix\u001b[0m \u001b[0;34m=\u001b[0m \u001b[0mself\u001b[0m\u001b[0;34m.\u001b[0m\u001b[0mmatrix_dict\u001b[0m\u001b[0;34m[\u001b[0m\u001b[0;34m(\u001b[0m\u001b[0mstart\u001b[0m\u001b[0;34m,\u001b[0m \u001b[0mstart\u001b[0m\u001b[0;34m+\u001b[0m\u001b[0;36m1\u001b[0m\u001b[0;34m)\u001b[0m\u001b[0;34m]\u001b[0m\u001b[0;34m\u001b[0m\u001b[0;34m\u001b[0m\u001b[0m\n\u001b[1;32m     77\u001b[0m         \u001b[0mmasses\u001b[0m \u001b[0;34m=\u001b[0m \u001b[0;34m[\u001b[0m\u001b[0mself\u001b[0m\u001b[0;34m.\u001b[0m\u001b[0m_prepare_transport\u001b[0m\u001b[0;34m(\u001b[0m\u001b[0mmatrix\u001b[0m\u001b[0;34m,\u001b[0m \u001b[0mstart\u001b[0m\u001b[0;34m,\u001b[0m \u001b[0mgroups\u001b[0m\u001b[0;34m,\u001b[0m \u001b[0mkey_groups\u001b[0m\u001b[0;34m)\u001b[0m\u001b[0;34m]\u001b[0m\u001b[0;34m\u001b[0m\u001b[0;34m\u001b[0m\u001b[0m\n",
      "\u001b[0;32m~/Documents/PhD/code/moscot/moscot/framework/results.py\u001b[0m in \u001b[0;36m_verify_sequence_exists\u001b[0;34m(self, early, late)\u001b[0m\n\u001b[1;32m    182\u001b[0m         \u001b[0;32mfor\u001b[0m \u001b[0mi\u001b[0m \u001b[0;32min\u001b[0m \u001b[0mrange\u001b[0m\u001b[0;34m(\u001b[0m\u001b[0mearly\u001b[0m\u001b[0;34m,\u001b[0m \u001b[0mlate\u001b[0m\u001b[0;34m)\u001b[0m\u001b[0;34m:\u001b[0m\u001b[0;34m\u001b[0m\u001b[0;34m\u001b[0m\u001b[0m\n\u001b[1;32m    183\u001b[0m             \u001b[0;32mif\u001b[0m \u001b[0;34m(\u001b[0m\u001b[0mi\u001b[0m\u001b[0;34m,\u001b[0m \u001b[0mi\u001b[0m\u001b[0;34m+\u001b[0m\u001b[0;36m1\u001b[0m\u001b[0;34m)\u001b[0m \u001b[0;32mnot\u001b[0m \u001b[0;32min\u001b[0m \u001b[0mmatrix_keys\u001b[0m\u001b[0;34m:\u001b[0m\u001b[0;34m\u001b[0m\u001b[0;34m\u001b[0m\u001b[0m\n\u001b[0;32m--> 184\u001b[0;31m                 \u001b[0;32mraise\u001b[0m \u001b[0mValueError\u001b[0m\u001b[0;34m(\u001b[0m\u001b[0;34m\"No transport matrix was calculated for {}\"\u001b[0m\u001b[0;34m.\u001b[0m\u001b[0mformat\u001b[0m\u001b[0;34m(\u001b[0m\u001b[0;34m(\u001b[0m\u001b[0mi\u001b[0m\u001b[0;34m,\u001b[0m \u001b[0mi\u001b[0m\u001b[0;34m+\u001b[0m\u001b[0;36m1\u001b[0m\u001b[0;34m)\u001b[0m\u001b[0;34m)\u001b[0m\u001b[0;34m)\u001b[0m\u001b[0;34m\u001b[0m\u001b[0;34m\u001b[0m\u001b[0m\n\u001b[0m\u001b[1;32m    185\u001b[0m \u001b[0;34m\u001b[0m\u001b[0m\n\u001b[1;32m    186\u001b[0m \u001b[0;34m\u001b[0m\u001b[0m\n",
      "\u001b[0;31mValueError\u001b[0m: No transport matrix was calculated for (2, 3)"
     ]
    }
   ],
   "source": [
    "ot_result.push_forward_composed(1,3)"
   ]
  },
  {
   "cell_type": "code",
   "execution_count": 24,
   "id": "9444a8da-db68-4490-8590-7c03b4d77465",
   "metadata": {},
   "outputs": [
    {
     "data": {
      "text/plain": [
       "array([[ 0.,  4.,  5., ...,  5.,  0.,  8.],\n",
       "       [ 2., 11.,  4., ...,  3.,  1., 14.],\n",
       "       [ 1.,  3.,  1., ...,  0.,  0.,  4.],\n",
       "       ...,\n",
       "       [ 0., 19.,  6., ...,  1.,  0.,  7.],\n",
       "       [ 2., 11.,  1., ...,  3., 20.,  5.],\n",
       "       [ 2., 11.,  0., ...,  5.,  0.,  3.]], dtype=float32)"
      ]
     },
     "execution_count": 24,
     "metadata": {},
     "output_type": "execute_result"
    }
   ],
   "source": [
    "adata.X"
   ]
  },
  {
   "cell_type": "code",
   "execution_count": 26,
   "id": "ad8210be-fb65-4ee5-a275-53cf90840e26",
   "metadata": {},
   "outputs": [
    {
     "data": {
      "text/plain": [
       "['__abstractmethods__',\n",
       " '__class__',\n",
       " '__delattr__',\n",
       " '__dict__',\n",
       " '__dir__',\n",
       " '__doc__',\n",
       " '__eq__',\n",
       " '__format__',\n",
       " '__ge__',\n",
       " '__getattribute__',\n",
       " '__getstate__',\n",
       " '__gt__',\n",
       " '__hash__',\n",
       " '__init__',\n",
       " '__init_subclass__',\n",
       " '__le__',\n",
       " '__lt__',\n",
       " '__module__',\n",
       " '__ne__',\n",
       " '__new__',\n",
       " '__reduce__',\n",
       " '__reduce_ex__',\n",
       " '__repr__',\n",
       " '__setattr__',\n",
       " '__setstate__',\n",
       " '__sizeof__',\n",
       " '__slots__',\n",
       " '__str__',\n",
       " '__subclasshook__',\n",
       " '__weakref__',\n",
       " '_abc_impl',\n",
       " '_adata',\n",
       " '_check_feature_names',\n",
       " '_check_marginals',\n",
       " '_check_n_features',\n",
       " '_cost_fn',\n",
       " '_create_cost',\n",
       " '_default_cost_fn',\n",
       " '_epsilon',\n",
       " '_get_param_names',\n",
       " '_get_tags',\n",
       " '_kwargs',\n",
       " '_more_tags',\n",
       " '_params',\n",
       " '_prepare_geom',\n",
       " '_regularized_dict',\n",
       " '_repr_html_',\n",
       " '_repr_html_inner',\n",
       " '_repr_mimebundle_',\n",
       " '_solver_dict',\n",
       " '_validate_data',\n",
       " 'a_dict',\n",
       " 'adata',\n",
       " 'b_dict',\n",
       " 'converged',\n",
       " 'cost_fn',\n",
       " 'epsilon',\n",
       " 'estimate_growth_rates',\n",
       " 'fit',\n",
       " 'geometries_dict',\n",
       " 'get_params',\n",
       " 'key',\n",
       " 'load_from_adata',\n",
       " 'matrix',\n",
       " 'params',\n",
       " 'prepare',\n",
       " 'rep',\n",
       " 'serialize_to_adata',\n",
       " 'set_params',\n",
       " 'transport']"
      ]
     },
     "execution_count": 26,
     "metadata": {},
     "output_type": "execute_result"
    }
   ],
   "source": [
    "dir(estimator)"
   ]
  },
  {
   "cell_type": "code",
   "execution_count": 29,
   "id": "a019bde6-c61d-474d-90f1-576d6499421b",
   "metadata": {},
   "outputs": [
    {
     "data": {
      "text/plain": [
       "{(1, 2): <moscot._solver.Regularized at 0x7ff69c5c63a0>}"
      ]
     },
     "execution_count": 29,
     "metadata": {},
     "output_type": "execute_result"
    }
   ],
   "source": [
    "estimator._solver_dict"
   ]
  },
  {
   "cell_type": "code",
   "execution_count": 30,
   "id": "d066eea9-d7c2-480b-b818-206099813002",
   "metadata": {},
   "outputs": [
    {
     "data": {
      "text/plain": [
       "{(1, 2): <moscot._solver.Regularized at 0x7ff69c5c63a0>}"
      ]
     },
     "execution_count": 30,
     "metadata": {},
     "output_type": "execute_result"
    }
   ],
   "source": [
    "estimator._regularized_dict"
   ]
  },
  {
   "cell_type": "code",
   "execution_count": 34,
   "id": "54b21ea9-f971-4d65-8f9a-8624df7a819b",
   "metadata": {},
   "outputs": [
    {
     "data": {
      "text/plain": [
       "array([[ 0.,  4.,  5., ...,  5.,  0.,  8.],\n",
       "       [ 2., 11.,  4., ...,  3.,  1., 14.],\n",
       "       [ 1.,  3.,  1., ...,  0.,  0.,  4.],\n",
       "       ...,\n",
       "       [ 0., 19.,  6., ...,  1.,  0.,  7.],\n",
       "       [ 2., 11.,  1., ...,  3., 20.,  5.],\n",
       "       [ 2., 11.,  0., ...,  5.,  0.,  3.]], dtype=float32)"
      ]
     },
     "execution_count": 34,
     "metadata": {},
     "output_type": "execute_result"
    }
   ],
   "source": [
    "rep = \"X\"\n",
    "getattr(adata, rep)"
   ]
  },
  {
   "cell_type": "code",
   "execution_count": 35,
   "id": "ceea3751-75c6-4272-b1e7-28c304979db5",
   "metadata": {},
   "outputs": [],
   "source": [
    "adata.layers[\"Y\"] = adata.X"
   ]
  },
  {
   "cell_type": "code",
   "execution_count": 44,
   "id": "e107faa2-32c1-4230-a917-2b26c741e05a",
   "metadata": {},
   "outputs": [
    {
     "data": {
      "text/plain": [
       "array([6, 5, 9, ..., 2, 0, 5])"
      ]
     },
     "execution_count": 44,
     "metadata": {},
     "output_type": "execute_result"
    }
   ],
   "source": [
    "adata.obs[\"depth\"].values"
   ]
  },
  {
   "cell_type": "code",
   "execution_count": null,
   "id": "78c9d3a5-d430-4c8e-bc3d-2795b37c440d",
   "metadata": {},
   "outputs": [],
   "source": []
  }
 ],
 "metadata": {
  "kernelspec": {
   "display_name": "moscot_kernel",
   "language": "python",
   "name": "moscot_kernel"
  },
  "language_info": {
   "codemirror_mode": {
    "name": "ipython",
    "version": 3
   },
   "file_extension": ".py",
   "mimetype": "text/x-python",
   "name": "python",
   "nbconvert_exporter": "python",
   "pygments_lexer": "ipython3",
   "version": "3.8.12"
  }
 },
 "nbformat": 4,
 "nbformat_minor": 5
}
