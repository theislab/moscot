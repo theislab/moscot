{
 "cells": [
  {
   "cell_type": "markdown",
   "id": "4a78cd25",
   "metadata": {},
   "source": [
    "The MatchingEstimator is a generic estimator for regularized OT."
   ]
  },
  {
   "cell_type": "code",
   "execution_count": 15,
   "id": "17366d30",
   "metadata": {},
   "outputs": [
    {
     "name": "stdout",
     "output_type": "stream",
     "text": [
      "The autoreload extension is already loaded. To reload it, use:\n",
      "  %reload_ext autoreload\n"
     ]
    }
   ],
   "source": [
    "%load_ext autoreload\n",
    "%autoreload 2"
   ]
  },
  {
   "cell_type": "code",
   "execution_count": 16,
   "id": "b70d92fa",
   "metadata": {},
   "outputs": [],
   "source": [
    "import anndata\n",
    "from moscot.framework.estimators import MatchingEstimator\n"
   ]
  },
  {
   "cell_type": "code",
   "execution_count": 17,
   "id": "7c7343c3",
   "metadata": {},
   "outputs": [],
   "source": [
    "adata_dir = \"/Users/DominikKlein/Documents/adatas/adata_tedsim_8192.h5ad\" "
   ]
  },
  {
   "cell_type": "code",
   "execution_count": 18,
   "id": "f29fde62",
   "metadata": {},
   "outputs": [],
   "source": [
    "adata = anndata.read(adata_dir)\n",
    "bdata = adata.copy()\n",
    "bdata.X /= 1000"
   ]
  },
  {
   "cell_type": "code",
   "execution_count": 19,
   "id": "3c47e52b",
   "metadata": {},
   "outputs": [],
   "source": [
    "estimator = MatchingEstimator(bdata)"
   ]
  },
  {
   "cell_type": "code",
   "execution_count": 20,
   "id": "34d3a70a",
   "metadata": {},
   "outputs": [
    {
     "data": {
      "text/plain": [
       "MatchingEstimator(adata=AnnData object with n_obs × n_vars = 16382 × 500\n",
       "    obs: 'parent', 'cluster', 'depth', 'cellID'\n",
       "    uns: 'metadata', 'tree'\n",
       "    obsm: 'barcodes')"
      ]
     },
     "execution_count": 20,
     "metadata": {},
     "output_type": "execute_result"
    }
   ],
   "source": [
    "key = \"depth\"\n",
    "estimator.prepare(key, [(1,2)])"
   ]
  },
  {
   "cell_type": "code",
   "execution_count": 21,
   "id": "e2969a1b",
   "metadata": {},
   "outputs": [],
   "source": [
    "from ott.geometry import epsilon_scheduler\n",
    "epsilon = epsilon_scheduler.Epsilon()\n",
    "ot_result = estimator.fit(epsilon)"
   ]
  },
  {
   "cell_type": "code",
   "execution_count": 22,
   "id": "8de1fcb8",
   "metadata": {},
   "outputs": [],
   "source": [
    "res = ot_result.push_forward_composed(1,2)"
   ]
  },
  {
   "cell_type": "code",
   "execution_count": 26,
   "id": "78c9d3a5-d430-4c8e-bc3d-2795b37c440d",
   "metadata": {},
   "outputs": [
    {
     "data": {
      "text/plain": [
       "{(1, 2): <moscot._solver.Regularized at 0x7ff75c6283d0>}"
      ]
     },
     "execution_count": 26,
     "metadata": {},
     "output_type": "execute_result"
    }
   ],
   "source": [
    "estimator.solvers"
   ]
  },
  {
   "cell_type": "code",
   "execution_count": null,
   "id": "2148b16e-f2bd-4204-828e-4a95873d4ae4",
   "metadata": {},
   "outputs": [],
   "source": []
  }
 ],
 "metadata": {
  "kernelspec": {
   "display_name": "moscot_kernel",
   "language": "python",
   "name": "moscot_kernel"
  },
  "language_info": {
   "codemirror_mode": {
    "name": "ipython",
    "version": 3
   },
   "file_extension": ".py",
   "mimetype": "text/x-python",
   "name": "python",
   "nbconvert_exporter": "python",
   "pygments_lexer": "ipython3",
   "version": "3.8.12"
  }
 },
 "nbformat": 4,
 "nbformat_minor": 5
}
