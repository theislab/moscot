{
 "cells": [
  {
   "cell_type": "markdown",
   "id": "4a78cd25",
   "metadata": {},
   "source": [
    "The MatchingEstimator is a generic estimator for regularized OT."
   ]
  },
  {
   "cell_type": "code",
   "execution_count": 1,
   "id": "17366d30",
   "metadata": {},
   "outputs": [],
   "source": [
    "%load_ext autoreload\n",
    "%autoreload 2"
   ]
  },
  {
   "cell_type": "code",
   "execution_count": 2,
   "id": "b70d92fa",
   "metadata": {},
   "outputs": [],
   "source": [
    "import anndata\n",
    "from moscot.framework.estimators import MatchingEstimator\n"
   ]
  },
  {
   "cell_type": "code",
   "execution_count": 3,
   "id": "7c7343c3",
   "metadata": {},
   "outputs": [],
   "source": [
    "adata_dir = \"/Users/DominikKlein/Documents/adatas/adata_tedsim_8192.h5ad\" "
   ]
  },
  {
   "cell_type": "code",
   "execution_count": 4,
   "id": "f29fde62",
   "metadata": {},
   "outputs": [],
   "source": [
    "adata = anndata.read(adata_dir)"
   ]
  },
  {
   "cell_type": "code",
   "execution_count": 5,
   "id": "dd3489d1",
   "metadata": {},
   "outputs": [],
   "source": [
    "key = \"depth\"\n",
    "epsilon = 0.2"
   ]
  },
  {
   "cell_type": "code",
   "execution_count": 21,
   "id": "3c47e52b",
   "metadata": {},
   "outputs": [],
   "source": [
    "estimator = MatchingEstimator(adata, key, epsilon)"
   ]
  },
  {
   "cell_type": "code",
   "execution_count": 22,
   "id": "a54fb61b",
   "metadata": {},
   "outputs": [
    {
     "data": {
      "text/plain": [
       "{'adata': AnnData object with n_obs × n_vars = 16382 × 500\n",
       "     obs: 'parent', 'cluster', 'depth', 'cellID'\n",
       "     uns: 'metadata', 'tree'\n",
       "     obsm: 'barcodes',\n",
       " 'cost_fn': None,\n",
       " 'epsilon': None,\n",
       " 'key': 'depth',\n",
       " 'params': 0.2}"
      ]
     },
     "execution_count": 22,
     "metadata": {},
     "output_type": "execute_result"
    }
   ],
   "source": [
    "estimator.get_params()"
   ]
  },
  {
   "cell_type": "code",
   "execution_count": 27,
   "id": "34d3a70a",
   "metadata": {},
   "outputs": [],
   "source": [
    "estimator.prepare((1,2))"
   ]
  },
  {
   "cell_type": "code",
   "execution_count": 29,
   "id": "e2969a1b",
   "metadata": {},
   "outputs": [],
   "source": [
    "ot_result = estimator.fit()"
   ]
  },
  {
   "cell_type": "code",
   "execution_count": null,
   "id": "8de1fcb8",
   "metadata": {},
   "outputs": [],
   "source": []
  }
 ],
 "metadata": {
  "kernelspec": {
   "display_name": "moscot_kernel",
   "language": "python",
   "name": "moscot_kernel"
  },
  "language_info": {
   "codemirror_mode": {
    "name": "ipython",
    "version": 3
   },
   "file_extension": ".py",
   "mimetype": "text/x-python",
   "name": "python",
   "nbconvert_exporter": "python",
   "pygments_lexer": "ipython3",
   "version": "3.8.12"
  }
 },
 "nbformat": 4,
 "nbformat_minor": 5
}
