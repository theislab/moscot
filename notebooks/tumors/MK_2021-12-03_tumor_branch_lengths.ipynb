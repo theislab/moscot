{
 "cells": [
  {
   "cell_type": "code",
   "execution_count": 1,
   "id": "considered-engineer",
   "metadata": {},
   "outputs": [],
   "source": [
    "from typing import List, Dict, Any\n",
    "from pathlib import Path\n",
    "from copy import deepcopy\n",
    "from tqdm.auto import tqdm\n",
    "import cassiopeia as cas\n",
    "import newick\n",
    "import pickle\n",
    "import pandas as pd"
   ]
  },
  {
   "cell_type": "code",
   "execution_count": 2,
   "id": "historical-preserve",
   "metadata": {},
   "outputs": [
    {
     "data": {
      "text/plain": [
       "'0.0.1'"
      ]
     },
     "execution_count": 2,
     "metadata": {},
     "output_type": "execute_result"
    }
   ],
   "source": [
    "cas.__version__  # 3e85462cbc10b12352d44435b2f6bed4384a46cb"
   ]
  },
  {
   "cell_type": "code",
   "execution_count": 3,
   "id": "colored-ghost",
   "metadata": {},
   "outputs": [],
   "source": [
    "root = Path(\"/home/marius.lange/server_home/tumors/\")\n",
    "td = root / \"KPTracer-Data\" / \"trees\""
   ]
  },
  {
   "cell_type": "code",
   "execution_count": 4,
   "id": "polished-performer",
   "metadata": {},
   "outputs": [
    {
     "data": {
      "text/plain": [
       "(['3432_NT_T1',\n",
       "  '3435_NT_T1',\n",
       "  '3435_NT_T4',\n",
       "  '3513_NT_T3',\n",
       "  '3726_NT_T1',\n",
       "  '3726_NT_T2',\n",
       "  '3730_NT_T1'],\n",
       " 7)"
      ]
     },
     "execution_count": 4,
     "metadata": {},
     "output_type": "execute_result"
    }
   ],
   "source": [
    "toi = [\"3726 NT T2\", \"3435 NT T4\", \"3513 NT T3\", \"3432 NT T1\", \"3726 NT T1\", \"3726 NT T2\",\n",
    "       \"3435 NT T4\", \"3730 NT T1\", \"3435 NT T1\", \"3726 NT T2\"]\n",
    "toi = sorted({t.replace(\" \", \"_\") for t in toi})\n",
    "toi, len(toi)"
   ]
  },
  {
   "cell_type": "code",
   "execution_count": 5,
   "id": "promotional-interface",
   "metadata": {},
   "outputs": [],
   "source": [
    "def load_tree(t: str) -> cas.data.CassiopeiaTree:\n",
    "    with open(td / f\"{t}_priors.pkl\", \"rb\") as fin:\n",
    "        priors = pickle.load(fin)\n",
    "    cmat = pd.read_csv(td / f\"{t}_character_matrix.txt\", sep='\\t', index_col=0)\n",
    "    cmat[cmat == '-'] = '-1'\n",
    "    cmat = cmat.astype(int)\n",
    "\n",
    "    tree = cas.data.CassiopeiaTree(cmat, tree=str(td / f\"{t}_tree.nwk\"),\n",
    "                                   missing_state_indicator=-1, priors=priors)\n",
    "    return tree"
   ]
  },
  {
   "cell_type": "code",
   "execution_count": 6,
   "id": "expired-redhead",
   "metadata": {},
   "outputs": [],
   "source": [
    "def reconstruct_branch_lenghts(toi: List[str],\n",
    "                               eles: List[str] = ['mle', 'custom', 'custom_mam']) -> Dict[str, Any]:\n",
    "    def custom(tree, mam=False):\n",
    "        tree.reconstruct_ancestral_characters()\n",
    "        for edge in tree.depth_first_traverse_edges(source = tree.root):\n",
    "            mutations = tree.get_mutations_along_edge(edge[0], edge[1], treat_missing_as_mutations=mam)\n",
    "            tree.set_branch_length(edge[0], edge[1], min(1, len(mutations)))\n",
    "    \n",
    "        return tree\n",
    "    \n",
    "    res = {}\n",
    "    for t_id in tqdm(toi):\n",
    "        for ele in eles:\n",
    "            tree = load_tree(t_id)\n",
    "            if ele == 'mle':\n",
    "                tree.reconstruct_ancestral_characters()\n",
    "                estim = cas.tools.branch_length_estimator.IIDExponentialMLE()\n",
    "                estim.estimate_branch_lengths(tree)\n",
    "            elif ele == 'custom':\n",
    "                tree = custom(tree, mam=False)\n",
    "            elif ele == 'custom_mam':\n",
    "                tree = custom(tree, mam=True)\n",
    "            else:\n",
    "                raise NotImplementedError(ele)\n",
    "            res[f\"{t_id}_{ele}\"] = tree\n",
    "            \n",
    "    return res"
   ]
  },
  {
   "cell_type": "code",
   "execution_count": null,
   "id": "norwegian-reporter",
   "metadata": {},
   "outputs": [
    {
     "data": {
      "application/vnd.jupyter.widget-view+json": {
       "model_id": "8a3830ef7ea94ad098c9bf4ac6a11efb",
       "version_major": 2,
       "version_minor": 0
      },
      "text/plain": [
       "  0%|          | 0/7 [00:00<?, ?it/s]"
      ]
     },
     "metadata": {},
     "output_type": "display_data"
    }
   ],
   "source": [
    "data = reconstruct_branch_lenghts(toi)"
   ]
  },
  {
   "cell_type": "code",
   "execution_count": null,
   "id": "going-nature",
   "metadata": {},
   "outputs": [],
   "source": [
    "with open(\"res.pkl\", \"wb\") as fout:\n",
    "    pickle.dump(res, fout, protocol=4)"
   ]
  }
 ],
 "metadata": {
  "kernelspec": {
   "display_name": "cellrank",
   "language": "python",
   "name": "cellrank"
  },
  "language_info": {
   "codemirror_mode": {
    "name": "ipython",
    "version": 3
   },
   "file_extension": ".py",
   "mimetype": "text/x-python",
   "name": "python",
   "nbconvert_exporter": "python",
   "pygments_lexer": "ipython3",
   "version": "3.8.12"
  }
 },
 "nbformat": 4,
 "nbformat_minor": 5
}
