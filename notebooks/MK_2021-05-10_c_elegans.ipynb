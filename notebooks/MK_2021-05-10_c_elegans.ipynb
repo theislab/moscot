{
 "cells": [
  {
   "cell_type": "code",
   "execution_count": 1,
   "metadata": {},
   "outputs": [],
   "source": [
    "import anndata\n",
    "import copy\n",
    "import datetime\n",
    "import matplotlib.pyplot as plt\n",
    "import networkx as nx\n",
    "import numpy as np\n",
    "import os\n",
    "import ot\n",
    "import pandas as pd\n",
    "import pickle\n",
    "import scanpy as sc\n",
    "import scipy.stats\n",
    "import seaborn as sb\n",
    "import warnings\n",
    "import anndata\n",
    "\n",
    "\n",
    "import lineageot.inference\n",
    "import lineageot.simulation\n",
    "import lineageot.evaluation"
   ]
  },
  {
   "cell_type": "code",
   "execution_count": 2,
   "metadata": {},
   "outputs": [],
   "source": [
    "from jax.config import config\n",
    "config.update(\"jax_enable_x64\", True)\n",
    "\n",
    "from ott.geometry.geometry import Geometry\n",
    "from jax import numpy as jnp\n",
    "\n",
    "from moscot import FusedGW\n",
    "\n",
    "from typing import *\n",
    "from collections import namedtuple, defaultdict\n",
    "import traceback\n",
    "from time import perf_counter"
   ]
  },
  {
   "cell_type": "code",
   "execution_count": 3,
   "metadata": {},
   "outputs": [],
   "source": [
    "data = namedtuple(\"data\", \"edist ldist rna_dist a b\")\n",
    "bnt = namedtuple(\"bnt\", \"tmat early_cost late_cost norm_diff converged time\")"
   ]
  },
  {
   "cell_type": "code",
   "execution_count": 4,
   "metadata": {},
   "outputs": [],
   "source": [
    "start_time = datetime.datetime.now()"
   ]
  },
  {
   "cell_type": "code",
   "execution_count": 5,
   "metadata": {},
   "outputs": [],
   "source": [
    "data_path = \"data/\"\n",
    "save_dir = \"plots/\"\n",
    "if not os.path.exists(save_dir):\n",
    "    os.makedirs(save_dir)  "
   ]
  },
  {
   "cell_type": "code",
   "execution_count": 6,
   "metadata": {},
   "outputs": [
    {
     "data": {
      "text/plain": [
       "AnnData object with n_obs × n_vars = 46151 × 20222\n",
       "    obs: 'Unnamed: 0', 'Unnamed: 0.1', 'cell', 'n.umi', 'time.point', 'batch', 'Size_Factor', 'cell.type', 'cell.subtype', 'plot.cell.type', 'raw.embryo.time', 'embryo.time', 'embryo.time.bin', 'raw.embryo.time.bin', 'lineage', 'passed_initial_QC_or_later_whitelisted', 'random_precise_lineage'\n",
       "    var: 'Unnamed: 0', 'id', 'gene_short_name'"
      ]
     },
     "execution_count": 6,
     "metadata": {},
     "output_type": "execute_result"
    }
   ],
   "source": [
    "#with open(data_path + 'pickled_filtered_anndata.p', 'rb') as file:\n",
    "#    adata = pickle.load(file)\n",
    "adata = anndata.read(\"filtered.h5ad\")\n",
    "adata"
   ]
  },
  {
   "cell_type": "code",
   "execution_count": 7,
   "metadata": {},
   "outputs": [],
   "source": [
    "with open(data_path + \"packer_pickle_lineage_tree.p\", 'rb') as file:\n",
    "    full_reference_tree = pickle.load(file)"
   ]
  },
  {
   "cell_type": "markdown",
   "metadata": {},
   "source": [
    "### Normalization and preprocessing"
   ]
  },
  {
   "cell_type": "code",
   "execution_count": 8,
   "metadata": {},
   "outputs": [
    {
     "data": {
      "text/plain": [
       "AnnData object with n_obs × n_vars = 5123 × 20222\n",
       "    obs: 'Unnamed: 0', 'Unnamed: 0.1', 'cell', 'n.umi', 'time.point', 'batch', 'Size_Factor', 'cell.type', 'cell.subtype', 'plot.cell.type', 'raw.embryo.time', 'embryo.time', 'embryo.time.bin', 'raw.embryo.time.bin', 'lineage', 'passed_initial_QC_or_later_whitelisted', 'random_precise_lineage'\n",
       "    var: 'Unnamed: 0', 'id', 'gene_short_name'"
      ]
     },
     "execution_count": 8,
     "metadata": {},
     "output_type": "execute_result"
    }
   ],
   "source": [
    "# Removing partially lineage-labeled cells\n",
    "\n",
    "adata = adata[adata.obs['lineage'].to_numpy() == adata.obs['random_precise_lineage'].to_numpy()].copy()\n",
    "adata"
   ]
  },
  {
   "cell_type": "markdown",
   "metadata": {},
   "source": [
    "#### Filtering cells + genes"
   ]
  },
  {
   "cell_type": "code",
   "execution_count": 9,
   "metadata": {},
   "outputs": [],
   "source": [
    "adata.obs['n_counts'] = np.array(adata.X.sum(1)).squeeze()\n",
    "adata.obs['log_counts'] = np.log(adata.obs['n_counts'])\n",
    "adata.obs['n_genes'] = (adata.X > 0).sum(1)"
   ]
  },
  {
   "cell_type": "code",
   "execution_count": 10,
   "metadata": {},
   "outputs": [
    {
     "name": "stdout",
     "output_type": "stream",
     "text": [
      "CPU times: user 29.2 s, sys: 1min 3s, total: 1min 32s\n",
      "Wall time: 14.8 s\n"
     ]
    },
    {
     "data": {
      "text/plain": [
       "AnnData object with n_obs × n_vars = 5123 × 20222\n",
       "    obs: 'Unnamed: 0', 'Unnamed: 0.1', 'cell', 'n.umi', 'time.point', 'batch', 'Size_Factor', 'cell.type', 'cell.subtype', 'plot.cell.type', 'raw.embryo.time', 'embryo.time', 'embryo.time.bin', 'raw.embryo.time.bin', 'lineage', 'passed_initial_QC_or_later_whitelisted', 'random_precise_lineage', 'n_counts', 'log_counts', 'n_genes'\n",
       "    var: 'Unnamed: 0', 'id', 'gene_short_name'\n",
       "    uns: 'log1p', 'pca'\n",
       "    obsm: 'X_pca'\n",
       "    varm: 'PCs'"
      ]
     },
     "execution_count": 10,
     "metadata": {},
     "output_type": "execute_result"
    }
   ],
   "source": [
    "%%time\n",
    "sc.pp.normalize_total(adata)\n",
    "sc.pp.log1p(adata)\n",
    "sc.pp.pca(adata)\n",
    "adata"
   ]
  },
  {
   "cell_type": "code",
   "execution_count": 11,
   "metadata": {},
   "outputs": [],
   "source": [
    "\n",
    "adata.obs.index = adata.obs['cell']\n",
    "\n",
    "adata = adata[adata.obs.index.sort_values()].copy()\n",
    "# for some reason on linux we need to redo this\n",
    "# possibly due to version change of anndata (or dependencies)\n",
    "# it seems that the previous indexing changed the index\n",
    "adata.obs.index = adata.obs['cell']"
   ]
  },
  {
   "cell_type": "code",
   "execution_count": 12,
   "metadata": {},
   "outputs": [
    {
     "name": "stdout",
     "output_type": "stream",
     "text": [
      "AnnData 0.7.6\n"
     ]
    }
   ],
   "source": [
    "print(\"AnnData\", anndata.__version__)\n",
    "# issue above observed for AnnData 0.7.4"
   ]
  },
  {
   "cell_type": "markdown",
   "metadata": {},
   "source": [
    "### Embryo time selection"
   ]
  },
  {
   "cell_type": "code",
   "execution_count": 13,
   "metadata": {},
   "outputs": [],
   "source": [
    "def assign_time_to_bin(bin_string):\n",
    "    if bin_string == '< 100':\n",
    "        return 75\n",
    "    elif bin_string == '> 650':\n",
    "        # arbitrary choice here\n",
    "        return 700\n",
    "    else:\n",
    "        # end of time range\n",
    "        return (0*int(bin_string[0:3]) + 1*int(bin_string[-3:]))\n",
    "    return"
   ]
  },
  {
   "cell_type": "code",
   "execution_count": 14,
   "metadata": {},
   "outputs": [],
   "source": [
    "# If you would like to save time by only running the evaluation\n",
    "# on a subset of the cells, change num_subbatches to an integer larger than 1.\n",
    "\n",
    "# randomly splitting each batch into subbatches \n",
    "# so that there are fewer cells and the evaluation runs faster\n",
    "num_subbatches = 1\n",
    "adata.obs['assigned_batch_time'] = adata.obs['embryo.time.bin'].map(lambda x: assign_time_to_bin(x)\n",
    "                                                                   + np.random.randint(num_subbatches))"
   ]
  },
  {
   "cell_type": "code",
   "execution_count": 15,
   "metadata": {},
   "outputs": [
    {
     "name": "stdout",
     "output_type": "stream",
     "text": [
      "[ 75 130 170 210 270 330 390 450 510 580 650 700]\n"
     ]
    }
   ],
   "source": [
    "batches = adata.obs['assigned_batch_time'].unique()\n",
    "batches = np.sort(batches)\n",
    "print(batches)"
   ]
  },
  {
   "cell_type": "code",
   "execution_count": 16,
   "metadata": {},
   "outputs": [],
   "source": [
    "def create_lineage_tree(adata, batch_time, reference_tree = full_reference_tree, obsm_key = 'X_pca'):\n",
    "    selected_cells = adata[adata.obs['assigned_batch_time'] == batch_time]\n",
    "    \n",
    "    # no need to remove any nodes from the reference\n",
    "    # (unobserved subtrees have no effect on the inference)\n",
    "    new_tree = copy.deepcopy(full_reference_tree)\n",
    "    \n",
    "    bad_cell_list = []\n",
    "    good_cell_list = []\n",
    "    for cell in selected_cells.obs.index:\n",
    "        cell_label = selected_cells.obs['random_precise_lineage'][cell]\n",
    "        cell_index = adata.obs.index.get_loc(cell)\n",
    "        \n",
    "        parent = next(reference_tree.predecessors(cell_label))\n",
    "        \n",
    "        if batch_time <= new_tree.nodes[parent]['time']:\n",
    "            warnings.warn('Nonpositive time to parent ('\n",
    "                          + str(batch_time - new_tree.nodes[parent]['time'])\n",
    "                          + ') encountered in batch '\n",
    "                          + str(batch_time) \n",
    "                          + ' for cell ' + cell)\n",
    "            bad_cell_list.append(cell)\n",
    "            # filter this cell out\n",
    "            continue\n",
    "        else:\n",
    "            good_cell_list.append(cell)\n",
    "        \n",
    "        new_tree.add_node(cell)\n",
    "        new_tree.add_edge(parent, cell)\n",
    "        \n",
    "        new_tree.nodes[cell]['name'] = cell_label\n",
    "        new_tree.nodes[cell]['time'] = batch_time\n",
    "        new_tree.nodes[cell]['time_to_parent'] = batch_time - new_tree.nodes[parent]['time']\n",
    "        new_tree.nodes[cell]['cell'] = lineageot.simulation.Cell(adata.obsm[obsm_key][cell_index, :], cell_label)\n",
    "        \n",
    "        assert(new_tree.nodes[cell]['time_to_parent'] >= 0)\n",
    "        \n",
    "        \n",
    "    return new_tree, good_cell_list, bad_cell_list"
   ]
  },
  {
   "cell_type": "code",
   "execution_count": 17,
   "metadata": {},
   "outputs": [
    {
     "name": "stderr",
     "output_type": "stream",
     "text": [
      "<ipython-input-16-b2bb6adbc6e5>:17: UserWarning: Nonpositive time to parent (-147.0) encountered in batch 75 for cell GTGCGGTGTATGGTTC-b01\n",
      "  warnings.warn('Nonpositive time to parent ('\n",
      "<ipython-input-16-b2bb6adbc6e5>:17: UserWarning: Nonpositive time to parent (-52.0) encountered in batch 130 for cell TACGGATGTACCCAAT-b01\n",
      "  warnings.warn('Nonpositive time to parent ('\n",
      "<ipython-input-16-b2bb6adbc6e5>:17: UserWarning: Nonpositive time to parent (-2.0) encountered in batch 170 for cell ACATCAGCAATCCAAC-r17\n",
      "  warnings.warn('Nonpositive time to parent ('\n",
      "<ipython-input-16-b2bb6adbc6e5>:17: UserWarning: Nonpositive time to parent (-12.0) encountered in batch 170 for cell ATCTGCCAGGCATTGG-r17\n",
      "  warnings.warn('Nonpositive time to parent ('\n",
      "<ipython-input-16-b2bb6adbc6e5>:17: UserWarning: Nonpositive time to parent (-20.0) encountered in batch 170 for cell CACTCCAAGCTGCCCA-r17\n",
      "  warnings.warn('Nonpositive time to parent ('\n",
      "<ipython-input-16-b2bb6adbc6e5>:17: UserWarning: Nonpositive time to parent (-2.0) encountered in batch 170 for cell CACTCCAGTAAACCTC-b01\n",
      "  warnings.warn('Nonpositive time to parent ('\n",
      "<ipython-input-16-b2bb6adbc6e5>:17: UserWarning: Nonpositive time to parent (-2.0) encountered in batch 170 for cell CAGCTAAAGTACCGGA-r17\n",
      "  warnings.warn('Nonpositive time to parent ('\n",
      "<ipython-input-16-b2bb6adbc6e5>:17: UserWarning: Nonpositive time to parent (-12.0) encountered in batch 170 for cell CATTCGCGTGAGCGAT-r17\n",
      "  warnings.warn('Nonpositive time to parent ('\n",
      "<ipython-input-16-b2bb6adbc6e5>:17: UserWarning: Nonpositive time to parent (-12.0) encountered in batch 170 for cell CGCTGGACAAAGTCAA-r17\n",
      "  warnings.warn('Nonpositive time to parent ('\n",
      "<ipython-input-16-b2bb6adbc6e5>:17: UserWarning: Nonpositive time to parent (-2.0) encountered in batch 170 for cell CTTGGCTTCAACTCTT-b01\n",
      "  warnings.warn('Nonpositive time to parent ('\n",
      "<ipython-input-16-b2bb6adbc6e5>:17: UserWarning: Nonpositive time to parent (-2.0) encountered in batch 170 for cell GGCCGATTCCCTGACT-r17\n",
      "  warnings.warn('Nonpositive time to parent ('\n",
      "<ipython-input-16-b2bb6adbc6e5>:17: UserWarning: Nonpositive time to parent (-2.0) encountered in batch 170 for cell GGGTTGCTCTAGCACA-b01\n",
      "  warnings.warn('Nonpositive time to parent ('\n",
      "<ipython-input-16-b2bb6adbc6e5>:17: UserWarning: Nonpositive time to parent (-12.0) encountered in batch 170 for cell TACTCATGTTAAGACA-r17\n",
      "  warnings.warn('Nonpositive time to parent ('\n",
      "<ipython-input-16-b2bb6adbc6e5>:17: UserWarning: Nonpositive time to parent (-2.0) encountered in batch 170 for cell TAGTGGTGTTACTGAC-400.2.1\n",
      "  warnings.warn('Nonpositive time to parent ('\n",
      "<ipython-input-16-b2bb6adbc6e5>:17: UserWarning: Nonpositive time to parent (-2.0) encountered in batch 170 for cell TGACGGCGTAGATTAG-r17\n",
      "  warnings.warn('Nonpositive time to parent ('\n",
      "<ipython-input-16-b2bb6adbc6e5>:17: UserWarning: Nonpositive time to parent (-12.0) encountered in batch 170 for cell TTATGCTTCTTGTATC-r17\n",
      "  warnings.warn('Nonpositive time to parent ('\n",
      "<ipython-input-16-b2bb6adbc6e5>:17: UserWarning: Nonpositive time to parent (-11.0) encountered in batch 210 for cell AAAGTAGGTACACCGC-300.1.1\n",
      "  warnings.warn('Nonpositive time to parent ('\n",
      "<ipython-input-16-b2bb6adbc6e5>:17: UserWarning: Nonpositive time to parent (-30.0) encountered in batch 210 for cell AACCATGAGGGTTCCC-b01\n",
      "  warnings.warn('Nonpositive time to parent ('\n",
      "<ipython-input-16-b2bb6adbc6e5>:17: UserWarning: Nonpositive time to parent (-5.0) encountered in batch 210 for cell AACCATGGTGGTACAG-r17\n",
      "  warnings.warn('Nonpositive time to parent ('\n",
      "<ipython-input-16-b2bb6adbc6e5>:17: UserWarning: Nonpositive time to parent (0.0) encountered in batch 210 for cell AAGACCTTCTGATTCT-400.2.2\n",
      "  warnings.warn('Nonpositive time to parent ('\n",
      "<ipython-input-16-b2bb6adbc6e5>:17: UserWarning: Nonpositive time to parent (-30.0) encountered in batch 210 for cell ACACCGGGTCGATTGT-400.2.2\n",
      "  warnings.warn('Nonpositive time to parent ('\n",
      "<ipython-input-16-b2bb6adbc6e5>:17: UserWarning: Nonpositive time to parent (-5.0) encountered in batch 210 for cell ACACCGGTCAGAGCTT-400.2.3\n",
      "  warnings.warn('Nonpositive time to parent ('\n",
      "<ipython-input-16-b2bb6adbc6e5>:17: UserWarning: Nonpositive time to parent (-20.0) encountered in batch 210 for cell ACCGTAAAGGCTCAGA-b02\n",
      "  warnings.warn('Nonpositive time to parent ('\n",
      "<ipython-input-16-b2bb6adbc6e5>:17: UserWarning: Nonpositive time to parent (-5.0) encountered in batch 210 for cell ACGCCAGCATTCCTCG-r17\n",
      "  warnings.warn('Nonpositive time to parent ('\n",
      "<ipython-input-16-b2bb6adbc6e5>:17: UserWarning: Nonpositive time to parent (-12.0) encountered in batch 210 for cell ACGGGTCAGCCAGGAT-b01\n",
      "  warnings.warn('Nonpositive time to parent ('\n",
      "<ipython-input-16-b2bb6adbc6e5>:17: UserWarning: Nonpositive time to parent (0.0) encountered in batch 210 for cell ACTGAGTGTTCCATGA-400.2.2\n",
      "  warnings.warn('Nonpositive time to parent ('\n",
      "<ipython-input-16-b2bb6adbc6e5>:17: UserWarning: Nonpositive time to parent (-30.0) encountered in batch 210 for cell ACTGATGTCACGAAGG-r17\n",
      "  warnings.warn('Nonpositive time to parent ('\n",
      "<ipython-input-16-b2bb6adbc6e5>:17: UserWarning: Nonpositive time to parent (-11.0) encountered in batch 210 for cell AGCCTAATCCTGCAGG-400.2.2\n",
      "  warnings.warn('Nonpositive time to parent ('\n",
      "<ipython-input-16-b2bb6adbc6e5>:17: UserWarning: Nonpositive time to parent (-11.0) encountered in batch 210 for cell AGGTCATTCAACCATG-300.1.2\n",
      "  warnings.warn('Nonpositive time to parent ('\n",
      "<ipython-input-16-b2bb6adbc6e5>:17: UserWarning: Nonpositive time to parent (-5.0) encountered in batch 210 for cell AGTGGGACAGGGCATA-400.2.1\n",
      "  warnings.warn('Nonpositive time to parent ('\n",
      "<ipython-input-16-b2bb6adbc6e5>:17: UserWarning: Nonpositive time to parent (-5.0) encountered in batch 210 for cell AGTGGGACATTCCTGC-b01\n",
      "  warnings.warn('Nonpositive time to parent ('\n",
      "<ipython-input-16-b2bb6adbc6e5>:17: UserWarning: Nonpositive time to parent (-5.0) encountered in batch 210 for cell ATCATCTGTTATTCTC-r17\n",
      "  warnings.warn('Nonpositive time to parent ('\n",
      "<ipython-input-16-b2bb6adbc6e5>:17: UserWarning: Nonpositive time to parent (-30.0) encountered in batch 210 for cell CAAGATCGTCTCCCTA-300.1.1\n",
      "  warnings.warn('Nonpositive time to parent ('\n",
      "<ipython-input-16-b2bb6adbc6e5>:17: UserWarning: Nonpositive time to parent (-11.0) encountered in batch 210 for cell CAAGTTGCATCAGTAC-b01\n",
      "  warnings.warn('Nonpositive time to parent ('\n",
      "<ipython-input-16-b2bb6adbc6e5>:17: UserWarning: Nonpositive time to parent (-20.0) encountered in batch 210 for cell CACAAACTCGGATGTT-b01\n",
      "  warnings.warn('Nonpositive time to parent ('\n",
      "<ipython-input-16-b2bb6adbc6e5>:17: UserWarning: Nonpositive time to parent (-11.0) encountered in batch 210 for cell CACCACTGTCATCCCT-400.2.1\n",
      "  warnings.warn('Nonpositive time to parent ('\n",
      "<ipython-input-16-b2bb6adbc6e5>:17: UserWarning: Nonpositive time to parent (-30.0) encountered in batch 210 for cell CAGGTGCCATTCCTCG-400.2.1\n",
      "  warnings.warn('Nonpositive time to parent ('\n",
      "<ipython-input-16-b2bb6adbc6e5>:17: UserWarning: Nonpositive time to parent (-30.0) encountered in batch 210 for cell CATATTCGTGAGGCTA-300.1.2\n",
      "  warnings.warn('Nonpositive time to parent ('\n",
      "<ipython-input-16-b2bb6adbc6e5>:17: UserWarning: Nonpositive time to parent (-20.0) encountered in batch 210 for cell CATCAAGAGTGGGTTG-300.1.3\n",
      "  warnings.warn('Nonpositive time to parent ('\n",
      "<ipython-input-16-b2bb6adbc6e5>:17: UserWarning: Nonpositive time to parent (0.0) encountered in batch 210 for cell CATCCACGTCGCATCG-b01\n",
      "  warnings.warn('Nonpositive time to parent ('\n",
      "<ipython-input-16-b2bb6adbc6e5>:17: UserWarning: Nonpositive time to parent (-5.0) encountered in batch 210 for cell CATGACACAAGGACTG-r17\n",
      "  warnings.warn('Nonpositive time to parent ('\n",
      "<ipython-input-16-b2bb6adbc6e5>:17: UserWarning: Nonpositive time to parent (-5.0) encountered in batch 210 for cell CCTACACAGCGTTGCC-400.2.2\n",
      "  warnings.warn('Nonpositive time to parent ('\n",
      "<ipython-input-16-b2bb6adbc6e5>:17: UserWarning: Nonpositive time to parent (0.0) encountered in batch 210 for cell CGAACATGTCCGAAGA-400.2.3\n",
      "  warnings.warn('Nonpositive time to parent ('\n",
      "<ipython-input-16-b2bb6adbc6e5>:17: UserWarning: Nonpositive time to parent (-30.0) encountered in batch 210 for cell CGAATGTCAGCTGGCT-300.1.2\n",
      "  warnings.warn('Nonpositive time to parent ('\n",
      "<ipython-input-16-b2bb6adbc6e5>:17: UserWarning: Nonpositive time to parent (-22.0) encountered in batch 210 for cell CGACCTTGTACAGTGG-b02\n",
      "  warnings.warn('Nonpositive time to parent ('\n",
      "<ipython-input-16-b2bb6adbc6e5>:17: UserWarning: Nonpositive time to parent (-15.0) encountered in batch 210 for cell CGCGTTTTCGGTCTAA-300.1.2\n",
      "  warnings.warn('Nonpositive time to parent ('\n",
      "<ipython-input-16-b2bb6adbc6e5>:17: UserWarning: Nonpositive time to parent (-30.0) encountered in batch 210 for cell CGGAGCTCACAACGCC-r17\n",
      "  warnings.warn('Nonpositive time to parent ('\n",
      "<ipython-input-16-b2bb6adbc6e5>:17: UserWarning: Nonpositive time to parent (0.0) encountered in batch 210 for cell CGTCTACCACGCGAAA-300.1.2\n",
      "  warnings.warn('Nonpositive time to parent ('\n",
      "<ipython-input-16-b2bb6adbc6e5>:17: UserWarning: Nonpositive time to parent (0.0) encountered in batch 210 for cell CTACGTCCACATGTGT-300.1.2\n",
      "  warnings.warn('Nonpositive time to parent ('\n",
      "<ipython-input-16-b2bb6adbc6e5>:17: UserWarning: Nonpositive time to parent (0.0) encountered in batch 210 for cell CTCAGAATCGCCATAA-400.2.2\n",
      "  warnings.warn('Nonpositive time to parent ('\n",
      "<ipython-input-16-b2bb6adbc6e5>:17: UserWarning: Nonpositive time to parent (-5.0) encountered in batch 210 for cell CTCGTACCAGCAGTTT-b02\n",
      "  warnings.warn('Nonpositive time to parent ('\n",
      "<ipython-input-16-b2bb6adbc6e5>:17: UserWarning: Nonpositive time to parent (-20.0) encountered in batch 210 for cell CTCTAATTCAGCACAT-300.1.1\n",
      "  warnings.warn('Nonpositive time to parent ('\n",
      "<ipython-input-16-b2bb6adbc6e5>:17: UserWarning: Nonpositive time to parent (-5.0) encountered in batch 210 for cell CTCTACGCATCTCCCA-400.2.3\n",
      "  warnings.warn('Nonpositive time to parent ('\n",
      "<ipython-input-16-b2bb6adbc6e5>:17: UserWarning: Nonpositive time to parent (-30.0) encountered in batch 210 for cell CTGAAACCAGTCGATT-400.2.3\n",
      "  warnings.warn('Nonpositive time to parent ('\n",
      "<ipython-input-16-b2bb6adbc6e5>:17: UserWarning: Nonpositive time to parent (-30.0) encountered in batch 210 for cell CTGCCTACATGTTGAC-400.2.3\n",
      "  warnings.warn('Nonpositive time to parent ('\n",
      "<ipython-input-16-b2bb6adbc6e5>:17: UserWarning: Nonpositive time to parent (0.0) encountered in batch 210 for cell CTTAGGATCCTTTACA-400.2.3\n",
      "  warnings.warn('Nonpositive time to parent ('\n",
      "<ipython-input-16-b2bb6adbc6e5>:17: UserWarning: Nonpositive time to parent (-11.0) encountered in batch 210 for cell GACACGCTCGTACGGC-b01\n",
      "  warnings.warn('Nonpositive time to parent ('\n",
      "<ipython-input-16-b2bb6adbc6e5>:17: UserWarning: Nonpositive time to parent (-5.0) encountered in batch 210 for cell GACCAATCATAGACTC-b01\n",
      "  warnings.warn('Nonpositive time to parent ('\n",
      "<ipython-input-16-b2bb6adbc6e5>:17: UserWarning: Nonpositive time to parent (0.0) encountered in batch 210 for cell GATTCAGAGACCCACC-400.2.1\n",
      "  warnings.warn('Nonpositive time to parent ('\n",
      "<ipython-input-16-b2bb6adbc6e5>:17: UserWarning: Nonpositive time to parent (-11.0) encountered in batch 210 for cell GCACATAGTCAGTGGA-b01\n",
      "  warnings.warn('Nonpositive time to parent ('\n",
      "<ipython-input-16-b2bb6adbc6e5>:17: UserWarning: Nonpositive time to parent (-20.0) encountered in batch 210 for cell GCGCAACGTGTGCCTG-b02\n",
      "  warnings.warn('Nonpositive time to parent ('\n",
      "<ipython-input-16-b2bb6adbc6e5>:17: UserWarning: Nonpositive time to parent (-30.0) encountered in batch 210 for cell GCTGCAGGTCATCCCT-300.1.1\n",
      "  warnings.warn('Nonpositive time to parent ('\n",
      "<ipython-input-16-b2bb6adbc6e5>:17: UserWarning: Nonpositive time to parent (-35.0) encountered in batch 210 for cell GCTGCTTTCGTTTAGG-400.2.1\n",
      "  warnings.warn('Nonpositive time to parent ('\n",
      "<ipython-input-16-b2bb6adbc6e5>:17: UserWarning: Nonpositive time to parent (-5.0) encountered in batch 210 for cell GGCAATTAGCTATGCT-b01\n",
      "  warnings.warn('Nonpositive time to parent ('\n",
      "<ipython-input-16-b2bb6adbc6e5>:17: UserWarning: Nonpositive time to parent (-5.0) encountered in batch 210 for cell GGCCGATAGGTGCTTT-400.2.2\n",
      "  warnings.warn('Nonpositive time to parent ('\n",
      "<ipython-input-16-b2bb6adbc6e5>:17: UserWarning: Nonpositive time to parent (0.0) encountered in batch 210 for cell GGCGACTTCCCTAATT-300.1.1\n",
      "  warnings.warn('Nonpositive time to parent ('\n",
      "<ipython-input-16-b2bb6adbc6e5>:17: UserWarning: Nonpositive time to parent (-11.0) encountered in batch 210 for cell GGGAGATTCCACTGGG-300.1.3\n",
      "  warnings.warn('Nonpositive time to parent ('\n",
      "<ipython-input-16-b2bb6adbc6e5>:17: UserWarning: Nonpositive time to parent (-30.0) encountered in batch 210 for cell GGGTCTGGTCCGACGT-400.2.3\n",
      "  warnings.warn('Nonpositive time to parent ('\n",
      "<ipython-input-16-b2bb6adbc6e5>:17: UserWarning: Nonpositive time to parent (0.0) encountered in batch 210 for cell GGGTTGCAGGCAATTA-300.1.1\n",
      "  warnings.warn('Nonpositive time to parent ('\n",
      "<ipython-input-16-b2bb6adbc6e5>:17: UserWarning: Nonpositive time to parent (-5.0) encountered in batch 210 for cell GTACTCCTCTTTAGTC-400.2.1\n",
      "  warnings.warn('Nonpositive time to parent ('\n",
      "<ipython-input-16-b2bb6adbc6e5>:17: UserWarning: Nonpositive time to parent (-30.0) encountered in batch 210 for cell GTAGGCCTCAGGCAAG-400.2.2\n",
      "  warnings.warn('Nonpositive time to parent ('\n",
      "<ipython-input-16-b2bb6adbc6e5>:17: UserWarning: Nonpositive time to parent (-5.0) encountered in batch 210 for cell GTCACAAAGCAGCCTC-b02\n",
      "  warnings.warn('Nonpositive time to parent ('\n",
      "<ipython-input-16-b2bb6adbc6e5>:17: UserWarning: Nonpositive time to parent (-5.0) encountered in batch 210 for cell GTCTTCGCATGTCCTC-b01\n",
      "  warnings.warn('Nonpositive time to parent ('\n",
      "<ipython-input-16-b2bb6adbc6e5>:17: UserWarning: Nonpositive time to parent (-11.0) encountered in batch 210 for cell GTGAAGGAGTACGACG-r17\n",
      "  warnings.warn('Nonpositive time to parent ('\n",
      "<ipython-input-16-b2bb6adbc6e5>:17: UserWarning: Nonpositive time to parent (-11.0) encountered in batch 210 for cell GTTCATTGTCATTAGC-r17\n",
      "  warnings.warn('Nonpositive time to parent ('\n",
      "<ipython-input-16-b2bb6adbc6e5>:17: UserWarning: Nonpositive time to parent (-11.0) encountered in batch 210 for cell TACGGGCAGATAGGAG-300.1.1\n",
      "  warnings.warn('Nonpositive time to parent ('\n",
      "<ipython-input-16-b2bb6adbc6e5>:17: UserWarning: Nonpositive time to parent (-30.0) encountered in batch 210 for cell TACGGGCCAATAGAGT-300.1.2\n",
      "  warnings.warn('Nonpositive time to parent ('\n",
      "<ipython-input-16-b2bb6adbc6e5>:17: UserWarning: Nonpositive time to parent (-11.0) encountered in batch 210 for cell TACTTACGTCAGGACA-r17\n",
      "  warnings.warn('Nonpositive time to parent ('\n",
      "<ipython-input-16-b2bb6adbc6e5>:17: UserWarning: Nonpositive time to parent (-11.0) encountered in batch 210 for cell TAGAGCTAGTGTACTC-b02\n",
      "  warnings.warn('Nonpositive time to parent ('\n",
      "<ipython-input-16-b2bb6adbc6e5>:17: UserWarning: Nonpositive time to parent (-15.0) encountered in batch 210 for cell TAGTTGGAGTAGATGT-b01\n",
      "  warnings.warn('Nonpositive time to parent ('\n",
      "<ipython-input-16-b2bb6adbc6e5>:17: UserWarning: Nonpositive time to parent (-20.0) encountered in batch 210 for cell TCAGATGTCGAATGGG-b01\n",
      "  warnings.warn('Nonpositive time to parent ('\n",
      "<ipython-input-16-b2bb6adbc6e5>:17: UserWarning: Nonpositive time to parent (-5.0) encountered in batch 210 for cell TCGTAGATCTTTAGTC-300.1.2\n",
      "  warnings.warn('Nonpositive time to parent ('\n",
      "<ipython-input-16-b2bb6adbc6e5>:17: UserWarning: Nonpositive time to parent (-15.0) encountered in batch 210 for cell TCTGAGAAGGATTCGG-300.1.2\n",
      "  warnings.warn('Nonpositive time to parent ('\n",
      "<ipython-input-16-b2bb6adbc6e5>:17: UserWarning: Nonpositive time to parent (-20.0) encountered in batch 210 for cell TGACGGCGTCCGAAGA-r17\n",
      "  warnings.warn('Nonpositive time to parent ('\n",
      "<ipython-input-16-b2bb6adbc6e5>:17: UserWarning: Nonpositive time to parent (-5.0) encountered in batch 210 for cell TGCCCTACAAGTTGTC-b01\n",
      "  warnings.warn('Nonpositive time to parent ('\n",
      "<ipython-input-16-b2bb6adbc6e5>:17: UserWarning: Nonpositive time to parent (-5.0) encountered in batch 210 for cell TGGCGCATCATGTCTT-b01\n",
      "  warnings.warn('Nonpositive time to parent ('\n",
      "<ipython-input-16-b2bb6adbc6e5>:17: UserWarning: Nonpositive time to parent (-30.0) encountered in batch 210 for cell TGGTTAGAGAGTAATC-400.2.2\n",
      "  warnings.warn('Nonpositive time to parent ('\n",
      "<ipython-input-16-b2bb6adbc6e5>:17: UserWarning: Nonpositive time to parent (-5.0) encountered in batch 210 for cell TGGTTAGAGGGTTTCT-300.1.2\n",
      "  warnings.warn('Nonpositive time to parent ('\n",
      "<ipython-input-16-b2bb6adbc6e5>:17: UserWarning: Nonpositive time to parent (-5.0) encountered in batch 210 for cell TGGTTAGAGTCAAGGC-300.1.2\n",
      "  warnings.warn('Nonpositive time to parent ('\n",
      "<ipython-input-16-b2bb6adbc6e5>:17: UserWarning: Nonpositive time to parent (0.0) encountered in batch 210 for cell TTATGCTAGCTCTCGG-300.1.2\n",
      "  warnings.warn('Nonpositive time to parent ('\n",
      "<ipython-input-16-b2bb6adbc6e5>:17: UserWarning: Nonpositive time to parent (-30.0) encountered in batch 210 for cell TTGCCGTGTAAGAGGA-300.1.2\n",
      "  warnings.warn('Nonpositive time to parent ('\n",
      "<ipython-input-16-b2bb6adbc6e5>:17: UserWarning: Nonpositive time to parent (-30.0) encountered in batch 210 for cell TTGCGTCTCAACACTG-300.1.1\n",
      "  warnings.warn('Nonpositive time to parent ('\n",
      "<ipython-input-16-b2bb6adbc6e5>:17: UserWarning: Nonpositive time to parent (-11.0) encountered in batch 210 for cell TTGGAACTCGGTGTCG-b01\n",
      "  warnings.warn('Nonpositive time to parent ('\n",
      "<ipython-input-16-b2bb6adbc6e5>:17: UserWarning: Nonpositive time to parent (0.0) encountered in batch 210 for cell TTGGCAACAGCGAACA-300.1.1\n",
      "  warnings.warn('Nonpositive time to parent ('\n",
      "<ipython-input-16-b2bb6adbc6e5>:17: UserWarning: Nonpositive time to parent (-11.0) encountered in batch 210 for cell TTGTAGGGTAATCACC-400.2.3\n",
      "  warnings.warn('Nonpositive time to parent ('\n",
      "<ipython-input-16-b2bb6adbc6e5>:17: UserWarning: Nonpositive time to parent (-10.0) encountered in batch 270 for cell CACACAAAGGGAACGG-300.1.2\n",
      "  warnings.warn('Nonpositive time to parent ('\n",
      "<ipython-input-16-b2bb6adbc6e5>:17: UserWarning: Nonpositive time to parent (-20.0) encountered in batch 270 for cell CCTAAAGAGGGCTCTC-400.2.1\n",
      "  warnings.warn('Nonpositive time to parent ('\n"
     ]
    },
    {
     "name": "stdout",
     "output_type": "stream",
     "text": [
      "CPU times: user 2.17 s, sys: 58.6 ms, total: 2.23 s\n",
      "Wall time: 2.22 s\n"
     ]
    }
   ],
   "source": [
    "%%time\n",
    "trees_by_batch = [create_lineage_tree(adata, batch_time) for batch_time in batches]"
   ]
  },
  {
   "cell_type": "code",
   "execution_count": 18,
   "metadata": {},
   "outputs": [
    {
     "data": {
      "text/plain": [
       "{75: (0, 1),\n",
       " 130: (14, 1),\n",
       " 170: (151, 14),\n",
       " 210: (755, 79),\n",
       " 270: (1215, 2),\n",
       " 330: (1534, 0),\n",
       " 390: (678, 0),\n",
       " 450: (463, 0),\n",
       " 510: (206, 0),\n",
       " 580: (2, 0),\n",
       " 650: (5, 0),\n",
       " 700: (3, 0)}"
      ]
     },
     "execution_count": 18,
     "metadata": {},
     "output_type": "execute_result"
    }
   ],
   "source": [
    "# Counting the number of cells kept vs. filtered out\n",
    "# for having a measurement time at or before their\n",
    "# reference birth time\n",
    "{batch_time : (len(t[1]), len(t[2])) for t,batch_time in zip(trees_by_batch, batches)}"
   ]
  },
  {
   "cell_type": "markdown",
   "metadata": {},
   "source": [
    "#### Making a ground truth coupling"
   ]
  },
  {
   "cell_type": "code",
   "execution_count": 19,
   "metadata": {},
   "outputs": [],
   "source": [
    "def is_ancestor(late_cell, early_cell):\n",
    "    if not late_cell[-1] in 'aplrdvx':\n",
    "        warnings.warn('Ancestor checking not implemented for cell ' + late_cell + ' yet.')\n",
    "        return\n",
    "    else:\n",
    "        return early_cell in late_cell"
   ]
  },
  {
   "cell_type": "code",
   "execution_count": 20,
   "metadata": {},
   "outputs": [],
   "source": [
    "def ground_truth_coupling(early_tree, late_tree, early_cells, late_cells):\n",
    "    n_early = len(early_cells)\n",
    "    n_late = len(late_cells)\n",
    "    coupling = np.zeros([n_early, n_late])\n",
    "    for c_early, i in zip(early_cells, range(n_early)):\n",
    "        for c_late, j in zip(late_cells, range(n_late)):\n",
    "            if is_ancestor(late_tree.nodes[c_late]['name'],\n",
    "                           early_tree.nodes[c_early]['name']):\n",
    "                coupling[i, j] = 1\n",
    "    \n",
    "    # filter out zero rows and columns\n",
    "    kept_early_cells = np.where(np.sum(coupling, 1) > 0)[0]\n",
    "    kept_late_cells = np.where(np.sum(coupling, 0) > 0)[0]\n",
    "    coupling = coupling[np.ix_(kept_early_cells, kept_late_cells)]\n",
    "    \n",
    "    \n",
    "    # normalize to uniform marginal on late cells\n",
    "    coupling = np.dot(coupling, np.diag(np.sum(coupling, 0)**(-1)))/len(kept_late_cells)\n",
    "    \n",
    "    return coupling, kept_early_cells, kept_late_cells\n",
    "    "
   ]
  },
  {
   "cell_type": "code",
   "execution_count": 21,
   "metadata": {},
   "outputs": [],
   "source": [
    "couplings = {}"
   ]
  },
  {
   "cell_type": "code",
   "execution_count": 22,
   "metadata": {},
   "outputs": [],
   "source": [
    "# Available base times: 170, 210, 270, 330, 390, 450\n",
    "\n",
    "# The rest of the script only works with the coupling between\n",
    "# early_batch_time and late_batch time\n",
    "early_batch_time = 210 \n",
    "late_batch_time = 270 \n",
    "early_batch_index = np.where(batches == early_batch_time)[0][0]\n",
    "late_batch_index = np.where(batches == late_batch_time)[0][0]\n",
    "early_cells = trees_by_batch[early_batch_index][1]\n",
    "late_cells = trees_by_batch[late_batch_index][1]"
   ]
  },
  {
   "cell_type": "code",
   "execution_count": 23,
   "metadata": {},
   "outputs": [
    {
     "name": "stdout",
     "output_type": "stream",
     "text": [
      "(210, 270)\n",
      "CPU times: user 2.69 s, sys: 40.6 ms, total: 2.73 s\n",
      "Wall time: 2.57 s\n"
     ]
    }
   ],
   "source": [
    "%%time\n",
    "print((batches[early_batch_index], batches[late_batch_index]))\n",
    "couplings['true'], kept_early_cells_index, kept_late_cells_index = ground_truth_coupling(trees_by_batch[early_batch_index][0],\n",
    "                                                                             trees_by_batch[late_batch_index][0],\n",
    "                                                                             trees_by_batch[early_batch_index][1],\n",
    "                                                                             trees_by_batch[late_batch_index][1])"
   ]
  },
  {
   "cell_type": "code",
   "execution_count": 24,
   "metadata": {},
   "outputs": [],
   "source": [
    "early_marginal = np.sum(couplings['true'], 1)\n",
    "late_marginal = np.sum(couplings['true'], 0)"
   ]
  },
  {
   "cell_type": "code",
   "execution_count": 25,
   "metadata": {},
   "outputs": [],
   "source": [
    "def remove_unlisted_leaves(tree, kept_leaves, max_depth = 10):\n",
    "    \"\"\"\n",
    "    Removes all leaves not listed in kept_leaves from the tree\n",
    "    \"\"\"\n",
    "    \n",
    "    for i in range(max_depth):\n",
    "        all_leaves = lineageot.inference.get_leaves(tree, include_root = False)\n",
    "        for leaf in all_leaves:\n",
    "            if not leaf in kept_leaves:\n",
    "                tree.remove_node(leaf)\n",
    "                \n",
    "                \n",
    "    return "
   ]
  },
  {
   "cell_type": "markdown",
   "metadata": {},
   "source": [
    "#### LineageOT coupling"
   ]
  },
  {
   "cell_type": "code",
   "execution_count": 26,
   "metadata": {},
   "outputs": [],
   "source": [
    "lineageOT_tree = copy.deepcopy(trees_by_batch[late_batch_index][0])\n",
    "\n",
    "\n"
   ]
  },
  {
   "cell_type": "code",
   "execution_count": 27,
   "metadata": {},
   "outputs": [],
   "source": [
    "remove_unlisted_leaves(lineageOT_tree,\n",
    "                       np.array(trees_by_batch[late_batch_index][1])[kept_late_cells_index], max_depth = 15)\n"
   ]
  },
  {
   "cell_type": "code",
   "execution_count": 28,
   "metadata": {},
   "outputs": [
    {
     "data": {
      "text/plain": [
       "<networkx.classes.digraph.DiGraph at 0x7f75d228ad60>"
      ]
     },
     "execution_count": 28,
     "metadata": {},
     "output_type": "execute_result"
    }
   ],
   "source": [
    "lineageot.inference.add_nodes_at_time(lineageOT_tree, early_batch_time)\n",
    "lineageot.inference.add_times_to_edges(lineageOT_tree)"
   ]
  },
  {
   "cell_type": "code",
   "execution_count": 29,
   "metadata": {},
   "outputs": [],
   "source": [
    "observed_nodes = trees_by_batch[late_batch_index][1]\n",
    "lineageot.inference.add_conditional_means_and_variances(lineageOT_tree, observed_nodes)"
   ]
  },
  {
   "cell_type": "code",
   "execution_count": 30,
   "metadata": {},
   "outputs": [],
   "source": [
    "ancestor_info = lineageot.inference.get_ancestor_data(lineageOT_tree, early_batch_time)\n"
   ]
  },
  {
   "cell_type": "code",
   "execution_count": 31,
   "metadata": {},
   "outputs": [],
   "source": [
    "# Optimal transport coupling"
   ]
  },
  {
   "cell_type": "code",
   "execution_count": 32,
   "metadata": {},
   "outputs": [],
   "source": [
    "lineage_rna_cost = ot.utils.dist(adata[early_cells].obsm['X_pca'],\n",
    "                                 ancestor_info[0])@np.diag(ancestor_info[1]**(-1))\n",
    "rna_cost = ot.utils.dist(adata[early_cells].obsm['X_pca'],\n",
    "                         adata[late_cells].obsm['X_pca'])\n",
    "\n",
    "late_time_rna_cost = ot.utils.dist(adata[late_cells].obsm['X_pca'],\n",
    "                                   adata[late_cells].obsm['X_pca'])\n",
    "# note early_time_rna_cost here is different from in the simulation evaluation because we don't have\n",
    "# a single true ancestor for each late cell\n",
    "early_time_rna_cost = ot.utils.dist(adata[early_cells].obsm['X_pca'],\n",
    "                                    adata[early_cells].obsm['X_pca'])\n",
    "\n",
    "\n",
    "\n",
    "lineage_rna_cost = lineage_rna_cost[kept_early_cells_index, :]\n",
    "rna_cost = rna_cost[np.ix_(kept_early_cells_index, kept_late_cells_index)]\n",
    "early_time_rna_cost = early_time_rna_cost[np.ix_(kept_early_cells_index, kept_early_cells_index)]\n",
    "late_time_rna_cost = late_time_rna_cost[np.ix_(kept_late_cells_index, kept_late_cells_index)]"
   ]
  },
  {
   "cell_type": "code",
   "execution_count": 33,
   "metadata": {},
   "outputs": [
    {
     "data": {
      "text/plain": [
       "[(740, 1024), (740, 1024), (740, 740), (1024, 1024)]"
      ]
     },
     "execution_count": 33,
     "metadata": {},
     "output_type": "execute_result"
    }
   ],
   "source": [
    "# checking that shapes match where they should\n",
    "[x.shape for x in [lineage_rna_cost, rna_cost, early_time_rna_cost, late_time_rna_cost]]"
   ]
  },
  {
   "cell_type": "code",
   "execution_count": 40,
   "metadata": {},
   "outputs": [],
   "source": [
    "def prepare_tree(*, late: bool):\n",
    "    if late:\n",
    "        batch_index = late_batch_index\n",
    "        kept_cells_index = kept_late_cells_index\n",
    "    else:\n",
    "        batch_index = early_batch_index\n",
    "        kept_cells_index = kept_early_cells_index\n",
    "    tree = copy.deepcopy(trees_by_batch[batch_index][0])\n",
    "    remove_unlisted_leaves(tree,\n",
    "                            np.array(trees_by_batch[batch_index][1])[kept_cells_index], max_depth = 15)\n",
    "    n_added = lineageot.inference.add_nodes_at_time(tree, early_batch_time)\n",
    "    if late:\n",
    "        assert n_added > 0, n_added\n",
    "    else:\n",
    "        assert n_added == 0, n_added\n",
    "    lineageot.inference.add_times_to_edges(tree)\n",
    "    \n",
    "    return tree\n",
    "\n",
    "\n",
    "def compute_tree_distances(tree):\n",
    "    \"\"\"\n",
    "    Computes the matrix of pairwise distances between leaves of the tree\n",
    "    \"\"\"\n",
    "    leaves = lineageot.inference.get_leaves(tree, include_root=False)\n",
    "    num_leaves = len(leaves)\n",
    "    distances = np.zeros([num_leaves, num_leaves])\n",
    "    for i, leaf in enumerate(leaves):\n",
    "        distance_dictionary, tmp = nx.multi_source_dijkstra(tree.to_undirected(), [leaf], weight = 'time')\n",
    "        for j, target_leaf in enumerate(leaves):\n",
    "            distances[i, j] = distance_dictionary[target_leaf]\n",
    "    return distances\n",
    "\n",
    "\n",
    "def cost(cmat: np.array, *, late: bool) -> float:\n",
    "    cmat = np.asarray(cmat)\n",
    "    if late:\n",
    "        cost = lineageot.inference.OT_cost(\n",
    "            lineageot.evaluation.expand_coupling(cmat, couplings['true'], late_time_rna_cost), late_time_rna_cost\n",
    "        ) / ind_late_cost\n",
    "    else:\n",
    "        cost = lineageot.inference.OT_cost(lineageot.evaluation.expand_coupling(\n",
    "            cmat.T, couplings['true'].T, early_time_rna_cost).T, early_time_rna_cost\n",
    "        ) / ind_early_cost\n",
    "        \n",
    "    return cost\n",
    "\n",
    "\n",
    "def create_data() -> data:\n",
    "    etree = prepare_tree(late=False)\n",
    "    ltree = prepare_tree(late=True)\n",
    "    edist = compute_tree_distances(etree)\n",
    "    ldist = compute_tree_distances(ltree)\n",
    "    return data(edist, ldist, rna_cost, early_marginal, late_marginal)\n",
    "\n",
    "\n",
    "def benchmark_moscot(d: data, *, alpha: float, epsilon: Optional[float] = None,\n",
    "                     rescale: bool = True, **kwargs):\n",
    "    def create_geometry(cost_matrix: np.ndarray) -> Geometry:\n",
    "        cost_matrix = jnp.array(cost_matrix)\n",
    "        if rescale:\n",
    "            cost_matrix /= cost_matrix.max()\n",
    "            assert cost_matrix.max() == 1.0\n",
    "        assert (cost_matrix >= 0).all()\n",
    "        return Geometry(cost_matrix=cost_matrix)\n",
    "    \n",
    "    e = create_geometry(d.edist)\n",
    "    l = create_geometry(d.ldist)\n",
    "    joint = create_geometry(d.rna_dist)\n",
    "    \n",
    "    max_iterations = kwargs.pop(\"max_iterations\", 20)\n",
    "    rtol = kwargs.pop(\"rtol\", 1e-6)\n",
    "    atol = kwargs.pop(\"atol\", 1e-6)\n",
    "    \n",
    "    fgw = FusedGW(alpha=alpha, epsilon=epsilon, **kwargs)\n",
    "    start = perf_counter()\n",
    "    fgw.fit(e, l, joint,\n",
    "            a=jnp.asarray(d.a), b=jnp.asarray(d.b),  # marginals\n",
    "            linesearch=False, verbose=False, max_iterations=max_iterations, rtol=rtol, atol=atol)\n",
    "    time = perf_counter() - start\n",
    "    tmat = np.array(fgw.matrix)\n",
    "    print(f\"Time: {time}\")\n",
    "    \n",
    "    early_cost = cost(tmat, late=False)\n",
    "    late_cost = cost(tmat, late=True)\n",
    "    norm_diff = np.linalg.norm(tmat - couplings['true'])\n",
    "        \n",
    "    return bnt(tmat, early_cost, late_cost, norm_diff, fgw.converged_sinkhorn, time)\n",
    "\n",
    "\n",
    "def gridsearch(d: data, *, alphas: Sequence[float], epsilons: Sequence[float], rescale: bool = True, **kwargs) -> Dict[float, Dict[float, bnt]]:\n",
    "    res = defaultdict(defaultdict)\n",
    "        \n",
    "    for alpha in alphas:\n",
    "        for epsilon in epsilons:\n",
    "            try:\n",
    "                print(f\"alpha={alpha}, epsilon={epsilon}\")\n",
    "                res[alpha][epsilon] = benchmark_moscot(d, alpha=alpha, epsilon=epsilon, rescale=rescale, **kwargs)\n",
    "            except Exception as e:\n",
    "                print(traceback.format_exc())\n",
    "                res[alpha][epsilon] = None\n",
    "    \n",
    "    return {a: {e: v for e, v in vs.items()} for a, vs in res.items()}"
   ]
  },
  {
   "cell_type": "code",
   "execution_count": 35,
   "metadata": {},
   "outputs": [],
   "source": [
    "d = create_data()"
   ]
  },
  {
   "cell_type": "code",
   "execution_count": 36,
   "metadata": {},
   "outputs": [
    {
     "name": "stdout",
     "output_type": "stream",
     "text": [
      "96.81868794217223\n",
      "113.41152063604068\n",
      "CPU times: user 23 s, sys: 480 ms, total: 23.5 s\n",
      "Wall time: 22.8 s\n"
     ]
    }
   ],
   "source": [
    "%%time\n",
    "couplings['independent'] = np.outer(early_marginal, late_marginal)\n",
    "ind_early_cost = lineageot.inference.OT_cost(lineageot.evaluation.expand_coupling(couplings['independent'].T, couplings['true'].T, early_time_rna_cost ).T\n",
    "                                                 , early_time_rna_cost)\n",
    "print(ind_early_cost)\n",
    "\n",
    "ind_late_cost = lineageot.inference.OT_cost(lineageot.evaluation.expand_coupling(couplings['independent'], couplings['true'], late_time_rna_cost ).T\n",
    "                                                 , late_time_rna_cost)\n",
    "print(ind_late_cost)"
   ]
  },
  {
   "cell_type": "code",
   "execution_count": 37,
   "metadata": {},
   "outputs": [
    {
     "name": "stdout",
     "output_type": "stream",
     "text": [
      "[None, 0.0001, 0.005, 0.001, 0.05, 0.01, 0.022758459260747887, 0.05179474679231213, 0.11787686347935872, 0.2682695795279726, 0.6105402296585329, 1.3894954943731375, 3.1622776601683795, 7.196856730011521, 16.378937069540648, 37.27593720314942, 84.83428982440725, 193.06977288832496, 439.3970560760795, 1000.0]\n",
      "[0.025, 0.075, 0.125, 0.175, 0.22499999999999998, 0.27499999999999997, 0.325, 0.375, 0.425, 0.475, 0.5249999999999999, 0.575, 0.625, 0.6749999999999999, 0.725, 0.7749999999999999, 0.825, 0.875, 0.9249999999999999, 0.975]\n"
     ]
    },
    {
     "data": {
      "text/plain": [
       "(20, 20)"
      ]
     },
     "execution_count": 37,
     "metadata": {},
     "output_type": "execute_result"
    }
   ],
   "source": [
    "epsilons = [None, 1e-4, 5e-3, 1e-3, 5e-2] + list(np.logspace(-2, 3, 15))\n",
    "alphas = list(np.linspace(0.025, 0.975, 20))\n",
    "print(epsilons)\n",
    "print(alphas)\n",
    "len(epsilons), len(alphas)"
   ]
  },
  {
   "cell_type": "code",
   "execution_count": 41,
   "metadata": {},
   "outputs": [
    {
     "name": "stdout",
     "output_type": "stream",
     "text": [
      "alpha=0.025, epsilon=None\n",
      "Time: 8.217234213021584\n"
     ]
    }
   ],
   "source": [
    "res = gridsearch(d, alphas=alphas, epsilons=epsilons, max_iterations=100, rtol=1e-9, atol=1e-9)\n",
    "with open(f\"c_elegans.pickle\", \"wb\") as fout:\n",
    "    pickle.dump(res, fout)"
   ]
  },
  {
   "cell_type": "code",
   "execution_count": 39,
   "metadata": {},
   "outputs": [
    {
     "ename": "NameError",
     "evalue": "name 'sentinel' is not defined",
     "output_type": "error",
     "traceback": [
      "\u001b[0;31m---------------------------------------------------------------------------\u001b[0m",
      "\u001b[0;31mNameError\u001b[0m                                 Traceback (most recent call last)",
      "\u001b[0;32m<ipython-input-39-928e2b9f1b11>\u001b[0m in \u001b[0;36m<module>\u001b[0;34m\u001b[0m\n\u001b[0;32m----> 1\u001b[0;31m \u001b[0msentinel\u001b[0m\u001b[0;34m\u001b[0m\u001b[0;34m\u001b[0m\u001b[0m\n\u001b[0m",
      "\u001b[0;31mNameError\u001b[0m: name 'sentinel' is not defined"
     ]
    }
   ],
   "source": [
    "sentinel"
   ]
  },
  {
   "cell_type": "code",
   "execution_count": null,
   "metadata": {},
   "outputs": [],
   "source": [
    "epsilons = np.array([0.1, 0.5,\n",
    "                     1,\n",
    "                     2,\n",
    "                     2.5,\n",
    "                     3, 5, 10, 20, 50, 100, 200, 300\n",
    "                    ])*1\n",
    "\n",
    "\n",
    "couplings['OT'] = ot.emd([],[],rna_cost)\n",
    "couplings['lineageOT'] = ot.emd([], [], lineage_rna_cost)\n",
    "for e in epsilons:\n",
    "    print(\"Working on couplings for epsilon = \" + str(e))\n",
    "    if e < 1:\n",
    "        f = ot.bregman.sinkhorn_epsilon_scaling\n",
    "    else:\n",
    "        f = ot.sinkhorn\n",
    "    couplings['entropic rna ' + str(e)] = f(early_marginal,late_marginal,rna_cost, e)\n",
    "    couplings['lineage entropic rna ' + str(e)] = f(early_marginal, late_marginal, lineage_rna_cost, e*np.mean(ancestor_info[1]**(-1)))\n"
   ]
  },
  {
   "cell_type": "code",
   "execution_count": null,
   "metadata": {},
   "outputs": [],
   "source": [
    "# Removing couplings computed incorrectly with numerical errors (likely from too small epsilon)\n",
    "improper_couplings = [key for key in couplings if abs(np.sum(couplings[key])-1) > 0.01]\n",
    "\n",
    "for key in improper_couplings:\n",
    "    print(key)\n",
    "    couplings[key] = np.nan*np.ones(couplings[key].shape)"
   ]
  },
  {
   "cell_type": "markdown",
   "metadata": {},
   "source": [
    "### Evaluation of fitted couplings"
   ]
  },
  {
   "cell_type": "code",
   "execution_count": null,
   "metadata": {},
   "outputs": [],
   "source": [
    "def print_metrics(couplings, cost_func, cost_func_name, log = False):\n",
    "    \n",
    "    l = max([len(c) for c in couplings.keys()])\n",
    "    print(cost_func_name)\n",
    "    for c in couplings.keys():\n",
    "        loss = cost_func(couplings[c])\n",
    "        if log:\n",
    "            loss = np.log(loss)\n",
    "        print(c.ljust(l), \": \", \"{:.3f}\".format(loss))\n",
    "    print(\"\\n\")\n",
    "    return\n",
    "\n",
    "\n",
    "def plot_metrics(couplings, cost_func, cost_func_name, epsilons, scale = 1, log = False):\n",
    "    zero_offset = epsilons[0]/2\n",
    "    all_ys = []\n",
    "    if \"lineageOT\" in couplings.keys():\n",
    "        ys = []\n",
    "        for c, e in zip([couplings['lineage entropic rna ' + str(e)] for e in epsilons], epsilons):\n",
    "            print(\"Working on cost function for LineageOT coupling with epsilon = \" + str(e))\n",
    "            ys.append(cost_func(c))\n",
    "            print(\"Finished LineageOT coupling with epsilon = \" + str(e))\n",
    "            print(\"Cost: \" + str(ys[-1]/scale) + \"\\n\")\n",
    "        plt.plot(epsilons, ys/scale, label = \"LineageOT, true tree\")\n",
    "        all_ys.append(ys)\n",
    "        #plt.scatter([zero_offset], [cost_func(couplings[\"lineageOT\"])])\n",
    "    if \"OT\" in couplings.keys():\n",
    "        ys = []\n",
    "        for c, e in zip([couplings['entropic rna ' + str(e)] for e in epsilons], epsilons):\n",
    "            print(\"Working on cost function for OT coupling with epsilon = \" + str(e))\n",
    "            ys.append(cost_func(c))\n",
    "            print(\"Finished OT coupling with epsilon = \" + str(e))\n",
    "            print(\"Cost: \" + str(ys[-1]/scale) + \"\\n\")\n",
    "        plt.plot(epsilons, ys/scale, label = \"Entropic OT\")\n",
    "        all_ys.append(ys)\n",
    "        #plt.scatter([zero_offset], [cost_func(couplings[\"OT\"])])\n",
    "\n",
    "    \n",
    "    plt.ylabel(cost_func_name)\n",
    "    plt.xlabel(\"Entropy parameter\")\n",
    "    plt.xscale(\"log\")\n",
    "    plt.xlim([epsilons[0], epsilons[-1]])\n",
    "    plt.ylim([0,None])\n",
    "    plt.legend()\n",
    "    return all_ys\n",
    "\n"
   ]
  },
  {
   "cell_type": "code",
   "execution_count": null,
   "metadata": {},
   "outputs": [],
   "source": [
    "%%time\n",
    "ot_early_cost = lineageot.inference.OT_cost(lineageot.evaluation.expand_coupling(couplings['OT'].T, couplings['true'].T, early_time_rna_cost ).T\n",
    "                                                 , early_time_rna_cost)\n",
    "print(ot_early_cost)\n",
    "ot_late_cost = lineageot.inference.OT_cost(lineageot.evaluation.expand_coupling(couplings['OT'], couplings['true'], late_time_rna_cost ).T\n",
    "                                                 , late_time_rna_cost)\n",
    "print(ot_late_cost)"
   ]
  },
  {
   "cell_type": "code",
   "execution_count": null,
   "metadata": {},
   "outputs": [],
   "source": [
    "%%time\n",
    "lineageOT_early_cost = lineageot.inference.OT_cost(lineageot.evaluation.expand_coupling(couplings['lineageOT'].T, couplings['true'].T, early_time_rna_cost ).T\n",
    "                                                 , early_time_rna_cost)\n",
    "print(lineageOT_early_cost)\n",
    "lineageOT_late_cost = lineageot.inference.OT_cost(lineageot.evaluation.expand_coupling(couplings['lineageOT'], couplings['true'], late_time_rna_cost ).T\n",
    "                                                 , late_time_rna_cost)\n",
    "print(lineageOT_late_cost)"
   ]
  },
  {
   "cell_type": "code",
   "execution_count": null,
   "metadata": {
    "scrolled": true
   },
   "outputs": [],
   "source": [
    "%%time\n",
    "late_time_errors = plot_metrics(couplings, lambda x:lineageot.inference.OT_cost(lineageot.evaluation.expand_coupling(x,\n",
    "                                                                                             couplings['true'], \n",
    "                                                                                             late_time_rna_cost)\n",
    "                                                 , late_time_rna_cost),\n",
    "                                'Normalized descendant error', \n",
    "                                epsilons,\n",
    "                                scale = ind_late_cost\n",
    "                               )"
   ]
  },
  {
   "cell_type": "code",
   "execution_count": null,
   "metadata": {
    "scrolled": true
   },
   "outputs": [],
   "source": [
    "%%time\n",
    "early_time_errors = plot_metrics(couplings, lambda x:lineageot.inference.OT_cost(lineageot.evaluation.expand_coupling(x.T,\n",
    "                                                                                             couplings['true'].T, \n",
    "                                                                                             early_time_rna_cost ).T\n",
    "                                                 , early_time_rna_cost),\n",
    "                                'Normalized ancestor error', \n",
    "                                epsilons,\n",
    "                                scale = ind_early_cost\n",
    "                               )"
   ]
  },
  {
   "cell_type": "code",
   "execution_count": null,
   "metadata": {},
   "outputs": [],
   "source": [
    "def plot_precomputed_metrics(all_ys, cost_func_name, epsilons, scale = 1, log = False, label_font_size = 18, tick_font_size = 12):\n",
    "        \n",
    "    plt.plot(epsilons, all_ys[0]/scale, label = \"LineageOT, true tree\")\n",
    "\n",
    "    plt.plot(epsilons, all_ys[1]/scale, label = \"Entropic OT\")\n",
    "        \n",
    "    \n",
    "    plt.ylabel(cost_func_name, fontsize=label_font_size)\n",
    "    plt.xlabel(\"Entropy parameter\", fontsize=label_font_size)\n",
    "    plt.xscale(\"log\")\n",
    "    plt.xlim([epsilons[0], epsilons[-1]])\n",
    "    plt.ylim([0,None])\n",
    "    plt.legend(fontsize=tick_font_size)                 \n",
    "    plt.xticks(fontsize=tick_font_size)  \n",
    "    plt.yticks(fontsize=tick_font_size)  \n",
    "                                          \n",
    "    return \n"
   ]
  },
  {
   "cell_type": "code",
   "execution_count": null,
   "metadata": {},
   "outputs": [],
   "source": [
    "if (early_batch_time, late_batch_time) == (210,270):\n",
    "    plot_precomputed_metrics(early_time_errors, \"Normalized ancestor error\", epsilons, scale = ind_early_cost)\n",
    "    plt.savefig(save_dir + \"figure_3c.pdf\", bbox_inches = \"tight\")"
   ]
  },
  {
   "cell_type": "code",
   "execution_count": null,
   "metadata": {},
   "outputs": [],
   "source": [
    "if (early_batch_time, late_batch_time) == (210,270):\n",
    "    plot_precomputed_metrics(late_time_errors, \"Normalized descendant error\", epsilons, scale = ind_late_cost)\n",
    "    plt.savefig(save_dir + \"figure_3d.pdf\", bbox_inches = \"tight\")"
   ]
  },
  {
   "cell_type": "markdown",
   "metadata": {},
   "source": [
    "### Which cells does LineageOT predict better?"
   ]
  },
  {
   "cell_type": "code",
   "execution_count": null,
   "metadata": {},
   "outputs": [],
   "source": [
    "ancestor_errors = {}\n",
    "descendant_errors = {}\n",
    "label_font_size = 18\n",
    "tick_font_size = 12"
   ]
  },
  {
   "cell_type": "code",
   "execution_count": null,
   "metadata": {},
   "outputs": [],
   "source": [
    "best_coupling_keys = ['lineage entropic rna 5.0', 'entropic rna 10.0']\n",
    "for key in best_coupling_keys:\n",
    "    ancestor_errors[key] = [ot.emd2(couplings[key][:, i]/np.sum(couplings[key][:, i]),\n",
    "                                    couplings['true'][:, i]/np.sum(couplings['true'][:, i]),\n",
    "                                    early_time_rna_cost)\n",
    "                            for i in range(couplings['true'].shape[1])]\n",
    "    descendant_errors[key] = [ot.emd2(couplings[key][i, :]/np.sum(couplings[key][i, :]),\n",
    "                                      couplings['true'][i, :]/np.sum(couplings['true'][i, :]),\n",
    "                                      late_time_rna_cost)\n",
    "                            for i in range(couplings['true'].shape[0])]"
   ]
  },
  {
   "cell_type": "code",
   "execution_count": null,
   "metadata": {},
   "outputs": [],
   "source": [
    "xmax = np.max(descendant_errors[best_coupling_keys[1]])\n",
    "plt.scatter(descendant_errors[best_coupling_keys[1]],\n",
    "            descendant_errors[best_coupling_keys[0]],\n",
    "            alpha = 0.2\n",
    "           )\n",
    "plt.plot([0,1+xmax], [0, 1+xmax], color = 'r')\n",
    "plt.ylabel('LineageOT descendant error', fontsize=label_font_size)\n",
    "plt.xlabel('OT descendant error', fontsize=label_font_size)\n",
    "\n",
    "plt.xticks(fontsize=tick_font_size)\n",
    "plt.yticks(fontsize=tick_font_size)\n",
    "\n",
    "if (early_batch_time, late_batch_time) == (210,270):\n",
    "    plt.savefig(save_dir + \"figure_S5a.pdf\", bbox_inches = \"tight\")"
   ]
  },
  {
   "cell_type": "code",
   "execution_count": null,
   "metadata": {},
   "outputs": [],
   "source": [
    "xmax = np.max(ancestor_errors[best_coupling_keys[1]])\n",
    "plt.scatter(ancestor_errors[best_coupling_keys[1]],\n",
    "            ancestor_errors[best_coupling_keys[0]],\n",
    "            alpha = 0.2\n",
    "           )\n",
    "plt.plot([0,1+xmax], [0, 1+xmax], color = 'r')\n",
    "plt.ylabel('LineageOT ancestor error', fontsize=label_font_size)\n",
    "plt.xlabel('OT ancestor error', fontsize=label_font_size)\n",
    "\n",
    "plt.xticks(fontsize=tick_font_size)\n",
    "plt.yticks(fontsize=tick_font_size)\n",
    "\n",
    "if (early_batch_time, late_batch_time) == (210,270):\n",
    "    plt.savefig(save_dir + \"figure_3b.pdf\", bbox_inches = \"tight\")"
   ]
  },
  {
   "cell_type": "markdown",
   "metadata": {},
   "source": [
    "#### Visualizing error"
   ]
  },
  {
   "cell_type": "code",
   "execution_count": null,
   "metadata": {},
   "outputs": [],
   "source": [
    "early_cells_to_plot = [early_cells[i] for i in kept_early_cells_index]\n",
    "late_cells_to_plot = [late_cells[i] for i in kept_late_cells_index]\n",
    "cells_to_plot = early_cells_to_plot + late_cells_to_plot\n",
    "len(cells_to_plot)"
   ]
  },
  {
   "cell_type": "code",
   "execution_count": null,
   "metadata": {},
   "outputs": [],
   "source": [
    "adata_to_plot = adata[cells_to_plot]\n",
    "sc.pp.neighbors(adata_to_plot)\n",
    "sc.tl.umap(adata_to_plot)"
   ]
  },
  {
   "cell_type": "code",
   "execution_count": null,
   "metadata": {},
   "outputs": [],
   "source": [
    "adata_to_plot.obs['descendant error, lineageOT'] = pd.Series(descendant_errors[best_coupling_keys[0]], index=early_cells_to_plot)\n",
    "adata_to_plot.obs['descendant error, OT'] = pd.Series(descendant_errors[best_coupling_keys[1]], index=early_cells_to_plot)\n",
    "adata_to_plot.obs['descendant OT - lineageOT'] = pd.Series(np.array(descendant_errors[best_coupling_keys[1]]) - np.array(descendant_errors[best_coupling_keys[0]]),\n",
    "                                                           index=early_cells_to_plot)\n",
    "\n",
    "adata_to_plot.obs['ancestor error, lineageOT'] = pd.Series(ancestor_errors[best_coupling_keys[0]], index=late_cells_to_plot)\n",
    "adata_to_plot.obs['ancestor error, OT'] = pd.Series(ancestor_errors[best_coupling_keys[1]], index=late_cells_to_plot)\n",
    "adata_to_plot.obs['ancestor OT - lineageOT'] = pd.Series(np.array(ancestor_errors[best_coupling_keys[1]]) - np.array(ancestor_errors[best_coupling_keys[0]])\n",
    "                                                         , index=late_cells_to_plot)\n",
    "\n",
    "\n",
    "#normalizing for colormap\n",
    "adata_to_plot.obs['descendant normalized'] = adata_to_plot.obs['descendant OT - lineageOT']/(2*np.abs(adata_to_plot.obs['descendant OT - lineageOT'].min())) + 1/2\n",
    "adata_to_plot.obs['ancestor normalized'] = adata_to_plot.obs['ancestor OT - lineageOT']/(2*np.abs(adata_to_plot.obs['ancestor OT - lineageOT'].min())) + 1/2\n"
   ]
  },
  {
   "cell_type": "code",
   "execution_count": null,
   "metadata": {},
   "outputs": [],
   "source": [
    "pointsize = 10\n",
    "label_font_size = 18\n",
    "cmap = \"coolwarm\"\n",
    "colors = [plt.get_cmap(cmap)(0), plt.get_cmap(cmap)(256)]\n",
    "\n",
    "coord_key = 'X_umap'\n",
    "plt.scatter(adata_to_plot[adata_to_plot.obs['assigned_batch_time'] == early_batch_time].obsm[coord_key][:, 0],\n",
    "            adata_to_plot[adata_to_plot.obs['assigned_batch_time'] == early_batch_time].obsm[coord_key][:, 1],\n",
    "            alpha = 1,\n",
    "            s = pointsize,\n",
    "            label = str(early_batch_time) + ' minutes',\n",
    "            color = colors[0]\n",
    "           )\n",
    "\n",
    "plt.scatter(adata_to_plot[adata_to_plot.obs['assigned_batch_time'] == late_batch_time].obsm[coord_key][:, 0],\n",
    "            adata_to_plot[adata_to_plot.obs['assigned_batch_time'] == late_batch_time].obsm[coord_key][:, 1],\n",
    "            alpha = 1,\n",
    "            s = pointsize,\n",
    "            label = str(late_batch_time) + ' minutes',\n",
    "            color = colors[1]\n",
    "           )\n",
    "\n",
    "plt.legend(markerscale = 2)\n",
    "\n",
    "plt.tick_params(\n",
    "    axis='both',          # changes apply to the x-axis\n",
    "    which='both',      # both major and minor ticks are affected\n",
    "    bottom=False,      # ticks along the bottom edge are off\n",
    "    left=False,\n",
    "    top=False,         # ticks along the top edge are off\n",
    "    right=False,\n",
    "    labelbottom=False,\n",
    "    labelleft=False) # labels along the bottom edge are off\n",
    "plt.xlabel('UMAP 1', fontsize=label_font_size)\n",
    "plt.ylabel('UMAP 2', fontsize=label_font_size)\n",
    "\n",
    "if coord_key == 'X_umap':\n",
    "    plt.savefig(save_dir + \"figure_3e.pdf\", bbox_inches = \"tight\")\n",
    "\n",
    "plt.show()"
   ]
  },
  {
   "cell_type": "code",
   "execution_count": null,
   "metadata": {},
   "outputs": [],
   "source": [
    "\n",
    "error_cmap = 'seismic_r'\n",
    "grey_alpha = 0.5\n",
    "plt.scatter(adata_to_plot[adata_to_plot.obs['assigned_batch_time'] == early_batch_time].obsm[coord_key][:, 0],\n",
    "            adata_to_plot[adata_to_plot.obs['assigned_batch_time'] == early_batch_time].obsm[coord_key][:, 1],\n",
    "            alpha = grey_alpha,\n",
    "            s = pointsize,\n",
    "            label = str(early_batch_time) + ' minutes',\n",
    "            color = 'gray'\n",
    "           )\n",
    "\n",
    "plt.scatter(adata_to_plot.obsm['X_umap'][:, 0],\n",
    "            adata_to_plot.obsm['X_umap'][:, 1],\n",
    "            c = adata_to_plot.obs['ancestor OT - lineageOT'],\n",
    "            cmap=error_cmap,\n",
    "            vmax = -adata_to_plot.obs['ancestor OT - lineageOT'].min(),\n",
    "            vmin = adata_to_plot.obs['ancestor OT - lineageOT'].min(),\n",
    "            s = pointsize\n",
    "           )\n",
    "\n",
    "cbar = plt.colorbar()\n",
    "cbar.set_label(\"Ancestor error difference\", fontsize=label_font_size - 2)\n",
    "cbar.set_ticks([0])\n",
    "plt.tick_params(\n",
    "    axis='both',          # changes apply to the x-axis\n",
    "    which='both',      # both major and minor ticks are affected\n",
    "    bottom=False,      # ticks along the bottom edge are off\n",
    "    left=False,\n",
    "    top=False,         # ticks along the top edge are off\n",
    "    right=False,\n",
    "    labelbottom=False,\n",
    "    labelleft=False) # labels along the bottom edge are off\n",
    "plt.xlabel('UMAP 1', fontsize=label_font_size)\n",
    "plt.ylabel('UMAP 2', fontsize=label_font_size)\n",
    "plt.savefig(save_dir + \"figure_3f.pdf\", bbox_inches = \"tight\")\n",
    "plt.show()\n",
    "\n",
    "\n",
    "\n",
    "\n",
    "\n",
    "\n",
    "\n",
    "\n",
    "plt.scatter(adata_to_plot[adata_to_plot.obs['assigned_batch_time'] == late_batch_time].obsm[coord_key][:, 0],\n",
    "            adata_to_plot[adata_to_plot.obs['assigned_batch_time'] == late_batch_time].obsm[coord_key][:, 1],\n",
    "            alpha = grey_alpha,\n",
    "            s = pointsize,\n",
    "            label = str(late_batch_time) + ' minutes',\n",
    "            color = 'gray'\n",
    "           )\n",
    "\n",
    "plt.scatter(adata_to_plot.obsm['X_umap'][:, 0],\n",
    "            adata_to_plot.obsm['X_umap'][:, 1],\n",
    "            c = adata_to_plot.obs['descendant OT - lineageOT'],\n",
    "            cmap=error_cmap,\n",
    "            vmax = -adata_to_plot.obs['descendant OT - lineageOT'].min(),\n",
    "            vmin = adata_to_plot.obs['descendant OT - lineageOT'].min(),\n",
    "            s = pointsize\n",
    "           )\n",
    "cbar = plt.colorbar()\n",
    "cbar.set_label(\"Descendant error difference\", fontsize=label_font_size - 2)\n",
    "cbar.set_ticks([0])\n",
    "\n",
    "\n",
    "plt.tick_params(\n",
    "    axis='both',          # changes apply to the x-axis\n",
    "    which='both',      # both major and minor ticks are affected\n",
    "    bottom=False,      # ticks along the bottom edge are off\n",
    "    left=False,\n",
    "    top=False,         # ticks along the top edge are off\n",
    "    right=False,\n",
    "    labelbottom=False,\n",
    "    labelleft=False) # labels along the bottom edge are off\n",
    "\n",
    "plt.xlabel('UMAP 1', fontsize=label_font_size)\n",
    "plt.ylabel('UMAP 2', fontsize=label_font_size)\n",
    "\n",
    "plt.savefig(save_dir + \"figure_3g.pdf\", bbox_inches = \"tight\")\n",
    "plt.show()"
   ]
  },
  {
   "cell_type": "code",
   "execution_count": null,
   "metadata": {},
   "outputs": [],
   "source": [
    "print(\"Total time elapsed: \", datetime.datetime.now() - start_time)"
   ]
  }
 ],
 "metadata": {
  "kernelspec": {
   "display_name": "cellrank",
   "language": "python",
   "name": "cellrank"
  },
  "language_info": {
   "codemirror_mode": {
    "name": "ipython",
    "version": 3
   },
   "file_extension": ".py",
   "mimetype": "text/x-python",
   "name": "python",
   "nbconvert_exporter": "python",
   "pygments_lexer": "ipython3",
   "version": "3.8.10"
  }
 },
 "nbformat": 4,
 "nbformat_minor": 2
}
